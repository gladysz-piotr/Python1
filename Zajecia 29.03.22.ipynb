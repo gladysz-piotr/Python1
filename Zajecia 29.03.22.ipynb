{
 "cells": [
  {
   "cell_type": "markdown",
   "id": "5766625c",
   "metadata": {},
   "source": [
    "**Zadanie domowe!**"
   ]
  },
  {
   "cell_type": "markdown",
   "id": "9123cf82",
   "metadata": {},
   "source": [
    "Napisz program, który mnoży dwie dowolne macierze (niekoniecznie kwadratowe).<br>\n",
    "Przypomnienie:<br>\n",
    "Niech macierz $A$ ma wymiar $N\\times M$ ($N$ wierszy i $M$ kolumn). Pomnożyć możemy ją przez dowolną macierz, której liczba wierszy jest dokładnie równa $M$ a liczba kolumn jest dowolna ($K$), nazwijmy ją macierzą $B$. Możemy rozpisać każdą z tych macierzy bezpośrednio wyświetlając ich elementy jak ponieżej: <br>\n",
    "$A = \n",
    "\\begin{pmatrix}\n",
    "a_{11} & a_{12} & \\cdots & a_{1M} \\\\\n",
    "a_{21} & a_{22} & \\cdots & a_{2M} \\\\\n",
    "\\vdots  & \\vdots  & \\ddots & \\vdots \\\\\n",
    "a_{N1} & a_{N2} & \\cdots & a_{NM} \n",
    "\\end{pmatrix}$,\n",
    "$B =\n",
    "\\begin{pmatrix}\n",
    "b_{11} & b_{12} & \\cdots & b_{1K} \\\\\n",
    "b_{21} & b_{22} & \\cdots & b_{2K} \\\\\n",
    "\\vdots  & \\vdots  & \\ddots & \\vdots \\\\\n",
    "b_{M1} & b_{M2} & \\cdots & b_{MK} \n",
    "\\end{pmatrix}$,<br>\n",
    "gdzie indeksy przy elementach numerują odpowiednio wiersz i kolumnę w których się znajdują. W wyniku mnozenia otrzymamy nową macierz $C$ o wymiarach $N\\times K$. Ją również możemy zapisać za pomocą jej elementów jak poniżej:<br>\n",
    "$A_{N\\times M}\\cdot B_{M\\times K} = C_{N\\times K} = \n",
    "\\begin{pmatrix}\n",
    "c_{11} & c_{12} & \\cdots & c_{1K} \\\\\n",
    "c_{21} & c_{22} & \\cdots & c_{2K} \\\\\n",
    "\\vdots  & \\vdots  & \\ddots & \\vdots \\\\\n",
    "c_{N1} & c_{N2} & \\cdots & c_{NK} \n",
    "\\end{pmatrix}$.<br>\n",
    "Każdy z elementów macierzy $C$ obliczymy za pomocą mnożenia odpowiedniego wiersza z macierzy $A$ przez kolumnę z macierzy $B$ i sumując wszystkie elementy. W zwartej postaci możemy to zapisać jak poniżej. Warto poświęcić chwilę na zrozumienie tego zapisu, przyda on się na pewno w przyszłości.\n",
    "$c_{ij}=\\sum^{M}_{l=1}a_{il}b_{lj}.$<br>\n",
    "Przykładowo, element $c_{12}=a_{11}\\cdot b_{12}+a_{12}\\cdot b_{22}+ \\cdots + a_{1M}\\cdot b_{M2}.$"
   ]
  },
  {
   "cell_type": "markdown",
   "id": "c6a6b67b",
   "metadata": {},
   "source": [
    "Przykład działania.<br>\n",
    "wejście:<br>\n",
    "A = [[1, 2], [3, 4]] (jest to akurat macierz $2\\times 2$)<br> \n",
    "B = [[1, 0], [1, 1]] (to też jest macierz $2\\times 2$)<br>\n",
    "wyjście:<br>\n",
    "C = [[3, 2], [7, 4]] (wynikowa macierz również ma wymiar $2\\times 2$)<br>\n",
    "Program oczywiście ma działać także dla większych macierzy oraz macierzy prostokątnych."
   ]
  },
  {
   "cell_type": "markdown",
   "id": "19a94c50",
   "metadata": {},
   "source": [
    "Powodzenia!"
   ]
  },
  {
   "cell_type": "markdown",
   "id": "f302dc64",
   "metadata": {},
   "source": [
    "**Rozwiązania**"
   ]
  },
  {
   "cell_type": "markdown",
   "id": "e1c43afe",
   "metadata": {},
   "source": [
    "Rozwiązanie z tworzeniem macierzy C na początku:"
   ]
  },
  {
   "cell_type": "code",
   "execution_count": 22,
   "id": "0b17ae84",
   "metadata": {},
   "outputs": [
    {
     "name": "stdout",
     "output_type": "stream",
     "text": [
      "[[3, 2, 3, 5], [7, 4, 7, 11], [11, 6, 11, 17]]\n"
     ]
    }
   ],
   "source": [
    "A = [[1, 2], [3, 4], [5, 6]] #macierz A\n",
    "B = [[1, 0, 1, 1], [1, 1, 1, 2]] #macierz B\n",
    "N = len(A) #liczba wierszy macierzy A\n",
    "M = len(B) #liczba wierszy macierzy B; liczba kolumn macierzy A\n",
    "K = len(B[0]) #liczba kolumn macierzy B\n",
    "C = [[0. for _ in range(K)] for _ in range(N)] #tworzymy macierz zer o wymiarach N x K\n",
    "\n",
    "for i in range(N):\n",
    "    for j in range(K):\n",
    "        C[i][j] = sum([A[i][l]*B[l][j] for l in range(M)])\n",
    "print(C)"
   ]
  },
  {
   "cell_type": "markdown",
   "id": "e83238e4",
   "metadata": {},
   "source": [
    "Rozwiązanie z dynamicznym tworzeniem macierzy C:"
   ]
  },
  {
   "cell_type": "code",
   "execution_count": 23,
   "id": "83733226",
   "metadata": {},
   "outputs": [
    {
     "name": "stdout",
     "output_type": "stream",
     "text": [
      "[[3, 2, 3, 5], [7, 4, 7, 11], [11, 6, 11, 17]]\n"
     ]
    }
   ],
   "source": [
    "A = [[1, 2], [3, 4], [5, 6]] #macierz A\n",
    "B = [[1, 0, 1, 1], [1, 1, 1, 2]] #macierz B\n",
    "C = []\n",
    "for i in range(len(A)):\n",
    "    C.append([]) #dodajemy nowy wiersz\n",
    "    for j in range(len(B[0])):\n",
    "        C[-1].append(sum([A[i][l] * B[l][j] for l in range(len(B))])) #uzupełniamy wiersz o wartości\n",
    "print(C)"
   ]
  },
  {
   "cell_type": "markdown",
   "id": "fdf2168f",
   "metadata": {},
   "source": [
    "Rozwiązanie w całości za pomocą list składanych:"
   ]
  },
  {
   "cell_type": "code",
   "execution_count": 24,
   "id": "9bc269d1",
   "metadata": {
    "scrolled": true
   },
   "outputs": [
    {
     "name": "stdout",
     "output_type": "stream",
     "text": [
      "[[3, 2, 3, 5], [7, 4, 7, 11], [11, 6, 11, 17]]\n"
     ]
    }
   ],
   "source": [
    "A = [[1, 2], [3, 4], [5, 6]] #macierz A\n",
    "B = [[1, 0, 1, 1], [1, 1, 1, 2]] #macierz B\n",
    "C = [[sum([a*b for a, b in zip(row_A, col_B)]) for col_B in zip(*B)] for row_A in A]\n",
    "print(C)"
   ]
  },
  {
   "cell_type": "markdown",
   "id": "eefff3b9",
   "metadata": {},
   "source": [
    "# Podstawy funkcji"
   ]
  },
  {
   "cell_type": "markdown",
   "id": "456fe810",
   "metadata": {},
   "source": [
    "Mówiąc w uproszczeniu, funkcja jest narzędziem grupującym zbiór instrukcji w taki sposób, by mogły one być wykonane w programie więcej niż jeden raz. Funkcje obliczają również wartość wyniku i pozwalają nam określić parametry służące za dane wejściowe — mogą się one zatem zmieniać z każdym wykonaniem kodu. Zapisanie operacji w postaci funkcji sprawia, że staje się ona przydatnym narzędziem, z którego można korzystać w wielu różnych kontekstach.\n",
    "\n",
    "Funkcje są najważniejszą strukturą programu w Pythonie, służącą do maksymalizowania możliwości ponownego wykorzystania kodu i minimalizowania powtarzalności kodu."
   ]
  },
  {
   "cell_type": "markdown",
   "id": "5a0525ea",
   "metadata": {},
   "source": [
    "Do tej poty korzystaliśmy już z funkcji wbudowanych Pythona takich jak `len`, `open` czy `print`, teraz nauczymy się jak tworzyć nowe funkcje."
   ]
  },
  {
   "cell_type": "markdown",
   "id": "3132f428",
   "metadata": {},
   "source": [
    "### Tworzenie funkcji"
   ]
  },
  {
   "cell_type": "markdown",
   "id": "3e9f35fa",
   "metadata": {},
   "source": [
    "Podstawowym narzędziem do tworzenia funkcji jest instrukcja `def`, która tworzy obiekt funkcji i przypisuje go do nazwy. Poniżej przykład funkcji, która nie pobiera żadnych argumetnów, a przy jej wykonaniu wyświetlany jest napis `Nowa funkcja.`"
   ]
  },
  {
   "cell_type": "code",
   "execution_count": 25,
   "id": "0fc503f1",
   "metadata": {},
   "outputs": [],
   "source": [
    "def funkcja():\n",
    "    print('Nowa funkcja.') "
   ]
  },
  {
   "cell_type": "code",
   "execution_count": 26,
   "id": "6c11763e",
   "metadata": {},
   "outputs": [
    {
     "name": "stdout",
     "output_type": "stream",
     "text": [
      "Nowa funkcja.\n"
     ]
    }
   ],
   "source": [
    "funkcja()   "
   ]
  },
  {
   "cell_type": "markdown",
   "id": "7a2100e3",
   "metadata": {},
   "source": [
    "Zwróćmy uwagę, że tak jak przy pętlach `while`, `for` oraz instrukcji `if` kod który ma zostać wykonany przy wywołaniu funkcji musi być wcięty."
   ]
  },
  {
   "cell_type": "markdown",
   "id": "7e882b2c",
   "metadata": {},
   "source": [
    "Ciało funkcji często zawiera takżę instrukcję `return`. Kończy ona wywołanie funkcji i odsyła wynik do wywołującego. Jest to instrukcja opcjonalna, w przypadku jej nieuwzględnienia po zakończeniu funkcja zwraca obiekt `None`, który jest ignorowany. Zwykle jednak jest używana, jeżeli chcemy przenieść wynik działania funkcji do głównego kodu programu."
   ]
  },
  {
   "cell_type": "code",
   "execution_count": 27,
   "id": "bf341806",
   "metadata": {},
   "outputs": [],
   "source": [
    "def funkcja():\n",
    "    pass"
   ]
  },
  {
   "cell_type": "code",
   "execution_count": 28,
   "id": "8e4ce1ac",
   "metadata": {},
   "outputs": [
    {
     "name": "stdout",
     "output_type": "stream",
     "text": [
      "None\n"
     ]
    }
   ],
   "source": [
    "print(funkcja())"
   ]
  },
  {
   "cell_type": "code",
   "execution_count": 29,
   "id": "d4ce42f4",
   "metadata": {},
   "outputs": [],
   "source": [
    "def funkcja():\n",
    "    return True"
   ]
  },
  {
   "cell_type": "code",
   "execution_count": 30,
   "id": "b5601305",
   "metadata": {},
   "outputs": [
    {
     "name": "stdout",
     "output_type": "stream",
     "text": [
      "True\n"
     ]
    }
   ],
   "source": [
    "print(funkcja())"
   ]
  },
  {
   "cell_type": "markdown",
   "id": "a2e98ba5",
   "metadata": {},
   "source": [
    "Warto zdawać sobie sprawę, że instrukcja `def` działa podobnie do przypisania `=`, więc przykładowy poniższy kod również będzie działał. "
   ]
  },
  {
   "cell_type": "code",
   "execution_count": 31,
   "id": "db552bc9",
   "metadata": {},
   "outputs": [],
   "source": [
    "x = True\n",
    "if x:\n",
    "    def funkcja1():\n",
    "        print('Tekst z funkcji 1.')\n",
    "else:\n",
    "    def funkcja2():\n",
    "        print('Tekst z funkcji 2.')\n",
    "def funkcja3():\n",
    "    print('Tekst z funkcji 3.')"
   ]
  },
  {
   "cell_type": "code",
   "execution_count": 32,
   "id": "e2923cc4",
   "metadata": {},
   "outputs": [
    {
     "name": "stdout",
     "output_type": "stream",
     "text": [
      "Tekst z funkcji 1.\n"
     ]
    }
   ],
   "source": [
    "funkcja1()"
   ]
  },
  {
   "cell_type": "code",
   "execution_count": 33,
   "id": "10ab0641",
   "metadata": {},
   "outputs": [
    {
     "ename": "NameError",
     "evalue": "name 'funkcja2' is not defined",
     "output_type": "error",
     "traceback": [
      "\u001b[0;31m---------------------------------------------------------------------------\u001b[0m",
      "\u001b[0;31mNameError\u001b[0m                                 Traceback (most recent call last)",
      "\u001b[0;32m<ipython-input-33-6c5dbff6201f>\u001b[0m in \u001b[0;36m<module>\u001b[0;34m\u001b[0m\n\u001b[0;32m----> 1\u001b[0;31m \u001b[0mfunkcja2\u001b[0m\u001b[0;34m(\u001b[0m\u001b[0;34m)\u001b[0m\u001b[0;34m\u001b[0m\u001b[0;34m\u001b[0m\u001b[0m\n\u001b[0m",
      "\u001b[0;31mNameError\u001b[0m: name 'funkcja2' is not defined"
     ]
    }
   ],
   "source": [
    "funkcja2()"
   ]
  },
  {
   "cell_type": "code",
   "execution_count": 34,
   "id": "1658346e",
   "metadata": {},
   "outputs": [
    {
     "name": "stdout",
     "output_type": "stream",
     "text": [
      "Tekst z funkcji 3.\n"
     ]
    }
   ],
   "source": [
    "funkcja3()"
   ]
  },
  {
   "cell_type": "markdown",
   "id": "72409f75",
   "metadata": {},
   "source": [
    "Jak widać funkcja nie musi być tworzona przed uruchomieniem programu, dopiero kiedy program dotrze do odpowiedniej linii z instrukcją `def` tworzy nowy obiekt będący funkcją. Z tego powodu `funkcja2` nie została stworzona i nie możemy z niej skorzystać. Jest to zaleta nad językami kompilowalnymi takimi ja C, gdzie przed skompilowaniem programu każda funkcja musi być zdefiniowana i powyższy kod nie ma prawa działać."
   ]
  },
  {
   "cell_type": "markdown",
   "id": "60cb2472",
   "metadata": {},
   "source": [
    "Ponieważ funkcja jest obiektem (jak wszystko w Pythonie), możemy przypisać ją do innej zmiennej i wykorzystywać to przypisanie jako funkcję."
   ]
  },
  {
   "cell_type": "code",
   "execution_count": 35,
   "id": "5fe2f78b",
   "metadata": {},
   "outputs": [],
   "source": [
    "def funkcja():\n",
    "    print('Jakiś tekst.')"
   ]
  },
  {
   "cell_type": "code",
   "execution_count": 36,
   "id": "68ac9edf",
   "metadata": {},
   "outputs": [
    {
     "name": "stdout",
     "output_type": "stream",
     "text": [
      "Jakiś tekst.\n"
     ]
    }
   ],
   "source": [
    "inna_nazwa = funkcja #przypisujemy zmienną do funkcji, więc teraz ta zmienna wskazuje bezpośrednio na funkcję\n",
    "inna_nazwa() #możemy wywołać funkcję poprzez zmienną wskazującą na nią inna niż jej nazwa"
   ]
  },
  {
   "cell_type": "code",
   "execution_count": 37,
   "id": "a7226b9e",
   "metadata": {},
   "outputs": [
    {
     "name": "stdout",
     "output_type": "stream",
     "text": [
      "Jakiś tekst.\n"
     ]
    }
   ],
   "source": [
    "funkcja() #poprzednia nazwa także wciąż wskazuje na obiekt funkcji"
   ]
  },
  {
   "cell_type": "markdown",
   "id": "d1423946",
   "metadata": {},
   "source": [
    "### Argumenty funkcji - podstawy"
   ]
  },
  {
   "cell_type": "markdown",
   "id": "271004f9",
   "metadata": {},
   "source": [
    "Oczywiście, w poprzednich przypadkach funkcje były raczej mało przydatne zwracając jedynie tekst. Ich zalety stają się jasne, kiedy wynik funkcji zależy od dodatkowych argumentów. Stwórzmy prostą funkcję, która pobiera dwa argumenty i zwraca ich sumę. Argumenty podajemy w nawiasie a ich nazwy będą wykorzystywane w instrukcjach wewnątrz funkcji."
   ]
  },
  {
   "cell_type": "code",
   "execution_count": 38,
   "id": "878c5a2c",
   "metadata": {},
   "outputs": [],
   "source": [
    "def sumowanie(a, b):\n",
    "    return a + b #używamy instrukcji return, żeby mieć dostęp do wyniku po wykonaniu funckji"
   ]
  },
  {
   "cell_type": "code",
   "execution_count": 39,
   "id": "708fac47",
   "metadata": {},
   "outputs": [
    {
     "data": {
      "text/plain": [
       "15"
      ]
     },
     "execution_count": 39,
     "metadata": {},
     "output_type": "execute_result"
    }
   ],
   "source": [
    "sumowanie(10, 5) #wywołanie funkcji z konkretnymi wartościami argumentów a=10, b=5"
   ]
  },
  {
   "cell_type": "markdown",
   "id": "648cec48",
   "metadata": {},
   "source": [
    "Zamiast konkretnych liczb, możemy wstawić zmienne, które są przypisane do liczb. Zwróćmy uwagę, że w głównym kodzie programu argumenty nie muszą się nazywać tak samo jak te w definicji funkcji. Dodatkowo wynik zwracany przez instrukcję `return` możemy przechować za pomocą innej zmiennej."
   ]
  },
  {
   "cell_type": "code",
   "execution_count": 40,
   "id": "73f39053",
   "metadata": {},
   "outputs": [
    {
     "name": "stdout",
     "output_type": "stream",
     "text": [
      "15\n"
     ]
    }
   ],
   "source": [
    "liczba1 = 10; liczba2 = 5 #zmienne przechowujące wartości 10 oraz 5\n",
    "wynik = sumowanie(liczba1, liczba2) #wywołanie funkcji z podanymi argumentami oraz przypisanie rezultatu do zmiennej wynik\n",
    "print(wynik)"
   ]
  },
  {
   "cell_type": "markdown",
   "id": "a573e37a",
   "metadata": {},
   "source": [
    "Teraz przykład zastosowania funkcji w bardziej praktyczny sposób. Wcześniej podczas zajęć stworzyliśmy program, który sprawdza, czy podana liczba jest liczbą pierwszą. Przypomnijmy sobie ten kod"
   ]
  },
  {
   "cell_type": "code",
   "execution_count": 41,
   "id": "9b90fe2d",
   "metadata": {},
   "outputs": [
    {
     "name": "stdout",
     "output_type": "stream",
     "text": [
      "11 jest liczbą pierwszą\n"
     ]
    }
   ],
   "source": [
    "y = 11 #czy ta liczba jest pierwsza?\n",
    "x = y // 2\n",
    "while x > 1:\n",
    "    if y % x == 0:\n",
    "        print(y, 'ma czynnik', x)\n",
    "        break\n",
    "    x -= 1\n",
    "else:\n",
    "    print(y, 'jest liczbą pierwszą')"
   ]
  },
  {
   "cell_type": "markdown",
   "id": "13b278bd",
   "metadata": {},
   "source": [
    "W celu znalezienia odpowiedzi, czy liczba `11` jest pierwsza musimy wpisać `y = 11` i uruchomić cały powyższy kod, po czym wyświetli nam się wynik. Żeby dowiedzieć się, czy liczba `12` jest pierwsza musimy ręcznie zmienić pierwszą linię na `y=12` i znów kod uruchomić. Jest to mało wygodne, zwłaszcza jeżeli chcemy sprawdzić na prykłąd dziesięć liczb. Tworząc jednak funkcję, w której argumentem będzie liczba którą chcemy sprawdzić, sytuacja robi się mniej skomplikowana."
   ]
  },
  {
   "cell_type": "code",
   "execution_count": 47,
   "id": "4ec8ab33",
   "metadata": {},
   "outputs": [],
   "source": [
    "def isPrime(y):\n",
    "    x = y // 2\n",
    "    while x > 1:\n",
    "        if y % x == 0:\n",
    "            print(y, 'ma czynnik', x)\n",
    "            break\n",
    "        x -= 1\n",
    "    else:\n",
    "        print(y, 'jest liczbą pierwszą')"
   ]
  },
  {
   "cell_type": "markdown",
   "id": "bacc4b8a",
   "metadata": {},
   "source": [
    "Jak widać stworzyliśmy funkcję o nazwie `isPrime`, która wykonuje ten sam kod co wcześniej dla dowolnego argumentu `y`. Teraz wystarczy w odpowiednim miejsu w kodzie głównym wywołać funkcję z odpowiednim argumentem, żeby dostać informację, czy jest to liczba pierwsza zamiast za każdym razem kopiować cały kod."
   ]
  },
  {
   "cell_type": "code",
   "execution_count": 48,
   "id": "24b3c2fe",
   "metadata": {},
   "outputs": [
    {
     "name": "stdout",
     "output_type": "stream",
     "text": [
      "11 jest liczbą pierwszą\n"
     ]
    }
   ],
   "source": [
    "isPrime(11)"
   ]
  },
  {
   "cell_type": "code",
   "execution_count": 49,
   "id": "398ede58",
   "metadata": {
    "scrolled": true
   },
   "outputs": [
    {
     "name": "stdout",
     "output_type": "stream",
     "text": [
      "15232 ma czynnik 7616\n"
     ]
    }
   ],
   "source": [
    "isPrime(15232)"
   ]
  },
  {
   "cell_type": "markdown",
   "id": "e798d6a4",
   "metadata": {},
   "source": [
    "Możemy także skorzystać z pętli i wypisać wynik dla liczba z podanego przedziału"
   ]
  },
  {
   "cell_type": "code",
   "execution_count": 50,
   "id": "66c831f1",
   "metadata": {},
   "outputs": [
    {
     "name": "stdout",
     "output_type": "stream",
     "text": [
      "2 jest liczbą pierwszą\n",
      "3 jest liczbą pierwszą\n",
      "4 ma czynnik 2\n",
      "5 jest liczbą pierwszą\n",
      "6 ma czynnik 3\n",
      "7 jest liczbą pierwszą\n",
      "8 ma czynnik 4\n",
      "9 ma czynnik 3\n",
      "10 ma czynnik 5\n"
     ]
    }
   ],
   "source": [
    "for y in range(2, 11):\n",
    "    isPrime(y)"
   ]
  },
  {
   "cell_type": "markdown",
   "id": "9930a55d",
   "metadata": {},
   "source": [
    "O wiele lepiej, jednak wciąż funkcja, która zwraca nam tekst może nie być szczególnie użyteczna w dalszej obróbce danych. Załóżmy, że zamiast tekstu potrzebujemy tylko wiedzieć czy liczba jest pierwsza czy nie, bez wyświetlania czegokolwiek. Możemy więc przepisać nieco kod tak, by funkcja zwracała nam wartość `True` jeśli liczba jest pierwsza oraz wartość `False` w przeciwnym wypadku. W tym celu skorzystajmy z poznanej instrukcji `return`."
   ]
  },
  {
   "cell_type": "code",
   "execution_count": 55,
   "id": "a6488802",
   "metadata": {},
   "outputs": [],
   "source": [
    "def isPrime(y):\n",
    "    x = y // 2\n",
    "    while x > 1:\n",
    "        if y % x == 0:\n",
    "            return False #jeśli znalazł się jakiś czynnik to zakończy działanie i zwróci wartość False\n",
    "        x -= 1\n",
    "    else:\n",
    "        return True #jeśli żaden czynnik się nie znalazł, to zakończy działanie i zwróci wartość True"
   ]
  },
  {
   "cell_type": "code",
   "execution_count": 52,
   "id": "c5648dc4",
   "metadata": {},
   "outputs": [
    {
     "data": {
      "text/plain": [
       "True"
      ]
     },
     "execution_count": 52,
     "metadata": {},
     "output_type": "execute_result"
    }
   ],
   "source": [
    "isPrime(11)"
   ]
  },
  {
   "cell_type": "code",
   "execution_count": 53,
   "id": "cf108bb4",
   "metadata": {},
   "outputs": [
    {
     "data": {
      "text/plain": [
       "False"
      ]
     },
     "execution_count": 53,
     "metadata": {},
     "output_type": "execute_result"
    }
   ],
   "source": [
    "isPrime(12)"
   ]
  },
  {
   "cell_type": "markdown",
   "id": "2d397495",
   "metadata": {},
   "source": [
    "Zauważmy, że w tym wypadku nie ma już użytej instrukcji `break`, ponieważ instrukcja `return` automatycznie kończy działanie całej funkcji po wywołaniu. Z tego też powodu w funkcji może być więcej niż jedna instrukcja `return`, a działanie zakończy się kiedy program trafi na którąkolwiek z nich. "
   ]
  },
  {
   "cell_type": "markdown",
   "id": "3fada046",
   "metadata": {},
   "source": [
    "Jeżeli teraz chcemy, żeby wyświetliły się tylko liczby pierwsze z podanego przedziału możemy tę funkcję wykorzystać w pętli `for` z instrukcją `if`."
   ]
  },
  {
   "cell_type": "code",
   "execution_count": 58,
   "id": "aad28dd7",
   "metadata": {},
   "outputs": [
    {
     "name": "stdout",
     "output_type": "stream",
     "text": [
      "2  3  5  7  11  13  17  19  23  29  31  37  41  43  47  53  59  61  67  71  73  79  83  89  97  "
     ]
    }
   ],
   "source": [
    "for liczba in range(2, 100):\n",
    "    if isPrime(liczba): #funkcja zwraca wartości True i False, więc można jej użyć w instrukcji warunkowej\n",
    "        print(liczba, ' ', end = '')"
   ]
  },
  {
   "cell_type": "markdown",
   "id": "01178217",
   "metadata": {},
   "source": [
    "Widzimy więc, że kod w którym mamy funkcje jest znacznie bardziej elastyczny i pozwala na uogólnienie wykonywanych instrukcji."
   ]
  },
  {
   "cell_type": "markdown",
   "id": "59a23eaf",
   "metadata": {},
   "source": [
    "### Zmienne lokalne"
   ]
  },
  {
   "cell_type": "markdown",
   "id": "77537d49",
   "metadata": {},
   "source": [
    "Ważną kwestią w działaniu funkcji są zmienne **lokalne**, czyli zmienne widoczne tylko wewnątrz funkcji."
   ]
  },
  {
   "cell_type": "code",
   "execution_count": 59,
   "id": "88d3f8d0",
   "metadata": {},
   "outputs": [],
   "source": [
    "def f(a, b): #definicja funkcji z dwoma argumentami a i b\n",
    "    c = a * b #funkcja tworzy nowy argument c będący iloczynem a i b\n",
    "\n",
    "f(2, 3) #wywołujemy funkcję z argumentami 2, 3"
   ]
  },
  {
   "cell_type": "markdown",
   "id": "61ecd204",
   "metadata": {},
   "source": [
    "Powyżej zdefiniowaliśmy funckję mnożącą dwa argumenty i przechowującą wynik w trzecim. Nie ma tam instrukcji `print` oraz `return`, więc po wywołaniu funkcji z argumentami `x` oraz `y` nic się nie wyświetla. Co jednak się stanie, jeśli będziemy chcieli po wywołaniu funkcji wyświetlić zmienną `c`?"
   ]
  },
  {
   "cell_type": "code",
   "execution_count": 60,
   "id": "22605b8e",
   "metadata": {},
   "outputs": [
    {
     "ename": "NameError",
     "evalue": "name 'c' is not defined",
     "output_type": "error",
     "traceback": [
      "\u001b[0;31m---------------------------------------------------------------------------\u001b[0m",
      "\u001b[0;31mNameError\u001b[0m                                 Traceback (most recent call last)",
      "\u001b[0;32m<ipython-input-60-1dd5973cae19>\u001b[0m in \u001b[0;36m<module>\u001b[0;34m\u001b[0m\n\u001b[0;32m----> 1\u001b[0;31m \u001b[0mprint\u001b[0m\u001b[0;34m(\u001b[0m\u001b[0mc\u001b[0m\u001b[0;34m)\u001b[0m\u001b[0;34m\u001b[0m\u001b[0;34m\u001b[0m\u001b[0m\n\u001b[0m",
      "\u001b[0;31mNameError\u001b[0m: name 'c' is not defined"
     ]
    }
   ],
   "source": [
    "print(c)"
   ]
  },
  {
   "cell_type": "markdown",
   "id": "8ede35b8",
   "metadata": {},
   "source": [
    "Okazuje się, że takia zmienna nie istnieje, a wynika to z tego, że zmienna `c` jest obecna tylko wewnątrz funkcji i nie \"przedostaje\" się poza nią do kodu głównego. Z tego powodu ważne jest korzystanie z instrukcji `return`, która zwraca wartość (wartości) poza funkcję."
   ]
  },
  {
   "cell_type": "markdown",
   "id": "bbf9e90a",
   "metadata": {},
   "source": [
    "Możemy nawet zdefiniować dokładnie tę sama zmienną poza funkcją i nie zostanie ona zmieniona po wykonaniu funkcji. Jest to bardzo ważna własność, gdyż zmienne zdefiniowane w funkcji nie kolidują ze zmiennymi z innych części kodu."
   ]
  },
  {
   "cell_type": "code",
   "execution_count": 61,
   "id": "22bf200a",
   "metadata": {
    "scrolled": true
   },
   "outputs": [
    {
     "name": "stdout",
     "output_type": "stream",
     "text": [
      "Wartość zmiennej c w funkcji:  6\n",
      "Wartość zmiennej c poza funkcją:  10\n"
     ]
    }
   ],
   "source": [
    "c = 10 #tworzymy zmienną c o wartości 10\n",
    "def f(a, b):\n",
    "    c = a * b #wewnątrz funkcji przypiujemy zmiennej c wartość iloczyna a z b\n",
    "    print('Wartość zmiennej c w funkcji: ', c) #wyświetlamy zmienną c z funkcji\n",
    "f(2, 3) #wywołujemy funkcję, w niej zmienna c przyjmuje wartość 6\n",
    "print('Wartość zmiennej c poza funkcją: ', c) #wyświetlamy wartość zmiennej c"
   ]
  },
  {
   "cell_type": "markdown",
   "id": "bd2206bf",
   "metadata": {},
   "source": [
    "### Zmienne globalne"
   ]
  },
  {
   "cell_type": "markdown",
   "id": "8085fb7c",
   "metadata": {},
   "source": [
    "Zmienne zdefiniowane poza wszystkimi instrukcjami `def` są zmiennymi globalnymi i są dostępne z każdego miejsca w kodzie. Dlatego też możemy wywoływać funkcję z argumentami w postaci zmiennych zadeklarowanyhc poza definicją funkcji. Jeśli jednak chcemy modyfikować zmienne globalne także w funkcji musimy skorzystać z instrukcji `global`. Zobaczmy jak zmieni się powyższy kod, kiedy to zrobimy."
   ]
  },
  {
   "cell_type": "code",
   "execution_count": 62,
   "id": "16c6e9ac",
   "metadata": {},
   "outputs": [
    {
     "name": "stdout",
     "output_type": "stream",
     "text": [
      "Wartość zmiennej c w funkcji:  6\n",
      "Wartość zmiennej c poza funkcją:  6\n"
     ]
    }
   ],
   "source": [
    "c = 10 #tworzymy zmienną c o wartości 10\n",
    "def f(a, b):\n",
    "    global c #chcemy, żeby funkcja korzystała z zadeklarowanej globalnej zmiennej c\n",
    "    c = a * b #wewnątrz funkcji przypiujemy zmiennej c wartość iloczyna a z b\n",
    "    print('Wartość zmiennej c w funkcji: ', c) #wyświetlamy zmienną c z funkcji\n",
    "f(2, 3) #wywołujemy funkcję, w niej zmienna c przyjmuje wartość 6\n",
    "print('Wartość zmiennej c poza funkcją: ', c) #wyświetlamy wartość zmiennej c"
   ]
  },
  {
   "cell_type": "markdown",
   "id": "42ab6314",
   "metadata": {},
   "source": [
    "Jak widać, tym razem działania wewnątrz funkcji przypisały do zmiennej poza funkcją nową wartość."
   ]
  },
  {
   "cell_type": "markdown",
   "id": "99a0519e",
   "metadata": {},
   "source": [
    "Zmienne globalne są także dostępne z poziomu funkcji jeśli ich nie modyfikujemy. Warto o tym także pamiętać."
   ]
  },
  {
   "cell_type": "code",
   "execution_count": 63,
   "id": "4251a60d",
   "metadata": {},
   "outputs": [
    {
     "name": "stdout",
     "output_type": "stream",
     "text": [
      "6\n"
     ]
    }
   ],
   "source": [
    "a = 5; b = 1 #zmienne globalne (poza instrukcjami def)\n",
    "def f():\n",
    "    print(a + b) #dodawanie zmiennych globalnych (nie są modyfikowane!)\n",
    "f()"
   ]
  },
  {
   "cell_type": "code",
   "execution_count": 64,
   "id": "186195dd",
   "metadata": {},
   "outputs": [
    {
     "name": "stdout",
     "output_type": "stream",
     "text": [
      "12\n"
     ]
    }
   ],
   "source": [
    "a = 5; b = 1 #zmienne globalne (poza instrukcjami def)\n",
    "def f():\n",
    "    a = 10; b = 2 #zmienne lokalne widziane tylko wewnątrz funkcji\n",
    "    print(a + b) #suma zmiennych lokalnych (priorytet nad zmiennymi globalnymi)\n",
    "f()   "
   ]
  },
  {
   "cell_type": "markdown",
   "id": "878307b3",
   "metadata": {},
   "source": [
    "**Uwaga!** O ile **przypisanie** do zmiennej globalnej nowej wartości w funkcji działa jedynie przy użyciu instrukcji `global` o tyle **modyfikowanie** obiektu do którego odwołuje się zmienna globalna już jest wykonywane wewnątrz funkcji i obiekt zostaje zmieniony poza nią!"
   ]
  },
  {
   "cell_type": "markdown",
   "id": "8f6e62eb",
   "metadata": {},
   "source": [
    "Przykładem niech będzie dodatnie elementu do listy."
   ]
  },
  {
   "cell_type": "code",
   "execution_count": 65,
   "id": "49682df9",
   "metadata": {},
   "outputs": [
    {
     "name": "stdout",
     "output_type": "stream",
     "text": [
      "[1, 2, 3, 10]\n"
     ]
    }
   ],
   "source": [
    "L = [1, 2, 3] #lista przypisana do zmiennej L\n",
    "def f(a):\n",
    "    L.append(a) #funkcja dodająca element a do listy L (nie ma tu przypisania!)\n",
    "f(10) #wywołanie funkcji\n",
    "print(L) #wyświetlenie listy poza funkcją"
   ]
  },
  {
   "cell_type": "markdown",
   "id": "ef1f14c8",
   "metadata": {},
   "source": [
    "Jeżeli jednak wewnątrz funkcji zdefiniujemy nową listę przypisaną do tej samej zmiennej `L`, to priorytetowo będzie traktowana lista wewnątrz funkcji."
   ]
  },
  {
   "cell_type": "code",
   "execution_count": 66,
   "id": "22b36432",
   "metadata": {},
   "outputs": [
    {
     "name": "stdout",
     "output_type": "stream",
     "text": [
      "[1, 2, 3]\n"
     ]
    }
   ],
   "source": [
    "L = [1, 2, 3] #lista przypisana do zmiennej L\n",
    "def f(a):\n",
    "    L = [] #lokalna zmienna L odwołująca się do pustel listy\n",
    "    L.append(a) #funkcja dodająca element a do listy L (nie ma tu przypisania!)\n",
    "f(10) #wywołanie funkcji\n",
    "print(L) #wyświetlenie listy poza funkcją"
   ]
  },
  {
   "cell_type": "markdown",
   "id": "51a46b0f",
   "metadata": {},
   "source": [
    "A tutaj przykład z argumentami."
   ]
  },
  {
   "cell_type": "code",
   "execution_count": 67,
   "id": "96bfabe6",
   "metadata": {},
   "outputs": [
    {
     "name": "stdout",
     "output_type": "stream",
     "text": [
      "L1 = [1, 2, 3] , L2 = [4, 5, 6, 10]\n"
     ]
    }
   ],
   "source": [
    "L1 = [1, 2, 3] #lista przypisana do zmiennej globalnej L1\n",
    "L2 = [4, 5, 6] #lista przypisana do zmiennej globalnej L2\n",
    "def f(a):\n",
    "    L2.append(a) #funkcja modyfikuje listę od zmiennej globalnej L2 \n",
    "f(10)\n",
    "print('L1 =', L1, ', L2 =', L2)"
   ]
  },
  {
   "cell_type": "code",
   "execution_count": 68,
   "id": "3ad01bb1",
   "metadata": {},
   "outputs": [
    {
     "name": "stdout",
     "output_type": "stream",
     "text": [
      "L1 = [1, 2, 3, 10] , L2 = [4, 5, 6]\n"
     ]
    }
   ],
   "source": [
    "L1 = [1, 2, 3] #lista przypisana do zmiennej globalnej L1\n",
    "L2 = [4, 5, 6] #lista przypisana do zmiennej globalnej L2\n",
    "def f(L2, a):\n",
    "    L2.append(a) #funkcja modyfikuje listę podaną przez argument L2 przy wywołaniu\n",
    "f(L1, 10) #za argument L2 podajemy listę przypisaną do zmiennej globalnej L1!\n",
    "print('L1 =', L1, ', L2 =', L2) #nazwa argumentu jest traktowana priorytetowo, a skoro prowadzi on do \n",
    "                                #listy [1, 2, 3] to właśnie ona będzie zmodyfikowana!"
   ]
  },
  {
   "cell_type": "markdown",
   "id": "9db5ed84",
   "metadata": {},
   "source": [
    "**Zadanie**<br>\n",
    "Napisz funkcję o nazwie `NWD`, która będzie znajdowała największy wspólny dzielnik dwóch liczb podanych przez użytkownika. Wykorzystaj algorytm Euklidesa."
   ]
  },
  {
   "cell_type": "markdown",
   "id": "6b06b047",
   "metadata": {},
   "source": [
    "Algorytm Euklidesa.<br>\n",
    "Aby obliczyć NWD(a, b), wykonujemy kolejno następujące kroki:\n",
    "1. Podziel z resztą liczbę a przez liczbę b.\n",
    "2. Jeżeli reszta jest równa 0, przejdź do kroku 4.\n",
    "3. Jeżeli reszta jest różna od 0:<br>\n",
    "    3a. Przypisz liczbie a wartość liczby b.<br>\n",
    "    3b. Przypisz liczbie b wartość otrzymanej reszty.<br>\n",
    "    3c. Przejdź do punktu 1.<br>\n",
    "4. Wypisz b.   "
   ]
  },
  {
   "cell_type": "code",
   "execution_count": 69,
   "id": "2ede4f46",
   "metadata": {},
   "outputs": [
    {
     "name": "stdout",
     "output_type": "stream",
     "text": [
      "93\n",
      "12\n"
     ]
    },
    {
     "data": {
      "text/plain": [
       "3"
      ]
     },
     "execution_count": 69,
     "metadata": {},
     "output_type": "execute_result"
    }
   ],
   "source": [
    "def NWD(a, b):\n",
    "    c = a % b\n",
    "    while c != 0:\n",
    "        a = b\n",
    "        b = c\n",
    "        c = a % b\n",
    "    else:\n",
    "        return b\n",
    "\n",
    "a = int(input())\n",
    "b = int(input())    \n",
    "NWD(a, b)"
   ]
  },
  {
   "cell_type": "markdown",
   "id": "c16338b8",
   "metadata": {},
   "source": [
    "**Zadanie**<br>\n",
    "Napisz funkcję o nazwie `NWW`, która będzie znajdowała **najmniejszą wspólną wielokrotność** dwóch liczb podanych przez użytkownika. Skorystaj z zaimplementowanej wcześniej funkcji NWD.<br>\n",
    "<br>\n",
    "Przykłady:<br>\n",
    "NWW(24, 36) = 72<br>\n",
    "NWW(27, 21) = 189"
   ]
  },
  {
   "cell_type": "code",
   "execution_count": 70,
   "id": "0e70d49a",
   "metadata": {},
   "outputs": [
    {
     "name": "stdout",
     "output_type": "stream",
     "text": [
      "27\n",
      "21\n"
     ]
    },
    {
     "data": {
      "text/plain": [
       "189"
      ]
     },
     "execution_count": 70,
     "metadata": {},
     "output_type": "execute_result"
    }
   ],
   "source": [
    "def NWW(a, b):\n",
    "    return int(a * b / NWD(a, b))\n",
    "\n",
    "a = int(input())\n",
    "b = int(input())\n",
    "NWW(a, b)"
   ]
  }
 ],
 "metadata": {
  "kernelspec": {
   "display_name": "Python 3",
   "language": "python",
   "name": "python3"
  },
  "language_info": {
   "codemirror_mode": {
    "name": "ipython",
    "version": 3
   },
   "file_extension": ".py",
   "mimetype": "text/x-python",
   "name": "python",
   "nbconvert_exporter": "python",
   "pygments_lexer": "ipython3",
   "version": "3.6.9"
  }
 },
 "nbformat": 4,
 "nbformat_minor": 5
}
