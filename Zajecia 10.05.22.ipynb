{
 "cells": [
  {
   "cell_type": "markdown",
   "id": "81b1d344",
   "metadata": {},
   "source": [
    "**Zadanie domowe!**"
   ]
  },
  {
   "cell_type": "markdown",
   "id": "f2057429",
   "metadata": {},
   "source": [
    "Napisz prostą grę w zgadywanie liczby. Gra polega na wylosowaniu przez program dowolnej liczby czterocyfrowej z przedziału [1000, 9999]. Zadaniem gracza jest odgadnięcie tej liczby poprzez wpisanie jej. Po wpisaniu liczby przez gracza program może działać w dwóch wersjach:<br>\n",
    "1. Wersja prostsza.<br>\n",
    "Program podświetla na zielono wszystkie cyfry, które zostały wpisane na prawidłowych miejscach, a reszta cyfr zostaje wyświetlona bez zmian.<br>\n",
    "<br>\n",
    "Przykład działania:<br>\n",
    "Wprowadź liczbę: $1111$<br>\n",
    "$1111$<br>\n",
    "Wprowadź liczbę: $2222$<br>\n",
    "$2222$<br>\n",
    "Wprowadź liczbę: $3333$<br>\n",
    "$3333$<br>\n",
    "Wprowadź liczbę: $4444$<br>\n",
    "$444\\color{green}{4}$<br>\n",
    "Wprowadź liczbę: $5555$<br>\n",
    "$5555$<br>\n",
    "Wprowadź liczbę: $6666$<br>\n",
    "$66\\color{green}{6}6$<br>\n",
    "Wprowadź liczbę: $7777$<br>\n",
    "$\\color{green}{77}77$<br>\n",
    "Wprowadź liczbę: $7764$<br>\n",
    "$\\color{green}{7764}$<br>\n",
    "<br>\n",
    "2. Wersja trudniejsza:<br>\n",
    "Program podświetla na zielono liczby tak jak w punkcie 1. ale dodatkowo podświetla na żółto/ pomarańczowo liczby, które znajdują się w rozwiązaniu, ale są na złej pozycji.<br>\n",
    "<br>\n",
    "Przykład działania:<br>\n",
    "Wprowadź liczbę: $1234$<br>\n",
    "$\\color{green}{1}2\\color{orange}{3}4$<br>\n",
    "Wprowadź liczbę: $5678$<br>\n",
    "$\\color{orange}{5}678$<br>\n",
    "Wprowadź liczbę: $9033$<br>\n",
    "$\\color{orange}{9}0\\color{orange}{3}3$<br>\n",
    "Wprowadź liczbę: $1593$<br>\n",
    "$\\color{green}{1}\\color{orange}{5}\\color{green}{9}\\color{orange}{3}$<br>\n",
    "Wprowadź liczbę: $1395$<br>\n",
    "$\\color{green}{1395}$<br>\n",
    "<br>\n",
    "Zwróć uwagę, że w przypadku gdy podana była liczba $9033$ tylko jedna cyfra $3$ została podświetlona, bo tylko jedna znajdowała się w rozwiązaniu!"
   ]
  },
  {
   "cell_type": "markdown",
   "id": "c4594720",
   "metadata": {},
   "source": [
    "Do kolorowania teksu przyda się biblioteka `termcolor`, a dokładnie jej funkcja `colored`. Przykład działania został zaprezentowany poniżej."
   ]
  },
  {
   "cell_type": "code",
   "execution_count": 14,
   "id": "05ccc2b9",
   "metadata": {},
   "outputs": [
    {
     "name": "stdout",
     "output_type": "stream",
     "text": [
      "\u001b[31mAla\u001b[0m \u001b[33mma\u001b[0m \u001b[32mkota\u001b[0m\n"
     ]
    }
   ],
   "source": [
    "from termcolor import colored\n",
    "\n",
    "print(colored('Ala', 'red'), colored('ma', 'yellow'), colored('kota', 'green'))"
   ]
  },
  {
   "cell_type": "markdown",
   "id": "3ea6d993",
   "metadata": {},
   "source": [
    "Dodatkowo, program ma sprawdzać, czy dane podane przez użytkownika rzeczywiście są czterocyfrową liczbą z przedziału [1000, 9999]. Jeśli nie, ma zostać wyświetlony komunikat `Podane wyrażenie jest nieprawidłowe!` po czym program ma działać dalej normalnie i prosić o wprowadzenie liczby."
   ]
  },
  {
   "cell_type": "markdown",
   "id": "83609280",
   "metadata": {},
   "source": [
    "W celu ułatwienia zadania polecam skorzystać z podanego poniżej szkieletu programu zawierającego proponowany sposób rozwiązania za pomocą funkcji."
   ]
  },
  {
   "cell_type": "code",
   "execution_count": null,
   "id": "54c42961",
   "metadata": {},
   "outputs": [],
   "source": [
    "from random import randint #funkcja randint(a, b) zwraca losową liczbę całkowitą z przedziału [a, b]\n",
    "from termcolor import colored #funkcja colored(tekst, kolor) zwraca tekst o podanym kolorze (w funkcji print!)\n",
    "\n",
    "def generateNumber():\n",
    "    '''Funkcja losująca liczbę z przedziału [1000, 9999]. Zwraca wartość w typie ciągu znaków (str).'''\n",
    "\n",
    "def isWin(user, goal):\n",
    "    '''Funkcja sprawdzająca czy liczba podana przez użytkownika (user) jest taka sama jak liczba,\n",
    "    która ma zostać zgadnięta (goal). Jeśli tak, zwróć True, jeśli nie, zwróć False.'''\n",
    "\n",
    "def isCorrect(user):\n",
    "    '''Funkcja sprawdzająca, czy podana przez użytkownika liczba jest prawidłowa, \n",
    "    czyli czy jest czterocyfrowa z przedziału [1000, 9999]. Jeśli jest prawidłowa, zwróć True, \n",
    "    w przeciwnym razie zwróć False.'''\n",
    "\n",
    "def showResult(user, goal):\n",
    "    '''Funkcja wyświetlajaca odpowiednio pokolorowaną liczbę (user) po porównaniu jej z liczbą \n",
    "    do zgadnięcia (goal). Tylko ta funkcja będzie się zmieniała w zależności od tego, która wersja gry\n",
    "    została wybrana do zrobienia.'''\n",
    "    \n",
    "goal = generateNumber() #wywołanie funkcji generującej liczbę do zgadnięcia\n",
    "win = False #zmienna przechowująca informację, czy gracz już wygrał\n",
    "while not win: #jeśli gracz nie wygrał, czyli win = False, pętla kontynuuje działanie\n",
    "    user = input('Wprowadź liczbę: ') #instrukcja pobierająca liczbę od użytkownika\n",
    "    if isCorrect(user): #wywołanie funkcji sprawdzającej czy podana liczba jest prawidłowa\n",
    "        showResult(user, goal) #jeśli jest prawidłowa, wywoływana jest funkcja wyświetlająca odpowiednie kolory cyfr\n",
    "    else: #jeśli funkcja isCorrect zwróciła False, wyświetlany jest poniższy tekst\n",
    "        print('Podane wyrażenie jest nieprawidłowe!')\n",
    "        continue #ta instrukcja przenosi nas do początku pętli, więc nie wykona się ostatnia instrukcja\n",
    "    win = isWin(user, goal) #wywołanie funkcji sprawdzającej, czy użytkownik wygrał przez porównanie user i goal,\n",
    "                            #jeśli user == goal, to win = True i pętla przestaje się wykonywać - koniec gry"
   ]
  },
  {
   "cell_type": "markdown",
   "id": "3313342e",
   "metadata": {},
   "source": [
    "Powodzenia!"
   ]
  },
  {
   "cell_type": "markdown",
   "id": "11a89314",
   "metadata": {},
   "source": [
    "**Rozwiązanie**"
   ]
  },
  {
   "cell_type": "code",
   "execution_count": 15,
   "id": "f1e22cd0",
   "metadata": {},
   "outputs": [
    {
     "name": "stdout",
     "output_type": "stream",
     "text": [
      "Wprowadź liczbę: 1111\n",
      "1111\n",
      "Wprowadź liczbę: 2222\n",
      "2222\n",
      "Wprowadź liczbę: 3333\n",
      "\u001b[32m3\u001b[0m\u001b[32m3\u001b[0m33\n",
      "Wprowadź liczbę: 4444\n",
      "4444\n",
      "Wprowadź liczbę: 5555\n",
      "5555\n",
      "Wprowadź liczbę: 6666\n",
      "6666\n",
      "Wprowadź liczbę: 7777\n",
      "77\u001b[32m7\u001b[0m7\n",
      "Wprowadź liczbę: 8888\n",
      "888\u001b[32m8\u001b[0m\n",
      "Wprowadź liczbę: 3378\n",
      "\u001b[32m3\u001b[0m\u001b[32m3\u001b[0m\u001b[32m7\u001b[0m\u001b[32m8\u001b[0m\n"
     ]
    }
   ],
   "source": [
    "from random import randint\n",
    "from termcolor import colored\n",
    "\n",
    "def generateNumber():\n",
    "    return str(randint(1000, 9999))\n",
    "\n",
    "def isWin(user, goal):\n",
    "    return user == goal\n",
    "\n",
    "def isCorrect(user, goal):\n",
    "    ref = '1234567890'\n",
    "    return len(user) == len(goal) and all([u in ref for u in user])\n",
    "\n",
    "def showResult(user, goal):\n",
    "    temp = [colored(u, 'green') if u == g else u for u, g in zip(user, goal)]\n",
    "    print(*temp, sep = '', end = '\\n')\n",
    "    return True\n",
    "    \n",
    "goal = generateNumber()\n",
    "win = False\n",
    "while not win:    \n",
    "    user = input('Wprowadź liczbę: ')\n",
    "    if isCorrect(user, goal):\n",
    "        showResult(user, goal)\n",
    "    else:\n",
    "        print('Podane wyrażenie jest nieprawidłowe!')\n",
    "        continue\n",
    "    win = isWin(user, goal)"
   ]
  },
  {
   "cell_type": "code",
   "execution_count": 16,
   "id": "d641f7a8",
   "metadata": {
    "scrolled": false
   },
   "outputs": [
    {
     "name": "stdout",
     "output_type": "stream",
     "text": [
      "Wprowadź liczbę: 123\n",
      "Podane wyrażenie jest nieprawidłowe!\n",
      "Wprowadź liczbę: 1234\n",
      "12\u001b[32m3\u001b[0m4\n",
      "Wprowadź liczbę: 5678\n",
      "567\u001b[32m8\u001b[0m\n",
      "Wprowadź liczbę: 3890\n",
      "\u001b[33m3\u001b[0m\u001b[33m8\u001b[0m\u001b[33m9\u001b[0m0\n",
      "Wprowadź liczbę: 9938\n",
      "\u001b[32m9\u001b[0m9\u001b[32m3\u001b[0m\u001b[32m8\u001b[0m\n",
      "Wprowadź liczbę: 9338\n",
      "\u001b[32m9\u001b[0m\u001b[32m3\u001b[0m\u001b[32m3\u001b[0m\u001b[32m8\u001b[0m\n"
     ]
    }
   ],
   "source": [
    "from random import randint\n",
    "from termcolor import colored\n",
    "\n",
    "def generateNumber():\n",
    "    return str(randint(1000, 9999))\n",
    "\n",
    "def isWin(user, goal):\n",
    "    return user == goal\n",
    "\n",
    "def isCorrect(user, goal):\n",
    "    ref = '1234567890'\n",
    "    return len(user) == len(goal) and all([u in ref for u in user])\n",
    "\n",
    "def showResult(user, goal):\n",
    "    user = [[u, u == g, False] for u, g in zip(user, goal)]\n",
    "    goal_reduced = [g for u, g in zip(user, goal) if not u[1]]\n",
    "    for u in user:\n",
    "        if not u[1] and u[0] in goal_reduced:\n",
    "            u[2] = True\n",
    "            goal_reduced.remove(u[0])\n",
    "        else:\n",
    "            pass    \n",
    "    result = [colored(u[0], 'green') if u[1] else colored(u[0], 'yellow') if u[2] else u[0] for u in user]\n",
    "    print(*result, sep = '', end = '\\n')\n",
    "    \n",
    "goal = generateNumber()\n",
    "win = False\n",
    "while not win:    \n",
    "    user = input('Wprowadź liczbę: ')\n",
    "    if isCorrect(user, goal):\n",
    "        showResult(user, goal)\n",
    "    else:\n",
    "        print('Podane wyrażenie jest nieprawidłowe!')\n",
    "        continue\n",
    "    win = isWin(user, goal)"
   ]
  },
  {
   "cell_type": "markdown",
   "id": "3d6eca7d",
   "metadata": {},
   "source": [
    "# Przydatne moduły"
   ]
  },
  {
   "cell_type": "markdown",
   "id": "10f621df",
   "metadata": {},
   "source": [
    "W tej części poznamy moduły przydatne przy wszelkiego rodzaju obliczeniach i prezentacji wyników. "
   ]
  },
  {
   "cell_type": "markdown",
   "id": "f7f00230",
   "metadata": {},
   "source": [
    "### NumPy"
   ]
  },
  {
   "cell_type": "markdown",
   "id": "3ef1af3d",
   "metadata": {},
   "source": [
    "NumPy jest biblioteką przydatną w obliczeniach z wykorzystaniem wszelkiego rodzaju macierzy. Dzięki implementacji w języku C oraz C++ kod jest nawet 50x szybszy od napisanego za pomocą pythonowych list. Dodatkowo, zaimplementownych jest wiele funkcji, które ułatwiają i przyspieszają programowanie."
   ]
  },
  {
   "cell_type": "markdown",
   "id": "6c5f7be2",
   "metadata": {},
   "source": [
    "Import biblioteki odbywa się jak zwykle za pomocą instrukcji `import`"
   ]
  },
  {
   "cell_type": "code",
   "execution_count": 64,
   "id": "bce3a9de",
   "metadata": {},
   "outputs": [],
   "source": [
    "import numpy"
   ]
  },
  {
   "cell_type": "markdown",
   "id": "4e8cf78b",
   "metadata": {},
   "source": [
    "Od tego momentu mamy dostęp do wszystkich zawartych w bibliotece funkcji i modułów. Podstawowym aspektem NumPy jest tworzenie obiektów `ndarray` czyli n-wymiarowych tablic (ndarray od n-dimensional array)."
   ]
  },
  {
   "cell_type": "markdown",
   "id": "582bce7e",
   "metadata": {},
   "source": [
    "Przykład przekształcenia listy na `ndarray` korzystając z metody `array`:"
   ]
  },
  {
   "cell_type": "code",
   "execution_count": 67,
   "id": "37de557a",
   "metadata": {},
   "outputs": [
    {
     "data": {
      "text/plain": [
       "numpy.ndarray"
      ]
     },
     "execution_count": 67,
     "metadata": {},
     "output_type": "execute_result"
    }
   ],
   "source": [
    "L = [1, 2, 3]\n",
    "arr = numpy.array(L)\n",
    "type(arr)"
   ]
  },
  {
   "cell_type": "markdown",
   "id": "6dda20c9",
   "metadata": {},
   "source": [
    "Ponieważ zwykle wpisywanie za każdym razem pełnej nazwy biblioteki przy metodzie jest uciążliwe (zwłaszcza dla dłuższych nazw), tę i wiele innych bibliotek można zaimportować nadając jej jednocześnie skróconą formę za pomocą wyrażenia `import <nazwa biblioteki> as <dowolna nazwa>`"
   ]
  },
  {
   "cell_type": "code",
   "execution_count": 2,
   "id": "560ad3df",
   "metadata": {},
   "outputs": [],
   "source": [
    "import numpy as np"
   ]
  },
  {
   "cell_type": "markdown",
   "id": "1543c3b0",
   "metadata": {},
   "source": [
    "Tym sposobem, w celu stworzenia obiektu `ndarray` z listy możemy zamiast `numpy.array` zapisać `np.array`"
   ]
  },
  {
   "cell_type": "code",
   "execution_count": 72,
   "id": "f95c2609",
   "metadata": {},
   "outputs": [
    {
     "data": {
      "text/plain": [
       "numpy.ndarray"
      ]
     },
     "execution_count": 72,
     "metadata": {},
     "output_type": "execute_result"
    }
   ],
   "source": [
    "L = [1, 2, 3]\n",
    "arr = numpy.array(L)\n",
    "type(arr)"
   ]
  },
  {
   "cell_type": "markdown",
   "id": "31f4cb7e",
   "metadata": {},
   "source": [
    "Obiekt `ndarray` obsługuje indeksowanie, tak samo jak inne sekwencje w Pythonie"
   ]
  },
  {
   "cell_type": "code",
   "execution_count": 68,
   "id": "a201edd4",
   "metadata": {},
   "outputs": [
    {
     "data": {
      "text/plain": [
       "1"
      ]
     },
     "execution_count": 68,
     "metadata": {},
     "output_type": "execute_result"
    }
   ],
   "source": [
    "arr[0]"
   ]
  },
  {
   "cell_type": "code",
   "execution_count": 69,
   "id": "f230235c",
   "metadata": {},
   "outputs": [
    {
     "data": {
      "text/plain": [
       "3"
      ]
     },
     "execution_count": 69,
     "metadata": {},
     "output_type": "execute_result"
    }
   ],
   "source": [
    "arr[-1]"
   ]
  },
  {
   "cell_type": "markdown",
   "id": "16769fdc",
   "metadata": {},
   "source": [
    "Jednak już na tym przykładzie można zauważyć wygodne różnice. Tablice `ndarray` w przeciwieństwie do list, możemy do siebie dodawać tak jak dodalibyśmy wektory"
   ]
  },
  {
   "cell_type": "code",
   "execution_count": 124,
   "id": "f6388bc5",
   "metadata": {},
   "outputs": [],
   "source": [
    "l1 = [1, 2, 3]\n",
    "l2 = [4, 5, 6]\n",
    "arr1 = np.array(l1)\n",
    "arr2 = np.array(l2)"
   ]
  },
  {
   "cell_type": "markdown",
   "id": "cd28e8a5",
   "metadata": {},
   "source": [
    "Listy składają się, więc tworzą jedną, dłuższą listę przy operacji `+`"
   ]
  },
  {
   "cell_type": "code",
   "execution_count": 74,
   "id": "a8ded90f",
   "metadata": {},
   "outputs": [
    {
     "data": {
      "text/plain": [
       "[1, 2, 3, 4, 5, 6]"
      ]
     },
     "execution_count": 74,
     "metadata": {},
     "output_type": "execute_result"
    }
   ],
   "source": [
    "l1 + l2"
   ]
  },
  {
   "cell_type": "markdown",
   "id": "c3f27e6d",
   "metadata": {},
   "source": [
    "Obiekty `ndarray` dodają odpowiednie elementy do siebie tak, jak to jest przy dodwaniu wektorów"
   ]
  },
  {
   "cell_type": "code",
   "execution_count": 125,
   "id": "67130662",
   "metadata": {
    "scrolled": true
   },
   "outputs": [
    {
     "data": {
      "text/plain": [
       "array([5, 7, 9])"
      ]
     },
     "execution_count": 125,
     "metadata": {},
     "output_type": "execute_result"
    }
   ],
   "source": [
    "arr1 + arr2"
   ]
  },
  {
   "cell_type": "markdown",
   "id": "3319323e",
   "metadata": {},
   "source": [
    "W celu złożenia dwóch wektorów należy użyć metody `concatenate`"
   ]
  },
  {
   "cell_type": "code",
   "execution_count": 126,
   "id": "5d2db3b1",
   "metadata": {},
   "outputs": [
    {
     "data": {
      "text/plain": [
       "array([1, 2, 3, 4, 5, 6])"
      ]
     },
     "execution_count": 126,
     "metadata": {},
     "output_type": "execute_result"
    }
   ],
   "source": [
    "np.concatenate((arr1, arr2))"
   ]
  },
  {
   "cell_type": "markdown",
   "id": "7cff1327",
   "metadata": {},
   "source": [
    "Taka sama sytuacja występuje przy mnożeniu bądź dzieleniu."
   ]
  },
  {
   "cell_type": "code",
   "execution_count": 76,
   "id": "4caca127",
   "metadata": {},
   "outputs": [
    {
     "data": {
      "text/plain": [
       "[1, 2, 3, 1, 2, 3]"
      ]
     },
     "execution_count": 76,
     "metadata": {},
     "output_type": "execute_result"
    }
   ],
   "source": [
    "l1 * 2"
   ]
  },
  {
   "cell_type": "code",
   "execution_count": 77,
   "id": "69591b8b",
   "metadata": {},
   "outputs": [
    {
     "data": {
      "text/plain": [
       "array([2, 4, 6])"
      ]
     },
     "execution_count": 77,
     "metadata": {},
     "output_type": "execute_result"
    }
   ],
   "source": [
    "arr1 * 2"
   ]
  },
  {
   "cell_type": "code",
   "execution_count": 78,
   "id": "9a014055",
   "metadata": {},
   "outputs": [
    {
     "ename": "TypeError",
     "evalue": "unsupported operand type(s) for /: 'list' and 'int'",
     "output_type": "error",
     "traceback": [
      "\u001b[0;31m---------------------------------------------------------------------------\u001b[0m",
      "\u001b[0;31mTypeError\u001b[0m                                 Traceback (most recent call last)",
      "\u001b[0;32m<ipython-input-78-303d3292c37b>\u001b[0m in \u001b[0;36m<module>\u001b[0;34m\u001b[0m\n\u001b[0;32m----> 1\u001b[0;31m \u001b[0ml1\u001b[0m \u001b[0;34m/\u001b[0m \u001b[0;36m2\u001b[0m\u001b[0;34m\u001b[0m\u001b[0;34m\u001b[0m\u001b[0m\n\u001b[0m",
      "\u001b[0;31mTypeError\u001b[0m: unsupported operand type(s) for /: 'list' and 'int'"
     ]
    }
   ],
   "source": [
    "l1 / 2"
   ]
  },
  {
   "cell_type": "code",
   "execution_count": 79,
   "id": "2b3c456d",
   "metadata": {},
   "outputs": [
    {
     "data": {
      "text/plain": [
       "array([0.5, 1. , 1.5])"
      ]
     },
     "execution_count": 79,
     "metadata": {},
     "output_type": "execute_result"
    }
   ],
   "source": [
    "arr1 / 2"
   ]
  },
  {
   "cell_type": "markdown",
   "id": "545ff462",
   "metadata": {},
   "source": [
    "Spójrzmy teraz na te obiekty bardziej systematycznie."
   ]
  },
  {
   "cell_type": "markdown",
   "id": "3c655f55",
   "metadata": {},
   "source": [
    "**Wymiary**"
   ]
  },
  {
   "cell_type": "markdown",
   "id": "eab22923",
   "metadata": {},
   "source": [
    "Najprostrzą macierzą - 0-wymiarową jest liczba, oczywiście także w NumPy możemy je stworzyć "
   ]
  },
  {
   "cell_type": "code",
   "execution_count": 81,
   "id": "70462e94",
   "metadata": {},
   "outputs": [
    {
     "data": {
      "text/plain": [
       "array(42)"
      ]
     },
     "execution_count": 81,
     "metadata": {},
     "output_type": "execute_result"
    }
   ],
   "source": [
    "arr0 = np.array(42)\n",
    "arr0"
   ]
  },
  {
   "cell_type": "markdown",
   "id": "97947019",
   "metadata": {},
   "source": [
    "Macierz jednowymiarowa - wektor, poznaliśmy przed chwilą"
   ]
  },
  {
   "cell_type": "code",
   "execution_count": 82,
   "id": "a18d1705",
   "metadata": {},
   "outputs": [
    {
     "data": {
      "text/plain": [
       "array([1, 2, 3])"
      ]
     },
     "execution_count": 82,
     "metadata": {},
     "output_type": "execute_result"
    }
   ],
   "source": [
    "arr1 = np.array([1, 2, 3])\n",
    "arr1"
   ]
  },
  {
   "cell_type": "markdown",
   "id": "af13d541",
   "metadata": {},
   "source": [
    "Macierz dwuwymiarowa będzie tworzona za pomocą listy list (nawet wyświetlanie jest wygodne dla użytkownika)"
   ]
  },
  {
   "cell_type": "code",
   "execution_count": 116,
   "id": "163da82c",
   "metadata": {},
   "outputs": [
    {
     "data": {
      "text/plain": [
       "array([[1, 2, 3],\n",
       "       [4, 5, 6]])"
      ]
     },
     "execution_count": 116,
     "metadata": {},
     "output_type": "execute_result"
    }
   ],
   "source": [
    "arr2 = np.array([[1, 2, 3], [4, 5, 6]])\n",
    "arr2"
   ]
  },
  {
   "cell_type": "markdown",
   "id": "8638977c",
   "metadata": {},
   "source": [
    "Tak samo można tworzyć macierze o większej liczbie wymiarów. Trójwymiarowa 3x2x2 na przykład ma taką postać"
   ]
  },
  {
   "cell_type": "code",
   "execution_count": 86,
   "id": "c57dee7f",
   "metadata": {},
   "outputs": [
    {
     "data": {
      "text/plain": [
       "array([[[ 1,  2],\n",
       "        [ 3,  4]],\n",
       "\n",
       "       [[ 5,  6],\n",
       "        [ 7,  8]],\n",
       "\n",
       "       [[ 9, 10],\n",
       "        [11, 12]]])"
      ]
     },
     "execution_count": 86,
     "metadata": {},
     "output_type": "execute_result"
    }
   ],
   "source": [
    "arr3 = np.array([[[1, 2], [3, 4]], [[5, 6], [7, 8]], [[9, 10], [11, 12]]])\n",
    "arr3"
   ]
  },
  {
   "cell_type": "markdown",
   "id": "db524e16",
   "metadata": {},
   "source": [
    "W celu sprawdzenia wymiaru danej macierzy możemy skorzystać z atrybutu przypisanego do każdej z nich `.ndim`"
   ]
  },
  {
   "cell_type": "code",
   "execution_count": 117,
   "id": "40c2290a",
   "metadata": {
    "scrolled": true
   },
   "outputs": [
    {
     "name": "stdout",
     "output_type": "stream",
     "text": [
      "0\n",
      "1\n",
      "2\n",
      "3\n"
     ]
    }
   ],
   "source": [
    "print(arr0.ndim)\n",
    "print(arr1.ndim)\n",
    "print(arr2.ndim)\n",
    "print(arr3.ndim)"
   ]
  },
  {
   "cell_type": "markdown",
   "id": "d4389a6a",
   "metadata": {},
   "source": [
    "Mamy także dostęp do rozmiarów macierzy za pomocą atrybutu `.shape`"
   ]
  },
  {
   "cell_type": "code",
   "execution_count": 118,
   "id": "c84c3a46",
   "metadata": {},
   "outputs": [
    {
     "name": "stdout",
     "output_type": "stream",
     "text": [
      "()\n",
      "(3,)\n",
      "(2, 3)\n",
      "(3, 2, 2)\n"
     ]
    }
   ],
   "source": [
    "print(arr0.shape)\n",
    "print(arr1.shape)\n",
    "print(arr2.shape)\n",
    "print(arr3.shape)"
   ]
  },
  {
   "cell_type": "markdown",
   "id": "7af77298",
   "metadata": {},
   "source": [
    "**Indeksowanie**"
   ]
  },
  {
   "cell_type": "markdown",
   "id": "82128416",
   "metadata": {},
   "source": [
    "Indeksowanie jest znacznie wygodniejsze i pozwala na większą elastyczność w stosunku do list. Porównajmy dwie macierze 3x3 jedną stworzną za pomocą list i drugą `ndarray`"
   ]
  },
  {
   "cell_type": "code",
   "execution_count": 92,
   "id": "fc6ab3fe",
   "metadata": {},
   "outputs": [
    {
     "name": "stdout",
     "output_type": "stream",
     "text": [
      "[[1, 2, 3], [4, 5, 6], [7, 8, 9]]\n",
      "[[1 2 3]\n",
      " [4 5 6]\n",
      " [7 8 9]]\n"
     ]
    }
   ],
   "source": [
    "M = [[1, 2, 3], [4, 5, 6], [7, 8, 9]]\n",
    "Marr = np.array(M)\n",
    "print(M)\n",
    "print(Marr)"
   ]
  },
  {
   "cell_type": "markdown",
   "id": "b89c4998",
   "metadata": {},
   "source": [
    "W celu wyświetlenia elementu $m_{ij}$, gdzie $i$ to numer wiersza a $j$ to numer kolumny, dla list skorzystamy z zapisu (np. dla i=1, j=2)"
   ]
  },
  {
   "cell_type": "code",
   "execution_count": 93,
   "id": "1fe60548",
   "metadata": {
    "scrolled": true
   },
   "outputs": [
    {
     "data": {
      "text/plain": [
       "2"
      ]
     },
     "execution_count": 93,
     "metadata": {},
     "output_type": "execute_result"
    }
   ],
   "source": [
    "M[0][1]"
   ]
  },
  {
   "cell_type": "markdown",
   "id": "43aeb71e",
   "metadata": {},
   "source": [
    "Podczas gdy NumPy pozwala nam na zapis za pomocą przecinka"
   ]
  },
  {
   "cell_type": "code",
   "execution_count": 95,
   "id": "f618f4fe",
   "metadata": {},
   "outputs": [
    {
     "data": {
      "text/plain": [
       "2"
      ]
     },
     "execution_count": 95,
     "metadata": {},
     "output_type": "execute_result"
    }
   ],
   "source": [
    "Marr[0][1]"
   ]
  },
  {
   "cell_type": "code",
   "execution_count": 97,
   "id": "c426c59c",
   "metadata": {},
   "outputs": [
    {
     "ename": "TypeError",
     "evalue": "list indices must be integers or slices, not tuple",
     "output_type": "error",
     "traceback": [
      "\u001b[0;31m---------------------------------------------------------------------------\u001b[0m",
      "\u001b[0;31mTypeError\u001b[0m                                 Traceback (most recent call last)",
      "\u001b[0;32m<ipython-input-97-3561700d115d>\u001b[0m in \u001b[0;36m<module>\u001b[0;34m\u001b[0m\n\u001b[0;32m----> 1\u001b[0;31m \u001b[0mM\u001b[0m\u001b[0;34m[\u001b[0m\u001b[0;36m0\u001b[0m\u001b[0;34m,\u001b[0m \u001b[0;36m1\u001b[0m\u001b[0;34m]\u001b[0m\u001b[0;34m\u001b[0m\u001b[0;34m\u001b[0m\u001b[0m\n\u001b[0m",
      "\u001b[0;31mTypeError\u001b[0m: list indices must be integers or slices, not tuple"
     ]
    }
   ],
   "source": [
    "M[0, 1]"
   ]
  },
  {
   "cell_type": "code",
   "execution_count": 96,
   "id": "9ad19d78",
   "metadata": {},
   "outputs": [
    {
     "data": {
      "text/plain": [
       "2"
      ]
     },
     "execution_count": 96,
     "metadata": {},
     "output_type": "execute_result"
    }
   ],
   "source": [
    "Marr[0, 1]"
   ]
  },
  {
   "cell_type": "markdown",
   "id": "e04999f7",
   "metadata": {},
   "source": [
    "Daje to nam przewagę, ponieważ jeśli z listy list chcemy wypisać pierwszą kolumnę to musimy skorzystać z funkcji `zip` i podawania argumentu z `*` tak jak było to opisane wcześniej"
   ]
  },
  {
   "cell_type": "code",
   "execution_count": 102,
   "id": "56d904a0",
   "metadata": {},
   "outputs": [
    {
     "data": {
      "text/plain": [
       "(1, 4, 7)"
      ]
     },
     "execution_count": 102,
     "metadata": {},
     "output_type": "execute_result"
    }
   ],
   "source": [
    "list(zip(*M))[0]"
   ]
  },
  {
   "cell_type": "markdown",
   "id": "37418f04",
   "metadata": {},
   "source": [
    "Podczas gdy `ndarray` pozwala nam skorzystać z zapisu z `:`"
   ]
  },
  {
   "cell_type": "code",
   "execution_count": 101,
   "id": "5097cdd3",
   "metadata": {},
   "outputs": [
    {
     "data": {
      "text/plain": [
       "array([1, 4, 7])"
      ]
     },
     "execution_count": 101,
     "metadata": {},
     "output_type": "execute_result"
    }
   ],
   "source": [
    "Marr[:, 0]"
   ]
  },
  {
   "cell_type": "markdown",
   "id": "852018d0",
   "metadata": {},
   "source": [
    "Co oznacza, weź wszystkie elementy z pierwszego wymiaru i zerowe elementy z drugiego. Zobaczmy, że taki zapis dla list nie zadziała"
   ]
  },
  {
   "cell_type": "code",
   "execution_count": 104,
   "id": "4178f1ba",
   "metadata": {},
   "outputs": [
    {
     "data": {
      "text/plain": [
       "[1, 2, 3]"
      ]
     },
     "execution_count": 104,
     "metadata": {},
     "output_type": "execute_result"
    }
   ],
   "source": [
    "M[:][0]"
   ]
  },
  {
   "cell_type": "markdown",
   "id": "82af87dc",
   "metadata": {},
   "source": [
    "Czy jest zrozumiałe dlaczego?"
   ]
  },
  {
   "cell_type": "markdown",
   "id": "1951b31b",
   "metadata": {},
   "source": [
    "Dzieki takiemu podejściu możemy w prosty sposób robić rzeczy, które na listach wymagałyby dłuższego zastanowienia, na przykład możemy wypisać macierz zawierającą co drugi element w wierszach i kolumnach"
   ]
  },
  {
   "cell_type": "code",
   "execution_count": 109,
   "id": "1f6326c3",
   "metadata": {},
   "outputs": [
    {
     "name": "stdout",
     "output_type": "stream",
     "text": [
      "[[1 2 3]\n",
      " [4 5 6]\n",
      " [7 8 9]]\n"
     ]
    }
   ],
   "source": [
    "print(Marr)"
   ]
  },
  {
   "cell_type": "code",
   "execution_count": 110,
   "id": "28dacef9",
   "metadata": {},
   "outputs": [
    {
     "name": "stdout",
     "output_type": "stream",
     "text": [
      "[[1 3]\n",
      " [7 9]]\n"
     ]
    }
   ],
   "source": [
    "print(Marr[::2, ::2])"
   ]
  },
  {
   "cell_type": "markdown",
   "id": "ff0cda9c",
   "metadata": {},
   "source": [
    "Możemy także zwrócić indeks/indeksy dla którego/których spełnione jest dowolne wyrażenie logiczne. Skorzystamy z funkcji `where`"
   ]
  },
  {
   "cell_type": "code",
   "execution_count": 6,
   "id": "90ab9588",
   "metadata": {},
   "outputs": [
    {
     "data": {
      "text/plain": [
       "(array([1, 4, 6, 7]),)"
      ]
     },
     "execution_count": 6,
     "metadata": {},
     "output_type": "execute_result"
    }
   ],
   "source": [
    "arr = np.array([1, 2, 3, 4, 5, 2, 3, 2, 2, 1])\n",
    "indices = np.where(arr == 2) #zwraca indeksy dla których wartość wektora arr wynosi 2\n",
    "indices"
   ]
  },
  {
   "cell_type": "code",
   "execution_count": 9,
   "id": "4c663a49",
   "metadata": {},
   "outputs": [
    {
     "data": {
      "text/plain": [
       "(array([0, 1, 1, 1]), array([1, 0, 2, 3]))"
      ]
     },
     "execution_count": 9,
     "metadata": {},
     "output_type": "execute_result"
    }
   ],
   "source": [
    "Marr = np.array([[1, 2, 3, 4, 5], [2, 3, 2, 2, 1]])\n",
    "indices = np.where(Marr == 2) #zwraca indeksy dla których wartość macierzy arr wynosi 2\n",
    "indices"
   ]
  },
  {
   "cell_type": "markdown",
   "id": "6ab5605b",
   "metadata": {},
   "source": [
    "Zwróćmy uwagę, że w przypadku macierzy pierwsza lista zwraca pierwszy indeks, a druga drugi, więc wartość 2 mają elementy:  "
   ]
  },
  {
   "cell_type": "code",
   "execution_count": 11,
   "id": "f3cf78b0",
   "metadata": {
    "scrolled": true
   },
   "outputs": [
    {
     "name": "stdout",
     "output_type": "stream",
     "text": [
      "2\n",
      "2\n",
      "2\n",
      "2\n"
     ]
    }
   ],
   "source": [
    "print(Marr[0, 1])\n",
    "print(Marr[1, 0])\n",
    "print(Marr[1, 2])\n",
    "print(Marr[1, 3])"
   ]
  },
  {
   "cell_type": "markdown",
   "id": "498a19a1",
   "metadata": {},
   "source": [
    "Wartości możemy także wyświetlić korzystając z indeksów bezpośrednio:"
   ]
  },
  {
   "cell_type": "code",
   "execution_count": 15,
   "id": "0726ea36",
   "metadata": {},
   "outputs": [
    {
     "data": {
      "text/plain": [
       "array([2, 2, 2, 2])"
      ]
     },
     "execution_count": 15,
     "metadata": {},
     "output_type": "execute_result"
    }
   ],
   "source": [
    "Marr[indices]"
   ]
  },
  {
   "cell_type": "markdown",
   "id": "baef9f3e",
   "metadata": {},
   "source": [
    "Ponieważ możemy korzystać z dowlnych wyrażen logicznych, nie sprawia trudności znalezienie np. elementów parzystych"
   ]
  },
  {
   "cell_type": "code",
   "execution_count": 17,
   "id": "7fb4f08f",
   "metadata": {},
   "outputs": [
    {
     "data": {
      "text/plain": [
       "array([2, 4, 2, 2, 2])"
      ]
     },
     "execution_count": 17,
     "metadata": {},
     "output_type": "execute_result"
    }
   ],
   "source": [
    "even = np.where(Marr%2 == 0)\n",
    "Marr[even]"
   ]
  },
  {
   "cell_type": "markdown",
   "id": "e4430255",
   "metadata": {},
   "source": [
    "Lub nieparzystych"
   ]
  },
  {
   "cell_type": "code",
   "execution_count": 18,
   "id": "3da5fe61",
   "metadata": {},
   "outputs": [
    {
     "data": {
      "text/plain": [
       "array([1, 3, 5, 3, 1])"
      ]
     },
     "execution_count": 18,
     "metadata": {},
     "output_type": "execute_result"
    }
   ],
   "source": [
    "odd = np.where(Marr%2 == 1)\n",
    "Marr[odd]"
   ]
  },
  {
   "cell_type": "markdown",
   "id": "1999aa9e",
   "metadata": {},
   "source": [
    "Przydatnym zastosowaniem jest także znajdowanie indeksu wartości największej bądź najmniejszej "
   ]
  },
  {
   "cell_type": "code",
   "execution_count": 134,
   "id": "0944093d",
   "metadata": {},
   "outputs": [
    {
     "data": {
      "text/plain": [
       "array([98, 94, 77, 37, 54, 44, 91, 99, 83, 23])"
      ]
     },
     "execution_count": 134,
     "metadata": {},
     "output_type": "execute_result"
    }
   ],
   "source": [
    "import random as rnd\n",
    "vec = np.array([rnd.randint(0, 100) for _ in range(10)]) #tworzymy losowy wektor\n",
    "vec"
   ]
  },
  {
   "cell_type": "code",
   "execution_count": 135,
   "id": "88f73c96",
   "metadata": {
    "scrolled": false
   },
   "outputs": [
    {
     "name": "stdout",
     "output_type": "stream",
     "text": [
      "(array([9]),) (array([7]),)\n",
      "[23] [99]\n"
     ]
    }
   ],
   "source": [
    "min_index = np.where(vec == np.min(vec)) #korzystamy z funkcji min z biblioteki NumPy\n",
    "max_index = np.where(vec == np.max(vec)) #korzystamy z funkcji max z biblioteki NumPy\n",
    "print(min_index, max_index)\n",
    "print(vec[min_index], vec[max_index])"
   ]
  },
  {
   "cell_type": "markdown",
   "id": "3f79de70",
   "metadata": {},
   "source": [
    "**Inne przydatne funkcje**"
   ]
  },
  {
   "cell_type": "markdown",
   "id": "37d6bdbd",
   "metadata": {},
   "source": [
    "W celu kopiowania obiektu możemy skorzystać z metody `.copy()`"
   ]
  },
  {
   "cell_type": "code",
   "execution_count": 23,
   "id": "018daa7c",
   "metadata": {},
   "outputs": [
    {
     "name": "stdout",
     "output_type": "stream",
     "text": [
      "[[1 2 3]\n",
      " [4 5 6]]\n",
      "[[100   2   3]\n",
      " [  4   5   6]]\n"
     ]
    }
   ],
   "source": [
    "Marr = np.array([[1, 2, 3],[4, 5, 6]])\n",
    "Marr2 = Marr.copy()\n",
    "Marr2[0, 0] = 100\n",
    "print(Marr)\n",
    "print(Marr2)"
   ]
  },
  {
   "cell_type": "markdown",
   "id": "366ca5e4",
   "metadata": {},
   "source": [
    "Wektor można posortować za pomocą funkcji `sort`"
   ]
  },
  {
   "cell_type": "code",
   "execution_count": 26,
   "id": "b0254a6f",
   "metadata": {},
   "outputs": [
    {
     "name": "stdout",
     "output_type": "stream",
     "text": [
      "[17  4 11  4 12 17 15 16  0  7]\n",
      "[ 0  4  4  7 11 12 15 16 17 17]\n"
     ]
    }
   ],
   "source": [
    "vec = np.array([rnd.randint(0, 20) for _ in range(10)])\n",
    "print(vec)\n",
    "vec_sort = np.sort(vec)\n",
    "print(vec_sort)"
   ]
  },
  {
   "cell_type": "markdown",
   "id": "6079c1ee",
   "metadata": {},
   "source": [
    "Sortować można także kilka list na raz (wiersze w macierzy)"
   ]
  },
  {
   "cell_type": "code",
   "execution_count": 27,
   "id": "6b9c6567",
   "metadata": {},
   "outputs": [
    {
     "name": "stdout",
     "output_type": "stream",
     "text": [
      "[[15  1  9 12  0  0 20 13  8  9]\n",
      " [ 8  0 20 19  0 10 16  8 14 16]\n",
      " [13  6  7 10 17 11  1  5  4  0]]\n",
      "[[ 0  0  1  8  9  9 12 13 15 20]\n",
      " [ 0  0  8  8 10 14 16 16 19 20]\n",
      " [ 0  1  4  5  6  7 10 11 13 17]]\n"
     ]
    }
   ],
   "source": [
    "Marr = np.array([[rnd.randint(0, 20) for _ in range(10)] for _ in range(3)])\n",
    "print(Marr)\n",
    "Marr_sort = np.sort(Marr)\n",
    "print(Marr_sort)"
   ]
  },
  {
   "cell_type": "markdown",
   "id": "868ee9d1",
   "metadata": {},
   "source": [
    "Bardzo przydatne jest także tworzenie filtrów, które będą zwracać wartości spełniające określone wymagania"
   ]
  },
  {
   "cell_type": "code",
   "execution_count": 30,
   "id": "15aced97",
   "metadata": {
    "scrolled": true
   },
   "outputs": [
    {
     "name": "stdout",
     "output_type": "stream",
     "text": [
      "[ 7  2 10  4  2]\n",
      "[True, False, False, True, True]\n",
      "[7 4 2]\n"
     ]
    }
   ],
   "source": [
    "vec = np.array([rnd.randint(0, 10) for _ in range(5)])\n",
    "print(vec)\n",
    "x = [True, False, False, True, True] #filtr definiuje które wartości zachować, a które nie\n",
    "print(x)\n",
    "print(vec[x]) #filtr podajemy jako indeksy naszego wektora"
   ]
  },
  {
   "cell_type": "markdown",
   "id": "5038b8e0",
   "metadata": {},
   "source": [
    "Jak widać filtr odfiltorwał te indeksy, dla których wartość wynosiła `False`"
   ]
  },
  {
   "cell_type": "markdown",
   "id": "5e9057d7",
   "metadata": {},
   "source": [
    "**Przykłady zastosowań**"
   ]
  },
  {
   "cell_type": "markdown",
   "id": "155577e9",
   "metadata": {},
   "source": [
    "**Mnożenie macierzy**"
   ]
  },
  {
   "cell_type": "markdown",
   "id": "bfc2241a",
   "metadata": {},
   "source": [
    "W celu pomnożenia dwóch macierzy będących typu `ndarray` możemy skorzystać z wbudowanej funkcji `matmul`. Napiszmy krótki program pozwalający na porównanie czasów obliczeń iloczynu macierzy za pomocą biblioteki `numpy` i za pomocą list składanych."
   ]
  },
  {
   "cell_type": "markdown",
   "id": "97179553",
   "metadata": {},
   "source": [
    "Skorzystamy z biblioteki `time` zawierającej funkcję `time`, która zwraca (w sekundach) bieżący czas oraz funkcję `sleep`, która pozwala zatrzymać działanie na określony czas (podany w sekundach)."
   ]
  },
  {
   "cell_type": "code",
   "execution_count": 49,
   "id": "f57c6b7d",
   "metadata": {},
   "outputs": [
    {
     "name": "stdout",
     "output_type": "stream",
     "text": [
      "1652187892.996225\n",
      "1652187893.997749\n",
      "1.0015239715576172\n"
     ]
    }
   ],
   "source": [
    "from time import time, sleep\n",
    "t0 = time()\n",
    "sleep(1) #czas oczekiwania podajemy w sekundach\n",
    "t1 = time()\n",
    "print(t0, t1, t1 - t0, sep = '\\n')"
   ]
  },
  {
   "cell_type": "markdown",
   "id": "6e1c8301",
   "metadata": {},
   "source": [
    "Zwróćmy dodatkowo uwagę na powyższy zapis ładowania modułu (biblioteki) `time`. Możemy z danej biblioteki pobrać tylko interesujące nas funkcje/ metody korzystając z formuły `from <biblioteka> import <nazwy funkcji po przecinku>`. W ten sposób nie musimy się odnosić do nazwy biblioteki, bo jej funkcje są dostępne bezpośrednio, wywoływane tylko za pomocą ich nazw. Można także załadować wszystkie dostępne w bibliotece rzeczy za pomocą wyrażenia `from <biblioteka> import *`. Należy jednak z tym uważać, gdyż niektóre nazwy funkcji/ metod mogą pokrywać się z innymi i w ten sposób nadpisywać się prowadząc do trudnych do wykrycia błędów."
   ]
  },
  {
   "cell_type": "markdown",
   "id": "de0ae973",
   "metadata": {},
   "source": [
    "Wróćmy do naszego programu porównującego czasy wykonywania mnożenia macierzy. Tak wygląda gotowy kod"
   ]
  },
  {
   "cell_type": "code",
   "execution_count": 137,
   "id": "c24b50c1",
   "metadata": {
    "scrolled": true
   },
   "outputs": [
    {
     "name": "stdout",
     "output_type": "stream",
     "text": [
      " N | list [ms]| numpy [ms] | ratio \n",
      " 2      1.06        0.04     29.65  \n",
      " 10     0.09        0.03      3.64  \n",
      " 50     7.22        0.22     32.61  \n",
      "100    54.83        2.34     23.47  \n",
      "200    416.05       2.46     169.03 \n",
      "400   3620.62       9.38     386.08 \n"
     ]
    }
   ],
   "source": [
    "import numpy as np\n",
    "from time import time \n",
    "import random as rnd\n",
    "\n",
    "Ns = [2, 10, 50, 100, 200, 400] #wymiary macierzy kwadratowej dla których będziemy dokonywać porównania\n",
    "\n",
    "print(' N | list [ms]| numpy [ms] | ratio ' ) #tworzymy opis kolumn tabelki z wynikami\n",
    "\n",
    "for N in Ns:\n",
    "    A = [[rnd.random() for i in range(N)] for j in range(N)] #tworzymy macierz NxN losowych liczb rzeczywistych \n",
    "    Aarr = np.array(A) #tworzymy macierz ndarray\n",
    "    \n",
    "    t_0 = time()\n",
    "    C = [[sum([a*b for a, b in zip(row_A, col_B)]) for col_B in zip(*A)] for row_A in A] #metoda list składanych\n",
    "    t_list = time() - t_0\n",
    "\n",
    "    t_0 = time()\n",
    "    Carr = np.matmul(A, A) #metoda matmul z biblioteki NumPy\n",
    "    t_numpy = time() - t_0\n",
    "\n",
    "    print(str(N).center(3), str(np.round(t_list*1000, 2)).center(11), \n",
    "        str(np.round(t_numpy*1000, 2)).center(11), str(np.round(t_list/t_numpy, 2)).center(8)) #formatowanie wyświetlania"
   ]
  },
  {
   "cell_type": "markdown",
   "id": "b2f89233",
   "metadata": {},
   "source": [
    "Jak widać kod w bibliotece `numpy` jest bardzo dobrze zoptymalizowany do tego typu działań. Dla macierzy 400x400 `matmul` działa nawet 300 razy szybciej."
   ]
  },
  {
   "cell_type": "markdown",
   "id": "77bd5067",
   "metadata": {},
   "source": [
    "**Sortowanie**"
   ]
  },
  {
   "cell_type": "markdown",
   "id": "8fbf1bf2",
   "metadata": {},
   "source": [
    "Analogicznie do poprzedniego przykładu, napiszmy program porównujący czasy sortowania metodą napisaną przez nas wcześniej - sortowania bąbelkowego, z metodą `sort` z biblioteki `numpy`."
   ]
  },
  {
   "cell_type": "markdown",
   "id": "b90c4ebd",
   "metadata": {},
   "source": [
    "Zaimportujmy najpier naszą funkcję do sortowania napisaną wcześniej."
   ]
  },
  {
   "cell_type": "code",
   "execution_count": 61,
   "id": "21bdfc18",
   "metadata": {},
   "outputs": [],
   "source": [
    "def bubbleSort(L):\n",
    "    n = len(L)\n",
    "    while n > 1:\n",
    "        for i in range(n - 1):\n",
    "            if L[i] > L[i + 1]:\n",
    "                L[i], L[i + 1] = L[i + 1], L[i]\n",
    "            else:\n",
    "                pass\n",
    "        n -= 1\n",
    "    return L"
   ]
  },
  {
   "cell_type": "markdown",
   "id": "daecfeb3",
   "metadata": {},
   "source": [
    "Stwórzmy wektor losowych wartości."
   ]
  },
  {
   "cell_type": "code",
   "execution_count": 63,
   "id": "1c5add06",
   "metadata": {},
   "outputs": [
    {
     "data": {
      "text/plain": [
       "array([76, 81, 53, 83, 63, 47, 86, 77, 86, 95])"
      ]
     },
     "execution_count": 63,
     "metadata": {},
     "output_type": "execute_result"
    }
   ],
   "source": [
    "import numpy as np\n",
    "import random as rnd\n",
    "\n",
    "vec = np.array([rnd.randint(0, 100) for _ in range(10)])\n",
    "vec"
   ]
  },
  {
   "cell_type": "code",
   "execution_count": 64,
   "id": "f20dcc64",
   "metadata": {},
   "outputs": [
    {
     "data": {
      "text/plain": [
       "array([47, 53, 63, 76, 77, 81, 83, 86, 86, 95])"
      ]
     },
     "execution_count": 64,
     "metadata": {},
     "output_type": "execute_result"
    }
   ],
   "source": [
    "bubbleSort(vec)"
   ]
  },
  {
   "cell_type": "markdown",
   "id": "b69474d8",
   "metadata": {},
   "source": [
    "**Uwaga!** Z powodu konstrukcji naszej funkcji `bubbleSort` wektor `vec` jest po takim wywołaniu posortowany, a nie pomieszany jak to miało miejsce na początku:"
   ]
  },
  {
   "cell_type": "code",
   "execution_count": 65,
   "id": "04bfd2bd",
   "metadata": {},
   "outputs": [
    {
     "data": {
      "text/plain": [
       "array([47, 53, 63, 76, 77, 81, 83, 86, 86, 95])"
      ]
     },
     "execution_count": 65,
     "metadata": {},
     "output_type": "execute_result"
    }
   ],
   "source": [
    "vec"
   ]
  },
  {
   "cell_type": "markdown",
   "id": "df21c8cc",
   "metadata": {},
   "source": [
    "Z tego powodu zamiast wywoływać funkcję z argumentem `vec`, skorzystajmy z jego kopii!"
   ]
  },
  {
   "cell_type": "code",
   "execution_count": 69,
   "id": "815b430b",
   "metadata": {},
   "outputs": [
    {
     "data": {
      "text/plain": [
       "array([66, 45, 13, 66, 78, 63, 28,  4, 80, 27])"
      ]
     },
     "execution_count": 69,
     "metadata": {},
     "output_type": "execute_result"
    }
   ],
   "source": [
    "vec = np.array([rnd.randint(0, 100) for _ in range(10)])\n",
    "vec"
   ]
  },
  {
   "cell_type": "code",
   "execution_count": 70,
   "id": "3ac77e48",
   "metadata": {},
   "outputs": [
    {
     "data": {
      "text/plain": [
       "array([ 4, 13, 27, 28, 45, 63, 66, 66, 78, 80])"
      ]
     },
     "execution_count": 70,
     "metadata": {},
     "output_type": "execute_result"
    }
   ],
   "source": [
    "bubbleSort(vec.copy())"
   ]
  },
  {
   "cell_type": "code",
   "execution_count": 71,
   "id": "c2e12bd1",
   "metadata": {},
   "outputs": [
    {
     "data": {
      "text/plain": [
       "array([66, 45, 13, 66, 78, 63, 28,  4, 80, 27])"
      ]
     },
     "execution_count": 71,
     "metadata": {},
     "output_type": "execute_result"
    }
   ],
   "source": [
    "vec"
   ]
  },
  {
   "cell_type": "markdown",
   "id": "e00a5b12",
   "metadata": {},
   "source": [
    "Dzięki temu unikniemy nieprawdziwych wyników podczas pomiaru czasu, gdyż posortowana lista przejdzie przez sortowanie znacznie szybciej."
   ]
  },
  {
   "cell_type": "markdown",
   "id": "c9568930",
   "metadata": {},
   "source": [
    "Cały program będzie więc wyglądał następująco"
   ]
  },
  {
   "cell_type": "code",
   "execution_count": 91,
   "id": "7d66ae99",
   "metadata": {
    "scrolled": true
   },
   "outputs": [
    {
     "name": "stdout",
     "output_type": "stream",
     "text": [
      "  N  | bubble [ms]| numpy [ms] |  ratio \n",
      "  2        0.03         0.02       1.17  \n",
      "  10       0.04         0.01       2.52  \n",
      " 100       1.76         0.01      160.26 \n",
      " 500      44.31         0.04     1264.37 \n",
      " 1000     172.76        0.05      3418.0 \n",
      " 5000    4371.17        0.16     26532.6 \n"
     ]
    }
   ],
   "source": [
    "import numpy as np\n",
    "from time import time \n",
    "import random as rnd\n",
    "\n",
    "def bubbleSort(L):\n",
    "    n = len(L)\n",
    "    while n > 1:\n",
    "        for i in range(n - 1):\n",
    "            if L[i] > L[i + 1]:\n",
    "                L[i], L[i + 1] = L[i + 1], L[i]\n",
    "            else:\n",
    "                pass\n",
    "        n -= 1\n",
    "    return L\n",
    "\n",
    "print('  N  | bubble [ms]| numpy [ms] |  ratio ' )\n",
    "\n",
    "Ns = [2, 10, 100, 500, 1000, 5000]\n",
    "for N in Ns:\n",
    "    vec = np.array([rnd.randint(0, 100) for _ in range(N)])\n",
    "    \n",
    "    t0 = time()\n",
    "    bubbleSort(vec.copy())\n",
    "    t_bubble = time() - t0\n",
    "    \n",
    "    t0 = time()\n",
    "    np.sort(vec.copy())\n",
    "    t_sort = time() - t0\n",
    "\n",
    "    print(str(N).center(5), str(np.round(t_bubble*1000, 2)).center(13), \n",
    "        str(np.round(t_sort*1000, 2)).center(12), str(np.round(t_bubble/t_sort, 2)).center(8))"
   ]
  },
  {
   "cell_type": "markdown",
   "id": "adbd41be",
   "metadata": {},
   "source": [
    "Jak widać w tym przypadku dla dłuższych list czas sortowania metodą `sort` jest nieprawdopodobnie krótszy (tysiące razy) od sortowania bąbelkowego."
   ]
  },
  {
   "cell_type": "markdown",
   "id": "c58ce585",
   "metadata": {},
   "source": [
    "W powyższych programach na końcu skorzystaliśmy z nieomówionej funkcji `round`. Służy ona do zaokrąglania liczb do określonej liczby miejsc po przecinku."
   ]
  },
  {
   "cell_type": "code",
   "execution_count": 139,
   "id": "98eb4a5a",
   "metadata": {},
   "outputs": [],
   "source": [
    "liczba = 123.4567"
   ]
  },
  {
   "cell_type": "code",
   "execution_count": 140,
   "id": "a509149e",
   "metadata": {},
   "outputs": [
    {
     "data": {
      "text/plain": [
       "123.5"
      ]
     },
     "execution_count": 140,
     "metadata": {},
     "output_type": "execute_result"
    }
   ],
   "source": [
    "np.round(liczba, 1)"
   ]
  },
  {
   "cell_type": "code",
   "execution_count": 141,
   "id": "09f88af6",
   "metadata": {
    "scrolled": true
   },
   "outputs": [
    {
     "data": {
      "text/plain": [
       "123.46"
      ]
     },
     "execution_count": 141,
     "metadata": {},
     "output_type": "execute_result"
    }
   ],
   "source": [
    "np.round(liczba, 2)"
   ]
  },
  {
   "cell_type": "code",
   "execution_count": 142,
   "id": "601920ac",
   "metadata": {},
   "outputs": [
    {
     "data": {
      "text/plain": [
       "123.457"
      ]
     },
     "execution_count": 142,
     "metadata": {},
     "output_type": "execute_result"
    }
   ],
   "source": [
    "np.round(liczba, 3)"
   ]
  },
  {
   "cell_type": "markdown",
   "id": "0044e3a7",
   "metadata": {},
   "source": [
    "**Zadanie domowe!**"
   ]
  },
  {
   "cell_type": "markdown",
   "id": "19f4de4d",
   "metadata": {},
   "source": [
    "Rozwiązywanie układów równań liniowych metodą eliminacji Gaussa.<br>"
   ]
  },
  {
   "cell_type": "markdown",
   "id": "e7941bca",
   "metadata": {},
   "source": [
    "Weźmy przykładowy układ równań i rozwiążmy go metodą eliminacji. Oznaczmy przez $w_i$ $i$-te równanie, opis nad strzałkami informajue jakie transformacje zostały przeprowadzone:<br>\n",
    "\n",
    "$\n",
    "\\left\\{\n",
    "\\begin{aligned}\n",
    "2x_1 + 4x_2 - 2x_3 &= 4\\\\\n",
    "1x_1 - 2x_2 + 1x_3 &= 0\\\\\n",
    "4x_1 - 1x_2 - 1x_3 &= -1\\\\\n",
    "\\end{aligned}\n",
    "\\right.\n",
    "\\xrightarrow{\\substack{w_1 \\rightarrow w_1\\\\w_2 \\rightarrow w_2 - \\frac{1}{2} w_1\\\\w_3 \\rightarrow w_3 - 2w_1}}\n",
    "\\left\\{\n",
    "\\begin{aligned}\n",
    "2x_1 + 4x_2 - 2x_3 &= 4\\\\\n",
    "0x_1 - 4x_2 + 2x_3 &= -2\\\\\n",
    "0x_1 - 9x_2 + 3x_3 &= -9\\\\\n",
    "\\end{aligned}\n",
    "\\right. \n",
    "\\xrightarrow{\\substack{w_1 \\rightarrow w_1\\\\w_2 \\rightarrow w_2\\\\w_3 \\rightarrow w_3 - \\frac{9}{4}w_2}}\n",
    "\\left\\{\n",
    "\\begin{aligned}\n",
    "2x_1 + 4x_2 - 2x_3 &= 4\\\\\n",
    "0x_1 - 4x_2 + 2x_3 &= -2\\\\\n",
    "0x_1 + 0x_2 - \\frac{3}{2}x_3 &= -\\frac{9}{2}\\\\\n",
    "\\end{aligned}\n",
    "\\right.\n",
    "$<br>\n",
    "Doprowadziliśmy do sytuacji w której ostatnie równanie zawiera tylko jedną niewiadomą $x_3$, możemy je więc rozwiązać. Następnie $x_3$ wykorzystamy do znalezienia $x_2$ z równania drugiego. Znalezione $x_3$ oraz $x_2$ posłużą z kolei do znalezienia $x_1$ co kończy szukanie rozwiązań:<br>\n",
    "$\n",
    "\\left\\{\n",
    "\\begin{aligned}\n",
    "x_1 &= 1\\\\\n",
    "x_2 &= 2\\\\\n",
    "x_3 &= 3\\\\\n",
    "\\end{aligned}\n",
    "\\right.\n",
    "$"
   ]
  },
  {
   "cell_type": "markdown",
   "id": "ecff61f9",
   "metadata": {},
   "source": [
    "Zauważmy, że powyższy sposób jest usystematyzowaną metodą. Dodatkowo, nie musimy cały czas ciągnąć zmiennych za sobą, możemy czynniki przepisać w formie tak zwanej macierzy rozszerzonej, gdzie ostatnia kolumna to wyrazy wolne z równań (dla podkreślenia odrębności jest oddzielona kreską):<br>\n",
    "\n",
    "$\n",
    "\\left( \\begin{array}{ccc|c}\n",
    "2 & 4 & -2 & 4 \\\\\n",
    "1 & -2 & 1 & 0 \\\\\n",
    "4 & -1 & -1 & -1 \n",
    "\\end{array} \\right) \\xrightarrow{\\substack{w_1 \\rightarrow w_1\\\\w_2 \\rightarrow w_2 - \\frac{1}{2} w_1\\\\w_3 \\rightarrow w_3 - 2w_1}}\n",
    "\\left( \\begin{array}{ccc|c}\n",
    "2 & 4 & -2 & 4 \\\\\n",
    "0 & -4 & 2 & -2 \\\\\n",
    "0 & -9 & 3 & -9 \n",
    "\\end{array}\\right) \\xrightarrow{\\substack{w_1 \\rightarrow w_1\\\\w_2 \\rightarrow w_2\\\\w_3 \\rightarrow w_3 - \\frac{9}{4}w_2}}\n",
    "\\left( \\begin{array}{ccc|c}\n",
    "2 & 4 & -2 & 4 \\\\\n",
    "0 & -4 & 2 & -2 \\\\\n",
    "0 & 0 & -\\frac{3}{2} & -\\frac{9}{2} \n",
    "\\end{array} \\right)\n",
    "$<br>\n",
    "Poprzez dodawnie i odejmowanie odpowiednich wierszy doprowadziliśmy macierz do postaci tórjkątnej. "
   ]
  },
  {
   "cell_type": "markdown",
   "id": "a38af647",
   "metadata": {},
   "source": [
    "Ponieważ w celu znalezienia rozwiązań najpierw należy doprowadzić macierz do postaci trójkątnej **zadanie polega na stworzeniu funkcji `triangle`**, która podaną poprzez argument macierz doprowadzi do takiej postaci za pomocą dodawania i odejmowania odpowiednich wierszy przemonożonych przez współczynnik."
   ]
  },
  {
   "cell_type": "markdown",
   "id": "4b652eb6",
   "metadata": {},
   "source": [
    "Rozpatrzmy przypadek ogólny macierzy $N\\times N$podstaci <br>\n",
    "$\n",
    "A = \\left( \\begin{array}{cccc|c}\n",
    "a_{11} & a_{12} & \\cdots & a_{1N} & b_1 \\\\\n",
    "a_{21} & a_{22} & \\cdots & a_{2N} & b_2 \\\\\n",
    "\\vdots  & \\vdots  & \\ddots & \\vdots & \\vdots\\\\\n",
    "a_{N1} & a_{N2} & \\cdots & a_{NN} & b_N \n",
    "\\end{array} \\right)    \n",
    "$<br>\n",
    "W pierwszym kroku algorytmu Gaussa będziemy od każdego wiersza (poza pierwszym) odejmować wiersz pierwszy pomnożony przez czynnik $-\\frac{a_{i1}}{a_{11}}$, tym sposobem pierwsze elementy w każdym wierszu poniżej pierwszego wyzerują się:\n",
    "1. $w_i \\rightarrow w_i-\\frac{a_{i1}}{a_{11}}w_1$, dla $i>1$.<br>\n",
    "\n",
    "W wyniku dostajemy macierz postaci<br>\n",
    "$\n",
    "A = \\left( \\begin{array}{cccc|c}\n",
    "a_{11} & a_{12} & \\cdots & a_{1N} & b_1 \\\\\n",
    "0 & a_{22}-\\frac{a_{21}}{a_{11}}a_{12} & \\cdots & a_{2N}- \\frac{a_{21}}{a_{11}}a_{1N}& b_2- \\frac{a_{21}}{a_{11}}b_1 \\\\\n",
    "\\vdots  & \\vdots  & \\ddots & \\vdots & \\vdots\\\\\n",
    "0 & a_{N2}- \\frac{a_{N1}}{a_{11}}a_{12} & \\cdots & a_{NN}- \\frac{a_{N1}}{a_{11}}a_{1N} & b_N - \\frac{a_{N1}}{a_{11}}b_1\n",
    "\\end{array} \\right)\n",
    "$\n",
    "\n",
    "=\\left( \\begin{array}{cccc|c}\n",
    "a_{11} & a_{12} & \\cdots & a_{1N} & b_1 \\\\\n",
    "0 & a'_{22} & \\cdots & a'_{2N} & b'_2 \\\\\n",
    "\\vdots  & \\vdots  & \\ddots & \\vdots & \\vdots\\\\\n",
    "0 & a'_{N2} & \\cdots & a'_{NN} & b'_N \n",
    "\\end{array} \\right),\n",
    "$\n",
    "\n",
    "gdzie przepisaliśmy elementy zmienione na primowane o takich samych indeksach jak poprzednio."
   ]
  },
  {
   "cell_type": "markdown",
   "id": "5793b6c0",
   "metadata": {},
   "source": [
    "W drugim kroku robimy dokładnie to samo, ale dla macierzy zmniejszonej (tej z elementami primowanymi). Więc tym razem odejmować będziemy drugi wiersz, a czynnik będzie opierał się na drugich elementach:<br>\n",
    "2. $w'_i \\rightarrow w'_i - \\frac{a'_{i2}}{a'_{22}}w'_2$, dla $i>2$.<br>\n",
    "\n",
    "W wyniku dostajemy zera w drugiej kolumnie zaczynając od wiersza trzeciego.<br>\n",
    "Procedurę powtarzamy aż do kroku numer $N-1$. Na końcu mamy macierz trójkątną.    "
   ]
  },
  {
   "cell_type": "markdown",
   "id": "d28ed236",
   "metadata": {},
   "source": [
    "**Uwaga!** Procedura opiera się na dzieleniu przez elementy $a_{11}$, $a'_{22}$, $a''_{33}$ itd., dlatego nie mogą one być zerami! **Jeśli w którymś momencie element przez który dzielimy będzie zerem, funkcja powinna zwrócić wartość `False`**, co zakończy działanie - nie znajdziemy rozwiązań pomimo że mogą one istnieć. Problem ten rozwiążemy następnym razem."
   ]
  },
  {
   "cell_type": "markdown",
   "id": "a108a8b1",
   "metadata": {},
   "source": [
    "**Uwaga!** Ponieważ w zadaniu chcemy mieć tyle samo równań co niewiadomych, dołóżmy także wymaganie jednoznaczności rozwiązań, co oznacza, że wszystkie wiersze są liniowo niezależne. **Jeśli rząd macierzy jest za mały, należy zwrócić wartość `False`**. Bardziej ogólny przypadek omówimy później. Sprawdzenia, czy układ posiada rozwiązanie jednoznaczne moża dokonać licząc rząd macierzy - jeśli rząd jest równy wymiarowi bez ostatniej kolumny ($\\text{rank}(A)=N$), istnieje jednoznaczne rozwiązanie. Dla uproszczenia zadania, rząd możemy sprawdzić za pomocą funkcji `linalg.matrix_rank` z biblioteki NumPy"
   ]
  },
  {
   "cell_type": "code",
   "execution_count": 8,
   "id": "c3134538",
   "metadata": {},
   "outputs": [
    {
     "name": "stdout",
     "output_type": "stream",
     "text": [
      "[[1 2]\n",
      " [3 4]]\n",
      "Rząd A = 2\n",
      "[[1 2 3]\n",
      " [2 4 6]]\n",
      "Rząd B = 1\n"
     ]
    }
   ],
   "source": [
    "A = np.array([[1, 2], [3, 4]]) #macierz z liniowo niezależnymi wierszami - rząd 2\n",
    "B = np.array([[1, 2, 3], [2, 4, 6]]) #macierz z liniowo zależnymi wierszami - rząd 1\n",
    "rankA = np.linalg.matrix_rank(A)\n",
    "rankB = np.linalg.matrix_rank(B)\n",
    "print(A)\n",
    "print('Rząd A =', rankA)\n",
    "print(B)\n",
    "print('Rząd B =', rankB)"
   ]
  },
  {
   "cell_type": "markdown",
   "id": "4e6eef79",
   "metadata": {},
   "source": [
    "Przykład działania.<br>"
   ]
  },
  {
   "cell_type": "code",
   "execution_count": 18,
   "id": "b3f45835",
   "metadata": {
    "scrolled": false
   },
   "outputs": [
    {
     "name": "stdout",
     "output_type": "stream",
     "text": [
      "[[ 2.  1.  1.  1.  0.]\n",
      " [-1. -2. -1.  1.  1.]\n",
      " [ 1.  1. -2. -3.  2.]\n",
      " [ 4. -2.  0.  4.  2.]]\n",
      "[[ 2.         1.         1.         1.         0.       ]\n",
      " [ 0.        -1.5       -0.5        1.5        1.       ]\n",
      " [ 0.         0.        -2.6666667 -3.         2.3333333]\n",
      " [ 0.         0.         0.        -1.25      -1.25     ]]\n"
     ]
    }
   ],
   "source": [
    "M = np.array([[2., 1., 1., 1., 0.], [-1., -2., -1., 1., 1.], [1., 1., -2., -3., 2.], [4., -2., 0., 4., 2.]])\n",
    "print(M)\n",
    "print(triangle(M))"
   ]
  },
  {
   "cell_type": "code",
   "execution_count": 23,
   "id": "a84dcb31",
   "metadata": {},
   "outputs": [
    {
     "name": "stdout",
     "output_type": "stream",
     "text": [
      "[[ 2.  1.  1.  1.  0.]\n",
      " [ 4.  2.  2.  2.  0.]\n",
      " [ 1.  1. -2. -3.  2.]\n",
      " [ 4. -2.  0.  4.  2.]]\n",
      "False\n"
     ]
    }
   ],
   "source": [
    "M = np.array([[2., 1., 1., 1., 0.], [4., 2., 2., 2., 0.], [1., 1., -2., -3., 2.], [4., -2., 0., 4., 2.]])\n",
    "print(M)\n",
    "print(triangle(M))"
   ]
  },
  {
   "cell_type": "markdown",
   "id": "95b9c4cf",
   "metadata": {},
   "source": [
    "**Uwaga!** W celu uniknięcia subtelnych problemów, polecam czynniki zapisywać zawsze w formie zmiennoprzecinkowej (z kropką)."
   ]
  },
  {
   "cell_type": "markdown",
   "id": "df827539",
   "metadata": {},
   "source": [
    "Powodzenia!"
   ]
  }
 ],
 "metadata": {
  "kernelspec": {
   "display_name": "Python 3",
   "language": "python",
   "name": "python3"
  },
  "language_info": {
   "codemirror_mode": {
    "name": "ipython",
    "version": 3
   },
   "file_extension": ".py",
   "mimetype": "text/x-python",
   "name": "python",
   "nbconvert_exporter": "python",
   "pygments_lexer": "ipython3",
   "version": "3.6.9"
  }
 },
 "nbformat": 4,
 "nbformat_minor": 5
}
