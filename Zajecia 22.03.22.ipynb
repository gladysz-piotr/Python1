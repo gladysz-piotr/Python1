{
 "cells": [
  {
   "cell_type": "markdown",
   "id": "925084dd",
   "metadata": {},
   "source": [
    "**Instrukcje `break`, `continue`, `pass`, `else`**"
   ]
  },
  {
   "cell_type": "markdown",
   "id": "0d8af673",
   "metadata": {},
   "source": [
    "Skoro poznaliśmy już zagadnienie pętli, warto dowiedzieć się również jak pomijać bądź kończyć fragmenty kodu w pętli oraz samą pętlę. Służą do tego cztery instrukcje."
   ]
  },
  {
   "cell_type": "markdown",
   "id": "0f4c7e49",
   "metadata": {},
   "source": [
    "Instrukcja `pass` jest najprostsza. Instrukcja jest pojemnikiem bez działania, wykorzystywanym wtedy, gdy składnia wymaga instrukcji, ale nie mamy nic użytecznego do powiedzenia."
   ]
  },
  {
   "cell_type": "code",
   "execution_count": 2,
   "id": "6518fe60",
   "metadata": {},
   "outputs": [
    {
     "name": "stdout",
     "output_type": "stream",
     "text": [
      "10\n"
     ]
    }
   ],
   "source": [
    "x = 10\n",
    "if x < 5:\n",
    "    pass #nie chcemy robić nic w tym bloku, ale pozostawienie pustego miejsca spowoduje wyświetlenie błędu\n",
    "else:\n",
    "    print(x)"
   ]
  },
  {
   "cell_type": "markdown",
   "id": "e12f8e51",
   "metadata": {},
   "source": [
    "Instrukcja `break` wychodzi z najbliższej obejmującej daną instrukcję pętli (omija całą instrukcję pętli)."
   ]
  },
  {
   "cell_type": "code",
   "execution_count": 3,
   "id": "c63633fc",
   "metadata": {},
   "outputs": [
    {
     "name": "stdout",
     "output_type": "stream",
     "text": [
      "j= 1\n",
      "j= 2\n",
      "j= 3\n",
      "j= 4\n",
      "j= 5\n",
      "i,j= 1 , 6\n",
      "i,j= 2 , 7\n",
      "i,j= 3 , 8\n",
      "i,j= 4 , 9\n",
      "i,j= 5 , 10\n"
     ]
    }
   ],
   "source": [
    "i = 0; j = 0\n",
    "while i < 5:\n",
    "    i += 1\n",
    "    while j < 10:\n",
    "        j += 1\n",
    "        if j > 5:\n",
    "            break #opuszczamy WEWNĘTRZNĄ pętlę, więc wykonana zostanie dopiero druga instrukacja print\n",
    "        print('j=',j)\n",
    "    print('i,j=', i, ',', j)"
   ]
  },
  {
   "cell_type": "markdown",
   "id": "088eac74",
   "metadata": {},
   "source": [
    "Instrukcja `continue` przechodzi na górę najbliższej obejmującej daną instrukcję pętli (do jej wiersza nagłówka)."
   ]
  },
  {
   "cell_type": "code",
   "execution_count": 4,
   "id": "a02a51d1",
   "metadata": {},
   "outputs": [
    {
     "name": "stdout",
     "output_type": "stream",
     "text": [
      "j= 1\n",
      "j= 2\n",
      "j= 3\n",
      "j= 4\n",
      "j= 5\n",
      "i,j= 1 , 10\n",
      "i,j= 2 , 10\n",
      "i,j= 3 , 10\n",
      "i,j= 4 , 10\n",
      "i,j= 5 , 10\n"
     ]
    }
   ],
   "source": [
    "i = 0; j = 0\n",
    "while i < 5:\n",
    "    i += 1\n",
    "    while j < 10:\n",
    "        j +=1\n",
    "        if j > 5:\n",
    "            continue #wracamy na początek WEWNĘTRZNEJ pętli i robimy ponownie instrukcję j += 1\n",
    "        print('j=',j)\n",
    "    print('i,j=', i, ',', j)"
   ]
  },
  {
   "cell_type": "markdown",
   "id": "251a46cf",
   "metadata": {},
   "source": [
    "Instrukcja `else` będzie wykorzystywana z pętlą `while` w taki sam sposób jak przy intrukcji `if`. Zostanie wykonana jeśli pętla `while` zakończy się z powodu niespełnienia warunku. Instrukcja `else` **nie wykona się** jeśli pętla `while` została zakończona za pomocą `break`! Poniżej prosty przykład sprawdzający, czy dana liczba jest liczbą pierwszą."
   ]
  },
  {
   "cell_type": "code",
   "execution_count": 5,
   "id": "4ecc3942",
   "metadata": {},
   "outputs": [
    {
     "name": "stdout",
     "output_type": "stream",
     "text": [
      "11 jest liczbą pierwszą\n"
     ]
    }
   ],
   "source": [
    "y = 11\n",
    "x = y // 2\n",
    "while x > 1:\n",
    "    if y % x == 0:\n",
    "        print(y, 'ma czynnik', x)\n",
    "        break #brak tej instrukcji spowoduje, że ostatnia instrukcja print wykona się zawsze na końcu\n",
    "    x -= 1\n",
    "else:\n",
    "    print(y, 'jest liczbą pierwszą')"
   ]
  },
  {
   "cell_type": "markdown",
   "id": "25a5aedb",
   "metadata": {},
   "source": [
    "### Pętla `for`"
   ]
  },
  {
   "cell_type": "markdown",
   "id": "d75f8585",
   "metadata": {},
   "source": [
    "Pętla `for` jest w Pythonie uniwersalnym iteratorem po sekwencjach. Może przechodzić elementy w dowolnym obiekcie będącym uporządkowaną sekwencją. Działa na łańcuchach znaków, listach, krotkach, innych wbudowanych obiektach, po których można iterować."
   ]
  },
  {
   "cell_type": "code",
   "execution_count": 6,
   "id": "ac274e94",
   "metadata": {},
   "outputs": [
    {
     "name": "stdout",
     "output_type": "stream",
     "text": [
      "Ala\n",
      "10\n",
      "(1+1j)\n",
      "[1, 2, 3]\n",
      "(4, 5, 6)\n",
      "Koniec sekwencji.\n"
     ]
    }
   ],
   "source": [
    "sekwencja = ('Ala', 10, 1j + 1, [1, 2, 3], (4, 5, 6))\n",
    "#sekwencja = ['Ala', 10, 1j+1, [1, 2, 3], (4, 5, 6)]\n",
    "#sekwencja = 'Ala ma kota.'\n",
    "\n",
    "for element in sekwencja:\n",
    "    print(element)\n",
    "else:\n",
    "    print('Koniec sekwencji.')"
   ]
  },
  {
   "cell_type": "markdown",
   "id": "e954a444",
   "metadata": {},
   "source": [
    "Omówione wcześniej instrukcje `pass`, `break`, `continue` oraz `else` działają na takiej samej zasadzie jak przy pętli `while`."
   ]
  },
  {
   "cell_type": "markdown",
   "id": "929984be",
   "metadata": {},
   "source": [
    "Petla `for` może także \"rozpakowywać\" element, jeśli jest złożony z innej sekwencji."
   ]
  },
  {
   "cell_type": "code",
   "execution_count": 7,
   "id": "67ad9939",
   "metadata": {},
   "outputs": [
    {
     "name": "stdout",
     "output_type": "stream",
     "text": [
      "a = 1\n",
      "b = 2\n",
      "suma = 3\n",
      "a = 3\n",
      "b = 4\n",
      "suma = 7\n",
      "a = 5\n",
      "b = 6\n",
      "suma = 11\n",
      "a = 7\n",
      "b = 8\n",
      "suma = 15\n"
     ]
    }
   ],
   "source": [
    "sekwencja = [(1, 2), (3, 4), (5, 6), (7, 8)]\n",
    "for a, b in sekwencja:\n",
    "    print('a =', a)\n",
    "    print('b =', b)\n",
    "    print('suma =', a+b)"
   ]
  },
  {
   "cell_type": "markdown",
   "id": "8654fdfb",
   "metadata": {},
   "source": [
    "Tak samo jak możemy bezpośrednio przypisać zmienne do elementów sekwencji."
   ]
  },
  {
   "cell_type": "code",
   "execution_count": 8,
   "id": "3375e10a",
   "metadata": {},
   "outputs": [
    {
     "name": "stdout",
     "output_type": "stream",
     "text": [
      "10 20 30\n"
     ]
    }
   ],
   "source": [
    "zmienna1, zmienna2, zmienna3 = [10, 20, 30]\n",
    "print(zmienna1, zmienna2, zmienna3)"
   ]
  },
  {
   "cell_type": "markdown",
   "id": "78bd8912",
   "metadata": {},
   "source": [
    "**Techniki tworzenia pętli**"
   ]
  },
  {
   "cell_type": "markdown",
   "id": "ba75d641",
   "metadata": {},
   "source": [
    "Pętla `for` zalicza się do pętli w stylu liczników. Jest łatwiejsza do zapisania i szybsza do wykonania od `while`, dlatego jest pierwszym narzędziem, po które powinniśmy sięgać, kiedy musimy przejść jakąś sekwencję. Istnieją jednak również sytuacje, w których będzie nam potrzebna bardziej wyspecjalizowana iteracja. Co należy na przykład zrobić, kiedy musimy przejść co drugi czy co trzeci element listy lub po drodze listę tę zmodyfikować? Co z przejściem większej liczby sekwencji równolegle, w tej samej pętli for?"
   ]
  },
  {
   "cell_type": "markdown",
   "id": "16cc9d4e",
   "metadata": {},
   "source": [
    "W takich wypadakach możemy skorzystać z funkcji wbudowanych `range` oraz `zip`."
   ]
  },
  {
   "cell_type": "markdown",
   "id": "5af15b35",
   "metadata": {},
   "source": [
    "**Funkcja `range`**"
   ]
  },
  {
   "cell_type": "markdown",
   "id": "345edaaa",
   "metadata": {},
   "source": [
    "Funkcja `range` pozwala nam wygenerować sekwencję liczb całkowitych w określonym przedziale o okreslonym kroku."
   ]
  },
  {
   "cell_type": "code",
   "execution_count": 9,
   "id": "d2aff807",
   "metadata": {},
   "outputs": [
    {
     "name": "stdout",
     "output_type": "stream",
     "text": [
      "range(1, 10, 2)\n"
     ]
    },
    {
     "data": {
      "text/plain": [
       "range"
      ]
     },
     "execution_count": 9,
     "metadata": {},
     "output_type": "execute_result"
    }
   ],
   "source": [
    "start = 1 #początkowa liczba sekwencji\n",
    "stop = 10 #końcowa + 1 liczba sekwencji\n",
    "step = 2 #krok co jaki generujemy liczby\n",
    "seq = range(start, stop, step)\n",
    "print(seq)\n",
    "type(seq)"
   ]
  },
  {
   "cell_type": "markdown",
   "id": "12906a53",
   "metadata": {},
   "source": [
    "Widzimy, że jest to nowy typ obiektu - `range`. Żeby zobaczyć, co tak naprawdę się w nim znajduje, możemy skorzystać z funkcji `list()`, która stworzy nam listę."
   ]
  },
  {
   "cell_type": "code",
   "execution_count": 10,
   "id": "37ce3168",
   "metadata": {},
   "outputs": [
    {
     "data": {
      "text/plain": [
       "[1, 3, 5, 7, 9]"
      ]
     },
     "execution_count": 10,
     "metadata": {},
     "output_type": "execute_result"
    }
   ],
   "source": [
    "list(seq)"
   ]
  },
  {
   "cell_type": "markdown",
   "id": "7e3a3092",
   "metadata": {},
   "source": [
    "Funkcja `range` tworzy więc sekwencję zaczynającą się od pierwszego argumentu i kończącą się przed drugim argumentem (!), o kroku będącym trzecim argumentem. Jeśli nie podamy trzeciego argumentu, będzie on domyslnie ustawiony na jeden."
   ]
  },
  {
   "cell_type": "code",
   "execution_count": 11,
   "id": "3b10ef18",
   "metadata": {},
   "outputs": [
    {
     "data": {
      "text/plain": [
       "[1, 2, 3, 4, 5, 6, 7, 8, 9]"
      ]
     },
     "execution_count": 11,
     "metadata": {},
     "output_type": "execute_result"
    }
   ],
   "source": [
    "list(range(1, 10))"
   ]
  },
  {
   "cell_type": "markdown",
   "id": "df64384f",
   "metadata": {},
   "source": [
    "Nie musimy nawet podawać pierwszego argumentu, wtedy liczenie automatycznie zacznie się od zera."
   ]
  },
  {
   "cell_type": "code",
   "execution_count": 12,
   "id": "b22eee56",
   "metadata": {},
   "outputs": [
    {
     "data": {
      "text/plain": [
       "[0, 1, 2, 3, 4, 5, 6, 7, 8, 9]"
      ]
     },
     "execution_count": 12,
     "metadata": {},
     "output_type": "execute_result"
    }
   ],
   "source": [
    "list(range(10))"
   ]
  },
  {
   "cell_type": "markdown",
   "id": "068b34be",
   "metadata": {},
   "source": [
    "Funckę `range` możemy użyć bezpośrednio w pętli `for`."
   ]
  },
  {
   "cell_type": "code",
   "execution_count": 13,
   "id": "9dc7070d",
   "metadata": {},
   "outputs": [
    {
     "name": "stdout",
     "output_type": "stream",
     "text": [
      "-5\n",
      "-2\n",
      "1\n",
      "4\n"
     ]
    }
   ],
   "source": [
    "for liczba in range(-5, 5, 3):\n",
    "    print(liczba)"
   ]
  },
  {
   "cell_type": "markdown",
   "id": "36cd724a",
   "metadata": {},
   "source": [
    "**Zadanie**<br>\n",
    "Napisz program, który z podanego ciągu znaków wypisze tylko co drugi z nich.<br>\n",
    "\n",
    "Przykład działania:<br>\n",
    "wejście:<br>\n",
    "S = 'abcdefghijk'<br>\n",
    "wyjście:<br>\n",
    "'acegik'"
   ]
  },
  {
   "cell_type": "code",
   "execution_count": 14,
   "id": "ea0ba895",
   "metadata": {},
   "outputs": [
    {
     "name": "stdout",
     "output_type": "stream",
     "text": [
      "acegik"
     ]
    }
   ],
   "source": [
    "S = 'abcdefghijk'\n",
    "for i in range(0, len(S), 2):\n",
    "    print(S[i], end='')"
   ]
  },
  {
   "cell_type": "markdown",
   "id": "ad726dc4",
   "metadata": {},
   "source": [
    "Można to jednak zrobić \"lepiej\" czyli bez angażowania funkcji `range` a jedynie operując na tym co już wiemy o sekwencjach - możemy wybierać ich fragmenty. Kod taki będzie łatwiejszy do zapisania i odczytania."
   ]
  },
  {
   "cell_type": "code",
   "execution_count": 15,
   "id": "7fcad507",
   "metadata": {
    "scrolled": true
   },
   "outputs": [
    {
     "name": "stdout",
     "output_type": "stream",
     "text": [
      "acegik"
     ]
    }
   ],
   "source": [
    "S = 'abcdefghijk'\n",
    "for s in S[::2]:\n",
    "    print(s, end='')"
   ]
  },
  {
   "cell_type": "markdown",
   "id": "b9a0a542",
   "metadata": {},
   "source": [
    "Można to zrobić jednak jeszcze szybciej, korzystając z tego co wiemy o ciągach znaków i wybieraniu przedziałów z ustalonym krokiem."
   ]
  },
  {
   "cell_type": "code",
   "execution_count": 16,
   "id": "7d13b3db",
   "metadata": {},
   "outputs": [
    {
     "name": "stdout",
     "output_type": "stream",
     "text": [
      "acegik\n"
     ]
    }
   ],
   "source": [
    "print(S[::2]) #pierwsze puste miejsce oznacza indeks 0, drugie oznacza indeks -1 (ostatni), a 2 oznacza krok"
   ]
  },
  {
   "cell_type": "markdown",
   "id": "32ee4336",
   "metadata": {},
   "source": [
    "**Funkcja `zip`**"
   ]
  },
  {
   "cell_type": "markdown",
   "id": "d89a19e5",
   "metadata": {},
   "source": [
    "**Zadanie**<br>\n",
    "Napisz program obliczający iloczyn skalarny dwóch podanych wektorów o takiej samej długości.<br>\n",
    "Przypomnienie: dla dwóch wektorów $\\vec{a}=[a_1, a_2, a_3, ..., a_N]$, $\\vec{b}=[b_1, b_2, b_3, ..., b_N]$ iloczyn skalarny definiujemy jako $\\vec{a}\\cdot\\vec{b} = \\sum^{N}_{i=1}a_i\\cdot b_i$\n",
    "\n",
    "Przykład działania:<br>\n",
    "wejście:<br>\n",
    "wektor1 = [1, 1, 1, 1]<br>\n",
    "wektor2 = [1, 2, 3, 4]<br>\n",
    "wyjście:<br>\n",
    "10"
   ]
  },
  {
   "cell_type": "code",
   "execution_count": 17,
   "id": "b34846c5",
   "metadata": {},
   "outputs": [
    {
     "name": "stdout",
     "output_type": "stream",
     "text": [
      "10\n"
     ]
    }
   ],
   "source": [
    "wektor1 = [1, 1, 1, 1] #wektor pierwszy\n",
    "wektor2 = [1, 2, 3, 4] #wektor drugi\n",
    "suma = 0 #zmienna pomocnicza zapisująca bieżący wynik\n",
    "for i in range(0, len(wektor1)):\n",
    "    suma += wektor1[i] * wektor2[i]\n",
    "print(suma)"
   ]
  },
  {
   "cell_type": "markdown",
   "id": "e566a47d",
   "metadata": {},
   "source": [
    "Funkcja `zip` pozwala przechodzić równolegle więcej niż jedną sekwencję podczas wykonywania pętli. W przypadku z naszego zadania, zamiast tworzyć dodatkowo listę z indeksami wektorów możemy iterować bezpośrednio po elementach wektorów."
   ]
  },
  {
   "cell_type": "code",
   "execution_count": 18,
   "id": "300947dc",
   "metadata": {
    "scrolled": true
   },
   "outputs": [
    {
     "name": "stdout",
     "output_type": "stream",
     "text": [
      "<zip object at 0x7f984f7ae7c8>\n",
      "[(1, 4), (2, 5), (3, 6)]\n"
     ]
    }
   ],
   "source": [
    "L1 = [1, 2, 3]\n",
    "L2 = [4, 5, 6]\n",
    "seq = zip(L1, L2)\n",
    "print(seq)\n",
    "print(list(seq))"
   ]
  },
  {
   "cell_type": "markdown",
   "id": "e3e22aac",
   "metadata": {},
   "source": [
    "W takiej sytuacji rozwiązanie w bardziej przejrzystej i eleganckiej formie możemy przedstawić jak poniżej."
   ]
  },
  {
   "cell_type": "code",
   "execution_count": 19,
   "id": "e01f03e9",
   "metadata": {},
   "outputs": [
    {
     "name": "stdout",
     "output_type": "stream",
     "text": [
      "10\n"
     ]
    }
   ],
   "source": [
    "wektor1 = [1, 1, 1, 1] #wektor pierwszy\n",
    "wektor2 = [1, 2, 3, 4] #wektor drugi\n",
    "suma = 0 #zmienna pomocnicza zapisująca bieżący wynik\n",
    "for w1, w2 in zip(wektor1, wektor2):\n",
    "    suma += w1 * w2\n",
    "print(suma)  "
   ]
  },
  {
   "cell_type": "markdown",
   "id": "1d06bd81",
   "metadata": {},
   "source": [
    "Funkcja `zip` może także przyjmować więcej niż dwa argumenty oraz argumenty o różnej długości. W takiej sytuacji wynikowa lista jest obcięta do długości najkrótszej sekwencji."
   ]
  },
  {
   "cell_type": "code",
   "execution_count": 20,
   "id": "eaafdcfa",
   "metadata": {},
   "outputs": [
    {
     "name": "stdout",
     "output_type": "stream",
     "text": [
      "[(1, 10, 100), (2, 20, 200), (3, 30, 300)]\n"
     ]
    }
   ],
   "source": [
    "L1 = [1, 2, 3, 4, 5]\n",
    "L2 = [10, 20, 30, 40]\n",
    "L3 = [100, 200, 300]\n",
    "seq = zip(L1, L2, L3)\n",
    "print(list(seq))"
   ]
  },
  {
   "cell_type": "markdown",
   "id": "8d062070",
   "metadata": {},
   "source": [
    "**Listy składane**"
   ]
  },
  {
   "cell_type": "markdown",
   "id": "d7fc6b22",
   "metadata": {},
   "source": [
    "**Zadanie**<br>\n",
    "Napisz program dodający do każdego elementu listy stałą wartość.<br>\n",
    "\n",
    "Przykład:<br>\n",
    "wejście:<br>\n",
    "L = [1, 2, 3, 4, 5, 6, 7, 8, 9, 10]<br>\n",
    "liczba = 5<br>\n",
    "wyjście:<br>\n",
    "L = [6, 7, 8, 9, 10, 11, 12, 13, 14, 15]"
   ]
  },
  {
   "cell_type": "markdown",
   "id": "2f064587",
   "metadata": {},
   "source": [
    "Przychodzącym od razu na myśl rozwiązaniem jest stworzenie pętli `for` przebiegającej indeksy listy i aktualizującej każdy z elementów."
   ]
  },
  {
   "cell_type": "code",
   "execution_count": 21,
   "id": "24895236",
   "metadata": {},
   "outputs": [
    {
     "name": "stdout",
     "output_type": "stream",
     "text": [
      "[6, 7, 8, 9, 10, 11, 12, 13, 14, 15]\n"
     ]
    }
   ],
   "source": [
    "L = [1, 2, 3, 4, 5, 6, 7, 8, 9, 10]\n",
    "liczba = 5\n",
    "for i in range(0, len(L)):\n",
    "    L[i] += liczba\n",
    "print(L)"
   ]
  },
  {
   "cell_type": "markdown",
   "id": "b8d77a5e",
   "metadata": {},
   "source": [
    "Jednak Python pozwala na znaczne przyspieszenie i uproszczenie takich działań tak, że znów nie musimy korzystać z funkcji `range`, tylko możemy operować bezpośrednio na elementach listy. Możemy tego dokonać za pomocą **listy składanej**"
   ]
  },
  {
   "cell_type": "code",
   "execution_count": 22,
   "id": "c8c7ea4b",
   "metadata": {},
   "outputs": [
    {
     "name": "stdout",
     "output_type": "stream",
     "text": [
      "[6, 7, 8, 9, 10, 11, 12, 13, 14, 15]\n"
     ]
    }
   ],
   "source": [
    "L = [1, 2, 3, 4, 5, 6, 7, 8, 9, 10]\n",
    "liczba = 5\n",
    "L = [l + liczba for l in L]\n",
    "print(L)"
   ]
  },
  {
   "cell_type": "markdown",
   "id": "e9bf1933",
   "metadata": {},
   "source": [
    "Jest to bardzo wygodny sposób na szybkie konstruowanie nowej listy na podstawie dowolnej sekwencji. Jest to też wyrażenie całkowicie opcjonalne, gdyż w rzeczywistości, w sposób niejawny, wykonywana jest pętla jak poniżej"
   ]
  },
  {
   "cell_type": "code",
   "execution_count": 23,
   "id": "6e9a4b30",
   "metadata": {},
   "outputs": [
    {
     "name": "stdout",
     "output_type": "stream",
     "text": [
      "[6, 7, 8, 9, 10, 11, 12, 13, 14, 15]\n"
     ]
    }
   ],
   "source": [
    "L = [1, 2, 3, 4, 5, 6, 7, 8, 9, 10]\n",
    "liczba = 5\n",
    "temp = [] #tymczasowa lista przchowująca nowe wartości\n",
    "for l in L:\n",
    "    temp.append(l + liczba)\n",
    "L = temp\n",
    "print(L)"
   ]
  },
  {
   "cell_type": "markdown",
   "id": "17155db0",
   "metadata": {},
   "source": [
    "Listy składane mogą być jednak jeszcze bardziej wszechstronne poprzez zastosowanie dodatkowo instrukcji `if`."
   ]
  },
  {
   "cell_type": "markdown",
   "id": "ceb5a148",
   "metadata": {},
   "source": [
    "Przykład: Z losowo wygenerowanej listy liczb całkowitych stworzyć listę tylko tych, które są parzyste."
   ]
  },
  {
   "cell_type": "code",
   "execution_count": 24,
   "id": "488472bc",
   "metadata": {},
   "outputs": [
    {
     "name": "stdout",
     "output_type": "stream",
     "text": [
      "[97, 85, 76, 54, 96, 30, 93, 81, 40, 18]\n",
      "[76, 54, 96, 30, 40, 18]\n"
     ]
    }
   ],
   "source": [
    "import random as rnd\n",
    "\n",
    "L_rnd = [rnd.randint(0, 100) for _ in range(10)] #lista składana tworząca losową listę liczb całkowitych\n",
    "L = [l for l in L_rnd if l % 2 == 0] #lista składana wybierająca tylko liczby parzyste\n",
    "print(L_rnd)\n",
    "print(L)"
   ]
  },
  {
   "cell_type": "markdown",
   "id": "a3f426fc",
   "metadata": {},
   "source": [
    "W powyższym przykładzie skorzystaliśmy dodatkowo z operacji brania reszty z dzielenia `%`. "
   ]
  },
  {
   "cell_type": "code",
   "execution_count": 25,
   "id": "2a92b8e1",
   "metadata": {
    "scrolled": true
   },
   "outputs": [
    {
     "name": "stdout",
     "output_type": "stream",
     "text": [
      "1\n",
      "2\n",
      "0\n"
     ]
    }
   ],
   "source": [
    "print(3 % 2)\n",
    "print(10 % 4)\n",
    "print(10 % 2)"
   ]
  },
  {
   "cell_type": "markdown",
   "id": "602d1129",
   "metadata": {},
   "source": [
    "Tym sposobem poznaliśmy sposoby tworzenia pętli oraz listy składane, które są nieodzowną i powszechnie stosowaną częścią programowania. Skorzystajmy z tej wiedzy w następnym zadaniu."
   ]
  },
  {
   "cell_type": "markdown",
   "id": "dbba1411",
   "metadata": {},
   "source": [
    "**Zadanie domowe!**"
   ]
  },
  {
   "cell_type": "markdown",
   "id": "9123cf82",
   "metadata": {},
   "source": [
    "Napisz program, który mnoży dwie dowolne macierze (niekoniecznie kwadratowe).<br>\n",
    "Przypomnienie:<br>\n",
    "Niech macierz $A$ ma wymiar $N\\times M$ ($N$ wierszy i $M$ kolumn). Pomnożyć możemy ją przez dowolną macierz, której liczba wierszy jest dokładnie równa $M$ a liczba kolumn jest dowolna ($K$), nazwijmy ją macierzą $B$. Możemy rozpisać każdą z tych macierzy bezpośrednio wyświetlając ich elementy jak ponieżej: <br>\n",
    "$A = \n",
    "\\begin{pmatrix}\n",
    "a_{11} & a_{12} & \\cdots & a_{1M} \\\\\n",
    "a_{21} & a_{22} & \\cdots & a_{2M} \\\\\n",
    "\\vdots  & \\vdots  & \\ddots & \\vdots \\\\\n",
    "a_{N1} & a_{N2} & \\cdots & a_{NM} \n",
    "\\end{pmatrix}$,\n",
    "$B =\n",
    "\\begin{pmatrix}\n",
    "b_{11} & b_{12} & \\cdots & b_{1K} \\\\\n",
    "b_{21} & b_{22} & \\cdots & b_{2K} \\\\\n",
    "\\vdots  & \\vdots  & \\ddots & \\vdots \\\\\n",
    "b_{M1} & b_{M2} & \\cdots & b_{MK} \n",
    "\\end{pmatrix}$,<br>\n",
    "gdzie indeksy przy elementach numerują odpowiednio wiersz i kolumnę w których się znajdują. W wyniku mnozenia otrzymamy nową macierz $C$ o wymiarach $N\\times K$. Ją również możemy zapisać za pomocą jej elementów jak poniżej:<br>\n",
    "$A_{N\\times M}\\cdot B_{M\\times K} = C_{N\\times K} = \n",
    "\\begin{pmatrix}\n",
    "c_{11} & c_{12} & \\cdots & c_{1K} \\\\\n",
    "c_{21} & c_{22} & \\cdots & c_{2K} \\\\\n",
    "\\vdots  & \\vdots  & \\ddots & \\vdots \\\\\n",
    "c_{N1} & c_{N2} & \\cdots & c_{NK} \n",
    "\\end{pmatrix}$.<br>\n",
    "Każdy z elementów macierzy $C$ obliczymy za pomocą mnożenia odpowiedniego wiersza z macierzy $A$ przez kolumnę z macierzy $B$ i sumując wszystkie elementy. W zwartej postaci możemy to zapisać jak poniżej. Warto poświęcić chwilę na zrozumienie tego zapisu, przyda on się na pewno w przyszłości.\n",
    "$c_{ij}=\\sum^{M}_{l=1}a_{il}b_{lj}.$<br>\n",
    "Przykładowo, element $c_{12}=a_{11}\\cdot b_{12}+a_{12}\\cdot b_{22}+ \\cdots + a_{1M}\\cdot b_{M2}.$"
   ]
  },
  {
   "cell_type": "markdown",
   "id": "dd91255a",
   "metadata": {},
   "source": [
    "Przykład działania.<br>\n",
    "wejście:<br>\n",
    "A = [[1, 2], [3, 4]] (jest to akurat macierz $2\\times 2$)<br> \n",
    "B = [[1, 0], [1, 1]] (to też jest macierz $2\\times 2$)<br>\n",
    "wyjście:<br>\n",
    "C = [[3, 2], [7, 4]] (wynikowa macierz również ma wymiar $2\\times 2$)<br>\n",
    "Program oczywiście ma działać także dla większych macierzy oraz macierzy prostokątnych."
   ]
  },
  {
   "cell_type": "markdown",
   "id": "cb68b4cf",
   "metadata": {},
   "source": [
    "Powodzenia!"
   ]
  }
 ],
 "metadata": {
  "kernelspec": {
   "display_name": "Python 3",
   "language": "python",
   "name": "python3"
  },
  "language_info": {
   "codemirror_mode": {
    "name": "ipython",
    "version": 3
   },
   "file_extension": ".py",
   "mimetype": "text/x-python",
   "name": "python",
   "nbconvert_exporter": "python",
   "pygments_lexer": "ipython3",
   "version": "3.6.9"
  }
 },
 "nbformat": 4,
 "nbformat_minor": 5
}
