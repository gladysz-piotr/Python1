{
 "cells": [
  {
   "cell_type": "markdown",
   "id": "606b0fb4",
   "metadata": {},
   "source": [
    "22.02.2022\n",
    "# Zajęcia 1"
   ]
  },
  {
   "cell_type": "markdown",
   "id": "391a8c19",
   "metadata": {},
   "source": [
    "## Wyświetlanie tekstu."
   ]
  },
  {
   "cell_type": "code",
   "execution_count": 4,
   "id": "16790c66",
   "metadata": {},
   "outputs": [
    {
     "name": "stdout",
     "output_type": "stream",
     "text": [
      "Hello world!\n"
     ]
    }
   ],
   "source": [
    "print('Hello world!')"
   ]
  },
  {
   "cell_type": "code",
   "execution_count": 5,
   "id": "4c5556a4",
   "metadata": {},
   "outputs": [
    {
     "name": "stdout",
     "output_type": "stream",
     "text": [
      "Hello \n",
      "world!\n"
     ]
    }
   ],
   "source": [
    "print('Hello \\nworld!')"
   ]
  },
  {
   "cell_type": "markdown",
   "id": "e718278e",
   "metadata": {},
   "source": [
    "`\\n` pozwala na przejście do nowej linii w ramach jednej komendy `print()`."
   ]
  },
  {
   "cell_type": "code",
   "execution_count": 6,
   "id": "0b35ddf5",
   "metadata": {
    "scrolled": true
   },
   "outputs": [
    {
     "name": "stdout",
     "output_type": "stream",
     "text": [
      "Hello \tworld!\n"
     ]
    }
   ],
   "source": [
    "print('Hello \\tworld!')"
   ]
  },
  {
   "cell_type": "code",
   "execution_count": 7,
   "id": "ce6d8a59",
   "metadata": {},
   "outputs": [
    {
     "name": "stdout",
     "output_type": "stream",
     "text": [
      "Linia 1\n",
      "Linia 2\n"
     ]
    }
   ],
   "source": [
    "print('Linia 1')\n",
    "print('Linia 2')"
   ]
  },
  {
   "cell_type": "code",
   "execution_count": 8,
   "id": "ca5c52e5",
   "metadata": {},
   "outputs": [
    {
     "name": "stdout",
     "output_type": "stream",
     "text": [
      "Linia 1\n",
      "\n",
      "Linia 2\n"
     ]
    }
   ],
   "source": [
    "print('Linia 1\\n')\n",
    "print('Linia 2')"
   ]
  },
  {
   "cell_type": "markdown",
   "id": "d4fc77d6",
   "metadata": {},
   "source": [
    "`\\t` pozwala na wstawienie tabulatury do linii."
   ]
  },
  {
   "cell_type": "code",
   "execution_count": 1,
   "id": "62218886",
   "metadata": {},
   "outputs": [],
   "source": [
    "import numpy as np\n",
    "from matplotlib import pyplot as plt\n",
    "import random as rnd\n",
    "import os"
   ]
  },
  {
   "cell_type": "code",
   "execution_count": 10,
   "id": "1ca04fe1",
   "metadata": {},
   "outputs": [
    {
     "data": {
      "text/plain": [
       "['__add__',\n",
       " '__class__',\n",
       " '__contains__',\n",
       " '__delattr__',\n",
       " '__delitem__',\n",
       " '__dir__',\n",
       " '__doc__',\n",
       " '__eq__',\n",
       " '__format__',\n",
       " '__ge__',\n",
       " '__getattribute__',\n",
       " '__getitem__',\n",
       " '__gt__',\n",
       " '__hash__',\n",
       " '__iadd__',\n",
       " '__imul__',\n",
       " '__init__',\n",
       " '__init_subclass__',\n",
       " '__iter__',\n",
       " '__le__',\n",
       " '__len__',\n",
       " '__lt__',\n",
       " '__mul__',\n",
       " '__ne__',\n",
       " '__new__',\n",
       " '__reduce__',\n",
       " '__reduce_ex__',\n",
       " '__repr__',\n",
       " '__reversed__',\n",
       " '__rmul__',\n",
       " '__setattr__',\n",
       " '__setitem__',\n",
       " '__sizeof__',\n",
       " '__str__',\n",
       " '__subclasshook__',\n",
       " 'append',\n",
       " 'clear',\n",
       " 'copy',\n",
       " 'count',\n",
       " 'extend',\n",
       " 'index',\n",
       " 'insert',\n",
       " 'pop',\n",
       " 'remove',\n",
       " 'reverse',\n",
       " 'sort']"
      ]
     },
     "execution_count": 10,
     "metadata": {},
     "output_type": "execute_result"
    }
   ],
   "source": [
    "dir(list)"
   ]
  },
  {
   "cell_type": "code",
   "execution_count": 11,
   "id": "cbe38efa",
   "metadata": {},
   "outputs": [
    {
     "data": {
      "text/plain": [
       "'[1, 2]'"
      ]
     },
     "execution_count": 11,
     "metadata": {},
     "output_type": "execute_result"
    }
   ],
   "source": [
    "l=[1,2]\n",
    "l.__str__()"
   ]
  },
  {
   "cell_type": "code",
   "execution_count": 2,
   "id": "0006e5ee",
   "metadata": {},
   "outputs": [
    {
     "name": "stdout",
     "output_type": "stream",
     "text": [
      "Podaj swoje imię:\n",
      "asd\n",
      "Twoje imię to asd.\n",
      "\n",
      "Podaj swoje imię:\n",
      "asd\n",
      "Twoje imię to asd.\n",
      "\n",
      "Podaj swoje imię:\n",
      "sdsa\n",
      "Twoje imię to sdsa.\n",
      "\n",
      "Podaj swoje imię:\n",
      "asd\n",
      "Twoje imię to asd.\n",
      "\n",
      "Podaj swoje imię:\n",
      "asd\n",
      "Twoje imię to asd.\n",
      "\n"
     ]
    }
   ],
   "source": [
    "i=0\n",
    "while i<5:\n",
    "    print('Podaj swoje imię:')\n",
    "    name=input()\n",
    "    print(f'Twoje imię to {name}.\\n')\n",
    "    i+=1"
   ]
  },
  {
   "cell_type": "code",
   "execution_count": 15,
   "id": "d71b669d",
   "metadata": {
    "scrolled": true
   },
   "outputs": [
    {
     "data": {
      "text/plain": [
       "0.4399340993505737"
      ]
     },
     "execution_count": 15,
     "metadata": {},
     "output_type": "execute_result"
    }
   ],
   "source": [
    "r=rnd.random()\n",
    "r"
   ]
  },
  {
   "cell_type": "code",
   "execution_count": 11,
   "id": "30f7c567",
   "metadata": {},
   "outputs": [],
   "source": [
    "# -*- coding: utf-8 -*\n",
    "import pygame\n",
    "import random\n",
    "import numpy as np\n",
    "import matplotlib.pylab as plt\n",
    "\n",
    "LEFT = 1\n",
    "RIGHT = 3\n",
    "BLUE=(0, 100, 200)\n",
    "GREY=(200, 200, 200)\n",
    "WHITE=(255, 255, 255)\n",
    "BLACK=(150, 150, 150)\n",
    "RED=(200, 0, 50)\n",
    "\t\t\n",
    "class Square(pygame.sprite.Sprite):\n",
    "\tdef __init__(self, posx, posy, width, height, color):\n",
    "\t\tpygame.sprite.Sprite.__init__(self)\n",
    "\t\tself.image=pygame.Surface([width, height])\n",
    "\t\tself.color=color\n",
    "\t\tself.image.fill(self.color)\n",
    "\t\tself.rect=self.image.get_rect()\n",
    "\t\tself.rect.x=posx\n",
    "\t\tself.rect.y=posy\n",
    "\t\tself.On=False\n",
    "\t\tself.ID=(0,0)\n",
    "\t\t\n",
    "\tdef getPosition(self):\n",
    "\t\treturn (self.rect.x, self.rect.y)\n",
    "\t\t\n",
    "\tdef changePosition(self, npos):\n",
    "\t\tself.rect.x=npos[0]\n",
    "\t\tself.rect.y=npos[1]\n",
    "\t\t\n",
    "\tdef getColor(self):\n",
    "\t\treturn self.color\n",
    "\t\t\n",
    "\tdef changeColor(self, ncolor):\n",
    "\t\tself.color=ncolor\n",
    "\t\tif self.color==BLUE:\n",
    "\t\t\tself.On=True\n",
    "\t\telse:\n",
    "\t\t\tself.On=False\t\n",
    "\t\ttry:\n",
    "\t\t\tself.image.fill(self.color)\n",
    "\t\texcept:\n",
    "\t\t\tpass\n",
    "\n",
    "\tdef getNeighborhood(self, option, N, squares_dict):\n",
    "\t\tcount=0\n",
    "\t\tj, i=self.ID\n",
    "\t\tif option=='Moore':\n",
    "\t\t\tfor w in [(-1,-1), (-1,0), (-1,1), (0,-1), (0,1), (1,-1), (1,0), (1,1)]:\n",
    "\t\t\t\twsp=((j+w[0])%N, (i+w[1])%N)\n",
    "\t\t\t\tif squares_dict[wsp].isON():\n",
    "\t\t\t\t\tcount+=1\n",
    "\t\t\t\telse:\n",
    "\t\t\t\t\tpass\t\n",
    "\t\t\t\t\t\t\t\n",
    "\t\telif option=='Neumann':\n",
    "\t\t\tfor w in [(-1,0), (0,-1), (0,1), (1,0)]:\n",
    "\t\t\t\twsp=((j+w[0])%N, (i+w[1])%N)\n",
    "\t\t\t\tif squares_dict[wsp].isON():\n",
    "\t\t\t\t\tcount+=1\n",
    "\t\t\t\telse:\n",
    "\t\t\t\t\tpass\t\n",
    "\t\telse:\n",
    "\t\t\treturn False\t\t\t\t\t\n",
    "\t\treturn count\n",
    "\t\n",
    "\tdef setID(self, nID):\n",
    "\t\tself.ID=nID\n",
    "\t\t\n",
    "\tdef getID(self):\n",
    "\t\treturn self.ID\t\t\n",
    "\t\t\n",
    "\tdef isON(self):\n",
    "\t\treturn self.On\n",
    "\n",
    "\t\t\t\n",
    "class View(object):\n",
    "\tdef __init__(self, width, height, N):\n",
    "\t\tpygame.init()\n",
    "\t\tself.w=width\n",
    "\t\tself.h=height\n",
    "\t\tself.N=N\n",
    "\t\tself.clock=pygame.time.Clock()\n",
    "\t\tself.screen=pygame.display.set_mode((self.w, self.h))\n",
    "\t\tself.screen.fill(WHITE)\n",
    "\t\tself.all_sprites=pygame.sprite.Group()\n",
    "\t\tself.background=pygame.sprite.Group()\n",
    "\t\tself.squares=pygame.sprite.Group()\n",
    "\t\tself.squares_dict={}\n",
    "\t\tself.active_squares=pygame.sprite.Group()\n",
    "\t\tself.size=int(0.85*self.w/N)-1\n",
    "\t\ttemp=(1-(self.size+1.)*N/self.w)/2\n",
    "\t\tpos0x=int(temp*self.w)\n",
    "\t\tpos0y=int(temp*self.h)\n",
    "\t\t\n",
    "\t\tself.bgd=Square(pos0x, pos0y, N*(self.size+1)+1,\\\n",
    "\t\t\t\tN*(self.size+1)+1, BLACK)\n",
    "\t\tself.background.add(self.bgd)\n",
    "\t\t\n",
    "\t\tfor i in range(N):\n",
    "\t\t\tpos0x+=1\n",
    "\t\t\tpos0y=temp*self.h\t\n",
    "\t\t\tfor j in range(N):\n",
    "\t\t\t\tr=random.random()\n",
    "\t\t\t\tpos0y+=1\n",
    "\t\t\t\ts=Square(pos0x, pos0y, self.size, self.size, WHITE)\n",
    "\t\t\t\tself.squares_dict[(j,i)]=s\n",
    "\t\t\t\ts.setID((j,i))\n",
    "\t\t\t\tif r<0.5:\n",
    "\t\t\t\t\ts.changeColor(BLUE)\n",
    "\t\t\t\telse:\n",
    "\t\t\t\t\ts.changeColor(WHITE)\n",
    "\t\t\t\tself.squares.add(s)\n",
    "\t\t\t\tpos0y=pos0y+self.size\n",
    "\t\t\tpos0x=pos0x+self.size\n",
    "\t\tself.player=Square(0, 0, 1, 1, BLACK)\n",
    "\t\tself.all_sprites.add(self.player)\n",
    "\t\t\n",
    "\tdef back(self, screen):\n",
    "\t\tself.background.draw(screen)\n",
    "\t\t\t\n",
    "\tdef exit_f(self, event):\n",
    "\t\tif event.type==pygame.QUIT:\n",
    "\t\t\treturn False \n",
    "\t\telif event.type==pygame.KEYDOWN:\n",
    "\t\t\tif event.key==pygame.K_ESCAPE or event.key==pygame.K_q:\n",
    "\t\t\t\treturn False\n",
    "\t\t\telse:\n",
    "\t\t\t\treturn True\n",
    "\t\telse:\n",
    "\t\t\treturn True\t\n",
    "\t\t\t\n",
    "\tdef restart_f(self, event):\n",
    "\t\tif event.type==pygame.KEYDOWN:\n",
    "\t\t\tif event.key==pygame.K_r:\n",
    "\t\t\t\treturn True\n",
    "\t\t\telse:\n",
    "\t\t\t\treturn False\t\n",
    "\t\t\t\t\n",
    "\tdef clear(self, event):\n",
    "\t\tif event.type==pygame.KEYDOWN:\n",
    "\t\t\tif event.key==pygame.K_c:\n",
    "\t\t\t\tfor s in self.squares:\n",
    "\t\t\t\t\tif s.isON():\n",
    "\t\t\t\t\t\ts.changeColor(WHITE)\n",
    "\t\t\telse:\n",
    "\t\t\t\tpass\t\t\t\t\t\n",
    "\n",
    "\tdef defineColor(self, event, squares_hit):\n",
    "\t\tColor=squares_hit[-1].getColor()\n",
    "\t\tif event.button == LEFT and Color == BLUE:\n",
    "\t\t\treturn WHITE\n",
    "\t\telif event.button == LEFT and Color != BLUE:\n",
    "\t\t\treturn BLUE\t\t\t\n",
    "\n",
    "\tdef highlight(self, squares_hit, Color):\n",
    "\t\tif squares_hit !=[]:\n",
    "\t\t\ts=squares_hit[-1]\n",
    "\t\t\tif Color!=s.getColor():\n",
    "\t\t\t\ts.changeColor(Color)\n",
    "\t\n",
    "\tdef rule(self, square, squares_dict):\n",
    "\t\tnum=square.getNeighborhood('Moore', self.N, self.squares_dict)\n",
    "\t\tif square.isON()==False and num in [3,5,6,7,8]:\n",
    "\t\t\treturn True\n",
    "\t\telif square.isON()==True and num not in [5,6,7,8]:\n",
    "\t\t\treturn True\n",
    "\t\telse:\n",
    "\t\t\treturn False\n",
    "\t\t\t\n",
    "\tdef run(self):\n",
    "\t\t'''\n",
    "\t\tThe mainloop\n",
    "\t\t'''\n",
    "\t\tDown=False\n",
    "\t\trunning=True\n",
    "\t\trestart=False\n",
    "\t\tstart=False\n",
    "\t\tself.screen.fill(WHITE)\n",
    "\t\tself.back(self.screen)\n",
    "\t\tdt=0\n",
    "\t\twhile running:\n",
    "\t\t\tmilliseconds = self.clock.tick(120)\t\t\n",
    "\t\t\tdt+=milliseconds\t\n",
    "\t\t\tfor event in pygame.event.get():\n",
    "\t\t\t\trunning=self.exit_f(event)\n",
    "\t\t\t\tself.clear(event)\n",
    "\t\t\t\tpos=pygame.mouse.get_pos()\n",
    "\t\t\t\tself.player.changePosition(pos)\n",
    "\t\t\t\tsquares_hit=pygame.sprite.spritecollide(self.player,\\\n",
    "\t\t\t\t\tself.squares, False)\n",
    "\t\t\t\tif event.type == pygame.KEYDOWN and event.key==pygame.K_s:\n",
    "\t\t\t\t\tif start:\n",
    "\t\t\t\t\t\tstart=False\n",
    "\t\t\t\t\telse:\n",
    "\t\t\t\t\t\tstart=True\t\t\t\t\t\n",
    "\t\t\t\tif event.type == pygame.MOUSEBUTTONDOWN and squares_hit != []:\n",
    "\t\t\t\t\tDown=True\n",
    "\t\t\t\t\tColor=self.defineColor(event, squares_hit)\n",
    "\t\t\t\tif event.type == pygame.MOUSEBUTTONUP:\n",
    "\t\t\t\t\tDown=False\n",
    "\t\t\t\tif Down:\t\n",
    "\t\t\t\t\tself.highlight(squares_hit, Color)\t\t\n",
    "\t\t\tif dt>=100 and start:\n",
    "\t\t\t\tfor s in self.squares:\n",
    "\t\t\t\t\tif self.rule(s, self.squares):\n",
    "\t\t\t\t\t\tself.active_squares.add(s)\n",
    "\t\t\t\tfor s in self.active_squares:\n",
    "\t\t\t\t\tcol=s.getColor()\n",
    "\t\t\t\t\tif col==BLUE:\n",
    "\t\t\t\t\t\ts.changeColor(WHITE)\n",
    "\t\t\t\t\telse:\n",
    "\t\t\t\t\t\ts.changeColor(BLUE)\t\n",
    "\t\t\t\t\tself.active_squares.remove(s)\n",
    "\t\t\t\tdt=0\n",
    "\t\t\t\n",
    "\t\t\tself.squares.draw(self.screen)\t\t\n",
    "\t\t\tpygame.display.update()\n",
    "\t\t\n",
    "\t\tpygame.quit()\t\n",
    "\t\t\n",
    "if __name__ == '__main__':\n",
    "\n",
    "\tView(1000, 1000, 200).run()\t\t\n",
    "\t\t\t\t\t"
   ]
  },
  {
   "cell_type": "code",
   "execution_count": null,
   "id": "8f61898e",
   "metadata": {},
   "outputs": [],
   "source": []
  }
 ],
 "metadata": {
  "kernelspec": {
   "display_name": "Python 3 (ipykernel)",
   "language": "python",
   "name": "python3"
  },
  "language_info": {
   "codemirror_mode": {
    "name": "ipython",
    "version": 3
   },
   "file_extension": ".py",
   "mimetype": "text/x-python",
   "name": "python",
   "nbconvert_exporter": "python",
   "pygments_lexer": "ipython3",
   "version": "3.8.10"
  }
 },
 "nbformat": 4,
 "nbformat_minor": 5
}
