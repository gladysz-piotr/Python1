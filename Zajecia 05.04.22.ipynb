{
 "cells": [
  {
   "cell_type": "markdown",
   "id": "f87ff398",
   "metadata": {},
   "source": [
    "### Zapobieganie mofyfikacji obiektu"
   ]
  },
  {
   "cell_type": "markdown",
   "id": "5cf07cf2",
   "metadata": {},
   "source": [
    "W wielu sytuacjach chcemy zapobiec modyfikacji obiektu przez funkcję. W celu zabezpieczenia się przed nieporządanymi zmianami, możemy skorzystać z działania na kopii, zamista na orginalnym obiekcie."
   ]
  },
  {
   "cell_type": "markdown",
   "id": "b237967c",
   "metadata": {},
   "source": [
    "Poniżej znajduje się przykładowa funkcja `changer`, która dodaje wartość zmiennej `a` do listy `b` "
   ]
  },
  {
   "cell_type": "code",
   "execution_count": 96,
   "id": "8e0cfd13",
   "metadata": {},
   "outputs": [],
   "source": [
    "def changer(a, b):\n",
    "    b.append(a) #dodatnie na końcu listy b elementu a\n",
    "    return b #zwrócenie listy b"
   ]
  },
  {
   "cell_type": "code",
   "execution_count": 97,
   "id": "ee0f5073",
   "metadata": {},
   "outputs": [],
   "source": [
    "L = [1, 2, 3] #definiujemy nową listę L"
   ]
  },
  {
   "cell_type": "code",
   "execution_count": 98,
   "id": "c3d2c202",
   "metadata": {
    "scrolled": false
   },
   "outputs": [
    {
     "name": "stdout",
     "output_type": "stream",
     "text": [
      "[1, 2, 3, 10]\n",
      "[1, 2, 3, 10]\n"
     ]
    }
   ],
   "source": [
    "L2 = changer(10, L) #przypisujemy do zmiennej L2 listę zwracaną przez funkcję\n",
    "print(L) #wyświetlamy starą listę\n",
    "print(L2) #wyświetlamy nową listę"
   ]
  },
  {
   "cell_type": "markdown",
   "id": "dfd5c223",
   "metadata": {},
   "source": [
    "Jak widać, lista `L` została zmieniona, ponieważ do niej odwoływała się zmienna `b` w funkcji. Jeśli jednak chcemy, żeby zmodyfikowana była tylko lista wynikowa `L2` podczas gdy lista `L` pozostanie bez zmian, możemy skorzystać z zapisu `L[:]`, który tworzy nam kopię listy `L`."
   ]
  },
  {
   "cell_type": "code",
   "execution_count": 99,
   "id": "42e0d420",
   "metadata": {},
   "outputs": [],
   "source": [
    "L = [1, 2, 3] #deklarujemy listę"
   ]
  },
  {
   "cell_type": "code",
   "execution_count": 100,
   "id": "d786a20b",
   "metadata": {},
   "outputs": [
    {
     "name": "stdout",
     "output_type": "stream",
     "text": [
      "[1, 2, 3]\n",
      "[1, 2, 3, 10]\n"
     ]
    }
   ],
   "source": [
    "L2 = changer(10, L[:]) #tym razem argument b jest kopią listy L, a nie samą listą L\n",
    "print(L)\n",
    "print(L2)"
   ]
  },
  {
   "cell_type": "markdown",
   "id": "26bef560",
   "metadata": {},
   "source": [
    "W rzeczy samej, udało nam się uzyskać nową listę jednocześnie nie modyfikując starej. Możemy to także osiągnąć na poziomie kodu zawartego w funkcji."
   ]
  },
  {
   "cell_type": "code",
   "execution_count": 101,
   "id": "a9e666cf",
   "metadata": {},
   "outputs": [],
   "source": [
    "def changer(a, b):\n",
    "    b = b[:] #do zmiennej b przypisujemy jego kopię, więc nie będziemy modyfikować listy wejściowej\n",
    "    b.append(a)\n",
    "    return b"
   ]
  },
  {
   "cell_type": "code",
   "execution_count": 102,
   "id": "03ecb96a",
   "metadata": {
    "scrolled": true
   },
   "outputs": [
    {
     "name": "stdout",
     "output_type": "stream",
     "text": [
      "[1, 2, 3]\n",
      "[1, 2, 3, 10]\n"
     ]
    }
   ],
   "source": [
    "L = [1, 2, 3]\n",
    "L2 = changer(10, L)\n",
    "print(L)\n",
    "print(L2)"
   ]
  },
  {
   "cell_type": "markdown",
   "id": "dae9b6c2",
   "metadata": {},
   "source": [
    "### Argumenty funkcji - opcje bardziej zaawansowane"
   ]
  },
  {
   "cell_type": "markdown",
   "id": "4c21ac2a",
   "metadata": {},
   "source": [
    "**Wartości domyślne**"
   ]
  },
  {
   "cell_type": "markdown",
   "id": "dde77677",
   "metadata": {},
   "source": [
    "Do tej pory podczas wywoływania funkcji musieliśmy podać dokładnie tyle argumentów ile zostało zapisanych przy jej definiowaniu. Przykładowo, funkcja która mnoży trzy liczby przez siebie."
   ]
  },
  {
   "cell_type": "code",
   "execution_count": 103,
   "id": "6486c662",
   "metadata": {},
   "outputs": [],
   "source": [
    "def multiply(a, b, c):\n",
    "    return a * b * c"
   ]
  },
  {
   "cell_type": "code",
   "execution_count": 104,
   "id": "e6bb48fe",
   "metadata": {},
   "outputs": [
    {
     "data": {
      "text/plain": [
       "24"
      ]
     },
     "execution_count": 104,
     "metadata": {},
     "output_type": "execute_result"
    }
   ],
   "source": [
    "multiply(2, 3, 4)"
   ]
  },
  {
   "cell_type": "code",
   "execution_count": 105,
   "id": "d0ee4c43",
   "metadata": {},
   "outputs": [
    {
     "ename": "TypeError",
     "evalue": "multiply() missing 1 required positional argument: 'c'",
     "output_type": "error",
     "traceback": [
      "\u001b[0;31m---------------------------------------------------------------------------\u001b[0m",
      "\u001b[0;31mTypeError\u001b[0m                                 Traceback (most recent call last)",
      "\u001b[0;32m<ipython-input-105-d2d75c900b48>\u001b[0m in \u001b[0;36m<module>\u001b[0;34m\u001b[0m\n\u001b[0;32m----> 1\u001b[0;31m \u001b[0mmultiply\u001b[0m\u001b[0;34m(\u001b[0m\u001b[0;36m2\u001b[0m\u001b[0;34m,\u001b[0m \u001b[0;36m3\u001b[0m\u001b[0;34m)\u001b[0m\u001b[0;34m\u001b[0m\u001b[0;34m\u001b[0m\u001b[0m\n\u001b[0m",
      "\u001b[0;31mTypeError\u001b[0m: multiply() missing 1 required positional argument: 'c'"
     ]
    }
   ],
   "source": [
    "multiply(2, 3)"
   ]
  },
  {
   "cell_type": "markdown",
   "id": "27690460",
   "metadata": {},
   "source": [
    "Wyskoczył błąd, ponieważ potrzebny jest jeszcze jeden argument. Załóżmy jednak, że o ile użytkownik nie zechce inaczej, ostatni argument ma mieć zawsze wartość `10`. Zrealizujemy to za pomocą poniższego kodu"
   ]
  },
  {
   "cell_type": "code",
   "execution_count": 106,
   "id": "7760b023",
   "metadata": {},
   "outputs": [],
   "source": [
    "def multiply(a, b, c = 10):\n",
    "    return a * b * c"
   ]
  },
  {
   "cell_type": "code",
   "execution_count": 107,
   "id": "fbe548a8",
   "metadata": {},
   "outputs": [
    {
     "data": {
      "text/plain": [
       "60"
      ]
     },
     "execution_count": 107,
     "metadata": {},
     "output_type": "execute_result"
    }
   ],
   "source": [
    "multiply(2, 3)"
   ]
  },
  {
   "cell_type": "markdown",
   "id": "1172c56d",
   "metadata": {},
   "source": [
    "Tym razem pomimo podania dwóch argumentów, funkcja zwróciła wynik, ponieważ trzeci argument miał **wartość domyślą** i jeśli nie został podany podczas wywołania, to był równy `10`. Oczywiście wywołanie z trzema argumentami także zadziała."
   ]
  },
  {
   "cell_type": "code",
   "execution_count": 108,
   "id": "3bcc052f",
   "metadata": {},
   "outputs": [
    {
     "data": {
      "text/plain": [
       "24"
      ]
     },
     "execution_count": 108,
     "metadata": {},
     "output_type": "execute_result"
    }
   ],
   "source": [
    "multiply(2, 3, 4)"
   ]
  },
  {
   "cell_type": "markdown",
   "id": "4ee55946",
   "metadata": {},
   "source": [
    "Ponieważ argument `c` jest niejako \"wyróżniony\", podczas wywoływania funkcji możemy odnieść się do niego bezpośrednio."
   ]
  },
  {
   "cell_type": "code",
   "execution_count": 109,
   "id": "5644fb91",
   "metadata": {},
   "outputs": [
    {
     "data": {
      "text/plain": [
       "24"
      ]
     },
     "execution_count": 109,
     "metadata": {},
     "output_type": "execute_result"
    }
   ],
   "source": [
    "multiply(2, 3, c = 4)"
   ]
  },
  {
   "cell_type": "markdown",
   "id": "257ec256",
   "metadata": {},
   "source": [
    "Jest to przydatne, kiedy mamy więcej niż jeden argument z wartością domyślną. Przykładem jest poniższy kod zamieniający podaną liczbę na liczbę w systemie dwójkowym (bin), ósemkowym (oct) lub szesnastkowym (hex). Domyślnie argument `system` ma wartość `'bin'`. Dodatkowo mamy argument `show`, który przechowuje wartość `True` lub `False` w zależności czy chcemy skorzystać dodatkowo z wyświetlenia tekstu."
   ]
  },
  {
   "cell_type": "code",
   "execution_count": 1,
   "id": "367eccfe",
   "metadata": {},
   "outputs": [],
   "source": [
    "def convert(x, system = 'bin', show = True):\n",
    "    if system == 'bin': #jeśli system jest równy 'bin', zamieniamy x na system dwójkowy - domyślne\n",
    "        res = bin(x)\n",
    "    elif system == 'oct': #jeśli system jest równy 'oct', zamieniamy x na system ósemkowy\n",
    "        res = oct(x)\n",
    "    elif system == 'hex': #jeśli system jest równy 'hex', zamieniamy x na system szesnastkowy\n",
    "        res = hex(x)\n",
    "    else:\n",
    "        print('Wrong argument!') # jeśli argument system ma inną wartość informujemy o błędzie\n",
    "        res = None\n",
    "        \n",
    "    if show: #jeśli show ma wartość True, wyświetlimy także poniższy tekst\n",
    "        print(x, 'in', system, 'has value', res)\n",
    "    else:\n",
    "        pass\n",
    "        \n",
    "    return res    "
   ]
  },
  {
   "cell_type": "code",
   "execution_count": 111,
   "id": "92711bc4",
   "metadata": {
    "scrolled": false
   },
   "outputs": [
    {
     "name": "stdout",
     "output_type": "stream",
     "text": [
      "79 in bin has value 0b1001111\n"
     ]
    },
    {
     "data": {
      "text/plain": [
       "'0b1001111'"
      ]
     },
     "execution_count": 111,
     "metadata": {},
     "output_type": "execute_result"
    }
   ],
   "source": [
    "convert(79) #korzystamy z wartości domyślnych"
   ]
  },
  {
   "cell_type": "code",
   "execution_count": 112,
   "id": "6853a82e",
   "metadata": {
    "scrolled": true
   },
   "outputs": [
    {
     "name": "stdout",
     "output_type": "stream",
     "text": [
      "79 in hex has value 0x4f\n"
     ]
    },
    {
     "data": {
      "text/plain": [
       "'0x4f'"
      ]
     },
     "execution_count": 112,
     "metadata": {},
     "output_type": "execute_result"
    }
   ],
   "source": [
    "convert(79, 'hex') #zmieniamy argument system"
   ]
  },
  {
   "cell_type": "code",
   "execution_count": 113,
   "id": "de338d60",
   "metadata": {},
   "outputs": [
    {
     "data": {
      "text/plain": [
       "'0o117'"
      ]
     },
     "execution_count": 113,
     "metadata": {},
     "output_type": "execute_result"
    }
   ],
   "source": [
    "convert(79, 'oct', False) #zmieniamy argumenty system oraz show"
   ]
  },
  {
   "cell_type": "code",
   "execution_count": 114,
   "id": "07c38c02",
   "metadata": {},
   "outputs": [
    {
     "data": {
      "text/plain": [
       "'0b1001111'"
      ]
     },
     "execution_count": 114,
     "metadata": {},
     "output_type": "execute_result"
    }
   ],
   "source": [
    "convert(79, show = False) #zmieniamy tylko argument show"
   ]
  },
  {
   "cell_type": "code",
   "execution_count": 115,
   "id": "3dd10ecc",
   "metadata": {
    "scrolled": true
   },
   "outputs": [
    {
     "data": {
      "text/plain": [
       "'0x4f'"
      ]
     },
     "execution_count": 115,
     "metadata": {},
     "output_type": "execute_result"
    }
   ],
   "source": [
    "convert(79, show = False, system = 'hex') #zmieniamy oba argumenty, jesli podajemy ich nazwy nie muszą być po kolei"
   ]
  },
  {
   "cell_type": "code",
   "execution_count": 116,
   "id": "e0180e86",
   "metadata": {},
   "outputs": [
    {
     "name": "stdout",
     "output_type": "stream",
     "text": [
      "Wrong argument!\n",
      "79 in False has value None\n"
     ]
    }
   ],
   "source": [
    "convert(79, False, 'hex') #ale nie możemy mieszać kolejności jeśli nie uzywamy nazw argumentów!"
   ]
  },
  {
   "cell_type": "markdown",
   "id": "cd584a5e",
   "metadata": {},
   "source": [
    "**Dowolna liczba argumentów**"
   ]
  },
  {
   "cell_type": "markdown",
   "id": "923d48e5",
   "metadata": {},
   "source": [
    "Zdarza się, że podczas tworzenia funkcji nie wiemy, ile argumentów zostanie użyte przy jej wywoływaniu, bądź chcemy, żeby kod był bardziej uniwersalny. W tym celu możemy skorzystać ze specjalnego zapisu z `*`. Napiszmy prostą funkcję, która będzie dodawała do siebie argumenty i zwracała ich sumę. Do tej pory musieliśmy z góry wiedzieć ile argumentów będzie podane, tak jak poniżej."
   ]
  },
  {
   "cell_type": "code",
   "execution_count": 117,
   "id": "8f89a480",
   "metadata": {},
   "outputs": [],
   "source": [
    "def suma(a, b, c): #mamy zadeklarowane trzy argumenty\n",
    "    return a + b + c #zwracamy ich sumę"
   ]
  },
  {
   "cell_type": "code",
   "execution_count": 118,
   "id": "a0ead9ab",
   "metadata": {},
   "outputs": [
    {
     "data": {
      "text/plain": [
       "6"
      ]
     },
     "execution_count": 118,
     "metadata": {},
     "output_type": "execute_result"
    }
   ],
   "source": [
    "suma(1, 2, 3) #musimy podać dokładnie trzy argumenty"
   ]
  },
  {
   "cell_type": "code",
   "execution_count": 119,
   "id": "97d1929d",
   "metadata": {},
   "outputs": [
    {
     "ename": "TypeError",
     "evalue": "suma() missing 1 required positional argument: 'c'",
     "output_type": "error",
     "traceback": [
      "\u001b[0;31m---------------------------------------------------------------------------\u001b[0m",
      "\u001b[0;31mTypeError\u001b[0m                                 Traceback (most recent call last)",
      "\u001b[0;32m<ipython-input-119-f8036553a27a>\u001b[0m in \u001b[0;36m<module>\u001b[0;34m\u001b[0m\n\u001b[0;32m----> 1\u001b[0;31m \u001b[0msuma\u001b[0m\u001b[0;34m(\u001b[0m\u001b[0;36m1\u001b[0m\u001b[0;34m,\u001b[0m \u001b[0;36m2\u001b[0m\u001b[0;34m)\u001b[0m \u001b[0;31m#inaczej funkcja zwróci błąd\u001b[0m\u001b[0;34m\u001b[0m\u001b[0;34m\u001b[0m\u001b[0m\n\u001b[0m",
      "\u001b[0;31mTypeError\u001b[0m: suma() missing 1 required positional argument: 'c'"
     ]
    }
   ],
   "source": [
    "suma(1, 2) #inaczej funkcja zwróci błąd"
   ]
  },
  {
   "cell_type": "markdown",
   "id": "03887f2b",
   "metadata": {},
   "source": [
    "A teraz wersja ogólna."
   ]
  },
  {
   "cell_type": "code",
   "execution_count": 120,
   "id": "6108e71a",
   "metadata": {},
   "outputs": [],
   "source": [
    "def suma(*args): #nie deklarujemy ile dokładnie argumentów będzie podane do funkcji\n",
    "    return sum(args) #args jest tworzone jako krotka więc każdy argument jest indeksowany args[0], args[1], ..."
   ]
  },
  {
   "cell_type": "code",
   "execution_count": 121,
   "id": "63e2dc3d",
   "metadata": {},
   "outputs": [
    {
     "data": {
      "text/plain": [
       "6"
      ]
     },
     "execution_count": 121,
     "metadata": {},
     "output_type": "execute_result"
    }
   ],
   "source": [
    "suma(1, 2, 3) #wywołanie z trzema argumentami"
   ]
  },
  {
   "cell_type": "code",
   "execution_count": 122,
   "id": "8ae50ccf",
   "metadata": {},
   "outputs": [
    {
     "data": {
      "text/plain": [
       "3"
      ]
     },
     "execution_count": 122,
     "metadata": {},
     "output_type": "execute_result"
    }
   ],
   "source": [
    "suma(1, 2) #wywołanie z dwoma argumentami"
   ]
  },
  {
   "cell_type": "code",
   "execution_count": 123,
   "id": "52d3de9b",
   "metadata": {
    "scrolled": true
   },
   "outputs": [
    {
     "data": {
      "text/plain": [
       "55"
      ]
     },
     "execution_count": 123,
     "metadata": {},
     "output_type": "execute_result"
    }
   ],
   "source": [
    "suma(1, 2, 3, 4, 5, 6, 7, 8, 9, 10) #wywołanie z dziesięcioma argumentami"
   ]
  },
  {
   "cell_type": "markdown",
   "id": "50cd3759",
   "metadata": {},
   "source": [
    "**Rozpakowywanie argumentów**"
   ]
  },
  {
   "cell_type": "markdown",
   "id": "ab8774ab",
   "metadata": {},
   "source": [
    "Składnia z `*` może być także użyteczna przy rozpakowywaniu argumentów (wspominaliśmy o tym już przy okazji mnożenia macierzy). Zobaczmy, że w formie w jakiej funkcja `suma` jest zaimplementowana obecnie nie możemu podać listy argumentów."
   ]
  },
  {
   "cell_type": "code",
   "execution_count": 124,
   "id": "992730d0",
   "metadata": {
    "scrolled": true
   },
   "outputs": [
    {
     "ename": "TypeError",
     "evalue": "unsupported operand type(s) for +: 'int' and 'list'",
     "output_type": "error",
     "traceback": [
      "\u001b[0;31m---------------------------------------------------------------------------\u001b[0m",
      "\u001b[0;31mTypeError\u001b[0m                                 Traceback (most recent call last)",
      "\u001b[0;32m<ipython-input-124-9c7140a5a5ce>\u001b[0m in \u001b[0;36m<module>\u001b[0;34m\u001b[0m\n\u001b[1;32m      1\u001b[0m \u001b[0mliczby\u001b[0m \u001b[0;34m=\u001b[0m \u001b[0mlist\u001b[0m\u001b[0;34m(\u001b[0m\u001b[0mrange\u001b[0m\u001b[0;34m(\u001b[0m\u001b[0;36m1\u001b[0m\u001b[0;34m,\u001b[0m \u001b[0;36m101\u001b[0m\u001b[0;34m,\u001b[0m \u001b[0;36m1\u001b[0m\u001b[0;34m)\u001b[0m\u001b[0;34m)\u001b[0m \u001b[0;31m#lista zawierająca liczby od 1 do 100\u001b[0m\u001b[0;34m\u001b[0m\u001b[0;34m\u001b[0m\u001b[0m\n\u001b[0;32m----> 2\u001b[0;31m \u001b[0msuma\u001b[0m\u001b[0;34m(\u001b[0m\u001b[0mliczby\u001b[0m\u001b[0;34m)\u001b[0m \u001b[0;31m#próbujemy znaleźć sumę tych liczb\u001b[0m\u001b[0;34m\u001b[0m\u001b[0;34m\u001b[0m\u001b[0m\n\u001b[0m",
      "\u001b[0;32m<ipython-input-120-44d810cfeed2>\u001b[0m in \u001b[0;36msuma\u001b[0;34m(*args)\u001b[0m\n\u001b[1;32m      1\u001b[0m \u001b[0;32mdef\u001b[0m \u001b[0msuma\u001b[0m\u001b[0;34m(\u001b[0m\u001b[0;34m*\u001b[0m\u001b[0margs\u001b[0m\u001b[0;34m)\u001b[0m\u001b[0;34m:\u001b[0m \u001b[0;31m#nie deklarujemy ile dokładnie argumentów będzie podane do funkcji\u001b[0m\u001b[0;34m\u001b[0m\u001b[0;34m\u001b[0m\u001b[0m\n\u001b[0;32m----> 2\u001b[0;31m     \u001b[0;32mreturn\u001b[0m \u001b[0msum\u001b[0m\u001b[0;34m(\u001b[0m\u001b[0margs\u001b[0m\u001b[0;34m)\u001b[0m \u001b[0;31m#args jest tworzone jako krotka więc każdy argument jest indeksowany args[0], args[1], ...\u001b[0m\u001b[0;34m\u001b[0m\u001b[0;34m\u001b[0m\u001b[0m\n\u001b[0m",
      "\u001b[0;31mTypeError\u001b[0m: unsupported operand type(s) for +: 'int' and 'list'"
     ]
    }
   ],
   "source": [
    "liczby = list(range(1, 101, 1)) #lista zawierająca liczby od 1 do 100\n",
    "suma(liczby) #próbujemy znaleźć sumę tych liczb"
   ]
  },
  {
   "cell_type": "markdown",
   "id": "3c180de1",
   "metadata": {},
   "source": [
    "Jeśli jednak skorzystamy `*` przy podawaniu listy do funkcji, elementy zostaną rozpakowane i potraktowane jako osobe argumenty."
   ]
  },
  {
   "cell_type": "code",
   "execution_count": 125,
   "id": "d4e7c806",
   "metadata": {},
   "outputs": [
    {
     "data": {
      "text/plain": [
       "5050"
      ]
     },
     "execution_count": 125,
     "metadata": {},
     "output_type": "execute_result"
    }
   ],
   "source": [
    "suma(*liczby) #sumowanie liczb o 1 do 100"
   ]
  },
  {
   "cell_type": "markdown",
   "id": "8e0035d1",
   "metadata": {},
   "source": [
    "Na tej samej zasadzie działał kod liczący iloczyn dwóch macierzy poprzez listy składane, przypomnijmy kod:<br>\n",
    "`[[sum([a*b for a, b in zip(row_A, col_B)]) for col_B in zip(*B)] for row_A in A]`<br>\n",
    "Mamy tutaj macierze `A` oraz `B` zdefiniowane jako listy list, więc np. `A[0]` oznacza wiersz pierwszy, `A[1]` wiersz drugi i tak dalej. Nie ma jednak łatwego dostępu do kolum (w tym kodzie potrzebujemy kolumn macierzy `B`), gdyż żeby dostać kolumnę pierwszą trzeba wziąć pierwszy element z każdego wiersza, dla kolumny drugiej każdy drugi element itd. - niełatwe. Skorzystaliśmy jednak z funkcji `zip` i jako argument podaliśmy `*B`, czyli tak naprawdę rozpakowaliśmy macierz `B` tak, że funkcja zip dostała jako argumenty wiersze tej macierzy. Jak pamiętamy funkcja `zip` bierze po kolei po jednym elemencie z każdej listy i tworzy nową listę - to są dokładnie nasze kolumny. "
   ]
  },
  {
   "cell_type": "markdown",
   "id": "2a463691",
   "metadata": {},
   "source": [
    "### Rekurencja"
   ]
  },
  {
   "cell_type": "markdown",
   "id": "8d323cd5",
   "metadata": {},
   "source": [
    "Zagadnienie, które wykorzystuje stworzoną funkcję i recykling kodu w bardzo dużym stopniu jest rekurencja czyli wywoływanie funkcji przez samą siebie. Spójrzmy na przykład rekurencyjnego obliczania silni z podanej liczby."
   ]
  },
  {
   "cell_type": "code",
   "execution_count": 2,
   "id": "efb8ff29",
   "metadata": {},
   "outputs": [],
   "source": [
    "def silnia(n): #max 2957 for jupyter notebook\n",
    "    if n == 1 or n == 0:\n",
    "        return 1 #silnia z zera lub jedynki wynosi jeden i taką wartość zwracamy\n",
    "    else:\n",
    "        return n * silnia(n - 1) #n! jest równoważne zapisowi n * (n - 1)!, a (n - 1)! policzymy tą samą funkcją"
   ]
  },
  {
   "cell_type": "code",
   "execution_count": 4,
   "id": "b26a2e2b",
   "metadata": {},
   "outputs": [
    {
     "data": {
      "text/plain": [
       "3628800"
      ]
     },
     "execution_count": 4,
     "metadata": {},
     "output_type": "execute_result"
    }
   ],
   "source": [
    "silnia(10)"
   ]
  },
  {
   "cell_type": "markdown",
   "id": "ed038270",
   "metadata": {},
   "source": [
    "Innym znanym przykładem jest obliczanie n-tego elementu ciągu Fibonacciego zdefiniowanego rekurencyjnie jako $F_n=F_{n-1}+F_{n-2}$ dla $n>1$ oraz $F_0=0$, $F_1=1$. Pierwsze dziesięć (z zerowym) elementów wygląda następująco: 0, 1, 1, 2, 3, 5, 8, 13, 21, 34."
   ]
  },
  {
   "cell_type": "code",
   "execution_count": 128,
   "id": "a295c533",
   "metadata": {},
   "outputs": [],
   "source": [
    "def fibonacci(n):\n",
    "    if n == 0:\n",
    "        return 0\n",
    "    elif n == 1:\n",
    "        return 1\n",
    "    else:\n",
    "        return fibonacci(n - 1) + fibonacci(n - 2)"
   ]
  },
  {
   "cell_type": "code",
   "execution_count": 129,
   "id": "0e3fef55",
   "metadata": {},
   "outputs": [
    {
     "data": {
      "text/plain": [
       "63245986"
      ]
     },
     "execution_count": 129,
     "metadata": {},
     "output_type": "execute_result"
    }
   ],
   "source": [
    "fibonacci(39)"
   ]
  },
  {
   "cell_type": "markdown",
   "id": "455c3d65",
   "metadata": {},
   "source": [
    "Jednak w tym przypadku skorzystanie z rekurencji w taki sposób nie jest dobrym pomysłem, ponieważ liczba wywołań tej funkcji będzie równa $2^n$ czyli bardzo dużo, więc już dla $n = 39$ czas jest bardzo długi. Zamiast tego możemy skorzystać ze zwykłej pętli jak poniżej. Jeśmy w ten sposób w stanie policzyć znacznie szybciej i znacznie więcej elementów ciągu."
   ]
  },
  {
   "cell_type": "code",
   "execution_count": 130,
   "id": "548e0271",
   "metadata": {
    "scrolled": false
   },
   "outputs": [
    {
     "name": "stdout",
     "output_type": "stream",
     "text": [
      "[0, 1, 1, 2, 3, 5, 8, 13, 21, 34, 55, 89, 144, 233, 377, 610, 987, 1597, 2584, 4181, 6765, 10946, 17711, 28657, 46368, 75025, 121393, 196418, 317811, 514229, 832040, 1346269, 2178309, 3524578, 5702887, 9227465, 14930352, 24157817, 39088169, 63245986]\n"
     ]
    }
   ],
   "source": [
    "F = [0, 1]\n",
    "for i in range(2, 40):\n",
    "    F.append(F[-1] + F[-2])\n",
    "print(F)    "
   ]
  },
  {
   "cell_type": "markdown",
   "id": "67531b4f",
   "metadata": {},
   "source": [
    "### Funkcje anonimowe `lambda`"
   ]
  },
  {
   "cell_type": "markdown",
   "id": "0b14184a",
   "metadata": {},
   "source": [
    "Wcześniej pokazaliśmy w jaki sposób definiować funkcje za pomocą instrukcji `def` w sposób jawny. Okazuje się jednak, że Python pozwala nam na definiowanie funkcji także bez podawania jej nazwy przy definicji i to w dodatku w postaci instrukcji. Służy do tego wyrażenie `lambda`."
   ]
  },
  {
   "cell_type": "code",
   "execution_count": 131,
   "id": "56884ef8",
   "metadata": {},
   "outputs": [
    {
     "data": {
      "text/plain": [
       "15"
      ]
     },
     "execution_count": 131,
     "metadata": {},
     "output_type": "execute_result"
    }
   ],
   "source": [
    "f = lambda a, b: a + b\n",
    "f(10, 5)"
   ]
  },
  {
   "cell_type": "markdown",
   "id": "923c4c0f",
   "metadata": {},
   "source": [
    "Powyżej stworzyliśmy funkcję, która pobiera dwa argumenty i zwraca w wyniku ich sumę. Jak widać przypisaliśmy tę funkcję do zmiennej `f` dzięki czemu mogliśmy ją wywołać za pomocą tej zmiennej. Zupełnie analogicznie taka funkcja powstałaby za pomocą `def`."
   ]
  },
  {
   "cell_type": "code",
   "execution_count": 132,
   "id": "dd16636e",
   "metadata": {},
   "outputs": [
    {
     "data": {
      "text/plain": [
       "15"
      ]
     },
     "execution_count": 132,
     "metadata": {},
     "output_type": "execute_result"
    }
   ],
   "source": [
    "def f(a, b): return a + b\n",
    "f(10, 5)"
   ]
  },
  {
   "cell_type": "markdown",
   "id": "9e0656c3",
   "metadata": {},
   "source": [
    "Po co więc stosować `lambda`, jeśli to samo możemu uzyskać za pomocą `def`? Wyobraźmy sobie, że potrebujemy stworzyć kilka prostych funkcji, które będą zwracały kwadrat, sześcian i czwartą potęgę podanej liczby i będą przechowywane jako lista. Za pomocą wyrażenia `def` będzie to wyglądało następująco"
   ]
  },
  {
   "cell_type": "code",
   "execution_count": 133,
   "id": "03f30d51",
   "metadata": {},
   "outputs": [],
   "source": [
    "def f1(x): return x**2\n",
    "def f2(x): return x**3\n",
    "def f3(x): return x**4\n",
    "funkcje = [f1, f2, f3]"
   ]
  },
  {
   "cell_type": "markdown",
   "id": "8ccc3190",
   "metadata": {},
   "source": [
    "Odpowiednie funkcje możemy teraz wywołać za pomocą wywoływania elementów listy."
   ]
  },
  {
   "cell_type": "code",
   "execution_count": 134,
   "id": "a7e580cc",
   "metadata": {},
   "outputs": [
    {
     "data": {
      "text/plain": [
       "4"
      ]
     },
     "execution_count": 134,
     "metadata": {},
     "output_type": "execute_result"
    }
   ],
   "source": [
    "funkcje[0](2) #wywołanie funkcji zwracającej kwadrat"
   ]
  },
  {
   "cell_type": "code",
   "execution_count": 135,
   "id": "9101777d",
   "metadata": {},
   "outputs": [
    {
     "data": {
      "text/plain": [
       "8"
      ]
     },
     "execution_count": 135,
     "metadata": {},
     "output_type": "execute_result"
    }
   ],
   "source": [
    "funkcje[1](2) #wywołanie funkcji zwracającej sześcian"
   ]
  },
  {
   "cell_type": "code",
   "execution_count": 136,
   "id": "7ef3054c",
   "metadata": {},
   "outputs": [
    {
     "data": {
      "text/plain": [
       "16"
      ]
     },
     "execution_count": 136,
     "metadata": {},
     "output_type": "execute_result"
    }
   ],
   "source": [
    "funkcje[2](2) #wywołanie funkcji zwracającej czwratą potęgę"
   ]
  },
  {
   "cell_type": "markdown",
   "id": "27f646b2",
   "metadata": {},
   "source": [
    "Ponieważ wyrażenie `def` musi się znajdować poza innymi instrukcjami, musieliśmy stworzyć te instrukcje poza listą i dopiero po stworzeniu dodać je do listy. Wyrażenie `lambda` możemy z kolei uzywać wewnątrz innych instrukcji, co daje większą swobodę w tworzeniu funkcji."
   ]
  },
  {
   "cell_type": "code",
   "execution_count": 137,
   "id": "913eac80",
   "metadata": {},
   "outputs": [],
   "source": [
    "funkcje = [lambda x, i = i: x**i for i in range(2, 5, 1)] #konieczność dołożenia parametru i = i!"
   ]
  },
  {
   "cell_type": "code",
   "execution_count": 138,
   "id": "2f8bc5c3",
   "metadata": {
    "scrolled": true
   },
   "outputs": [
    {
     "data": {
      "text/plain": [
       "4"
      ]
     },
     "execution_count": 138,
     "metadata": {},
     "output_type": "execute_result"
    }
   ],
   "source": [
    "funkcje[0](2) #wywołanie funkcji zwracającej kwadrat"
   ]
  },
  {
   "cell_type": "code",
   "execution_count": 139,
   "id": "b63adebd",
   "metadata": {
    "scrolled": true
   },
   "outputs": [
    {
     "data": {
      "text/plain": [
       "8"
      ]
     },
     "execution_count": 139,
     "metadata": {},
     "output_type": "execute_result"
    }
   ],
   "source": [
    "funkcje[1](2) #wywołanie funkcji zwracającej sześcian"
   ]
  },
  {
   "cell_type": "code",
   "execution_count": 140,
   "id": "c4bce2b7",
   "metadata": {
    "scrolled": true
   },
   "outputs": [
    {
     "data": {
      "text/plain": [
       "16"
      ]
     },
     "execution_count": 140,
     "metadata": {},
     "output_type": "execute_result"
    }
   ],
   "source": [
    "funkcje[2](2) #wywołanie funkcji zwracającej czwratą potęgę"
   ]
  },
  {
   "cell_type": "markdown",
   "id": "e6f499d2",
   "metadata": {},
   "source": [
    "Byliśmy więc w stanie stworzyć trzy różne funkcje za pomocą listy składanej bez konieczności definiowania ich wcześniej i bez konieczności nazywania ich."
   ]
  },
  {
   "cell_type": "markdown",
   "id": "19d92b90",
   "metadata": {},
   "source": [
    "# Ćwiczenia"
   ]
  },
  {
   "cell_type": "markdown",
   "id": "3daea3a9",
   "metadata": {},
   "source": [
    "**Zadanie**"
   ]
  },
  {
   "cell_type": "markdown",
   "id": "1247aecf",
   "metadata": {},
   "source": [
    "Napisz funkcję `dateChange`, która będzie zamieniała podaną przez użytkowanika datę w systemiez kropkami DD.MM.RRRR na datę w systemie amerykańskim MM/DD/RRRR. Załóż, że użytkownik nie podaje niewłaściwych dat.<br>\n",
    "Przykład:<br>\n",
    "05.04.2022 -> 04/05/2022<br>\n",
    "1.1.2000 - 1/1/2000"
   ]
  },
  {
   "cell_type": "markdown",
   "id": "2f5498de",
   "metadata": {},
   "source": [
    "**Rozwiązanie:**"
   ]
  },
  {
   "cell_type": "code",
   "execution_count": 5,
   "id": "c59c07e5",
   "metadata": {},
   "outputs": [],
   "source": [
    "def dateChange(data):\n",
    "    data = data.split('.') #korzystamy z metody wbudowanej split, która rozdziela ciąg znaków względem argumentu i tworzy listę\n",
    "    return data[1]+'/'+data[0]+'/'+data[2]"
   ]
  },
  {
   "cell_type": "code",
   "execution_count": 7,
   "id": "c8c4cdb2",
   "metadata": {},
   "outputs": [
    {
     "name": "stdout",
     "output_type": "stream",
     "text": [
      "05.04.2022\n",
      "04/05/2022\n"
     ]
    }
   ],
   "source": [
    "data = input()\n",
    "res = dateChange(data)\n",
    "print(res)"
   ]
  },
  {
   "cell_type": "markdown",
   "id": "7f9cad7f",
   "metadata": {},
   "source": [
    "**Zadanie**"
   ]
  },
  {
   "cell_type": "markdown",
   "id": "c7c81e14",
   "metadata": {},
   "source": [
    "Napisz funkcję `isValid`, która będzie sprawdzała, czy podana przez użytkownika wartość jest liczbą naturalną. Jeśli jest liczbą naturalną zwróć wartość `True`, w przeciwnym razie zwróć wartość `False`. Dodatkowo zignoruj wszystkie spacje, które pojawią się przed, po lub pomiedzy innymi znakami.<br>\n",
    "Przykład:<br>\n",
    "isValid('12') -> True<br>\n",
    "isValid('ala') -> False<br>\n",
    "isValid('12.34') -> False<br>\n",
    "isValid(' 1 2 3 ') -> True<br>\n",
    "isValid('1.') -> False"
   ]
  },
  {
   "cell_type": "markdown",
   "id": "e7e4a7b0",
   "metadata": {},
   "source": [
    "**Rozwiązanie:**"
   ]
  },
  {
   "cell_type": "code",
   "execution_count": 14,
   "id": "ea9816de",
   "metadata": {},
   "outputs": [],
   "source": [
    "def isValid(x):\n",
    "    ref = '1234567890'\n",
    "    return all([e in ref for e in x if e != ' '])"
   ]
  },
  {
   "cell_type": "markdown",
   "id": "8ad940dd",
   "metadata": {},
   "source": [
    "W powyższym kodzie skorzystaliśmy w dwóch przydatnych instrukcji. Prześledźmy ich działanie. "
   ]
  },
  {
   "cell_type": "markdown",
   "id": "513d6a20",
   "metadata": {},
   "source": [
    "Fragment `e in ref` oznacza sprawdź czy element e znajduje się w sekwencji (liście, krotce, ciągu znaków) i jeśli tak to zwróć wartość `True`. W przeciwnym razie zwróć wartość `False`."
   ]
  },
  {
   "cell_type": "code",
   "execution_count": 8,
   "id": "8a9be591",
   "metadata": {},
   "outputs": [
    {
     "data": {
      "text/plain": [
       "True"
      ]
     },
     "execution_count": 8,
     "metadata": {},
     "output_type": "execute_result"
    }
   ],
   "source": [
    "1 in [1, 2, 3]"
   ]
  },
  {
   "cell_type": "code",
   "execution_count": 9,
   "id": "8a1b47e5",
   "metadata": {},
   "outputs": [
    {
     "data": {
      "text/plain": [
       "False"
      ]
     },
     "execution_count": 9,
     "metadata": {},
     "output_type": "execute_result"
    }
   ],
   "source": [
    "1 in [2, 3, 4]"
   ]
  },
  {
   "cell_type": "code",
   "execution_count": 10,
   "id": "6b94df36",
   "metadata": {},
   "outputs": [
    {
     "data": {
      "text/plain": [
       "True"
      ]
     },
     "execution_count": 10,
     "metadata": {},
     "output_type": "execute_result"
    }
   ],
   "source": [
    "'a' in 'abcde'"
   ]
  },
  {
   "cell_type": "markdown",
   "id": "6ca1a8f1",
   "metadata": {},
   "source": [
    "Drugą rzeczą jest skorzystanie z funkcji wbudowanej `all`. Zauważmy, że w powyższym kodzie stworzyliśmy za pomocą listy składanej listę zawierającą tylko wartość `True` oraz `False` które mówią nam czy dany element z ciągu znaków `x` jest w ciągu `ref`, który zawiera wszystkie znaki będące liczbami. Jeśli przy przechodzeniu przez ciąg `x` trafimi na coś innego niż liczba, dostaniemy wartość `False`. Funkcja `all` pobiera jako argument sekwencję (w naszym przypadku listę) i zwraca wartość `True`, jeśli wszystkie elementy są `True`, lub zwraca wartość `False` w przeciwym razie. "
   ]
  },
  {
   "cell_type": "code",
   "execution_count": 11,
   "id": "450fd9dc",
   "metadata": {},
   "outputs": [
    {
     "data": {
      "text/plain": [
       "True"
      ]
     },
     "execution_count": 11,
     "metadata": {},
     "output_type": "execute_result"
    }
   ],
   "source": [
    "all([True, True, True])"
   ]
  },
  {
   "cell_type": "code",
   "execution_count": 12,
   "id": "ecef2365",
   "metadata": {
    "scrolled": true
   },
   "outputs": [
    {
     "data": {
      "text/plain": [
       "False"
      ]
     },
     "execution_count": 12,
     "metadata": {},
     "output_type": "execute_result"
    }
   ],
   "source": [
    "all([True, True, False])"
   ]
  },
  {
   "cell_type": "markdown",
   "id": "654037e0",
   "metadata": {},
   "source": [
    "Tak napisany program spełnia swoje zadanie."
   ]
  },
  {
   "cell_type": "code",
   "execution_count": 15,
   "id": "fae6f9ea",
   "metadata": {},
   "outputs": [
    {
     "name": "stdout",
     "output_type": "stream",
     "text": [
      "12.3\n"
     ]
    },
    {
     "data": {
      "text/plain": [
       "False"
      ]
     },
     "execution_count": 15,
     "metadata": {},
     "output_type": "execute_result"
    }
   ],
   "source": [
    "x = input()\n",
    "isValid(x)"
   ]
  }
 ],
 "metadata": {
  "kernelspec": {
   "display_name": "Python 3",
   "language": "python",
   "name": "python3"
  },
  "language_info": {
   "codemirror_mode": {
    "name": "ipython",
    "version": 3
   },
   "file_extension": ".py",
   "mimetype": "text/x-python",
   "name": "python",
   "nbconvert_exporter": "python",
   "pygments_lexer": "ipython3",
   "version": "3.6.9"
  }
 },
 "nbformat": 4,
 "nbformat_minor": 5
}
