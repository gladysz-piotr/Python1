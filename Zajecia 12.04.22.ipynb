{
 "cells": [
  {
   "cell_type": "markdown",
   "id": "a659648f",
   "metadata": {},
   "source": [
    "**Zadanie (nie zrobiliśmy tego na zajęciach)**"
   ]
  },
  {
   "cell_type": "markdown",
   "id": "49ffb1ae",
   "metadata": {},
   "source": [
    "Napisz funkcję `isNiven`, która będzie sprawdzała, czy podana liczba jest naturalna (skorzystaj ze stworzonej funkcji `isValid`), a następnie czy jest liczbą Nivena. Jeśli oba warunki są spełnione zwróć wartość `True`, w przeciwnym wypadku zwróć wartość `False`. Liczby Nivena to liczby, które dzielą się przez sumę swoich cyfr.<br> \n",
    "Przykład:<br>\n",
    "isNiven(28) -> False <br>\n",
    "isNiven(63) -> True <br>\n",
    "isNiven() -> False <br>"
   ]
  },
  {
   "cell_type": "markdown",
   "id": "eb6aef53",
   "metadata": {},
   "source": [
    "Następnie użyj tej funkcji do znalezienia wszyskich liczb nivena w przedziale [1, 100]."
   ]
  },
  {
   "cell_type": "markdown",
   "id": "2fd0a7d6",
   "metadata": {},
   "source": [
    "**Rozwiązanie:**"
   ]
  },
  {
   "cell_type": "code",
   "execution_count": 2,
   "id": "93e55b9d",
   "metadata": {},
   "outputs": [],
   "source": [
    "def isNiven(x):\n",
    "    x = str(x)\n",
    "    if isValid(x) and x != '0':\n",
    "        if int(x) % sum([int(l) for l in x]) == 0:\n",
    "            return True\n",
    "    else:\n",
    "        return False"
   ]
  },
  {
   "cell_type": "code",
   "execution_count": 146,
   "id": "c4c41a9b",
   "metadata": {},
   "outputs": [
    {
     "data": {
      "text/plain": [
       "False"
      ]
     },
     "execution_count": 146,
     "metadata": {},
     "output_type": "execute_result"
    }
   ],
   "source": [
    "isNiven(0)"
   ]
  },
  {
   "cell_type": "markdown",
   "id": "cafd71f7",
   "metadata": {},
   "source": [
    "Pytanie brzmi, po co takie funkcje zwracające wartości `True` albo `False` istnieją? Są wygodne w użyciu na przykład przy listach składanych lub w pętlach."
   ]
  },
  {
   "cell_type": "code",
   "execution_count": 3,
   "id": "4f78145f",
   "metadata": {
    "scrolled": true
   },
   "outputs": [
    {
     "name": "stdout",
     "output_type": "stream",
     "text": [
      "1 2 3 4 5 6 7 8 9 10 12 18 20 21 24 27 30 36 40 42 45 48 50 54 60 63 70 72 80 81 84 90 100\n"
     ]
    }
   ],
   "source": [
    "print(*[x for x in range(1, 101, 1) if isNiven(x)])"
   ]
  },
  {
   "cell_type": "markdown",
   "id": "6cccc440",
   "metadata": {},
   "source": [
    "**Zadanie - całkowanie numeryczne metodą prostokątów**"
   ]
  },
  {
   "attachments": {
    "metoda_prostokatow.gif": {
     "image/gif": "[encoded data removed]"
    }
   },
   "cell_type": "markdown",
   "id": "8a71f836",
   "metadata": {},
   "source": [
    "![metoda_prostokatow.gif](attachment:metoda_prostokatow.gif)"
   ]
  },
  {
   "cell_type": "markdown",
   "id": "263f8f77",
   "metadata": {},
   "source": [
    "Całkę, czyli pole pod zadaną krzywą $f(x)$ na przedziale $[a, b]$ możemy w sposób przybliżony obliczyć za pomocą sumowania pól prostokątów pod funkcją. Szerokość prostokąta $\\Delta x$ ustalamy za pomocą określenia liczby prostokątów $N$, których chemy użyć zgodnie ze wzorem $\\Delta x = \\frac{b - a}{N}$. Im większa liczba $N$ tym lepsza dokładność, ale też i dłuższy czas obliczeń. Mając ustalony krok $\\Delta x$ dzielimy oś $x$ na dyskretne punkty $[x_0, x_1, x_2, ..., x_N]$, gdzie $x_0 = a$, $x_i = a + i\\Delta x$ i oczywiście $x_N = a+N\\Delta x = b$. Następnie, dla każdego prostokąta jego wysokość ustalamy jako wartość funkcji dla argumentu będącego jego prawym brzegiem. Innymi słowami, wysokość $i$-tego prostokąta (będącego na przedziale $[x_{i-1}, x_i]$) określamy jako $f(x_i)$ (patrz rysunek wyżej).<br>\n",
    "Wreszcie przybliżona wartość będzie wyrażona jako suma<br>\n",
    "$\\int^b_a f(x) dx \\approx \\sum^N_1 f(a + i\\Delta x)\\Delta x$."
   ]
  },
  {
   "cell_type": "markdown",
   "id": "5da86984",
   "metadata": {},
   "source": [
    "Napisz program, który będzie obliczał całkę z funkcji kwadratowej $f(x)=3x^2-4x-5$ przedstawioną metodą. Skorzystaj ze struktury przedstawionej poniżej:"
   ]
  },
  {
   "cell_type": "code",
   "execution_count": 24,
   "id": "eb78ac6c",
   "metadata": {},
   "outputs": [
    {
     "name": "stdout",
     "output_type": "stream",
     "text": [
      "None\n"
     ]
    }
   ],
   "source": [
    "def funkcja(x):\n",
    "    '''Funkcja zwracająca wartość funkcji dla podanej wartości x'''\n",
    "\n",
    "def calkaProstokaty(a, b, N):\n",
    "    '''Funkcja zwracająca całkę z funkcji zdefiniowanej wyżej na przdziale a, b i z liczbą prostokątów równą N.\n",
    "    Należy zwracać uwagę, czy a < b czy na odwrót i odpowiednio dostosować obliczenia'''\n",
    "    \n",
    "wynik = calkaProstokaty(1, 4, 1000) #wywołanie funkcji całkującej dla przedziału [1, 4]\n",
    "print(wynik) #wyświetlenie wyniku"
   ]
  },
  {
   "cell_type": "markdown",
   "id": "b587d90f",
   "metadata": {},
   "source": [
    "**Rozwiązanie:**"
   ]
  },
  {
   "cell_type": "code",
   "execution_count": 2,
   "id": "c889fa8d",
   "metadata": {},
   "outputs": [
    {
     "name": "stdout",
     "output_type": "stream",
     "text": [
      "18.04951350000001\n"
     ]
    }
   ],
   "source": [
    "def funkcja(x): \n",
    "    return 3 * x ** 2 - 4 * x - 5\n",
    "\n",
    "def calkaProstokaty(a, b, N):\n",
    "    Dx = (b - a) / N #określamy szerokość prostokąta\n",
    "    return sum([funkcja(a + i * Dx) * Dx for i in range(1, N + 1, 1)]) #wykonujemy sumowanie\n",
    "    \n",
    "wynik = calkaProstokaty(1, 4, 1000) #wywołanie funkcji całkującej     \n",
    "print(wynik) #wyświetlenie wyniku"
   ]
  },
  {
   "cell_type": "markdown",
   "id": "3133280a",
   "metadata": {},
   "source": [
    "Możemy także przedstawić wynik sprawdzając jak zwiększa się dokładność wraz ze zwiększaniem wartości $N$."
   ]
  },
  {
   "cell_type": "code",
   "execution_count": 3,
   "id": "3c13d40d",
   "metadata": {},
   "outputs": [
    {
     "name": "stdout",
     "output_type": "stream",
     "text": [
      "18.496349999999996 18.04951350000001 18.004950135 18.000495001350032\n"
     ]
    }
   ],
   "source": [
    "print(*[calkaProstokaty(1, 4, N) for N in [100, 1000, 10000, 100000]])"
   ]
  },
  {
   "cell_type": "markdown",
   "id": "2bd4705b",
   "metadata": {},
   "source": [
    "Ponieważ funkcja kwadratowa jest łatwa do scałkowania analitycznie, możemy porównać otrzymany wynik z wynikiem dokładnym, gdyż $\\int 3x^2−4x-5 dx = x^3 - 2x^2 -5x +C = F(x)$. Stąd $\\int^b_a = F(b) - F(a)$."
   ]
  },
  {
   "cell_type": "code",
   "execution_count": 4,
   "id": "43081762",
   "metadata": {},
   "outputs": [
    {
     "name": "stdout",
     "output_type": "stream",
     "text": [
      "18\n"
     ]
    }
   ],
   "source": [
    "def calkaAnalityczna(a, b):\n",
    "    def F(x): \n",
    "        return x ** 3 - 2 * x ** 2 - 5 * x #nie mamy stałej C, ponieważ przy odejmowaniu zostanie zredukowana\n",
    "    return F(b) - F(a)\n",
    "    \n",
    "real = calkaAnalityczna(1, 4)\n",
    "print(real)"
   ]
  },
  {
   "cell_type": "markdown",
   "id": "05287747",
   "metadata": {},
   "source": [
    "W prosty sposób możemy także uogólnić naszą funkcję `calkaProstokaty` poprzez dołożenie argumentu `f` będącego funkcją. W ten sposób, jeśli stworzymy inną funkcją, będziemy mogli policzyć całkę bez modyfikowania kodu funkcji `calkaProstokaty`. Przykładowo, poniżej mamy zdefiniowane trzy różne funkcje i chcemy policzyć z nich całki za pomocą jednej funkcji `calkaProstokaty`."
   ]
  },
  {
   "cell_type": "code",
   "execution_count": 5,
   "id": "ef97e06e",
   "metadata": {
    "scrolled": true
   },
   "outputs": [
    {
     "name": "stdout",
     "output_type": "stream",
     "text": [
      "0.5005000000000002\n",
      "0.33383350000000034\n",
      "0.2505002499999998\n"
     ]
    }
   ],
   "source": [
    "def f1(x):\n",
    "    return x\n",
    "    \n",
    "def f2(x):\n",
    "    return x ** 2 \n",
    "    \n",
    "def f3(x):    \n",
    "    return x ** 3\n",
    "    \n",
    "def calkaProstokaty(f, a, b, N): #poza przedziałem i liczą prostokontów f jest zmienną zawierającą funkcję\n",
    "    Dx = (b - a) / N #określamy szerokość prostokąta\n",
    "    return sum([f(a + i * Dx) * Dx for i in range(1, N + 1, 1)]) #wykonujemy sumowanie i wywołujemy podaną funkcję f\n",
    "\n",
    "print(calkaProstokaty(f1, 0, 1, 1000)) #powinno być 0.5\n",
    "print(calkaProstokaty(f2, 0, 1, 1000)) #powinno być 0.(3)\n",
    "print(calkaProstokaty(f3, 0, 1, 1000)) #powinno byc 0.25"
   ]
  },
  {
   "cell_type": "markdown",
   "id": "65620958",
   "metadata": {},
   "source": [
    "**Uwaga!** Tak zaimplementowany kod działa również dla przedziału gdzie $a > b$, czy jest zrozumiałe dlaczego?"
   ]
  },
  {
   "cell_type": "markdown",
   "id": "f7d4d3eb",
   "metadata": {},
   "source": [
    "**Zadanie - całkowanie numeryczne metodą trapezów**"
   ]
  },
  {
   "attachments": {
    "metoda_trapezow.gif": {
     "image/gif": "[encoded data removed]"
    }
   },
   "cell_type": "markdown",
   "id": "7a9e9dfd",
   "metadata": {},
   "source": [
    "![metoda_trapezow.gif](attachment:metoda_trapezow.gif)"
   ]
  },
  {
   "cell_type": "markdown",
   "id": "303a1ea6",
   "metadata": {},
   "source": [
    "Zwykle nieco dokładniejsze wartość otrzymamy, jeśli zamiast prostokątów skorzystamy z trapezów prostokątnych jak na powyższym rysunku. Zamiast ustalać więc wysokość prostokąta na podstawie tylko jednego (skrajnego) punktu, możemy skorzystać z informacji o obu punktach. Tak więc dla $i$-tego trapezu jego podstawy będą miały wartości $f(x_{i-1})$ oraz $f(x_i)$, a jego pole $\\frac{1}{2}(f(x_{i-1})+f(x_i))\\Delta x$.<br>\n",
    "Przybliżona wartość będzie w tym przypadku wyrażona jako suma<br>\n",
    "$\\int^b_a f(x) dx \\approx \\sum^N_1 \\frac{1}{2}(f(a + (i-1)\\Delta x)+f(a + i\\Delta x))\\Delta x$."
   ]
  },
  {
   "cell_type": "markdown",
   "id": "2e726d86",
   "metadata": {},
   "source": [
    "Napisz funkcję, która podobnie do zaimplementowanej jako ostatnia funkcji `calkaProstokaty` dla podanej funkcji, przedziału i liczby kroków zwróci wartość całki na tym przedziale. Do sprawdzenia obliczeń oraz porównania można skorzystać z zaimplementowanych już funkcji `funkcja` oraz `calkaAnalityczna`."
   ]
  },
  {
   "cell_type": "code",
   "execution_count": 31,
   "id": "fabda577",
   "metadata": {},
   "outputs": [
    {
     "name": "stdout",
     "output_type": "stream",
     "text": [
      "None\n"
     ]
    }
   ],
   "source": [
    "def calkaTrapezy(f, a, b, N):\n",
    "    '''Funkcja licząca całkę z podanej funkcji f na przedziale [a, b] o liczbie kroków N metodą trapezów'''\n",
    "    \n",
    "wynik = calkaTrapezy(funkcja, 1, 4, 1000) #wywołanie funkcji całkującej dla przedziału [1, 4]\n",
    "print(wynik) #wyświetlenie wyniku    "
   ]
  },
  {
   "cell_type": "markdown",
   "id": "e0e9e9a9",
   "metadata": {},
   "source": [
    "**Rozwiązanie:**"
   ]
  },
  {
   "cell_type": "code",
   "execution_count": 6,
   "id": "fc93b615",
   "metadata": {},
   "outputs": [
    {
     "name": "stdout",
     "output_type": "stream",
     "text": [
      "18.000013500000005\n"
     ]
    }
   ],
   "source": [
    "def calkaTrapezy(f, a, b, N):\n",
    "    Dx = (b - a) / N #określamy szerokość prostokąta\n",
    "    #wykonujemy sumowanie i wywołujemy podaną funkcję f\n",
    "    return sum([0.5 * (f(a + (i - 1) * Dx) + f(a + i * Dx)) * Dx for i in range(1, N + 1, 1)]) \n",
    "    \n",
    "wynik = calkaTrapezy(funkcja, 1, 4, 1000) #wywołanie funkcji całkującej dla przedziału [1, 4]\n",
    "print(wynik) #wyświetlenie wyniku"
   ]
  },
  {
   "cell_type": "markdown",
   "id": "a559bda9",
   "metadata": {},
   "source": [
    "Możemy porównać nasze wyniki z wynikami dla całkowania za pomocą prostokątów w zależności od wartości $N$."
   ]
  },
  {
   "cell_type": "code",
   "execution_count": 7,
   "id": "6084bb3a",
   "metadata": {
    "scrolled": true
   },
   "outputs": [
    {
     "name": "stdout",
     "output_type": "stream",
     "text": [
      "18.496349999999996 18.04951350000001 18.004950135 18.000495001350032\n",
      "18.001349999999995 18.000013500000005 18.00000013500002 18.00000000135003\n"
     ]
    }
   ],
   "source": [
    "print(*[calkaProstokaty(funkcja, 1, 4, N) for N in [100, 1000, 10000, 100000]])\n",
    "print(*[calkaTrapezy(funkcja, 1, 4, N) for N in [100, 1000, 10000, 100000]])"
   ]
  },
  {
   "cell_type": "markdown",
   "id": "64d0c69e",
   "metadata": {},
   "source": [
    "Widać wyraźnie, że całkowanie ze pomocą trapezów w tym przypadku daje znacznie lepsze rezultaty."
   ]
  },
  {
   "cell_type": "markdown",
   "id": "46bacb77",
   "metadata": {},
   "source": [
    "**Zadanie - całkowanie numeryczne metodą losową (Monte Carlo)**"
   ]
  },
  {
   "attachments": {
    "metoda_monte_carlo.gif": {
     "image/gif": "[encoded data removed]"
    }
   },
   "cell_type": "markdown",
   "id": "6897bce6",
   "metadata": {},
   "source": [
    "![metoda_monte_carlo.gif](attachment:metoda_monte_carlo.gif)"
   ]
  },
  {
   "cell_type": "markdown",
   "id": "37d96498",
   "metadata": {},
   "source": [
    "Metoda Monte Carlo jest zupełnie inna od tego, co robiliśmy do tej pory. Zasada działania jest bardzo prosta. Jeżeli chcemy obliczyć całkę z funkcji $f(x)$ na danym przedziale $[a, b]$ tworzymy prostokąt na tym przedziale tak, żeby zawierał w sobie całą funkcję, jak na rysunku powyżej. Pole takiego prostokąta wynosi $P = (b-a)*(d - c)$, gdzie $c$ oraz $d$ określają jego granice na osi $y$ i $c<d$. Tworzymy zmienną pomocniczą $S = 0$. Następnie, losujemy $N$ punktów $(x_p, y_p)$ w tym prostokącie, takich że $a \\le x_p \\le b$ oraz $c \\le y_p \\le d$. Następnie, sprawdzamy czy dany punkt znajduje się pod krzywą na dodatnich wartościach: $0 < y_p \\le f(x_p)$ lub na ujemnych: $f(x_p) \\le y_p < 0$. Jeśli spełniony jest pierwszy warunek zwiększamy $S$ o jeden, jeśli spełniony jest drugi warunek zmniejszamy $S$ o jeden.<br>\n",
    "Całkę określamy poprzez stosunek $S$ do $N$ przemnożony przez pole prostokąta<br>\n",
    "$\\int^b_af(x)dx \\approx P *\\frac{S}{N}=(b-a)*(d - c)*\\frac{S}{N}$."
   ]
  },
  {
   "cell_type": "code",
   "execution_count": 75,
   "id": "a7d9c266",
   "metadata": {},
   "outputs": [
    {
     "name": "stdout",
     "output_type": "stream",
     "text": [
      "None\n"
     ]
    }
   ],
   "source": [
    "from random import random as rnd\n",
    "\n",
    "def losowyPunkt(x_min, x_max, y_min, y_max):\n",
    "    '''Funkcja zwracająca losowy punkt o współrzędnych (x, y) takich, że x_min <= x < x_max, y_min <= y <= y_max'''\n",
    "\n",
    "def calkaMC(f, x_min, x_max, y_min, y_max, N):\n",
    "    '''Funkcja zwracająca wartość całki metodą Monte Carlo na przedziale x_min, x_max z funkcji f \n",
    "        dla N wylosowanych punktów.'''\n",
    "\n",
    "wynik = calkaMC(funkcja, 1, 4, -8, 50, 1000) #wywołanie funkcji\n",
    "print(wynik) #wyświetlenie wyniku"
   ]
  },
  {
   "cell_type": "markdown",
   "id": "cf11cd8a",
   "metadata": {},
   "source": [
    "**Rozwiązanie:**"
   ]
  },
  {
   "cell_type": "code",
   "execution_count": 8,
   "id": "eec19655",
   "metadata": {},
   "outputs": [
    {
     "name": "stdout",
     "output_type": "stream",
     "text": [
      "17.4\n"
     ]
    }
   ],
   "source": [
    "from random import random\n",
    "\n",
    "def losowyPunkt(x_min, x_max, y_min, y_max):\n",
    "    #funkcja random() zwraca losową wartość z przedziału [0, 1].\n",
    "    #W celu otrzymania losowych wartości z przedziałów [a, b] oraz [c, d] musimy wynik przeskalować jak poniżej.\n",
    "    return (x_min + (x_max - x_min) * random(), y_min + (y_max - y_min) * random()) \n",
    "\n",
    "def calkaMC(f, a, b, c, d, N):\n",
    "    S = 0\n",
    "    for i in range(N):\n",
    "        p = losowyPunkt(a, b, c, d)\n",
    "        if 0 < p[1] <= f(p[0]):\n",
    "            S += 1\n",
    "        elif f(p[0]) <= p[1] < 0:\n",
    "            S -= 1\n",
    "        else:\n",
    "            pass\n",
    "    return (b - a) * (d - c) * S / N\n",
    "\n",
    "#jak narysujemy sobie wykres widać, że wartości są w przedziale (-8, 50) dla przedziału całkowania [1, 4]\n",
    "wynik = calkaMC(funkcja, 1, 4, -8, 50, 1000) \n",
    "print(wynik)"
   ]
  },
  {
   "cell_type": "code",
   "execution_count": 9,
   "id": "69756285",
   "metadata": {},
   "outputs": [
    {
     "name": "stdout",
     "output_type": "stream",
     "text": [
      "23.1 17.16 18.711 17.9025 17.97741\n"
     ]
    }
   ],
   "source": [
    "print(*[calkaMC(funkcja, 1, 4, -10, 100, N) for N in [100, 1000, 10000, 100000, 1000000]])"
   ]
  },
  {
   "cell_type": "markdown",
   "id": "a19a9bd6",
   "metadata": {},
   "source": [
    "Jak widać metoda ta jest znacznie mniej dokładna a wynik jest obliczany na podstawie losowania, więc za każdym wywołaniem funkcji jest inny."
   ]
  },
  {
   "cell_type": "markdown",
   "id": "81b1d344",
   "metadata": {},
   "source": [
    "**Zadanie domowe!**"
   ]
  },
  {
   "cell_type": "markdown",
   "id": "679f2f3d",
   "metadata": {},
   "source": [
    "Napisz prostą grę w zgadywanie liczby. Gra polega na wylosowaniu przez program dowolnej liczby czterocyfrowej z przedziału [1000, 9999]. Zadaniem gracza jest odgadnięcie tej liczby poprzez wpisanie jej. Po wpisaniu liczby przez gracza program może działać w dwóch wersjach:<br>\n",
    "1. Wersja prostsza.<br>\n",
    "Program podświetla na zielono wszystkie cyfry, które zostały wpisane na prawidłowych miejscach, a reszta cyfr zostaje wyświetlona bez zmian.<br>\n",
    "<br>\n",
    "Przykład działania:<br>\n",
    "Wprowadź liczbę: $1111$<br>\n",
    "$1111$<br>\n",
    "Wprowadź liczbę: $2222$<br>\n",
    "$2222$<br>\n",
    "Wprowadź liczbę: $3333$<br>\n",
    "$3333$<br>\n",
    "Wprowadź liczbę: $4444$<br>\n",
    "$444{\\color{green}{4}}$<br>\n",
    "Wprowadź liczbę: $5555$<br>\n",
    "$5555$<br>\n",
    "Wprowadź liczbę: $6666$<br>\n",
    "$66{\\color{green}{6}}6$<br>\n",
    "Wprowadź liczbę: $7777$<br>\n",
    "${\\color{green}{77}}77$<br>\n",
    "Wprowadź liczbę: $7764$<br>\n",
    "${\\color{green}{7764}}$<br>\n",
    "<br>\n",
    "2. Wersja trudniejsza:<br>\n",
    "Program podświetla na zielono liczby tak jak w punkcie 1. ale dodatkowo podświetla na żółto/ pomarańczowo liczby, które znajdują się w rozwiązaniu, ale są na złej pozycji.<br>\n",
    "<br>\n",
    "Przykład działania:<br>\n",
    "Wprowadź liczbę: $1234$<br>\n",
    "${\\color{green}{1}}2{\\color{orange}{3}}4$<br>\n",
    "Wprowadź liczbę: $5678$<br>\n",
    "${\\color{orange}{5}}678$<br>\n",
    "Wprowadź liczbę: $9033$<br>\n",
    "${\\color{orange}{9}}0{\\color{orange}{3}}3$<br>\n",
    "Wprowadź liczbę: $1593$<br>\n",
    "${\\color{green}{1}}{\\color{orange}{5}}{\\color{green}{9}}{\\color{orange}{3}}$<br>\n",
    "Wprowadź liczbę: $1395$<br>\n",
    "${\\color{green}{1395}}$<br>\n",
    "<br>\n",
    "Zwróć uwagę, że w przypadku gdy podana była liczba $9033$ tylko jedna cyfra $3$ została podświetlona, bo tylko jedna znajdowała się w rozwiązaniu!"
   ]
  },
  {
   "cell_type": "markdown",
   "id": "6bcf2c00",
   "metadata": {},
   "source": [
    "Do kolorowania teksu przyda się biblioteka `termcolor`, a dokładnie jej funkcja `colored`. Przykład działania został zaprezentowany poniżej."
   ]
  },
  {
   "cell_type": "code",
   "execution_count": 14,
   "id": "05ccc2b9",
   "metadata": {},
   "outputs": [
    {
     "name": "stdout",
     "output_type": "stream",
     "text": [
      "\u001b[31mAla\u001b[0m \u001b[33mma\u001b[0m \u001b[32mkota\u001b[0m\n"
     ]
    }
   ],
   "source": [
    "from termcolor import colored\n",
    "\n",
    "print(colored('Ala', 'red'), colored('ma', 'yellow'), colored('kota', 'green'))"
   ]
  },
  {
   "cell_type": "markdown",
   "id": "d93b3d22",
   "metadata": {},
   "source": [
    "Dodatkowo, program ma sprawdzać, czy dane podane przez użytkownika rzeczywiście są czterocyfrową liczbą z przedziału [1000, 9999]. Jeśli nie, ma zostać wyświetlony komunikat `Podane wyrażenie jest nieprawidłowe!` po czym program ma działać dalej normalnie i prosić o wprowadzenie liczby."
   ]
  },
  {
   "cell_type": "markdown",
   "id": "7094b208",
   "metadata": {},
   "source": [
    "W celu ułatwienia zadania polecam skorzystać z podanego poniżej szkieletu programu zawierającego proponowany sposób rozwiązania za pomocą funkcji."
   ]
  },
  {
   "cell_type": "code",
   "execution_count": null,
   "id": "702e7695",
   "metadata": {},
   "outputs": [],
   "source": [
    "from random import randint #funkcja randint(a, b) zwraca losową liczbę całkowitą z przedziału [a, b]\n",
    "from termcolor import colored #funkcja colored(tekst, kolor) zwraca tekst o podanym kolorze (w funkcji print!)\n",
    "\n",
    "def generateNumber():\n",
    "    '''Funkcja losująca liczbę z przedziału [1000, 9999]. Zwraca wartość w typie ciągu znaków (str).'''\n",
    "\n",
    "def isWin(user, goal):\n",
    "    '''Funkcja sprawdzająca czy liczba podana przez użytkownika (user) jest taka sama jak liczba,\n",
    "    która ma zostać zgadnięta (goal). Jeśli tak, zwróć True, jeśli nie, zwróć False.'''\n",
    "\n",
    "def isCorrect(user):\n",
    "    '''Funkcja sprawdzająca, czy podana przez użytkownika liczba jest prawidłowa, \n",
    "    czyli czy jest czterocyfrowa z przedziału [1000, 9999]. Jeśli jest prawidłowa, zwróć True, \n",
    "    w przeciwnym razie zwróć False.'''\n",
    "\n",
    "def showResult(user, goal):\n",
    "    '''Funkcja wyświetlajaca odpowiednio pokolorowaną liczbę (user) po porównaniu jej z liczbą \n",
    "    do zgadnięcia (goal). Tylko ta funkcja będzie się zmieniała w zależności od tego, która wersja gry\n",
    "    została wybrana do zrobienia.'''\n",
    "    \n",
    "goal = generateNumber() #wywołanie funkcji generującej liczbę do zgadnięcia\n",
    "win = False #zmienna przechowująca informację, czy gracz już wygrał\n",
    "while not win: #jeśli gracz nie wygrał, czyli win = False, pętla kontynuuje działanie\n",
    "    user = input('Wprowadź liczbę: ') #instrukcja pobierająca liczbę od użytkownika\n",
    "    if isCorrect(user): #wywołanie funkcji sprawdzającej czy podana liczba jest prawidłowa\n",
    "        showResult(user, goal) #jeśli jest prawidłowa, wywoływana jest funkcja wyświetlająca odpowiednie kolory cyfr\n",
    "    else: #jeśli funkcja isCorrect zwróciła False, wyświetlany jest poniższy tekst\n",
    "        print('Podane wyrażenie jest nieprawidłowe!')\n",
    "        continue #ta instrukcja przenosi nas do początku pętli, więc nie wykona się ostatnia instrukcja\n",
    "    win = isWin(user, goal) #wywołanie funkcji sprawdzającej, czy użytkownik wygrał przez porównanie user i goal,\n",
    "                            #jeśli user == goal, to win = True i pętla przestaje się wykonywać - koniec gry"
   ]
  },
  {
   "cell_type": "markdown",
   "id": "91a01cde",
   "metadata": {},
   "source": [
    "Powodzenia!"
   ]
  }
 ],
 "metadata": {
  "kernelspec": {
   "display_name": "Python 3",
   "language": "python",
   "name": "python3"
  },
  "language_info": {
   "codemirror_mode": {
    "name": "ipython",
    "version": 3
   },
   "file_extension": ".py",
   "mimetype": "text/x-python",
   "name": "python",
   "nbconvert_exporter": "python",
   "pygments_lexer": "ipython3",
   "version": "3.6.9"
  }
 },
 "nbformat": 4,
 "nbformat_minor": 5
}
