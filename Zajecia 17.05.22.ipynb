{
 "cells": [
  {
   "cell_type": "markdown",
   "id": "0044e3a7",
   "metadata": {},
   "source": [
    "**Zadanie domowe!**"
   ]
  },
  {
   "cell_type": "markdown",
   "id": "19f4de4d",
   "metadata": {},
   "source": [
    "Rozwiązywanie układów równań liniowych metodą eliminacji Gaussa.<br>"
   ]
  },
  {
   "cell_type": "markdown",
   "id": "e7941bca",
   "metadata": {},
   "source": [
    "Weźmy przykładowy układ równań i rozwiążmy go metodą eliminacji. Oznaczmy przez $w_i$ $i$-te równanie, opis nad strzałkami informajue jakie transformacje zostały przeprowadzone:<br>\n",
    "\n",
    "$\n",
    "\\left\\{\n",
    "\\begin{aligned}\n",
    "2x_1 + 4x_2 - 2x_3 &= 4\\\\\n",
    "1x_1 - 2x_2 + 1x_3 &= 0\\\\\n",
    "4x_1 - 1x_2 - 1x_3 &= -1\\\\\n",
    "\\end{aligned}\n",
    "\\right.\n",
    "\\xrightarrow{\\substack{w_1 \\rightarrow w_1\\\\w_2 \\rightarrow w_2 - \\frac{1}{2} w_1\\\\w_3 \\rightarrow w_3 - 2w_1}}\n",
    "\\left\\{\n",
    "\\begin{aligned}\n",
    "2x_1 + 4x_2 - 2x_3 &= 4\\\\\n",
    "0x_1 - 4x_2 + 2x_3 &= -2\\\\\n",
    "0x_1 - 9x_2 + 3x_3 &= -9\\\\\n",
    "\\end{aligned}\n",
    "\\right. \n",
    "\\xrightarrow{\\substack{w_1 \\rightarrow w_1\\\\w_2 \\rightarrow w_2\\\\w_3 \\rightarrow w_3 - \\frac{9}{4}w_2}}\n",
    "\\left\\{\n",
    "\\begin{aligned}\n",
    "2x_1 + 4x_2 - 2x_3 &= 4\\\\\n",
    "0x_1 - 4x_2 + 2x_3 &= -2\\\\\n",
    "0x_1 + 0x_2 - \\frac{3}{2}x_3 &= -\\frac{9}{2}\\\\\n",
    "\\end{aligned}\n",
    "\\right.\n",
    "$<br>\n",
    "Doprowadziliśmy do sytuacji w której ostatnie równanie zawiera tylko jedną niewiadomą $x_3$, możemy je więc rozwiązać. Następnie $x_3$ wykorzystamy do znalezienia $x_2$ z równania drugiego. Znalezione $x_3$ oraz $x_2$ posłużą z kolei do znalezienia $x_1$ co kończy szukanie rozwiązań:<br>\n",
    "$\n",
    "\\left\\{\n",
    "\\begin{aligned}\n",
    "x_1 &= 1\\\\\n",
    "x_2 &= 2\\\\\n",
    "x_3 &= 3\\\\\n",
    "\\end{aligned}\n",
    "\\right.\n",
    "$"
   ]
  },
  {
   "cell_type": "markdown",
   "id": "ecff61f9",
   "metadata": {},
   "source": [
    "Zauważmy, że powyższy sposób jest usystematyzowaną metodą. Dodatkowo, nie musimy cały czas ciągnąć zmiennych za sobą, możemy czynniki przepisać w formie tak zwanej macierzy rozszerzonej, gdzie ostatnia kolumna to wyrazy wolne z równań (dla podkreślenia odrębności jest oddzielona kreską):<br>\n",
    "\n",
    "$\n",
    "\\left( \\begin{array}{ccc|c}\n",
    "2 & 4 & -2 & 4 \\\\\n",
    "1 & -2 & 1 & 0 \\\\\n",
    "4 & -1 & -1 & -1 \n",
    "\\end{array} \\right) \\xrightarrow{\\substack{w_1 \\rightarrow w_1\\\\w_2 \\rightarrow w_2 - \\frac{1}{2} w_1\\\\w_3 \\rightarrow w_3 - 2w_1}}\n",
    "\\left( \\begin{array}{ccc|c}\n",
    "2 & 4 & -2 & 4 \\\\\n",
    "0 & -4 & 2 & -2 \\\\\n",
    "0 & -9 & 3 & -9 \n",
    "\\end{array}\\right) \\xrightarrow{\\substack{w_1 \\rightarrow w_1\\\\w_2 \\rightarrow w_2\\\\w_3 \\rightarrow w_3 - \\frac{9}{4}w_2}}\n",
    "\\left( \\begin{array}{ccc|c}\n",
    "2 & 4 & -2 & 4 \\\\\n",
    "0 & -4 & 2 & -2 \\\\\n",
    "0 & 0 & -\\frac{3}{2} & -\\frac{9}{2} \n",
    "\\end{array} \\right)\n",
    "$<br>\n",
    "Poprzez dodawnie i odejmowanie odpowiednich wierszy doprowadziliśmy macierz do postaci tórjkątnej. "
   ]
  },
  {
   "cell_type": "markdown",
   "id": "a38af647",
   "metadata": {},
   "source": [
    "Ponieważ w celu znalezienia rozwiązań najpierw należy doprowadzić macierz do postaci trójkątnej **zadanie polega na stworzeniu funkcji `triangle`**, która podaną poprzez argument macierz doprowadzi do takiej postaci za pomocą dodawania i odejmowania odpowiednich wierszy przemonożonych przez współczynnik."
   ]
  },
  {
   "cell_type": "markdown",
   "id": "811726be",
   "metadata": {},
   "source": [
    "Rozpatrzmy przypadek ogólny macierzy $N\\times N$podstaci <br>\n",
    "$\n",
    "A = \\left( \\begin{array}{cccc|c}\n",
    "a_{11} & a_{12} & \\cdots & a_{1N} & b_1 \\\\\n",
    "a_{21} & a_{22} & \\cdots & a_{2N} & b_2 \\\\\n",
    "\\vdots  & \\vdots  & \\ddots & \\vdots & \\vdots\\\\\n",
    "a_{N1} & a_{N2} & \\cdots & a_{NN} & b_N \n",
    "\\end{array} \\right)    \n",
    "$<br>\n",
    "W pierwszym kroku algorytmu Gaussa będziemy od każdego wiersza (poza pierwszym) odejmować wiersz pierwszy pomnożony przez czynnik $-\\frac{a_{i1}}{a_{11}}$, tym sposobem pierwsze elementy w każdym wierszu poniżej pierwszego wyzerują się:\n",
    "1. $w_i \\rightarrow w_i-\\frac{a_{i1}}{a_{11}}w_1$, dla $i>1$.<br>\n",
    "\n",
    "W wyniku dostajemy macierz postaci<br>\n",
    "$\n",
    "A = \\left( \\begin{array}{cccc|c}\n",
    "a_{11} & a_{12} & \\cdots & a_{1N} & b_1 \\\\\n",
    "0 & a_{22}-\\frac{a_{21}}{a_{11}}a_{12} & \\cdots & a_{2N}- \\frac{a_{21}}{a_{11}}a_{1N}& b_2- \\frac{a_{21}}{a_{11}}b_1 \\\\\n",
    "\\vdots  & \\vdots  & \\ddots & \\vdots & \\vdots\\\\\n",
    "0 & a_{N2}- \\frac{a_{N1}}{a_{11}}a_{12} & \\cdots & a_{NN}- \\frac{a_{N1}}{a_{11}}a_{1N} & b_N - \\frac{a_{N1}}{a_{11}}b_1\n",
    "\\end{array} \\right)\n",
    "$\n",
    "$\n",
    "= \\left( \\begin{array}{cccc|c}\n",
    "a_{11} & a_{12} & \\cdots & a_{1N} & b_1 \\\\\n",
    "0 & a'_{22} & \\cdots & a'_{2N} & b'_2 \\\\\n",
    "\\vdots  & \\vdots  & \\ddots & \\vdots & \\vdots\\\\\n",
    "0 & a'_{N2} & \\cdots & a'_{NN} & b'_N \n",
    "\\end{array} \\right) ,\n",
    "$\n",
    "\n",
    "gdzie przepisaliśmy elementy zmienione na primowane o takich samych indeksach jak poprzednio."
   ]
  },
  {
   "cell_type": "markdown",
   "id": "8ea7f5cd",
   "metadata": {},
   "source": [
    "W drugim kroku robimy dokładnie to samo, ale dla macierzy zmniejszonej (tej z elementami primowanymi). Więc tym razem odejmować będziemy drugi wiersz, a czynnik będzie opierał się na drugich elementach:<br>\n",
    "2. $w'_i \\rightarrow w'_i - \\frac{a'_{i2}}{a'_{22}}w'_2$, dla $i>2$.<br>\n",
    "\n",
    "W wyniku dostajemy zera w drugiej kolumnie zaczynając od wiersza trzeciego.<br>\n",
    "Procedurę powtarzamy aż do kroku numer $N-1$. Na końcu mamy macierz trójkątną.    "
   ]
  },
  {
   "cell_type": "markdown",
   "id": "8e4280af",
   "metadata": {},
   "source": [
    "**Uwaga!** Procedura opiera się na dzieleniu przez elementy $a_{11}$, $a'_{22}$, $a''_{33}$ itd., dlatego nie mogą one być zerami! **Jeśli w którymś momencie element przez który dzielimy będzie zerem, funkcja powinna zwrócić wartość `False`**, co zakończy działanie - nie znajdziemy rozwiązań pomimo że mogą one istnieć. Problem ten rozwiążemy następnym razem."
   ]
  },
  {
   "cell_type": "markdown",
   "id": "01091bfb",
   "metadata": {},
   "source": [
    "**Uwaga!** Ponieważ w zadaniu chcemy mieć tyle samo równań co niewiadomych, dołóżmy także wymaganie jednoznaczności rozwiązań, co oznacza, że wszystkie wiersze są liniowo niezależne. **Jeśli rząd macierzy jest za mały, należy zwrócić wartość `False`**. Bardziej ogólny przypadek omówimy później. Sprawdzenia, czy układ posiada rozwiązanie jednoznaczne moża dokonać licząc rząd macierzy - jeśli rząd jest równy wymiarowi bez ostatniej kolumny ($\\text{rank}(A)=N$), istnieje jednoznaczne rozwiązanie. Dla uproszczenia zadania, rząd możemy sprawdzić za pomocą funkcji `linalg.matrix_rank` z biblioteki NumPy"
   ]
  },
  {
   "cell_type": "code",
   "execution_count": 8,
   "id": "487863ea",
   "metadata": {},
   "outputs": [
    {
     "name": "stdout",
     "output_type": "stream",
     "text": [
      "[[1 2]\n",
      " [3 4]]\n",
      "Rząd A = 2\n",
      "[[1 2 3]\n",
      " [2 4 6]]\n",
      "Rząd B = 1\n"
     ]
    }
   ],
   "source": [
    "A = np.array([[1, 2], [3, 4]]) #macierz z liniowo niezależnymi wierszami - rząd 2\n",
    "B = np.array([[1, 2, 3], [2, 4, 6]]) #macierz z liniowo zależnymi wierszami - rząd 1\n",
    "rankA = np.linalg.matrix_rank(A)\n",
    "rankB = np.linalg.matrix_rank(B)\n",
    "print(A)\n",
    "print('Rząd A =', rankA)\n",
    "print(B)\n",
    "print('Rząd B =', rankB)"
   ]
  },
  {
   "cell_type": "markdown",
   "id": "25298b95",
   "metadata": {},
   "source": [
    "Przykład działania.<br>"
   ]
  },
  {
   "cell_type": "code",
   "execution_count": 76,
   "id": "d206b04c",
   "metadata": {
    "scrolled": false
   },
   "outputs": [
    {
     "name": "stdout",
     "output_type": "stream",
     "text": [
      "[[ 2.  1.  1.  1.  0.]\n",
      " [-1. -2. -1.  1.  1.]\n",
      " [ 1.  1. -2. -3.  2.]\n",
      " [ 4. -2.  0.  4.  2.]]\n",
      "[[ 2.         1.         1.         1.         0.       ]\n",
      " [ 0.        -1.5       -0.5        1.5        1.       ]\n",
      " [ 0.         0.        -2.6666667 -3.         2.3333333]\n",
      " [ 0.         0.         0.        -1.25      -1.25     ]]\n"
     ]
    }
   ],
   "source": [
    "M = np.array([[2., 1., 1., 1., 0.], [-1., -2., -1., 1., 1.], [1., 1., -2., -3., 2.], [4., -2., 0., 4., 2.]])\n",
    "print(M)\n",
    "print(triangle(M))"
   ]
  },
  {
   "cell_type": "code",
   "execution_count": 23,
   "id": "e0ab974c",
   "metadata": {},
   "outputs": [
    {
     "name": "stdout",
     "output_type": "stream",
     "text": [
      "[[ 2.  1.  1.  1.  0.]\n",
      " [ 4.  2.  2.  2.  0.]\n",
      " [ 1.  1. -2. -3.  2.]\n",
      " [ 4. -2.  0.  4.  2.]]\n",
      "False\n"
     ]
    }
   ],
   "source": [
    "M = np.array([[2., 1., 1., 1., 0.], [4., 2., 2., 2., 0.], [1., 1., -2., -3., 2.], [4., -2., 0., 4., 2.]])\n",
    "print(M)\n",
    "print(triangle(M))"
   ]
  },
  {
   "cell_type": "markdown",
   "id": "4906cfa6",
   "metadata": {},
   "source": [
    "**Uwaga!** W celu uniknięcia subtelnych problemów, polecam czynniki zapisywać zawsze w formie zmiennoprzecinkowej (z kropką)."
   ]
  },
  {
   "cell_type": "markdown",
   "id": "7aef80e3",
   "metadata": {},
   "source": [
    "Powodzenia!"
   ]
  },
  {
   "cell_type": "markdown",
   "id": "b122f087",
   "metadata": {},
   "source": [
    "**Rozwiązanie**"
   ]
  },
  {
   "cell_type": "code",
   "execution_count": 33,
   "id": "f363beef",
   "metadata": {},
   "outputs": [],
   "source": [
    "import numpy as np\n",
    "\n",
    "def triangle(A):\n",
    "    shape = A.shape #pobieramy wymiary naszej macierzy, ponieważ jest to macierz rozszerzona mamy NxN+1\n",
    "    N = shape[0]\n",
    "    A = A.copy().astype('f') #tworzymy kopię oraz ustalamy typ wszystkich elementów na float\n",
    "    if np.linalg.matrix_rank(A) < shape[0]: #sprawdzamy, czy istnieje jedno rozwiązanie\n",
    "        print('Brak jednoznacznych rozwiązań!')\n",
    "        return False \n",
    "    for i in range(0, N - 1): #tworzymy pętlę w której będziemy tworzyli zera w odpowiedniej kolumnie\n",
    "        for j in range(i + 1, N, 1): #tworzymy pętlę do modyfikowania wierszy\n",
    "            if A[i, i] != 0: #sprawdzamy, czy nie będzie występowało dzielenie przez zero\n",
    "                param = -A[j, i] / A[i, i] #obliczamy czynnik przez który mnożymi pierwszy wiersz w kroku\n",
    "                A[j] += param * A[i] #modyfikujemy odpowiedni wiersz\n",
    "            else:\n",
    "                print('Dzielenie przez zero!')\n",
    "                return False\n",
    "    return A #zwracamy macierz trójkątną"
   ]
  },
  {
   "cell_type": "markdown",
   "id": "64e07c6d",
   "metadata": {},
   "source": [
    "Testujemy dla przykładu z opisu"
   ]
  },
  {
   "cell_type": "code",
   "execution_count": 34,
   "id": "277e5f4c",
   "metadata": {
    "scrolled": false
   },
   "outputs": [
    {
     "name": "stdout",
     "output_type": "stream",
     "text": [
      "[[ 2  4 -2  4]\n",
      " [ 1 -2  1  0]\n",
      " [ 4 -1 -1 -1]]\n",
      "[[ 2.   4.  -2.   4. ]\n",
      " [ 0.  -4.   2.  -2. ]\n",
      " [ 0.   0.  -1.5 -4.5]]\n"
     ]
    }
   ],
   "source": [
    "M = np.array([[2, 4, -2, 4], [1, -2, 1, 0], [4, -1, -1, -1]])\n",
    "print(M)\n",
    "M_tr = triangle(M)\n",
    "print(M_tr)"
   ]
  },
  {
   "cell_type": "markdown",
   "id": "8af58af0",
   "metadata": {},
   "source": [
    "Sprawdzamy, czy liniowo zależne wiersze dają w wyniku `False`"
   ]
  },
  {
   "cell_type": "code",
   "execution_count": 35,
   "id": "2ef3f67e",
   "metadata": {},
   "outputs": [
    {
     "name": "stdout",
     "output_type": "stream",
     "text": [
      "[[ 2.  1.  1.  1.  0.]\n",
      " [ 4.  2.  2.  2.  0.]\n",
      " [ 1.  1. -2. -3.  2.]\n",
      " [ 4. -2.  0.  4.  2.]]\n",
      "Brak jednoznacznych rozwiązań!\n",
      "False\n"
     ]
    }
   ],
   "source": [
    "M = np.array([[2., 1., 1., 1., 0.], [4., 2., 2., 2., 0.], [1., 1., -2., -3., 2.], [4., -2., 0., 4., 2.]])\n",
    "print(M)\n",
    "print(triangle(M))"
   ]
  },
  {
   "cell_type": "markdown",
   "id": "128b06ff",
   "metadata": {},
   "source": [
    "Mając gotową macierz trójkątną możemy zastanowić się w jaki sposób uzyskać rozwiązania. Stwórzmy fubnkcję `solve`, która będzie pobierać rozszerzoną macierz trójkątną i na tej podstawie obliczać rozwiązania."
   ]
  },
  {
   "cell_type": "markdown",
   "id": "d55ab1d0",
   "metadata": {},
   "source": [
    "Zauważmy, że mając macierz trójkątną $N\\times N+1$ postaci<br>\n",
    "$\n",
    "A_{tr} = \\left( \\begin{array}{ccccc|c}\n",
    "a_{11} & a_{12} & \\cdots & a_{1N-1} & a_{1N} & b_1 \\\\\n",
    "0 & a_{22} & \\cdots & a_{2N-1} & a_{2N} & b_2 \\\\\n",
    "\\vdots  & \\vdots  & \\ddots & \\vdots & \\vdots & \\vdots\\\\\n",
    "0 & 0 & \\cdots &a_{N-1N-1} & a_{N-1N} & b_N\\\\\n",
    "0 & 0 & \\cdots & 0 & a_{NN} & b_N \n",
    "\\end{array} \\right),\n",
    "$<br>\n",
    "rozwiązanie $x_N$ znajdziemy w prosty sposób rozwiązując ostatni wiersz, ponieważ $a_{NN}x_N = b_N \\Rightarrow x_N = \\frac{b_N}{a_{NN}}$.<br>\n",
    "Następnie $X_{N-1}$ obliczymy korzystając z wiersza przedostatniego oraz rozwiązania $x_N$:<br>\n",
    "$a_{N-1N-1}x_{N-1} + a_{N-1N} x_{N} = b_{N-1} \\Rightarrow x_{N-1} = \\frac{b_{N-1} - a_{N-1N} x_{N}}{a_{N-1N-1}}$.<br>\n",
    "I tak dalej, w ogólności znalezienie rozwiązania $x_{N-i}$ wymaga zastosowania wzoru:<br>\n",
    "$x_{N-i} = \\frac{b_{N-i} - a_{N-iN}x_N - a_{N-iN-1}x_{N-1} - \\cdots - a_{N-iN-i+1}x_{N-i+1}}{a_{N-iN-i}}$."
   ]
  },
  {
   "cell_type": "markdown",
   "id": "0d96bcc7",
   "metadata": {},
   "source": [
    "Musimy więc w $N$ krokach znaleźć rozwiązania zaczynając od ostatniego. Można trochę uprościć sobie obliczenia odpowiednio konstruując wektor przechowujący rozwiązania. Zauważmy, że jeśli stworzymy wektor $X$ o długości $N+1$, taki że na poczatku (w kroku 0) zawiera jedynkę na końcu oraz same zera:<br>\n",
    "$X^{(0)} = [0, 0, \\cdots,0,  0, 1]$, to jego iloczyn skalarny z ostatnim wierszem $w_N = [0, 0, \\cdots, 0, a_{NN}, b_N]$ wynosi dokładnie $X^{(0)}\\cdot w_N = b_N$.<br> \n",
    "W pierwszym kroku możemy więc, wykorzystując ten iloczyn skalarny, wyliczyć $x_N$ jako:<br>\n",
    "$x_N = \\frac{X^{(0)}\\cdot w_N}{a_{NN}}$.<br> teraz dodajmy tę wartość do naszego wektora $X$ na miejscu przedostatnim oraz z przeciwnym znakiem:<br>\n",
    "$X^{(1)} = [0, 0, \\cdots, 0, -x_N, 1]$.<br>\n",
    "W następnym kroku (drugim) znowu liczymy iloczyn skalarny, ale tym razem naszego nowego wektora z przedostatnim wierszem $X^{(1)}\\cdot w_{N-1} = b_N - a_{N-1N} x_N$,<br>\n",
    "jest to dokładnie licznik wyrażenia na $x_{N-1}$. Możemy więc wykorzystać ten iloczyn skalarny do obliczenia wartości kolejnej zmiennej<br>\n",
    "$x_{N-1} = \\frac{X^{(1)}\\cdot w_{N-1}}{a_{N-1N-1}}$,<br>\n",
    "i następnie aktualizujemy wektor $X$ o ujemną wartość nowego rozwiązania<br>\n",
    "$X^{(2)} = [0, 0, \\cdots, -x_{N-1}, -x_N, 1]$.<br>\n",
    "Robimy tak w pętli aż wypełnimy cały wektor $X$ wartościami."
   ]
  },
  {
   "cell_type": "markdown",
   "id": "a61b4c24",
   "metadata": {},
   "source": [
    "Ogólny wzór na rozwiązanie $x_{N-i}$ ma postać:<br>\n",
    "$x_{N-i} = \\frac{X^{(i)}\\cdot w_{N-i}}{a_{N-iN-i}}$, gdzie $X^{(i)} = [0, \\cdots, 0, -x_{N-i+1}, \\cdots, -x_{N},1]$"
   ]
  },
  {
   "cell_type": "markdown",
   "id": "3ff23c34",
   "metadata": {},
   "source": [
    "Rozwiązania dostajemy, kiedy otrzymamy wektor $X^{(N)}$ i weźmiemy jego pierwsze $N$ elementów z przeciwnymi znakami."
   ]
  },
  {
   "cell_type": "markdown",
   "id": "809763c8",
   "metadata": {},
   "source": [
    "Do rozwiązania skorzystamy z metody `zeros()` z biblioteki `numpy`, która pozwala na stworzenie wektora zer o zadanej długości:"
   ]
  },
  {
   "cell_type": "code",
   "execution_count": 6,
   "id": "0ae48231",
   "metadata": {},
   "outputs": [
    {
     "data": {
      "text/plain": [
       "array([0., 0., 0., 0., 0., 0., 0., 0., 0., 0.])"
      ]
     },
     "execution_count": 6,
     "metadata": {},
     "output_type": "execute_result"
    }
   ],
   "source": [
    "np.zeros(10)"
   ]
  },
  {
   "cell_type": "markdown",
   "id": "668cff71",
   "metadata": {},
   "source": [
    "Oraz z metody `dot` pozwalającej na obliczenie iloczynu skalarnego dwóch wektorów:"
   ]
  },
  {
   "cell_type": "code",
   "execution_count": 7,
   "id": "2837b422",
   "metadata": {},
   "outputs": [
    {
     "data": {
      "text/plain": [
       "-2"
      ]
     },
     "execution_count": 7,
     "metadata": {},
     "output_type": "execute_result"
    }
   ],
   "source": [
    "vec1 = np.array([1, 2, -1])\n",
    "vec2 = np.array([1, -1, 1])\n",
    "np.dot(vec1, vec2)"
   ]
  },
  {
   "cell_type": "code",
   "execution_count": 83,
   "id": "529e677a",
   "metadata": {},
   "outputs": [],
   "source": [
    "def solve(M_tr):\n",
    "    M_tr = M_tr.copy().astype('f') #zaczynamy od kopii macierzy trójkątnej i ustalenia typy float elementów\n",
    "    N = M_tr.shape[0] #pobieramy rozmar macierzy\n",
    "\n",
    "    X = np.zeros(N + 1) #tworzymy za pomocą metody zeros wektor o długości N+1\n",
    "    X[-1] = 1 #ostatni element ustawiamy na 1 jako zerowy krok\n",
    "    #dla wygody ustalamy, że zmienna i będzie przechodzić od -1 do -N co pozwala numerować nią ostatnie elementy \n",
    "    for i in range(-1, -N -1, -1):                           \n",
    "        vec = M_tr[i] #pobieramy odpowiedni wiersz\n",
    "        dot = np.dot(vec, X) #obliczamy iloczyn skalarny\n",
    "        X[i - 1] = -dot / vec[i - 1] #aktualizujemy wektor rozwiązań\n",
    "        \n",
    "    return -X[:-1] #zwracamy pierwsze N elementów z przeciwnym znakiem"
   ]
  },
  {
   "cell_type": "markdown",
   "id": "6b880b6b",
   "metadata": {},
   "source": [
    "Sprawdźmy na przykładzie z opisu:"
   ]
  },
  {
   "cell_type": "code",
   "execution_count": 36,
   "id": "c86201cf",
   "metadata": {},
   "outputs": [
    {
     "name": "stdout",
     "output_type": "stream",
     "text": [
      "[[ 2  4 -2  4]\n",
      " [ 1 -2  1  0]\n",
      " [ 4 -1 -1 -1]]\n",
      "[[ 2.   4.  -2.   4. ]\n",
      " [ 0.  -4.   2.  -2. ]\n",
      " [ 0.   0.  -1.5 -4.5]]\n"
     ]
    }
   ],
   "source": [
    "M = np.array([[2, 4, -2, 4], [1, -2, 1, 0], [4, -1, -1, -1]])\n",
    "print(M)\n",
    "M_tr = triangle(M)\n",
    "print(M_tr)"
   ]
  },
  {
   "cell_type": "code",
   "execution_count": 37,
   "id": "1ef03da2",
   "metadata": {},
   "outputs": [
    {
     "name": "stdout",
     "output_type": "stream",
     "text": [
      "[1. 2. 3.]\n"
     ]
    }
   ],
   "source": [
    "X = solve(M_tr)\n",
    "print(X)"
   ]
  },
  {
   "cell_type": "markdown",
   "id": "ff516211",
   "metadata": {},
   "source": [
    "Rzeczywiście, nasze rozwiązania to $x_1 = 1$, $x_2 = 2$ oraz $x_3 = 3$."
   ]
  },
  {
   "cell_type": "markdown",
   "id": "de5ed7bc",
   "metadata": {},
   "source": [
    "Możemy sprawdzić, czy nasze rozwiązanie jest prawidłowe mnożąc macierz $M$ (bez ostatniej kolumny) przez wektor rozwiązań $X$. Jeśli w wyniku dostaniemy ostatnią kolumnę to wszystko się zgadza:"
   ]
  },
  {
   "cell_type": "code",
   "execution_count": 38,
   "id": "9abaeda2",
   "metadata": {
    "scrolled": true
   },
   "outputs": [
    {
     "name": "stdout",
     "output_type": "stream",
     "text": [
      "[ 4.  0. -1.]\n"
     ]
    }
   ],
   "source": [
    "print(np.matmul(M[:,:-1], X))"
   ]
  },
  {
   "cell_type": "markdown",
   "id": "b1415cdd",
   "metadata": {},
   "source": [
    "**Zadanie domowe!**"
   ]
  },
  {
   "cell_type": "markdown",
   "id": "9998c68c",
   "metadata": {},
   "source": [
    "Zgodnie z tym jak zapisaliśmy nasz kod, może się zdarzyć, że rząd macierzy jest odpowiedni, ale w pewnym momencie wystąpi dzielenie przez zero i funkcja zwróci wartość `False`. Wynika to z przypadkowo niefortunnego ustawienia kolejności wierszy. Żeby temu zaradzić, wprowadźmy poprawki, które pozwolą w wypadku wystąpienia dzielenia przez zero zamienić wiersze miejscami, tak, żeby nowy czynnik przez który chcemy dzielić był niezerowy. Jeśli wszystkie dalsze wiersze nie zawierają takiego czynnika, możemy przejść do następnego kroku, gdyż mamy już odpowiednie elementy wyzerowane. "
   ]
  },
  {
   "cell_type": "markdown",
   "id": "ae423822",
   "metadata": {},
   "source": [
    "Przykładowo, jeśli mamy macierz:<br>\n",
    "$\n",
    "A = \\left( \\begin{array}{cccc|c}\n",
    "1 & 1 & 1 & 1 & 3 \\\\\n",
    "2 & 2 & 5 & 3 & 8 \\\\\n",
    "0 & 0 & 1 & 1 & 0 \\\\\n",
    "1 & 0 & 1 & 0 & 2\n",
    "\\end{array} \\right),\n",
    "$<br>\n",
    "w pierwszym kroku po zadziałaniu naszym algorytmem dostaniemy<br>\n",
    "$\n",
    "\\left( \\begin{array}{cccc|c}\n",
    "1 & 1 & 1 & 1 & 3 \\\\\n",
    "0 & 0 & 3 & 1 & 2 \\\\\n",
    "0 & 0 & 1 & 1 & 0 \\\\\n",
    "0 & -1 & 0 & -1 & -1\n",
    "\\end{array} \\right),\n",
    "$ a to oznacza, że w następnym będzie dzielenie przez zero, możemy jednak zamienić miejscami wiersz drugi z czwartym:<br>\n",
    "$\n",
    "\\left( \\begin{array}{cccc|c}\n",
    "1 & 1 & 1 & 1 & 3 \\\\\n",
    "0 & -1 & 0 & -1 & -1 \\\\\n",
    "0 & 0 & 1 & 1 & 0 \\\\\n",
    "0 & 0 & 3 & 1 & 2\n",
    "\\end{array} \\right).\n",
    "$ Tym sposobem problem dzielenia przez zero został rozwiązany, a my możemy dalej wykonywać procedurę, więc w następnym kroku mamy:<br>\n",
    "$\n",
    "\\left( \\begin{array}{cccc|c}\n",
    "1 & 1 & 1 & 1 & 3 \\\\\n",
    "0 & -1 & 0 & -1 & -1 \\\\\n",
    "0 & 0 & 1 & 1 & 0 \\\\\n",
    "0 & 0 & 0 & -2 & 2\n",
    "\\end{array} \\right),\n",
    "$ co kończy proces. Ostatecznie rozwiązania to $x_1 = 1$, $x_2 = 2$, $x_3 = 1$ oraz $x_4 = -1$. "
   ]
  },
  {
   "cell_type": "markdown",
   "id": "43febaa4",
   "metadata": {},
   "source": [
    "Do zamiany wierszy w kodzie możemy posłuzyć się poniższą formułą:"
   ]
  },
  {
   "cell_type": "code",
   "execution_count": 78,
   "id": "61b2d83a",
   "metadata": {},
   "outputs": [
    {
     "name": "stdout",
     "output_type": "stream",
     "text": [
      "[[1 1 1]\n",
      " [2 2 2]\n",
      " [3 3 3]]\n",
      "[[1 1 1]\n",
      " [3 3 3]\n",
      " [2 2 2]]\n"
     ]
    }
   ],
   "source": [
    "A = np.array([[1, 1 ,1], [2, 2, 2], [3, 3, 3]])\n",
    "print(A) \n",
    "#zamiana wiersza drugiego z trzecim\n",
    "A[[1,2]] = A[[2,1]] #ważne są podwójne nawiasy\n",
    "print(A)"
   ]
  },
  {
   "cell_type": "markdown",
   "id": "178c9f60",
   "metadata": {},
   "source": [
    "Zadanie polega więc na napisaniu funkcji `triangle_better`, która będzie ulepszoną wersją funkcji `triangle`, wykorzystującą powyższą metodę."
   ]
  },
  {
   "cell_type": "markdown",
   "id": "ca0f767c",
   "metadata": {},
   "source": [
    "Przykład:"
   ]
  },
  {
   "cell_type": "code",
   "execution_count": 79,
   "id": "e1d02528",
   "metadata": {},
   "outputs": [
    {
     "name": "stdout",
     "output_type": "stream",
     "text": [
      "[[1 1 1 1 3]\n",
      " [2 2 5 3 8]\n",
      " [0 0 1 1 0]\n",
      " [1 0 1 0 2]]\n"
     ]
    }
   ],
   "source": [
    "M = np.array([[1, 1, 1, 1, 3], [2, 2, 5, 3, 8], [0, 0, 1, 1, 0], [1, 0, 1, 0, 2]])\n",
    "print(M)"
   ]
  },
  {
   "cell_type": "code",
   "execution_count": 80,
   "id": "df0143cf",
   "metadata": {},
   "outputs": [
    {
     "name": "stdout",
     "output_type": "stream",
     "text": [
      "Dzielenie przez zero!\n",
      "False\n"
     ]
    }
   ],
   "source": [
    "M_tr = triangle(M)\n",
    "print(M_tr)"
   ]
  },
  {
   "cell_type": "code",
   "execution_count": 81,
   "id": "d08a0ebd",
   "metadata": {},
   "outputs": [
    {
     "name": "stdout",
     "output_type": "stream",
     "text": [
      "[[ 1.  1.  1.  1.  3.]\n",
      " [ 0. -1.  0. -1. -1.]\n",
      " [ 0.  0.  1.  1.  0.]\n",
      " [ 0.  0.  0. -2.  2.]]\n"
     ]
    }
   ],
   "source": [
    "M_tr = triangle_better(M)\n",
    "print(M_tr)"
   ]
  },
  {
   "cell_type": "code",
   "execution_count": 82,
   "id": "d7248d27",
   "metadata": {},
   "outputs": [
    {
     "name": "stdout",
     "output_type": "stream",
     "text": [
      "[ 1.  2.  1. -1.]\n"
     ]
    }
   ],
   "source": [
    "X = solve(M_tr)\n",
    "print(X)"
   ]
  },
  {
   "cell_type": "markdown",
   "id": "7cf43341",
   "metadata": {},
   "source": [
    "Powodzenia!"
   ]
  },
  {
   "cell_type": "markdown",
   "id": "ab878bf8",
   "metadata": {},
   "source": [
    "### Matplotlib"
   ]
  },
  {
   "cell_type": "markdown",
   "id": "045b0c91",
   "metadata": {},
   "source": [
    "Kolejną przydatną, w kontekście pracy z danymi, jest biblioteka `matplotlib` pozwalająca w prosty sposób dokonywać wszelkiego rodzaju wizualizacji danych."
   ]
  },
  {
   "cell_type": "markdown",
   "id": "98d848a7",
   "metadata": {},
   "source": [
    "**Tworzenie podstawowych wykresów**"
   ]
  },
  {
   "cell_type": "markdown",
   "id": "870acf1f",
   "metadata": {},
   "source": [
    "Zaczniemy od zwykłych, jendowymiarowych wykresów, które będziemy rysować za pomocą metody `pyplot` z biblioteki `matplotlib`. Na początek importowanie potrzebnych bibliotek. Skorzystamy również z nowo poznanej biblioteki `numpy`."
   ]
  },
  {
   "cell_type": "code",
   "execution_count": 90,
   "id": "73be7694",
   "metadata": {},
   "outputs": [],
   "source": [
    "import numpy as np\n",
    "from matplotlib import pyplot as plt #importowanie potrzebnej metody i zapisanie jej jako plt"
   ]
  },
  {
   "cell_type": "markdown",
   "id": "e1763e6f",
   "metadata": {},
   "source": [
    "Zdefiniujmy za pomocą funkji `f` naszą funkcję do rysowania, dla przykładu użyjmy prostej funkcji kwadratowej."
   ]
  },
  {
   "cell_type": "code",
   "execution_count": 91,
   "id": "c27bf113",
   "metadata": {},
   "outputs": [],
   "source": [
    "def f (x, a = 1, b = 0, c = 0):\n",
    "    return a * x ** 2 + b * x + c"
   ]
  },
  {
   "cell_type": "markdown",
   "id": "bf5ad98a",
   "metadata": {},
   "source": [
    "Za pomocą metody `linspace` z biblioteki `numpy` możemy w prosty sposób stworzyć zakres dla naszej dziedziny `X` w argumentach podając punkt początkowy, punkt końcowy oraz liczbę punktów pomiędzy. Spójrzmy na przykład"
   ]
  },
  {
   "cell_type": "code",
   "execution_count": 92,
   "id": "eec2e154",
   "metadata": {},
   "outputs": [
    {
     "data": {
      "text/plain": [
       "array([0. , 0.1, 0.2, 0.3, 0.4, 0.5, 0.6, 0.7, 0.8, 0.9, 1. ])"
      ]
     },
     "execution_count": 92,
     "metadata": {},
     "output_type": "execute_result"
    }
   ],
   "source": [
    "np.linspace(0, 1, 11) #lista 11 równoodległych punktów od 0 do 1"
   ]
  },
  {
   "cell_type": "markdown",
   "id": "3fb651f1",
   "metadata": {},
   "source": [
    "Jak widać, jest to dobrze nam znany typ `ndarray`. Stwórzymy więc dziedzinę `X` na przedziale [-5, 5] ze 101 punktami (dla ładnego podziału)"
   ]
  },
  {
   "cell_type": "code",
   "execution_count": 93,
   "id": "a0ea9d51",
   "metadata": {
    "scrolled": true
   },
   "outputs": [
    {
     "name": "stdout",
     "output_type": "stream",
     "text": [
      "[-5.  -4.9 -4.8 -4.7 -4.6 -4.5 -4.4 -4.3 -4.2 -4.1 -4.  -3.9 -3.8 -3.7\n",
      " -3.6 -3.5 -3.4 -3.3 -3.2 -3.1 -3.  -2.9 -2.8 -2.7 -2.6 -2.5 -2.4 -2.3\n",
      " -2.2 -2.1 -2.  -1.9 -1.8 -1.7 -1.6 -1.5 -1.4 -1.3 -1.2 -1.1 -1.  -0.9\n",
      " -0.8 -0.7 -0.6 -0.5 -0.4 -0.3 -0.2 -0.1  0.   0.1  0.2  0.3  0.4  0.5\n",
      "  0.6  0.7  0.8  0.9  1.   1.1  1.2  1.3  1.4  1.5  1.6  1.7  1.8  1.9\n",
      "  2.   2.1  2.2  2.3  2.4  2.5  2.6  2.7  2.8  2.9  3.   3.1  3.2  3.3\n",
      "  3.4  3.5  3.6  3.7  3.8  3.9  4.   4.1  4.2  4.3  4.4  4.5  4.6  4.7\n",
      "  4.8  4.9  5. ]\n"
     ]
    }
   ],
   "source": [
    "X = np.linspace(-5, 5, 101)\n",
    "print(X)"
   ]
  },
  {
   "cell_type": "markdown",
   "id": "40e83f9c",
   "metadata": {},
   "source": [
    "Typ `ndarray` działa bardzo dobrze z funkcjami, więc żeby stworzyć teraz listę wartości odpowiadającą punktom z dziedziny, wystarczy wywołać funkcję na całej liście argumentów `X`. Oszczędza to czas i jest intuicyjne"
   ]
  },
  {
   "cell_type": "code",
   "execution_count": 94,
   "id": "66008d8b",
   "metadata": {},
   "outputs": [
    {
     "name": "stdout",
     "output_type": "stream",
     "text": [
      "[2.500e+01 2.401e+01 2.304e+01 2.209e+01 2.116e+01 2.025e+01 1.936e+01\n",
      " 1.849e+01 1.764e+01 1.681e+01 1.600e+01 1.521e+01 1.444e+01 1.369e+01\n",
      " 1.296e+01 1.225e+01 1.156e+01 1.089e+01 1.024e+01 9.610e+00 9.000e+00\n",
      " 8.410e+00 7.840e+00 7.290e+00 6.760e+00 6.250e+00 5.760e+00 5.290e+00\n",
      " 4.840e+00 4.410e+00 4.000e+00 3.610e+00 3.240e+00 2.890e+00 2.560e+00\n",
      " 2.250e+00 1.960e+00 1.690e+00 1.440e+00 1.210e+00 1.000e+00 8.100e-01\n",
      " 6.400e-01 4.900e-01 3.600e-01 2.500e-01 1.600e-01 9.000e-02 4.000e-02\n",
      " 1.000e-02 0.000e+00 1.000e-02 4.000e-02 9.000e-02 1.600e-01 2.500e-01\n",
      " 3.600e-01 4.900e-01 6.400e-01 8.100e-01 1.000e+00 1.210e+00 1.440e+00\n",
      " 1.690e+00 1.960e+00 2.250e+00 2.560e+00 2.890e+00 3.240e+00 3.610e+00\n",
      " 4.000e+00 4.410e+00 4.840e+00 5.290e+00 5.760e+00 6.250e+00 6.760e+00\n",
      " 7.290e+00 7.840e+00 8.410e+00 9.000e+00 9.610e+00 1.024e+01 1.089e+01\n",
      " 1.156e+01 1.225e+01 1.296e+01 1.369e+01 1.444e+01 1.521e+01 1.600e+01\n",
      " 1.681e+01 1.764e+01 1.849e+01 1.936e+01 2.025e+01 2.116e+01 2.209e+01\n",
      " 2.304e+01 2.401e+01 2.500e+01]\n"
     ]
    }
   ],
   "source": [
    "Y = f(X)\n",
    "print(Y)"
   ]
  },
  {
   "cell_type": "markdown",
   "id": "4e9f7cca",
   "metadata": {},
   "source": [
    "Zauważmy, że taki trik nie zadziała ze zwykłymi listami!"
   ]
  },
  {
   "cell_type": "code",
   "execution_count": 95,
   "id": "84021420",
   "metadata": {},
   "outputs": [
    {
     "name": "stdout",
     "output_type": "stream",
     "text": [
      "<class 'list'>\n"
     ]
    }
   ],
   "source": [
    "X2 = list(X)\n",
    "print(type(X2))"
   ]
  },
  {
   "cell_type": "code",
   "execution_count": 96,
   "id": "237fb6e4",
   "metadata": {},
   "outputs": [
    {
     "ename": "TypeError",
     "evalue": "unsupported operand type(s) for ** or pow(): 'list' and 'int'",
     "output_type": "error",
     "traceback": [
      "\u001b[0;31m---------------------------------------------------------------------------\u001b[0m",
      "\u001b[0;31mTypeError\u001b[0m                                 Traceback (most recent call last)",
      "\u001b[0;32m<ipython-input-96-f2d4064e825d>\u001b[0m in \u001b[0;36m<module>\u001b[0;34m\u001b[0m\n\u001b[0;32m----> 1\u001b[0;31m \u001b[0mY2\u001b[0m \u001b[0;34m=\u001b[0m \u001b[0mf\u001b[0m\u001b[0;34m(\u001b[0m\u001b[0mX2\u001b[0m\u001b[0;34m)\u001b[0m\u001b[0;34m\u001b[0m\u001b[0;34m\u001b[0m\u001b[0m\n\u001b[0m",
      "\u001b[0;32m<ipython-input-91-2f075ce6d0b1>\u001b[0m in \u001b[0;36mf\u001b[0;34m(x, a, b, c)\u001b[0m\n\u001b[1;32m      1\u001b[0m \u001b[0;32mdef\u001b[0m \u001b[0mf\u001b[0m \u001b[0;34m(\u001b[0m\u001b[0mx\u001b[0m\u001b[0;34m,\u001b[0m \u001b[0ma\u001b[0m \u001b[0;34m=\u001b[0m \u001b[0;36m1\u001b[0m\u001b[0;34m,\u001b[0m \u001b[0mb\u001b[0m \u001b[0;34m=\u001b[0m \u001b[0;36m0\u001b[0m\u001b[0;34m,\u001b[0m \u001b[0mc\u001b[0m \u001b[0;34m=\u001b[0m \u001b[0;36m0\u001b[0m\u001b[0;34m)\u001b[0m\u001b[0;34m:\u001b[0m\u001b[0;34m\u001b[0m\u001b[0;34m\u001b[0m\u001b[0m\n\u001b[0;32m----> 2\u001b[0;31m     \u001b[0;32mreturn\u001b[0m \u001b[0ma\u001b[0m \u001b[0;34m*\u001b[0m \u001b[0mx\u001b[0m \u001b[0;34m**\u001b[0m \u001b[0;36m2\u001b[0m \u001b[0;34m+\u001b[0m \u001b[0mb\u001b[0m \u001b[0;34m*\u001b[0m \u001b[0mx\u001b[0m \u001b[0;34m+\u001b[0m \u001b[0mc\u001b[0m\u001b[0;34m\u001b[0m\u001b[0;34m\u001b[0m\u001b[0m\n\u001b[0m",
      "\u001b[0;31mTypeError\u001b[0m: unsupported operand type(s) for ** or pow(): 'list' and 'int'"
     ]
    }
   ],
   "source": [
    "Y2 = f(X2)"
   ]
  },
  {
   "cell_type": "markdown",
   "id": "4ea997ce",
   "metadata": {},
   "source": [
    "Jest to kolejny powód dla którego biblioteka `numpy` jest tak użyteczna."
   ]
  },
  {
   "cell_type": "markdown",
   "id": "4f77d23b",
   "metadata": {},
   "source": [
    "Przejdzmy teraz do najważniejszej części, czyli zwizualizowania rezultatów. W tym celu musimy stworzyć zmienną będącą obrazkiem `fig` oraz stworzyć wykresy `ax`. Wykonamy to za pomocą funkcji `subplots`, w której podajemy liczbę wykresów w ramach jednego obrazka oraz wymiary całego obrazka dane przez argument `figsize`. Chcemy mieć jeden wykres, więc pierwszy argument będzie miał wartość `1`."
   ]
  },
  {
   "cell_type": "markdown",
   "id": "187e0093",
   "metadata": {},
   "source": [
    "Następnie, na wykresie `ax` wykonujemy metodę `plot`, w której za argumenty podajemy wartości z dziedziny (na osi poziomej) oraz wartości funkcji (na osi pionowej). W naszym przypadku są to odpowiednio wektory `X` oraz `Y`."
   ]
  },
  {
   "cell_type": "markdown",
   "id": "cf258386",
   "metadata": {},
   "source": [
    "Na zakończenie musimy wyświetlić wyniki za pomocą metody `show()`."
   ]
  },
  {
   "cell_type": "code",
   "execution_count": 97,
   "id": "9be52df5",
   "metadata": {
    "scrolled": false
   },
   "outputs": [
    {
     "data": {
      "image/png": "[encoded data removed]",
      "text/plain": [
       "<Figure size 864x432 with 1 Axes>"
      ]
     },
     "metadata": {
      "needs_background": "light"
     },
     "output_type": "display_data"
    }
   ],
   "source": [
    "fig, ax = plt.subplots(1, figsize = (12, 6)) #tworzymy obrazek oraz wykres\n",
    "ax.plot(X, Y) #rysujemy wykres \n",
    "plt.show() #wyświetlamy obrazek"
   ]
  },
  {
   "cell_type": "markdown",
   "id": "1e396243",
   "metadata": {},
   "source": [
    "W łatwy sposób możemy na jednym wykresie umieścic więcej niż jedną krzywą wykonując metodę `plot` wielokrotnie na tym samym wykresie `ax`. Narysujmy cztery różne funkcje kwadratowe korzystając z naszej funkcji `f`"
   ]
  },
  {
   "cell_type": "code",
   "execution_count": 99,
   "id": "d50ff4e6",
   "metadata": {},
   "outputs": [
    {
     "data": {
      "image/png": "[encoded data removed]",
      "text/plain": [
       "<Figure size 864x432 with 1 Axes>"
      ]
     },
     "metadata": {
      "needs_background": "light"
     },
     "output_type": "display_data"
    }
   ],
   "source": [
    "Y1 = f(X)\n",
    "Y2 = f(X, a = 3)\n",
    "Y3 = f(X, a = 2, b = 3)\n",
    "Y4 = f(X, a = 2, b = 3, c = 20)\n",
    "values = [Y1, Y2, Y3, Y4]\n",
    "\n",
    "fig, ax = plt.subplots(1, figsize = (12, 6)) #tworzymy obrazek oraz wykres\n",
    "for Y in values:\n",
    "    ax.plot(X, Y) #w pętli rysujemy nowe wykresy na tych samych osiach\n",
    "plt.show()"
   ]
  },
  {
   "cell_type": "markdown",
   "id": "c03df8b9",
   "metadata": {},
   "source": [
    "Udało się, jednak ciężko połapać się, który wykres jest który, oraz dla jakich argumentów występują jakie wartości. W tym celu możemy skorzystać z szeregu dodatkowych opcji, które poprawią wizualny wygląd prezentowanych danych."
   ]
  },
  {
   "cell_type": "markdown",
   "id": "cf6d7f34",
   "metadata": {},
   "source": [
    "Po pierwsze możemy dodać siatkę za pomocą metody `grid()` wykonywanej na wykresie `ax`. Do tego możemy utworzyć legendę za pomocą metody `legend()` też wykonywanej na wykresie `ax`. W legendzie znajdą się informacje jakie wpiszemy za pomocą argumentu `label` wpisywanym w metodzie `plot` podczas rysowania wykresu. Możemy dodać także opisy na osiach za pomocą metod `set_xlabel` oraz `set_ylabel`. Przykład zastosowania wszystkich tych opcji wygląda następująco"
   ]
  },
  {
   "cell_type": "code",
   "execution_count": 100,
   "id": "1dd4bb2f",
   "metadata": {},
   "outputs": [
    {
     "data": {
      "image/png": "[encoded data removed]",
      "text/plain": [
       "<Figure size 864x432 with 1 Axes>"
      ]
     },
     "metadata": {
      "needs_background": "light"
     },
     "output_type": "display_data"
    }
   ],
   "source": [
    "fig, ax = plt.subplots(1, figsize = (12, 6)) #tworzymy obrazek oraz wykres\n",
    "i = 1\n",
    "for Y in values:\n",
    "    ax.plot(X, Y, label = 'wykres '+str(i)) #opis danego wykresu w postaci: wykres <numer>\n",
    "    i += 1\n",
    "ax.set_xlabel('Oś x') #opisujemy oś x \n",
    "ax.set_ylabel('Oś y') #opisujemy oś y\n",
    "ax.grid() #tworzymy siatkę\n",
    "ax.legend() #tworzymy legendę\n",
    "plt.show()"
   ]
  },
  {
   "cell_type": "markdown",
   "id": "f48bc515",
   "metadata": {},
   "source": [
    "Metoda `subplots` pozwala w prosty sposób zrobić kilka wykresów na jednym obrazku. Wystarczy jako pierwszy argument podać odpowiednią liczbę. W tej sytuacji dostępne będziemy mieli cztery osobne wykresy dostępne jako listę"
   ]
  },
  {
   "cell_type": "code",
   "execution_count": 101,
   "id": "cb3f3569",
   "metadata": {},
   "outputs": [
    {
     "data": {
      "image/png": "[encoded data removed]",
      "text/plain": [
       "<Figure size 432x864 with 4 Axes>"
      ]
     },
     "metadata": {
      "needs_background": "light"
     },
     "output_type": "display_data"
    }
   ],
   "source": [
    "fig, axs = plt.subplots(4, figsize = (6, 12)) #tworzymy obrazek oraz 4 wykresy przechowywane w zmiennej axs\n",
    "axs[0].plot(X, Y1)\n",
    "axs[1].plot(X, Y2)\n",
    "axs[2].plot(X, Y3)\n",
    "axs[3].plot(X, Y4)\n",
    "plt.show()"
   ]
  },
  {
   "cell_type": "markdown",
   "id": "bb6efb85",
   "metadata": {},
   "source": [
    "Możemy stworzyć też dwie kolumny po dwa wykresy. Wtedy nasza zmienna `axs` będzie macierzą o wymiarach 2x2"
   ]
  },
  {
   "cell_type": "code",
   "execution_count": 102,
   "id": "fc8db92b",
   "metadata": {},
   "outputs": [
    {
     "data": {
      "image/png": "[encoded data removed]",
      "text/plain": [
       "<Figure size 576x576 with 4 Axes>"
      ]
     },
     "metadata": {
      "needs_background": "light"
     },
     "output_type": "display_data"
    }
   ],
   "source": [
    "fig, axs = plt.subplots(2, 2, figsize = (8, 8)) #tworzymy obrazek oraz 4 wykresy przechowywane w zmiennej axs\n",
    "axs[0, 0].plot(X, Y1)\n",
    "axs[0, 1].plot(X, Y2)\n",
    "axs[1, 0].plot(X, Y3)\n",
    "axs[1, 1].plot(X, Y4)\n",
    "plt.show()"
   ]
  }
 ],
 "metadata": {
  "kernelspec": {
   "display_name": "Python 3",
   "language": "python",
   "name": "python3"
  },
  "language_info": {
   "codemirror_mode": {
    "name": "ipython",
    "version": 3
   },
   "file_extension": ".py",
   "mimetype": "text/x-python",
   "name": "python",
   "nbconvert_exporter": "python",
   "pygments_lexer": "ipython3",
   "version": "3.6.9"
  }
 },
 "nbformat": 4,
 "nbformat_minor": 5
}
