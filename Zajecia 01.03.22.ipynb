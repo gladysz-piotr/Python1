{
 "cells": [
  {
   "cell_type": "markdown",
   "id": "a9c5ac5a",
   "metadata": {},
   "source": [
    "# Podstawowe typy obiektów dostępne w Pythonie"
   ]
  },
  {
   "cell_type": "markdown",
   "id": "31e60b76",
   "metadata": {},
   "source": [
    "### Wypisywanie tekstu `print()`"
   ]
  },
  {
   "cell_type": "markdown",
   "id": "c06e04ae",
   "metadata": {},
   "source": [
    "W celu wypisania tekstu na ekranie należy skorzystać z komenty `print()`, gdzie w nawiasie wpisujemy tekst w podwójnym lub pojedynczym cudzysłowie `\" \"` lub `' '`."
   ]
  },
  {
   "cell_type": "code",
   "execution_count": 1,
   "id": "7cf683ea",
   "metadata": {},
   "outputs": [
    {
     "name": "stdout",
     "output_type": "stream",
     "text": [
      "Ala ma kota\n"
     ]
    }
   ],
   "source": [
    "print(\"Ala ma kota\")"
   ]
  },
  {
   "cell_type": "code",
   "execution_count": 2,
   "id": "b1381a97",
   "metadata": {},
   "outputs": [
    {
     "name": "stdout",
     "output_type": "stream",
     "text": [
      "Ala ma kota\n"
     ]
    }
   ],
   "source": [
    "print('Ala ma kota')"
   ]
  },
  {
   "cell_type": "markdown",
   "id": "53f18a84",
   "metadata": {},
   "source": [
    "Znaki specjalne `\\n` znak nowej linii, `\\t` znak tabulatury"
   ]
  },
  {
   "cell_type": "code",
   "execution_count": 3,
   "id": "ba664faa",
   "metadata": {},
   "outputs": [
    {
     "name": "stdout",
     "output_type": "stream",
     "text": [
      "Ala\n",
      "ma\n",
      "kota\n"
     ]
    }
   ],
   "source": [
    "print('Ala\\nma\\nkota')"
   ]
  },
  {
   "cell_type": "code",
   "execution_count": 4,
   "id": "00e9f861",
   "metadata": {},
   "outputs": [
    {
     "name": "stdout",
     "output_type": "stream",
     "text": [
      "Ala\tma\tkota\n"
     ]
    }
   ],
   "source": [
    "print('Ala\\tma\\tkota')"
   ]
  },
  {
   "cell_type": "code",
   "execution_count": 5,
   "id": "3882b69a",
   "metadata": {},
   "outputs": [
    {
     "name": "stdout",
     "output_type": "stream",
     "text": [
      "Ala ma kota\n"
     ]
    }
   ],
   "source": [
    "print('Ala', 'ma', 'kota')"
   ]
  },
  {
   "cell_type": "markdown",
   "id": "3cd7a084",
   "metadata": {},
   "source": [
    "Argument separacji `sep` - dodatkowy argument w funkcji pozwalający na ustalenie jaki znak/znaki mają oddzielać kolejne elementy w funkcji; argument `end` - znak/znaki jakie mają wyświetlać się na końcu"
   ]
  },
  {
   "cell_type": "code",
   "execution_count": 6,
   "id": "5279abfe",
   "metadata": {},
   "outputs": [
    {
     "name": "stdout",
     "output_type": "stream",
     "text": [
      "Alamakota\n"
     ]
    }
   ],
   "source": [
    "print('Ala', 'ma', 'kota', sep='')"
   ]
  },
  {
   "cell_type": "code",
   "execution_count": 7,
   "id": "0a1b8a66",
   "metadata": {},
   "outputs": [
    {
     "name": "stdout",
     "output_type": "stream",
     "text": [
      "Ala ma kota\n"
     ]
    }
   ],
   "source": [
    "print('Ala', 'ma', 'kota', sep=' ')"
   ]
  },
  {
   "cell_type": "code",
   "execution_count": 8,
   "id": "591ea35a",
   "metadata": {
    "scrolled": true
   },
   "outputs": [
    {
     "name": "stdout",
     "output_type": "stream",
     "text": [
      "Ala/ma/kota\n"
     ]
    }
   ],
   "source": [
    "print('Ala', 'ma', 'kota', sep='/')"
   ]
  },
  {
   "cell_type": "code",
   "execution_count": 9,
   "id": "6289c9d3",
   "metadata": {
    "scrolled": false
   },
   "outputs": [
    {
     "name": "stdout",
     "output_type": "stream",
     "text": [
      "Ala\n",
      "ma\n",
      "kota\n"
     ]
    }
   ],
   "source": [
    "print('Ala', 'ma', 'kota', sep='\\n')"
   ]
  },
  {
   "cell_type": "code",
   "execution_count": 10,
   "id": "61c0b0fc",
   "metadata": {
    "scrolled": true
   },
   "outputs": [
    {
     "name": "stdout",
     "output_type": "stream",
     "text": [
      "Ala ma kota."
     ]
    }
   ],
   "source": [
    "print('Ala', 'ma', 'kota', sep=' ', end='.')"
   ]
  },
  {
   "cell_type": "markdown",
   "id": "e7a0c6e3",
   "metadata": {},
   "source": [
    "Uwaga! Podaczas pisania programów poza Jupyter Notebookiem oraz sesją interaktywną w celu wyświetlania wyniku działań, operacji itp. trzeba używać komendy `print()`. Np. `1+1` wpisane tutaj wyświetli `2`, ale w środowisku jak PyCharm nie wyświetli się nic i trzeba wpisać `print(1+1)`."
   ]
  },
  {
   "cell_type": "markdown",
   "id": "69ed18eb",
   "metadata": {},
   "source": [
    "### Liczby"
   ]
  },
  {
   "cell_type": "markdown",
   "id": "e9e09496",
   "metadata": {},
   "source": [
    "Liczyb całkowite `int`"
   ]
  },
  {
   "cell_type": "code",
   "execution_count": 11,
   "id": "85f81eb0",
   "metadata": {
    "scrolled": true
   },
   "outputs": [
    {
     "data": {
      "text/plain": [
       "1"
      ]
     },
     "execution_count": 11,
     "metadata": {},
     "output_type": "execute_result"
    }
   ],
   "source": [
    "1"
   ]
  },
  {
   "cell_type": "code",
   "execution_count": 12,
   "id": "c8b69b83",
   "metadata": {},
   "outputs": [
    {
     "data": {
      "text/plain": [
       "int"
      ]
     },
     "execution_count": 12,
     "metadata": {},
     "output_type": "execute_result"
    }
   ],
   "source": [
    "type(1)"
   ]
  },
  {
   "cell_type": "markdown",
   "id": "88e0bc2c",
   "metadata": {},
   "source": [
    "Liczby zmiennoprzecinkowe `float`"
   ]
  },
  {
   "cell_type": "code",
   "execution_count": 13,
   "id": "51abde26",
   "metadata": {},
   "outputs": [
    {
     "data": {
      "text/plain": [
       "1.0"
      ]
     },
     "execution_count": 13,
     "metadata": {},
     "output_type": "execute_result"
    }
   ],
   "source": [
    "1."
   ]
  },
  {
   "cell_type": "code",
   "execution_count": 14,
   "id": "d607dea7",
   "metadata": {},
   "outputs": [
    {
     "data": {
      "text/plain": [
       "float"
      ]
     },
     "execution_count": 14,
     "metadata": {},
     "output_type": "execute_result"
    }
   ],
   "source": [
    "type(1.)"
   ]
  },
  {
   "cell_type": "markdown",
   "id": "b31fb50c",
   "metadata": {},
   "source": [
    "Liczby zespolone `complex`"
   ]
  },
  {
   "cell_type": "code",
   "execution_count": 15,
   "id": "c25d445a",
   "metadata": {},
   "outputs": [
    {
     "data": {
      "text/plain": [
       "(1+1j)"
      ]
     },
     "execution_count": 15,
     "metadata": {},
     "output_type": "execute_result"
    }
   ],
   "source": [
    "1+1j"
   ]
  },
  {
   "cell_type": "code",
   "execution_count": 16,
   "id": "82967d56",
   "metadata": {
    "scrolled": true
   },
   "outputs": [
    {
     "data": {
      "text/plain": [
       "complex"
      ]
     },
     "execution_count": 16,
     "metadata": {},
     "output_type": "execute_result"
    }
   ],
   "source": [
    "type(1+1j)"
   ]
  },
  {
   "cell_type": "markdown",
   "id": "3c25757e",
   "metadata": {},
   "source": [
    "### Operacje na liczbach"
   ]
  },
  {
   "cell_type": "markdown",
   "id": "896d1b80",
   "metadata": {},
   "source": [
    "Dodawanie"
   ]
  },
  {
   "cell_type": "code",
   "execution_count": 17,
   "id": "429ee4d8",
   "metadata": {},
   "outputs": [
    {
     "data": {
      "text/plain": [
       "6.970000000000001"
      ]
     },
     "execution_count": 17,
     "metadata": {},
     "output_type": "execute_result"
    }
   ],
   "source": [
    "2.43+4.54"
   ]
  },
  {
   "cell_type": "markdown",
   "id": "566db4b4",
   "metadata": {},
   "source": [
    "Odejmowanie"
   ]
  },
  {
   "cell_type": "code",
   "execution_count": 18,
   "id": "2067ad86",
   "metadata": {
    "scrolled": true
   },
   "outputs": [
    {
     "data": {
      "text/plain": [
       "-3.02"
      ]
     },
     "execution_count": 18,
     "metadata": {},
     "output_type": "execute_result"
    }
   ],
   "source": [
    "2.43-5.45"
   ]
  },
  {
   "cell_type": "markdown",
   "id": "d710d080",
   "metadata": {},
   "source": [
    "Mnożenie"
   ]
  },
  {
   "cell_type": "code",
   "execution_count": 19,
   "id": "0f9f26e3",
   "metadata": {},
   "outputs": [
    {
     "data": {
      "text/plain": [
       "11.032200000000001"
      ]
     },
     "execution_count": 19,
     "metadata": {},
     "output_type": "execute_result"
    }
   ],
   "source": [
    "2.43*4.54"
   ]
  },
  {
   "cell_type": "markdown",
   "id": "cd0a8070",
   "metadata": {},
   "source": [
    "Dzielenie liczb (różnice między zmiennoprzecinkowymi a całkowitymi)"
   ]
  },
  {
   "cell_type": "code",
   "execution_count": 20,
   "id": "b6782b41",
   "metadata": {},
   "outputs": [
    {
     "data": {
      "text/plain": [
       "1.3333333333333333"
      ]
     },
     "execution_count": 20,
     "metadata": {},
     "output_type": "execute_result"
    }
   ],
   "source": [
    "4/3"
   ]
  },
  {
   "cell_type": "code",
   "execution_count": 21,
   "id": "ff331e96",
   "metadata": {},
   "outputs": [
    {
     "data": {
      "text/plain": [
       "1"
      ]
     },
     "execution_count": 21,
     "metadata": {},
     "output_type": "execute_result"
    }
   ],
   "source": [
    "4//3"
   ]
  },
  {
   "cell_type": "markdown",
   "id": "67f91e2e",
   "metadata": {},
   "source": [
    "Dzielenie za pomocą `/` zawsze zwraca w wyniku liczbę zmiennoprzecinkową `float`."
   ]
  },
  {
   "cell_type": "code",
   "execution_count": 22,
   "id": "5e067055",
   "metadata": {
    "scrolled": true
   },
   "outputs": [
    {
     "data": {
      "text/plain": [
       "float"
      ]
     },
     "execution_count": 22,
     "metadata": {},
     "output_type": "execute_result"
    }
   ],
   "source": [
    "type(4/3)"
   ]
  },
  {
   "cell_type": "code",
   "execution_count": 23,
   "id": "3fa8ab0e",
   "metadata": {},
   "outputs": [
    {
     "data": {
      "text/plain": [
       "float"
      ]
     },
     "execution_count": 23,
     "metadata": {},
     "output_type": "execute_result"
    }
   ],
   "source": [
    "type(3/3)"
   ]
  },
  {
   "cell_type": "markdown",
   "id": "abd2d8f0",
   "metadata": {},
   "source": [
    "Dzielenie za pomocą `//` zawsze zwraca w wyniku liczbę całkowitą `int`."
   ]
  },
  {
   "cell_type": "code",
   "execution_count": 24,
   "id": "c2fbb117",
   "metadata": {},
   "outputs": [
    {
     "data": {
      "text/plain": [
       "int"
      ]
     },
     "execution_count": 24,
     "metadata": {},
     "output_type": "execute_result"
    }
   ],
   "source": [
    "type(4//3)"
   ]
  },
  {
   "cell_type": "markdown",
   "id": "f5f12d53",
   "metadata": {},
   "source": [
    "Potęgowanie"
   ]
  },
  {
   "cell_type": "code",
   "execution_count": 25,
   "id": "bd4a95e7",
   "metadata": {
    "scrolled": true
   },
   "outputs": [
    {
     "data": {
      "text/plain": [
       "8"
      ]
     },
     "execution_count": 25,
     "metadata": {},
     "output_type": "execute_result"
    }
   ],
   "source": [
    "2**3"
   ]
  },
  {
   "cell_type": "markdown",
   "id": "6adc516f",
   "metadata": {},
   "source": [
    "Pierwiastkowanie"
   ]
  },
  {
   "cell_type": "code",
   "execution_count": 26,
   "id": "56f77375",
   "metadata": {},
   "outputs": [
    {
     "ename": "NameError",
     "evalue": "name 'sqrt' is not defined",
     "output_type": "error",
     "traceback": [
      "\u001b[0;31m---------------------------------------------------------------------------\u001b[0m",
      "\u001b[0;31mNameError\u001b[0m                                 Traceback (most recent call last)",
      "\u001b[0;32m<ipython-input-26-317e033d29d5>\u001b[0m in \u001b[0;36m<module>\u001b[0;34m\u001b[0m\n\u001b[0;32m----> 1\u001b[0;31m \u001b[0msqrt\u001b[0m\u001b[0;34m(\u001b[0m\u001b[0;36m4\u001b[0m\u001b[0;34m)\u001b[0m\u001b[0;34m\u001b[0m\u001b[0;34m\u001b[0m\u001b[0m\n\u001b[0m",
      "\u001b[0;31mNameError\u001b[0m: name 'sqrt' is not defined"
     ]
    }
   ],
   "source": [
    "sqrt(4)"
   ]
  },
  {
   "cell_type": "markdown",
   "id": "f024bed2",
   "metadata": {},
   "source": [
    "Pierwiastokowanie nie jest zaimplementowane bezpośrednio w Pythonie, można jednak wykorzystać gotową **blibliotekę** zawierającą taką operację matematyczną "
   ]
  },
  {
   "cell_type": "code",
   "execution_count": 28,
   "id": "31735517",
   "metadata": {},
   "outputs": [],
   "source": [
    "from numpy import sqrt "
   ]
  },
  {
   "cell_type": "code",
   "execution_count": 29,
   "id": "18e50c88",
   "metadata": {},
   "outputs": [
    {
     "data": {
      "text/plain": [
       "2.0"
      ]
     },
     "execution_count": 29,
     "metadata": {},
     "output_type": "execute_result"
    }
   ],
   "source": [
    "sqrt(4)"
   ]
  },
  {
   "cell_type": "markdown",
   "id": "490c62aa",
   "metadata": {},
   "source": [
    "Uważniejsi mogli zauważyć, że wyniki dodawania i mnożenia niekoniecznie zgadzają się z rzeczywistością, sprawdźmy jeszcze raz"
   ]
  },
  {
   "cell_type": "code",
   "execution_count": 30,
   "id": "badad198",
   "metadata": {},
   "outputs": [
    {
     "data": {
      "text/plain": [
       "20.909999999999997"
      ]
     },
     "execution_count": 30,
     "metadata": {},
     "output_type": "execute_result"
    }
   ],
   "source": [
    "4.1*5.1"
   ]
  },
  {
   "cell_type": "markdown",
   "id": "47798d96",
   "metadata": {},
   "source": [
    "a powinno być `20.91`. Problem wynika z tego, że maszyna operuje na bitach, więc liczby są przekształcane na system binarny, a stąd \"okrągłe\" dla nas liczby w systemie dziesiętnym niekoniecznie takie są w ograniczonej pamięci komputera."
   ]
  },
  {
   "cell_type": "markdown",
   "id": "23b3b0fa",
   "metadata": {},
   "source": [
    "### Łańcuchy znaków"
   ]
  },
  {
   "cell_type": "markdown",
   "id": "b595d6a4",
   "metadata": {},
   "source": [
    "Łańcuchy znaków mają typ `str` od `string` i są zapisywane w cudzysłowie lub podwójnym cudzysłowie `' '`, `\" \"`"
   ]
  },
  {
   "cell_type": "code",
   "execution_count": 31,
   "id": "f9eb589c",
   "metadata": {},
   "outputs": [
    {
     "data": {
      "text/plain": [
       "str"
      ]
     },
     "execution_count": 31,
     "metadata": {},
     "output_type": "execute_result"
    }
   ],
   "source": [
    "type('Laboratoria')"
   ]
  },
  {
   "cell_type": "code",
   "execution_count": 32,
   "id": "99b3d378",
   "metadata": {},
   "outputs": [
    {
     "data": {
      "text/plain": [
       "str"
      ]
     },
     "execution_count": 32,
     "metadata": {},
     "output_type": "execute_result"
    }
   ],
   "source": [
    "type(\"Laboratoria\")"
   ]
  },
  {
   "cell_type": "markdown",
   "id": "2317852e",
   "metadata": {},
   "source": [
    "### Operacje na łańcuchach znaków"
   ]
  },
  {
   "cell_type": "code",
   "execution_count": 33,
   "id": "57db49d1",
   "metadata": {},
   "outputs": [],
   "source": [
    "S='Laboratoria'"
   ]
  },
  {
   "cell_type": "markdown",
   "id": "8e1469bc",
   "metadata": {},
   "source": [
    "Długość możemy poznać za pomocą funkcji `len()`"
   ]
  },
  {
   "cell_type": "code",
   "execution_count": 34,
   "id": "2ffa0e77",
   "metadata": {},
   "outputs": [
    {
     "data": {
      "text/plain": [
       "11"
      ]
     },
     "execution_count": 34,
     "metadata": {},
     "output_type": "execute_result"
    }
   ],
   "source": [
    "len(S)"
   ]
  },
  {
   "cell_type": "markdown",
   "id": "e82b74ce",
   "metadata": {},
   "source": [
    "Wybieranie elementów z łańcucha odbywa się za pomocą *indeksów* nnumerujących każdy znak zaczynając **od zera**. Indeks podajemy w nawiasach kwadratowych `[]` "
   ]
  },
  {
   "cell_type": "code",
   "execution_count": 35,
   "id": "14a4d3e8",
   "metadata": {},
   "outputs": [
    {
     "data": {
      "text/plain": [
       "'L'"
      ]
     },
     "execution_count": 35,
     "metadata": {},
     "output_type": "execute_result"
    }
   ],
   "source": [
    "S[0]"
   ]
  },
  {
   "cell_type": "code",
   "execution_count": 36,
   "id": "6dde5dd8",
   "metadata": {},
   "outputs": [
    {
     "data": {
      "text/plain": [
       "'r'"
      ]
     },
     "execution_count": 36,
     "metadata": {},
     "output_type": "execute_result"
    }
   ],
   "source": [
    "S[4]"
   ]
  },
  {
   "cell_type": "markdown",
   "id": "d3d555db",
   "metadata": {},
   "source": [
    "Błąd przy wyjściu poza łańcuch"
   ]
  },
  {
   "cell_type": "code",
   "execution_count": 37,
   "id": "a4459c7c",
   "metadata": {},
   "outputs": [
    {
     "ename": "IndexError",
     "evalue": "string index out of range",
     "output_type": "error",
     "traceback": [
      "\u001b[0;31m---------------------------------------------------------------------------\u001b[0m",
      "\u001b[0;31mIndexError\u001b[0m                                Traceback (most recent call last)",
      "\u001b[0;32m<ipython-input-37-934aa1daad62>\u001b[0m in \u001b[0;36m<module>\u001b[0;34m\u001b[0m\n\u001b[0;32m----> 1\u001b[0;31m \u001b[0mS\u001b[0m\u001b[0;34m[\u001b[0m\u001b[0mlen\u001b[0m\u001b[0;34m(\u001b[0m\u001b[0mS\u001b[0m\u001b[0;34m)\u001b[0m\u001b[0;34m]\u001b[0m\u001b[0;34m\u001b[0m\u001b[0;34m\u001b[0m\u001b[0m\n\u001b[0m",
      "\u001b[0;31mIndexError\u001b[0m: string index out of range"
     ]
    }
   ],
   "source": [
    "S[len(S)]"
   ]
  },
  {
   "cell_type": "code",
   "execution_count": 38,
   "id": "9d7e35a7",
   "metadata": {},
   "outputs": [
    {
     "data": {
      "text/plain": [
       "'a'"
      ]
     },
     "execution_count": 38,
     "metadata": {},
     "output_type": "execute_result"
    }
   ],
   "source": [
    "S[len(S)-1]"
   ]
  },
  {
   "cell_type": "markdown",
   "id": "b945d694",
   "metadata": {},
   "source": [
    "Przedział znaków z określonym krokiem"
   ]
  },
  {
   "cell_type": "code",
   "execution_count": 39,
   "id": "3406fe44",
   "metadata": {},
   "outputs": [
    {
     "data": {
      "text/plain": [
       "'aboratori'"
      ]
     },
     "execution_count": 39,
     "metadata": {},
     "output_type": "execute_result"
    }
   ],
   "source": [
    "S[1:10] #krok 1"
   ]
  },
  {
   "cell_type": "code",
   "execution_count": 40,
   "id": "a422adc1",
   "metadata": {},
   "outputs": [
    {
     "data": {
      "text/plain": [
       "'aoao'"
      ]
     },
     "execution_count": 40,
     "metadata": {},
     "output_type": "execute_result"
    }
   ],
   "source": [
    "S[1:8:2] #krok 2"
   ]
  },
  {
   "cell_type": "code",
   "execution_count": 42,
   "id": "f7f9dff0",
   "metadata": {},
   "outputs": [
    {
     "data": {
      "text/plain": [
       "'Labor'"
      ]
     },
     "execution_count": 42,
     "metadata": {},
     "output_type": "execute_result"
    }
   ],
   "source": [
    "S[:5] # od początku do 4 indexu (bez 5)"
   ]
  },
  {
   "cell_type": "code",
   "execution_count": 41,
   "id": "0785089c",
   "metadata": {},
   "outputs": [
    {
     "data": {
      "text/plain": [
       "'atoria'"
      ]
     },
     "execution_count": 41,
     "metadata": {},
     "output_type": "execute_result"
    }
   ],
   "source": [
    "S[5:] # od 5 indexu włącznie do końca"
   ]
  },
  {
   "cell_type": "markdown",
   "id": "e45c6502",
   "metadata": {},
   "source": [
    "Indeksowanie od końca"
   ]
  },
  {
   "cell_type": "code",
   "execution_count": 43,
   "id": "c4003a4e",
   "metadata": {},
   "outputs": [
    {
     "data": {
      "text/plain": [
       "'a'"
      ]
     },
     "execution_count": 43,
     "metadata": {},
     "output_type": "execute_result"
    }
   ],
   "source": [
    "S[-1]"
   ]
  },
  {
   "cell_type": "code",
   "execution_count": 44,
   "id": "9f3f1efe",
   "metadata": {},
   "outputs": [
    {
     "data": {
      "text/plain": [
       "'i'"
      ]
     },
     "execution_count": 44,
     "metadata": {},
     "output_type": "execute_result"
    }
   ],
   "source": [
    "S[-2]"
   ]
  },
  {
   "cell_type": "code",
   "execution_count": 45,
   "id": "f740f84a",
   "metadata": {},
   "outputs": [
    {
     "data": {
      "text/plain": [
       "'Laborator'"
      ]
     },
     "execution_count": 45,
     "metadata": {},
     "output_type": "execute_result"
    }
   ],
   "source": [
    "S[:-2]"
   ]
  },
  {
   "cell_type": "markdown",
   "id": "7c03e208",
   "metadata": {},
   "source": [
    "Znajdowanie indeksu znaku za pomocą metody `find()`"
   ]
  },
  {
   "cell_type": "code",
   "execution_count": 46,
   "id": "2be0e595",
   "metadata": {},
   "outputs": [
    {
     "data": {
      "text/plain": [
       "1"
      ]
     },
     "execution_count": 46,
     "metadata": {},
     "output_type": "execute_result"
    }
   ],
   "source": [
    "S.find('a')"
   ]
  },
  {
   "cell_type": "markdown",
   "id": "951e7ac6",
   "metadata": {},
   "source": [
    "Kiedy znak nie zostanie znaleziony, zwrócona zostanie wartość `-1`"
   ]
  },
  {
   "cell_type": "code",
   "execution_count": 47,
   "id": "d4e32a8a",
   "metadata": {},
   "outputs": [
    {
     "data": {
      "text/plain": [
       "-1"
      ]
     },
     "execution_count": 47,
     "metadata": {},
     "output_type": "execute_result"
    }
   ],
   "source": [
    "S.find('x')"
   ]
  },
  {
   "cell_type": "markdown",
   "id": "1ea597e5",
   "metadata": {},
   "source": [
    "Konkatenacja, czyli składanie łańcuchów znaków"
   ]
  },
  {
   "cell_type": "code",
   "execution_count": 48,
   "id": "3aa99917",
   "metadata": {},
   "outputs": [],
   "source": [
    "S1='Laboratoria'\n",
    "S2='Python'"
   ]
  },
  {
   "cell_type": "code",
   "execution_count": 49,
   "id": "dbd921a3",
   "metadata": {},
   "outputs": [
    {
     "data": {
      "text/plain": [
       "'LaboratoriaPython'"
      ]
     },
     "execution_count": 49,
     "metadata": {},
     "output_type": "execute_result"
    }
   ],
   "source": [
    "S1+S2"
   ]
  },
  {
   "cell_type": "code",
   "execution_count": 50,
   "id": "39ff2027",
   "metadata": {},
   "outputs": [
    {
     "data": {
      "text/plain": [
       "'LaboratoriaLaboratoriaPython'"
      ]
     },
     "execution_count": 50,
     "metadata": {},
     "output_type": "execute_result"
    }
   ],
   "source": [
    "2*S1+S2"
   ]
  },
  {
   "cell_type": "markdown",
   "id": "3bf4d809",
   "metadata": {},
   "source": [
    "Konwersja na wielkie i małe litery za pomocą metod `upper()` oraz `lower()`"
   ]
  },
  {
   "cell_type": "code",
   "execution_count": 51,
   "id": "e8a6b9e7",
   "metadata": {},
   "outputs": [
    {
     "data": {
      "text/plain": [
       "'Laboratoria'"
      ]
     },
     "execution_count": 51,
     "metadata": {},
     "output_type": "execute_result"
    }
   ],
   "source": [
    "S"
   ]
  },
  {
   "cell_type": "code",
   "execution_count": 52,
   "id": "3d59fa2f",
   "metadata": {},
   "outputs": [
    {
     "data": {
      "text/plain": [
       "'LABORATORIA'"
      ]
     },
     "execution_count": 52,
     "metadata": {},
     "output_type": "execute_result"
    }
   ],
   "source": [
    "S.upper()"
   ]
  },
  {
   "cell_type": "code",
   "execution_count": 53,
   "id": "5b778148",
   "metadata": {},
   "outputs": [
    {
     "data": {
      "text/plain": [
       "'laboratoria'"
      ]
     },
     "execution_count": 53,
     "metadata": {},
     "output_type": "execute_result"
    }
   ],
   "source": [
    "S.lower()"
   ]
  },
  {
   "cell_type": "markdown",
   "id": "4eafabdf",
   "metadata": {},
   "source": [
    "Podzielenie na ograniczniku na **listę** podłańcuchów za pomocą metody `split()`"
   ]
  },
  {
   "cell_type": "code",
   "execution_count": 54,
   "id": "b8ddf108",
   "metadata": {},
   "outputs": [
    {
     "data": {
      "text/plain": [
       "['Lab', 'rat', 'ria']"
      ]
     },
     "execution_count": 54,
     "metadata": {},
     "output_type": "execute_result"
    }
   ],
   "source": [
    "S.split('o')"
   ]
  },
  {
   "cell_type": "markdown",
   "id": "cc9f8197",
   "metadata": {},
   "source": [
    "Łańcuchy znaków są **niezmienne**, co oznacza, że jeśli chcemy zmienić jedną literę na inną musimy stworzyć nowy łańcuch."
   ]
  },
  {
   "cell_type": "code",
   "execution_count": 55,
   "id": "cbb566e4",
   "metadata": {},
   "outputs": [
    {
     "ename": "TypeError",
     "evalue": "'str' object does not support item assignment",
     "output_type": "error",
     "traceback": [
      "\u001b[0;31m---------------------------------------------------------------------------\u001b[0m",
      "\u001b[0;31mTypeError\u001b[0m                                 Traceback (most recent call last)",
      "\u001b[0;32m<ipython-input-55-4de5f6be55fc>\u001b[0m in \u001b[0;36m<module>\u001b[0;34m\u001b[0m\n\u001b[0;32m----> 1\u001b[0;31m \u001b[0mS\u001b[0m\u001b[0;34m[\u001b[0m\u001b[0;36m0\u001b[0m\u001b[0;34m]\u001b[0m\u001b[0;34m=\u001b[0m\u001b[0;34m'B'\u001b[0m\u001b[0;34m\u001b[0m\u001b[0;34m\u001b[0m\u001b[0m\n\u001b[0m",
      "\u001b[0;31mTypeError\u001b[0m: 'str' object does not support item assignment"
     ]
    }
   ],
   "source": [
    "S[0]='B'"
   ]
  },
  {
   "cell_type": "code",
   "execution_count": 56,
   "id": "e430e11f",
   "metadata": {},
   "outputs": [
    {
     "data": {
      "text/plain": [
       "'Baboratoria'"
      ]
     },
     "execution_count": 56,
     "metadata": {},
     "output_type": "execute_result"
    }
   ],
   "source": [
    "NewS='B'+S[1:]\n",
    "NewS"
   ]
  }
 ],
 "metadata": {
  "kernelspec": {
   "display_name": "Python 3",
   "language": "python",
   "name": "python3"
  },
  "language_info": {
   "codemirror_mode": {
    "name": "ipython",
    "version": 3
   },
   "file_extension": ".py",
   "mimetype": "text/x-python",
   "name": "python",
   "nbconvert_exporter": "python",
   "pygments_lexer": "ipython3",
   "version": "3.6.9"
  }
 },
 "nbformat": 4,
 "nbformat_minor": 5
}
