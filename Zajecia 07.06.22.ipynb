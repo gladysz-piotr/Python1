{
 "cells": [
  {
   "cell_type": "markdown",
   "id": "56c1a754",
   "metadata": {},
   "source": [
    "**Zadanie domowe!**"
   ]
  },
  {
   "cell_type": "markdown",
   "id": "4260fbe8",
   "metadata": {},
   "source": [
    "Jak widać programowi brakuje jednej, bardzo istotnej funkcjonalności - określania kto wygrał. Zadaniem domowym jest napisanie dwóch funkcji. Pierwsza `isWin(positions)` pobieraja jako argument `positions` listę pozycji kółek bądź krzyżyków i zwraca wartość `True` jeśli pozycje sugerują zwycięsto, albo `False` w przeciwnym razie. Druga faunkcja `isDraw(count)` zwraca wartość `False` jeśli nie ma remisu i wartość `True` jesli jest. Argumentem jest liczba przebiegów pętli `count` (dlaczego to wystarczy?).  "
   ]
  },
  {
   "cell_type": "markdown",
   "id": "1ac9c773",
   "metadata": {},
   "source": [
    "W celu uproszczenia zadania, polecam skorzystać z poniższego szkieletu, gdzie zamiast ostatnich dwóch linijek w pętli mamy trzy instrukcje warunkowe"
   ]
  },
  {
   "cell_type": "code",
   "execution_count": null,
   "id": "1c6f6dd7",
   "metadata": {},
   "outputs": [],
   "source": [
    "from matplotlib import pyplot as plt\n",
    "\n",
    "def plotField(axis):\n",
    "    axis.axvline(x = -0.5, color = 'black')\n",
    "    axis.axvline(x = 0.5, color = 'black')\n",
    "    axis.axhline(y = -0.5, color = 'black')\n",
    "    axis.axhline(y = 0.5, color = 'black')\n",
    "    axis.get_xaxis().set_visible(False)\n",
    "    axis.get_yaxis().set_visible(False)\n",
    "    axis.set_xlim([-1.5, 1.5])\n",
    "    axis.set_ylim([-1.5, 1.5])\n",
    "\n",
    "def drawShape(axis, positions, shape):\n",
    "    if shape == 'x':\n",
    "        color = 'blue'\n",
    "    else:\n",
    "        color = 'green'\n",
    "    for a, b in positions:\n",
    "        axis.plot(a, b, 'o', marker = shape, fillstyle = 'none', \n",
    "            markersize = 50, color = color)   \n",
    "\n",
    "def getPosition(text, oPositions, xPositions):\n",
    "    values = [-1, 0, 1]\n",
    "    while True:\n",
    "        a, b = eval(input(text))\n",
    "        if a in values and b in values:\n",
    "            if (a, b) in oPositions or (a, b) in xPositions:\n",
    "                print('Pole jest już zajęte.')\n",
    "            else:\n",
    "                break\n",
    "        else:\n",
    "            print('Nie ma takiego pola.')\n",
    "    return (a, b)\n",
    "\n",
    "def isWin(positions):\n",
    "    '''TO DO'''\n",
    "    \n",
    "def isDraw(count):\n",
    "    '''TO DO'''\n",
    "    \n",
    "fig, ax = plt.subplots(1, figsize = ((4, 4)))\n",
    "plotField(ax)\n",
    "plt.show(block = False)\n",
    "plt.ion()\n",
    "\n",
    "textO = 'Podaj położenie kółka: '\n",
    "textX = 'Podaj położenie krzyżyka: '\n",
    "oPositions = []\n",
    "xPositions = []\n",
    "count = 0\n",
    "while True:\n",
    "    if count % 2 == 0:\n",
    "        oPos = getPosition(textO, oPositions, xPositions)\n",
    "        oPositions.append(oPos)\n",
    "        drawShape(ax, [oPos], 'o')\n",
    "    else:\n",
    "        xPos = getPosition(textX, oPositions, xPositions)\n",
    "        xPositions.append(xPos)\n",
    "        drawShape(ax, [xPos], 'x')\n",
    "    count += 1\n",
    "    if count > 4: #wygrać można najszybciej w piątym ruchu\n",
    "        if isWin(oPositions): #sprawdzamy czy wygrały kółka\n",
    "            print('Wygrały kółka!')\n",
    "            break\n",
    "        if isWin(xPositions): #sprawdzamy czy wygrały krzyżyki\n",
    "            print('Wygrały krzyżyki!')\n",
    "            break\n",
    "        if isDraw(count): #sprawdzamy czy jest remis\n",
    "            print('Remis!')\n",
    "            break\n",
    "\n",
    "print('Naciśnij Enter aby zakończyć') \n",
    "input()"
   ]
  },
  {
   "cell_type": "markdown",
   "id": "c4b3d647",
   "metadata": {},
   "source": [
    "**Zadanie dodatkowe**"
   ]
  },
  {
   "cell_type": "markdown",
   "id": "dc5a8d57",
   "metadata": {},
   "source": [
    "Granie samemu jest nudne, więc jako dodatek proponuję dopisanie do funkcji `getPosition` nowego argumentu `random = False`. Jak widać, argument domyślnie jest ustawiony na `False` i wtedy funkcja działa jak do tej pory, ale po zmianie na `True` ma zwracać losowy punkt, który spełnia wszystkie warunki (zamiast prosić o nie użytkownika). Następnie w kodzie można ustalić, że np. krzyżyki są generowane losowo i grać przeciwko takiemu losowemu przeciwnikowi."
   ]
  },
  {
   "cell_type": "markdown",
   "id": "7b7204bc",
   "metadata": {},
   "source": [
    "Powodzenia!"
   ]
  },
  {
   "cell_type": "markdown",
   "id": "912343c5",
   "metadata": {},
   "source": [
    "**Rozwiązanie**"
   ]
  },
  {
   "cell_type": "markdown",
   "id": "0001b7b0",
   "metadata": {},
   "source": [
    "Dodatkowo jest dopisany fragment kodu skreślający wygrywające trzy symbole za pomocą grubej czarnej linii."
   ]
  },
  {
   "cell_type": "code",
   "execution_count": null,
   "id": "db9d06ff",
   "metadata": {},
   "outputs": [],
   "source": [
    "from matplotlib import pyplot as plt\n",
    "import random as rnd\n",
    "import numpy as np\n",
    "\n",
    "def plotField(axis):\n",
    "    axis.axvline(x = -0.5, color = 'black')\n",
    "    axis.axvline(x = 0.5, color = 'black')\n",
    "    axis.axhline(y = -0.5, color = 'black')\n",
    "    axis.axhline(y = 0.5, color = 'black')\n",
    "    axis.get_xaxis().set_visible(False)\n",
    "    axis.get_yaxis().set_visible(False)\n",
    "    axis.set_xlim([-1.5, 1.5])\n",
    "    axis.set_ylim([-1.5, 1.5])\n",
    "\n",
    "def drawShape(axis, positions, shape):\n",
    "    if shape == 'x':\n",
    "        color = 'blue'\n",
    "    else:\n",
    "        color = 'green'\n",
    "    for a, b in positions:\n",
    "        axis.plot(a, b, 'o', marker = shape, fillstyle = 'none', \n",
    "                  markersize = 50, color = color)   \n",
    "\n",
    "def getPosition(text, oPositions, xPositions, random = False): #tworzymy dodatkowy argument do losowania\n",
    "    values = [-1, 0, 1]\n",
    "    if not random: #jesli random = False to wszystko działa jak wcześniej\n",
    "        while True:\n",
    "            a, b = eval(input(text))\n",
    "            if a in values and b in values:\n",
    "                if (a, b) in oPositions or (a, b) in xPositions:\n",
    "                    print('Pole jest już zajęte.')\n",
    "                else:\n",
    "                    break\n",
    "            else:\n",
    "                print('Nie ma takiego pola.')\n",
    "    else: #jeśli random = True mamy losowanie punktu dopóki spełnia warunki\n",
    "        while True:\n",
    "            a, b = rnd.choice(values), rnd.choice(values)\n",
    "            if (a, b) in oPositions or (a, b) in xPositions:       \n",
    "                continue\n",
    "            else:\n",
    "                break\n",
    "    return (a, b)\n",
    "\n",
    "def isWin(positions, axis): #przechowujemy w krotce wszystkie konfiguracje dające zwycięstwo\n",
    "    win = (((-1, -1),(0, -1),(1, -1)),\n",
    "           ((-1, 0),(0, 0),(1, 0)),\n",
    "           ((-1, 1),(0, 1),(1, 1)),\n",
    "           ((-1, -1),(-1, 0),(-1, 1)),\n",
    "           ((0, -1),(0, 0),(0, 1)),\n",
    "           ((1, -1),(1, 0),(1, 1)),\n",
    "           ((-1, 1),(0, 0),(1, -1)),\n",
    "           ((-1, -1),(0, 0),(1, 1)))\n",
    "    for z in win: #sprawdzamy, czy któraś konfiguracja występuje w liście punktów\n",
    "        if all([z[i] in positions for i in (0, 1, 2)]):\n",
    "            x, y = zip(*z) \n",
    "            axis.plot(x, y, linewidth = 10, solid_capstyle='round', color = 'black') #rysujemy zwycięską linię \n",
    "            return True        \n",
    "\n",
    "def isDraw(count): #jeśli nie było zwycięstwa po 9 ruchach, to na pewno jest remis\n",
    "    if count == 9:\n",
    "        return True\n",
    "\n",
    "\n",
    "pause = 0.5 #nie chcemy żeby symbole pojawiały się za szybko (w sekundach)\n",
    "\n",
    "fig, ax = plt.subplots(1, figsize = ((4, 4)))\n",
    "plotField(ax)\n",
    "plt.show(block = False)\n",
    "plt.ion()\n",
    "\n",
    "textO = 'Podaj położenie kółka: '\n",
    "textX = 'Podaj położenie krzyżyka: '\n",
    "oPositions = []\n",
    "xPositions = []\n",
    "count = 0\n",
    "while True:\n",
    "    if count % 2 == 0:\n",
    "        oPos = getPosition(textO, oPositions, xPositions, True)\n",
    "        oPositions.append(oPos)\n",
    "        drawShape(ax, [oPos], 'o')\n",
    "    else:\n",
    "        xPos = getPosition(textX, oPositions, xPositions, True)\n",
    "        xPositions.append(xPos)\n",
    "        drawShape(ax, [xPos], 'x')\n",
    "    count += 1\n",
    "    if count > 4:\n",
    "        if isWin(oPositions, ax):\n",
    "            print('Wygrały kółka!')\n",
    "            break\n",
    "        if isWin(xPositions, ax):\n",
    "            print('Wygrały krzyżyki!')\n",
    "            break\n",
    "        if isDraw(count):\n",
    "            print('Remis!')\n",
    "            break\n",
    "    plt.pause(pause) #ten fragment zatrzymuje działanie pętli na określony wcześniej czas    \n",
    "    \n",
    "print('\\nNaciśnij Enter, żeby zakończyć.')\n",
    "input()"
   ]
  },
  {
   "cell_type": "markdown",
   "id": "af156938",
   "metadata": {},
   "source": [
    "**Sortowanie przez czekanie - wielowątkowość w Pythonie**"
   ]
  },
  {
   "cell_type": "markdown",
   "id": "ca6f89e3",
   "metadata": {},
   "source": [
    "Na zakończenie kursu, jako ciekawostkę napiszemy kod do sortowania poprzez czekanie. Zadanie ma na celu pokazanie jak w Pythonie można tworzyć procesy, które wykonują się niezależnie od siebie."
   ]
  },
  {
   "cell_type": "markdown",
   "id": "4089805f",
   "metadata": {},
   "source": [
    "Sortowanie poprzez czekanie jest bardzo nieefektywną metodą sortowania polegającą na czekaniu z wyświetleniem wynikiu ilość czasu proporcjonalną do liczby jaką obecnie sortujemy. Przykładowo, dla listy [1, 0, 3, 2] możemy dla każdej liczby określić, że czekamy liczbę sekund równą jej wartości zanim ją wyświetlimy. W ten sposób liczba 0 pojawi się jako pierwsza, po sekundzie pojawi się liczba 1, po dwóch sekundach liczba 2 i w końcu po trzech liczba 3. Jak widać jest to bardzo wolny proces i dla większych liczb mało sensowny, a mimo to interesujący."
   ]
  },
  {
   "cell_type": "markdown",
   "id": "f1cbdc03",
   "metadata": {},
   "source": [
    "Po pierwsze przyda nam się funkcja opóźniająca wykonywanie kodu. W tym celu skorzystamy z biblioteki `time` i znajdującej się w niej funkcji `sleep`."
   ]
  },
  {
   "cell_type": "code",
   "execution_count": 2,
   "id": "6fdc9e11",
   "metadata": {},
   "outputs": [
    {
     "name": "stdout",
     "output_type": "stream",
     "text": [
      "Jakiś tekst\n",
      "Jakiś tekst 2 sekunty później.\n"
     ]
    }
   ],
   "source": [
    "from time import sleep\n",
    "print('Jakiś tekst')\n",
    "sleep(2) #czas podajemy w sekundach\n",
    "print('Jakiś tekst 2 sekunty później.')"
   ]
  },
  {
   "cell_type": "markdown",
   "id": "dde67177",
   "metadata": {},
   "source": [
    "Skorzystajmy też standardowo z biblioteki `random` w celu wygenerowania listy losowych liczb na przykład z przedziały [10, 99]"
   ]
  },
  {
   "cell_type": "code",
   "execution_count": 18,
   "id": "f3001a62",
   "metadata": {},
   "outputs": [
    {
     "name": "stdout",
     "output_type": "stream",
     "text": [
      "22, 57, 37, 35, 44, 59, 83, 31, 69, 92, 59, 67, 60, 29, 51, 11, 94, 95, 27, 87"
     ]
    }
   ],
   "source": [
    "import random as rnd\n",
    "listToSort = [rnd.randint(10, 99) for _ in range(20)]\n",
    "print(*listToSort, sep = ', ', end = '')"
   ]
  },
  {
   "cell_type": "markdown",
   "id": "b33b52ac",
   "metadata": {},
   "source": [
    "Potrzebujemy także funkcji, która jako argument będzie pobierać liczbę i następnie czekać odpowiednią liczbę sekund na wyświetlenie tej liczby. Żeby trochę przyspieszyć proces, czekać będziemy dziesięć razy krócej niż wynosi podana liczba."
   ]
  },
  {
   "cell_type": "code",
   "execution_count": 19,
   "id": "9fe955f1",
   "metadata": {},
   "outputs": [],
   "source": [
    "def sleepSort(number):\n",
    "    sleep(number / 10)\n",
    "    print(number, end = ', ') #liczby będziemy wyświetlać po przecinku"
   ]
  },
  {
   "cell_type": "markdown",
   "id": "1a976a74",
   "metadata": {},
   "source": [
    "Ponieważ każda liczba musi mieć odliczany czas indywidualnie, skorzystamy z biblioteki `multiprocessing` zawierającej metodę `Process`, która pozwala w prosty sposób stworzyć nowy proces. Jako argumenty procesu musimy podać nazwę funkcji, która ma się wykonywać oraz potrzebne do niej argumenty, jak poniżej. W celu wywołania rozpoczęcia procesu używamy na nim metody `start()`"
   ]
  },
  {
   "cell_type": "code",
   "execution_count": 20,
   "id": "dfd36d0f",
   "metadata": {},
   "outputs": [
    {
     "name": "stdout",
     "output_type": "stream",
     "text": [
      "20, "
     ]
    }
   ],
   "source": [
    "from multiprocessing import Process\n",
    "p = Process(target = sleepSort, args = (20,)) #chcemy żeby wywoływała się funkcja sleepSort dla wartości 20\n",
    "p.start()"
   ]
  },
  {
   "cell_type": "markdown",
   "id": "4612ef49",
   "metadata": {},
   "source": [
    "Jak widać po dwóch sekundach wyświetliła nam się liczba 20. Możemy więc wywołać teraz tyle procesów ile mamy liczb do posortowania. W celu rozpoczęcia ich mniej więcej w tym samym momencie najpierw stworzymy je i przechowamy w liście `processes` a następnie uruchomimy"
   ]
  },
  {
   "cell_type": "code",
   "execution_count": 21,
   "id": "fcc43edc",
   "metadata": {},
   "outputs": [
    {
     "name": "stdout",
     "output_type": "stream",
     "text": [
      "11, 22, 27, 29, 31, 35, 37, 44, 51, 57, 59, 59, 60, 67, 69, 83, 87, 92, 94, 95, "
     ]
    }
   ],
   "source": [
    "processes = []\n",
    "for number in listToSort:\n",
    "    processes.append(Process(target = sleepSort, args = (number,)))\n",
    "    \n",
    "for process in processes:\n",
    "    process.start()"
   ]
  },
  {
   "cell_type": "markdown",
   "id": "2a0389c7",
   "metadata": {},
   "source": [
    "Udało się, procesy wyświetliły liczby z listy w posortowanej kolejności. W celu poprawnego zakończenia procesów powinniśmy także skorzystać z metody `join()`"
   ]
  },
  {
   "cell_type": "code",
   "execution_count": 22,
   "id": "b96886c3",
   "metadata": {},
   "outputs": [],
   "source": [
    "for process in processes:\n",
    "    process.join()"
   ]
  },
  {
   "cell_type": "markdown",
   "id": "c4082f8d",
   "metadata": {},
   "source": [
    "Poniżej znajduje się cały kod"
   ]
  },
  {
   "cell_type": "code",
   "execution_count": 17,
   "id": "e868ddd4",
   "metadata": {},
   "outputs": [
    {
     "name": "stdout",
     "output_type": "stream",
     "text": [
      "Lista do posortowania: 91, 89, 20, 41, 59, 58, 81, 76, 75, 82, 99, 91, 44, 24, 44, 78, 46, 16, 72, 17,\n",
      "Lista już posortowana: 16, 17, 20, 24, 41, 44, 44, 46, 58, 59, 72, 75, 76, 78, 81, 82, 89, 91, 91, 99, "
     ]
    }
   ],
   "source": [
    "from time import sleep\n",
    "import random as rnd\n",
    "from multiprocessing import Process\n",
    "\n",
    "def sleepSort(number):\n",
    "    sleep(number / 10)\n",
    "    print(number, end = ', ')\n",
    "\n",
    "listToSort = [rnd.randint(10, 99) for _ in range(20)]\n",
    "print('Lista do posortowania: ', end = '')\n",
    "print(*listToSort, sep = ', ', end = ',\\n')\n",
    "\n",
    "print('Lista już posortowana: ', end = '')\n",
    "processes = []\n",
    "for number in listToSort:\n",
    "    processes.append(Process(target = sleepSort, args = (number,)))\n",
    "    \n",
    "for process in processes:\n",
    "    process.start()\n",
    "\n",
    "for process in processes:\n",
    "    process.join()"
   ]
  },
  {
   "cell_type": "markdown",
   "id": "faa588f0",
   "metadata": {},
   "source": [
    "Jeśli zmniejszymy czas pomiędzy wyświetleniami, może się okazać, że liczby blisko siebie nie będą już w odpowiedniej kolejności, dlaczego?"
   ]
  }
 ],
 "metadata": {
  "kernelspec": {
   "display_name": "Python 3",
   "language": "python",
   "name": "python3"
  },
  "language_info": {
   "codemirror_mode": {
    "name": "ipython",
    "version": 3
   },
   "file_extension": ".py",
   "mimetype": "text/x-python",
   "name": "python",
   "nbconvert_exporter": "python",
   "pygments_lexer": "ipython3",
   "version": "3.6.9"
  }
 },
 "nbformat": 4,
 "nbformat_minor": 5
}
