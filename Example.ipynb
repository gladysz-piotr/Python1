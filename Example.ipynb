{
 "cells": [
  {
   "cell_type": "markdown",
   "id": "2477722e",
   "metadata": {},
   "source": [
    "## Przykładowy fragment Jupyter Notebook"
   ]
  },
  {
   "cell_type": "markdown",
   "id": "e86b9ed0",
   "metadata": {},
   "source": [
    "Deklaracja zmiennych"
   ]
  },
  {
   "cell_type": "code",
   "execution_count": 2,
   "id": "44a34f59",
   "metadata": {},
   "outputs": [],
   "source": [
    "a=10\n",
    "b=15"
   ]
  },
  {
   "cell_type": "markdown",
   "id": "e1904533",
   "metadata": {},
   "source": [
    "Operacje na zmiennych"
   ]
  },
  {
   "cell_type": "code",
   "execution_count": 5,
   "id": "2edfc551",
   "metadata": {},
   "outputs": [
    {
     "data": {
      "text/plain": [
       "25"
      ]
     },
     "execution_count": 5,
     "metadata": {},
     "output_type": "execute_result"
    }
   ],
   "source": [
    "a+b"
   ]
  },
  {
   "cell_type": "code",
   "execution_count": 6,
   "id": "75e19424",
   "metadata": {},
   "outputs": [
    {
     "data": {
      "text/plain": [
       "-5"
      ]
     },
     "execution_count": 6,
     "metadata": {},
     "output_type": "execute_result"
    }
   ],
   "source": [
    "a-b"
   ]
  },
  {
   "cell_type": "code",
   "execution_count": 7,
   "id": "409e5f4a",
   "metadata": {},
   "outputs": [
    {
     "data": {
      "text/plain": [
       "150"
      ]
     },
     "execution_count": 7,
     "metadata": {},
     "output_type": "execute_result"
    }
   ],
   "source": [
    "a*b"
   ]
  },
  {
   "cell_type": "code",
   "execution_count": 8,
   "id": "a82f5282",
   "metadata": {},
   "outputs": [
    {
     "data": {
      "text/plain": [
       "0.6666666666666666"
      ]
     },
     "execution_count": 8,
     "metadata": {},
     "output_type": "execute_result"
    }
   ],
   "source": [
    "a/b"
   ]
  },
  {
   "cell_type": "markdown",
   "id": "f03aa045",
   "metadata": {},
   "source": [
    "Importowanie biblioteki"
   ]
  },
  {
   "cell_type": "code",
   "execution_count": 9,
   "id": "f721748b",
   "metadata": {},
   "outputs": [],
   "source": [
    "import random as rnd"
   ]
  },
  {
   "cell_type": "code",
   "execution_count": 10,
   "id": "3095ff67",
   "metadata": {},
   "outputs": [],
   "source": [
    "r=rnd.random()"
   ]
  },
  {
   "cell_type": "code",
   "execution_count": 11,
   "id": "9888d608",
   "metadata": {},
   "outputs": [
    {
     "data": {
      "text/plain": [
       "0.08899890038382896"
      ]
     },
     "execution_count": 11,
     "metadata": {},
     "output_type": "execute_result"
    }
   ],
   "source": [
    "r"
   ]
  },
  {
   "cell_type": "markdown",
   "id": "807abf79",
   "metadata": {},
   "source": [
    "Przykładowa funkcja podnosząca liczbę do kwadratu"
   ]
  },
  {
   "cell_type": "code",
   "execution_count": 13,
   "id": "781ce297",
   "metadata": {},
   "outputs": [],
   "source": [
    "def f(x):\n",
    "    return x**2"
   ]
  },
  {
   "cell_type": "markdown",
   "id": "cbb46382",
   "metadata": {},
   "source": [
    "Przykładowa pętla z wykorzystaniem funkcji"
   ]
  },
  {
   "cell_type": "code",
   "execution_count": 18,
   "id": "b0ada5f6",
   "metadata": {
    "scrolled": true
   },
   "outputs": [
    {
     "name": "stdout",
     "output_type": "stream",
     "text": [
      "0\n",
      "1\n",
      "4\n",
      "9\n",
      "16\n",
      "25\n",
      "36\n",
      "49\n",
      "64\n",
      "81\n"
     ]
    }
   ],
   "source": [
    "for x in range(0, 10, 1):\n",
    "    print(f(x))"
   ]
  },
  {
   "cell_type": "code",
   "execution_count": null,
   "id": "3a6a5438",
   "metadata": {},
   "outputs": [],
   "source": []
  }
 ],
 "metadata": {
  "kernelspec": {
   "display_name": "Python 3",
   "language": "python",
   "name": "python3"
  },
  "language_info": {
   "codemirror_mode": {
    "name": "ipython",
    "version": 3
   },
   "file_extension": ".py",
   "mimetype": "text/x-python",
   "name": "python",
   "nbconvert_exporter": "python",
   "pygments_lexer": "ipython3",
   "version": "3.6.9"
  }
 },
 "nbformat": 4,
 "nbformat_minor": 5
}
