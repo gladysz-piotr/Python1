{
 "cells": [
  {
   "cell_type": "markdown",
   "id": "63bc6da2",
   "metadata": {},
   "source": [
    "### Podstawy obsługi błędów"
   ]
  },
  {
   "cell_type": "markdown",
   "id": "55959479",
   "metadata": {},
   "source": [
    "Programowanie w nierozerwalny sposób łączy się z błędami. Do tej pory, kiedy coś wykonało się niepoprawnie, program kończył swoje działanie i wyświetlał stosowny komunikat. Jeśli jednak zależy nam na tym, żeby program działał stabilnie i nie wyłączał się w nieprzewidywalnych momentach, możemy zaprojektować kod tak, żeby podejmowane było konkretne działanie kiedy błąd rzeczywiście się pojawi. Każdy błąd ma swoją nazwę, przyjrzyjmy się więc różnym rodzajom najczęściej spotykanych błędów i na końcu przejdźmy do ich obsługi."
   ]
  },
  {
   "cell_type": "markdown",
   "id": "4fc24568",
   "metadata": {},
   "source": [
    "**SyntaxError**"
   ]
  },
  {
   "cell_type": "markdown",
   "id": "40d7d51b",
   "metadata": {},
   "source": [
    "Podstawowym rodzajem błędu jest błąd skałdniowy `SyntaxError`, występujący kiedy źle napisaliśmy kod. np. zapomnieliśmy o wcięciu, lub nawiasie:"
   ]
  },
  {
   "cell_type": "code",
   "execution_count": 1,
   "id": "5de98169",
   "metadata": {},
   "outputs": [
    {
     "ename": "SyntaxError",
     "evalue": "invalid syntax (<ipython-input-1-b2d9d311f303>, line 2)",
     "output_type": "error",
     "traceback": [
      "\u001b[0;36m  File \u001b[0;32m\"<ipython-input-1-b2d9d311f303>\"\u001b[0;36m, line \u001b[0;32m2\u001b[0m\n\u001b[0;31m    return x\u001b[0m\n\u001b[0m         ^\u001b[0m\n\u001b[0;31mSyntaxError\u001b[0m\u001b[0;31m:\u001b[0m invalid syntax\n"
     ]
    }
   ],
   "source": [
    "def f(x:\n",
    "    return x"
   ]
  },
  {
   "cell_type": "markdown",
   "id": "19e455f7",
   "metadata": {},
   "source": [
    "Widzimy, że ostatnia linijka informuje nas właśnie o tym, że składnia jest zła. Zauważmy, że linijka do której się błąd odnosi to ta z komendą `return x`, mimo że błąd polega na braku nawiasu przy definicji funkcji. Wynika to z tego, że to podczas wykonywania następnej linijki kodu program wykrył problem. Warto więc pamiętać podczas programowania, żeby sprawdzić także linijkę wcześniej, jeśli ten błąd się pojawi. Tego błędu nie da się obejść inaczej niż poprawiając kod programu."
   ]
  },
  {
   "cell_type": "markdown",
   "id": "47708a4e",
   "metadata": {},
   "source": [
    "Poza błędami składniowymi wszystkie inne rodzaje jesteśmy w stanie wyłapać podczas działania kodu. "
   ]
  },
  {
   "cell_type": "markdown",
   "id": "d29e0c17",
   "metadata": {},
   "source": [
    "**Przykłady innych błędów**"
   ]
  },
  {
   "cell_type": "markdown",
   "id": "7ff0e866",
   "metadata": {},
   "source": [
    "Błąd dzielenia przez zero `ZeroDivisionError`:"
   ]
  },
  {
   "cell_type": "code",
   "execution_count": 6,
   "id": "904365fc",
   "metadata": {},
   "outputs": [
    {
     "ename": "ZeroDivisionError",
     "evalue": "division by zero",
     "output_type": "error",
     "traceback": [
      "\u001b[0;31m---------------------------------------------------------------------------\u001b[0m",
      "\u001b[0;31mZeroDivisionError\u001b[0m                         Traceback (most recent call last)",
      "\u001b[0;32m<ipython-input-6-4dd8836c9fba>\u001b[0m in \u001b[0;36m<module>\u001b[0;34m\u001b[0m\n\u001b[0;32m----> 1\u001b[0;31m \u001b[0;36m2\u001b[0m \u001b[0;34m/\u001b[0m \u001b[0;36m0\u001b[0m\u001b[0;34m\u001b[0m\u001b[0;34m\u001b[0m\u001b[0m\n\u001b[0m",
      "\u001b[0;31mZeroDivisionError\u001b[0m: division by zero"
     ]
    }
   ],
   "source": [
    "2 / 0 "
   ]
  },
  {
   "cell_type": "markdown",
   "id": "edc3363d",
   "metadata": {},
   "source": [
    "Błąd związany z wartością `ValueError`. Przykładowo, chcemy żeby użytkownik podał numer, a dostaliśmy coś innego:"
   ]
  },
  {
   "cell_type": "code",
   "execution_count": 4,
   "id": "21082bf3",
   "metadata": {},
   "outputs": [
    {
     "name": "stdout",
     "output_type": "stream",
     "text": [
      "Podaj numer: ala\n"
     ]
    },
    {
     "ename": "ValueError",
     "evalue": "invalid literal for int() with base 10: 'ala'",
     "output_type": "error",
     "traceback": [
      "\u001b[0;31m---------------------------------------------------------------------------\u001b[0m",
      "\u001b[0;31mValueError\u001b[0m                                Traceback (most recent call last)",
      "\u001b[0;32m<ipython-input-4-8e06d2365e62>\u001b[0m in \u001b[0;36m<module>\u001b[0;34m\u001b[0m\n\u001b[0;32m----> 1\u001b[0;31m \u001b[0mnumber\u001b[0m \u001b[0;34m=\u001b[0m \u001b[0mint\u001b[0m\u001b[0;34m(\u001b[0m\u001b[0minput\u001b[0m\u001b[0;34m(\u001b[0m\u001b[0;34m'Podaj numer: '\u001b[0m\u001b[0;34m)\u001b[0m\u001b[0;34m)\u001b[0m\u001b[0;34m\u001b[0m\u001b[0;34m\u001b[0m\u001b[0m\n\u001b[0m",
      "\u001b[0;31mValueError\u001b[0m: invalid literal for int() with base 10: 'ala'"
     ]
    }
   ],
   "source": [
    "number = int(input('Podaj numer: '))"
   ]
  },
  {
   "cell_type": "markdown",
   "id": "e6307df2",
   "metadata": {},
   "source": [
    "Błąd związany z brakiem zadeklarowanej zmiennej o danej nazwie `NameError`:"
   ]
  },
  {
   "cell_type": "code",
   "execution_count": 5,
   "id": "81dec963",
   "metadata": {},
   "outputs": [
    {
     "ename": "NameError",
     "evalue": "name 'text' is not defined",
     "output_type": "error",
     "traceback": [
      "\u001b[0;31m---------------------------------------------------------------------------\u001b[0m",
      "\u001b[0;31mNameError\u001b[0m                                 Traceback (most recent call last)",
      "\u001b[0;32m<ipython-input-5-e0211cbce30a>\u001b[0m in \u001b[0;36m<module>\u001b[0;34m\u001b[0m\n\u001b[0;32m----> 1\u001b[0;31m \u001b[0mprint\u001b[0m\u001b[0;34m(\u001b[0m\u001b[0mtext\u001b[0m\u001b[0;34m)\u001b[0m\u001b[0;34m\u001b[0m\u001b[0;34m\u001b[0m\u001b[0m\n\u001b[0m",
      "\u001b[0;31mNameError\u001b[0m: name 'text' is not defined"
     ]
    }
   ],
   "source": [
    "print(text)"
   ]
  },
  {
   "cell_type": "markdown",
   "id": "86c44861",
   "metadata": {},
   "source": [
    "I wiele, wiele innych. Podstawową metodą obsługi wszystkich błędów jest konstrukcja `try:... except:...`. Wykorzystajmy tę konstrukcję na prostym przykładzie. Mamy listę kilku liczb będących mianownikami ułamka o liczniku 10. Chcemy wyświetlić wynik takiego dzielenia, niestety jedną z liczb jest 0, co spowoduje wywołanie `ZeroDivisionError`"
   ]
  },
  {
   "cell_type": "code",
   "execution_count": 3,
   "id": "8ab66632",
   "metadata": {},
   "outputs": [
    {
     "name": "stdout",
     "output_type": "stream",
     "text": [
      "10.0\n",
      "5.0\n",
      "3.3333333333333335\n",
      "2.5\n"
     ]
    },
    {
     "ename": "ZeroDivisionError",
     "evalue": "division by zero",
     "output_type": "error",
     "traceback": [
      "\u001b[0;31m---------------------------------------------------------------------------\u001b[0m",
      "\u001b[0;31mZeroDivisionError\u001b[0m                         Traceback (most recent call last)",
      "\u001b[0;32m<ipython-input-3-3c4dbe22de72>\u001b[0m in \u001b[0;36m<module>\u001b[0;34m\u001b[0m\n\u001b[1;32m      1\u001b[0m \u001b[0mmianownik\u001b[0m \u001b[0;34m=\u001b[0m \u001b[0;34m[\u001b[0m\u001b[0;36m1\u001b[0m\u001b[0;34m,\u001b[0m \u001b[0;36m2\u001b[0m\u001b[0;34m,\u001b[0m \u001b[0;36m3\u001b[0m\u001b[0;34m,\u001b[0m \u001b[0;36m4\u001b[0m\u001b[0;34m,\u001b[0m \u001b[0;36m0\u001b[0m\u001b[0;34m,\u001b[0m \u001b[0;36m5\u001b[0m\u001b[0;34m,\u001b[0m \u001b[0;36m6\u001b[0m\u001b[0;34m,\u001b[0m \u001b[0;36m7\u001b[0m\u001b[0;34m]\u001b[0m\u001b[0;34m\u001b[0m\u001b[0;34m\u001b[0m\u001b[0m\n\u001b[1;32m      2\u001b[0m \u001b[0;32mfor\u001b[0m \u001b[0mm\u001b[0m \u001b[0;32min\u001b[0m \u001b[0mmianownik\u001b[0m\u001b[0;34m:\u001b[0m\u001b[0;34m\u001b[0m\u001b[0;34m\u001b[0m\u001b[0m\n\u001b[0;32m----> 3\u001b[0;31m     \u001b[0mprint\u001b[0m\u001b[0;34m(\u001b[0m\u001b[0;36m10\u001b[0m \u001b[0;34m/\u001b[0m \u001b[0mm\u001b[0m\u001b[0;34m)\u001b[0m\u001b[0;34m\u001b[0m\u001b[0;34m\u001b[0m\u001b[0m\n\u001b[0m",
      "\u001b[0;31mZeroDivisionError\u001b[0m: division by zero"
     ]
    }
   ],
   "source": [
    "mianownik = [1, 2, 3, 4, 0, 5, 6, 7]\n",
    "for m in mianownik:\n",
    "    print(10 / m)"
   ]
  },
  {
   "cell_type": "markdown",
   "id": "086838f4",
   "metadata": {},
   "source": [
    "A teraz wersja z konstrukcją `try:... except:...`"
   ]
  },
  {
   "cell_type": "code",
   "execution_count": 4,
   "id": "32e199e1",
   "metadata": {},
   "outputs": [
    {
     "name": "stdout",
     "output_type": "stream",
     "text": [
      "10.0\n",
      "5.0\n",
      "3.3333333333333335\n",
      "2.5\n",
      "Coś jest nie tak z mianownikiem!\n",
      "2.0\n",
      "1.6666666666666667\n",
      "1.4285714285714286\n"
     ]
    }
   ],
   "source": [
    "mianownik = [1, 2, 3, 4, 0, 5, 6, 7]\n",
    "for m in mianownik:\n",
    "    try:\n",
    "        print(10 / m)\n",
    "    except:\n",
    "        print('Coś jest nie tak z mianownikiem!')"
   ]
  },
  {
   "cell_type": "markdown",
   "id": "f3fb2e39",
   "metadata": {},
   "source": [
    "Jak widać, po napotkaniu zera program wyświetlił komunikat, który umieściliśmy w bloku `except` po czym kontynuował działanie. Zobaczmy, że kod zadziała także, jeżeli zamiast liczby będziemy chcieli dzielić przez ciąg znaków (zamiast `6` napiszmy `'ala'`)"
   ]
  },
  {
   "cell_type": "code",
   "execution_count": 5,
   "id": "b09e38a1",
   "metadata": {},
   "outputs": [
    {
     "name": "stdout",
     "output_type": "stream",
     "text": [
      "10.0\n",
      "5.0\n",
      "3.3333333333333335\n",
      "2.5\n",
      "Coś jest nie tak z mianownikiem!\n",
      "2.0\n",
      "Coś jest nie tak z mianownikiem!\n",
      "1.4285714285714286\n"
     ]
    }
   ],
   "source": [
    "mianownik = [1, 2, 3, 4, 0, 5, 'ala', 7]\n",
    "for m in mianownik:\n",
    "    try:\n",
    "        print(10 / m)\n",
    "    except:\n",
    "        print('Coś jest nie tak z mianownikiem!')"
   ]
  },
  {
   "cell_type": "markdown",
   "id": "31cdc4fe",
   "metadata": {},
   "source": [
    "Pierwszy błąd wynikał z dzielenia przez zero, a drugi ze złego typu zmiennej (`str` a nie `float`), możemy każdy z tych błędów obsłużyć osobno po `except` wpisując nazwę błędu, przez co będziemy mogli dostosować reakcję do rodzaju błędu"
   ]
  },
  {
   "cell_type": "code",
   "execution_count": 6,
   "id": "65d321df",
   "metadata": {},
   "outputs": [
    {
     "name": "stdout",
     "output_type": "stream",
     "text": [
      "10.0\n",
      "5.0\n",
      "3.3333333333333335\n",
      "2.5\n",
      "Dzielenie przez zero!\n",
      "2.0\n",
      "Mianownik nie jest liczbą!\n",
      "1.4285714285714286\n"
     ]
    }
   ],
   "source": [
    "mianownik = [1, 2, 3, 4, 0, 5, 'ala', 7]\n",
    "for m in mianownik:\n",
    "    try:\n",
    "        print(10 / m)\n",
    "    except ZeroDivisionError:\n",
    "        print('Dzielenie przez zero!')\n",
    "    except TypeError:\n",
    "        print('Mianownik nie jest liczbą!')\n",
    "    except:\n",
    "        print('Niezidentyfikowany błąd!')"
   ]
  },
  {
   "cell_type": "markdown",
   "id": "a19bac90",
   "metadata": {},
   "source": [
    "Instrukcja `except` może zawiereć więcej niż jedną nazwę błędu na raz"
   ]
  },
  {
   "cell_type": "code",
   "execution_count": 7,
   "id": "b449aafe",
   "metadata": {},
   "outputs": [
    {
     "name": "stdout",
     "output_type": "stream",
     "text": [
      "10.0\n",
      "5.0\n",
      "3.3333333333333335\n",
      "2.5\n",
      "Dzielenie przez zero albo nie jest to liczba!\n",
      "2.0\n",
      "Dzielenie przez zero albo nie jest to liczba!\n",
      "1.4285714285714286\n"
     ]
    }
   ],
   "source": [
    "mianownik = [1, 2, 3, 4, 0, 5, 'ala', 7]\n",
    "for m in mianownik:\n",
    "    try:\n",
    "        print(10 / m)\n",
    "    except (ZeroDivisionError, TypeError):\n",
    "        print('Dzielenie przez zero albo nie jest to liczba!')\n",
    "    except:\n",
    "        print('Niezidentyfikowany błąd!')"
   ]
  },
  {
   "cell_type": "markdown",
   "id": "e1e7b4e5",
   "metadata": {},
   "source": [
    "Zauważmy, że taka konstrukcja pozwala nam na łatwe wymuszanie podania prawidłowych danych. Przykładowo, jeśli chcemy żeby program rządał od użytkownika podania liczby dopóki on rzeczywiście tę liczbę poda, możemy napisać:"
   ]
  },
  {
   "cell_type": "code",
   "execution_count": 8,
   "id": "5756363a",
   "metadata": {},
   "outputs": [
    {
     "name": "stdout",
     "output_type": "stream",
     "text": [
      "Podaj liczbę: ala\n",
      "ala - to nie jest liczba!\n",
      "Podaj liczbę: 1234s\n",
      "1234s - to nie jest liczba!\n",
      "Podaj liczbę: 123\n"
     ]
    }
   ],
   "source": [
    "while True:\n",
    "    try:\n",
    "        user = input('Podaj liczbę: ')\n",
    "        user = float(user)\n",
    "        break\n",
    "    except:\n",
    "        print(user, '- to nie jest liczba!')"
   ]
  },
  {
   "cell_type": "markdown",
   "id": "25dfde26",
   "metadata": {},
   "source": [
    "W powyższym przykładzie, jeśli wystąpi błąd zaczynamy pętlę od początku, a jeśli wszystko pójdzie dobrze, to ją kończymy za pomocą `break`. Łatwo wymusiliśmy na użytkowniku wpisanie prawidłowych danych wejściowych."
   ]
  },
  {
   "cell_type": "markdown",
   "id": "a0f8d7ae",
   "metadata": {},
   "source": [
    "**Zadanie**"
   ]
  },
  {
   "cell_type": "markdown",
   "id": "31228230",
   "metadata": {},
   "source": [
    "Gra w kółko i krzyżyk.<br>\n",
    "Może się wydawać, że to czego nauczyliśmy się do tej pory nie jest wystarczające do stworzenia bardziej interaktywnego programu. Okazuje się, że za pomocą kilku sztuczek i korzystając jednynie z bilioteki do tworzenia wykresów, jesteśmy w stanie napisać grę w kółko i krzyżyk."
   ]
  },
  {
   "cell_type": "markdown",
   "id": "7632f686",
   "metadata": {},
   "source": [
    "Pomysł polega na narysowaniu na wykresie linii poziomych i pionowych tak, żeby powstała plansza z dziewięcioma polami. Do tego celu możemy skorzystać z metod z biblioteki `matplotlib.pyplot`, a mianowicie `axvline` do rysowania linii pionowych oraz `axhline` do linii poziomych. Przykład:"
   ]
  },
  {
   "cell_type": "code",
   "execution_count": 8,
   "id": "d263e5a7",
   "metadata": {},
   "outputs": [
    {
     "data": {
      "image/png": "[encoded data removed]",
      "text/plain": [
       "<Figure size 288x288 with 1 Axes>"
      ]
     },
     "metadata": {
      "needs_background": "light"
     },
     "output_type": "display_data"
    }
   ],
   "source": [
    "from matplotlib import pyplot as plt\n",
    "\n",
    "fig, ax = plt.subplots(1, figsize = ((4, 4))) #tworzymy obrazek i przypisany do niego wykres\n",
    "ax.axvline(x = 1) #na wykresie rysujemy pionową kreskę dla x = 1\n",
    "ax.axhline(y = 1) #na wykresie rysujemy poziomą kreskę dla y = 1\n",
    "ax.set_xlim([-3, 3]) #ustalamy granice rysowania dla osi x\n",
    "ax.set_ylim([-3, 3]) #ustalamy granice rysowania dla osi y\n",
    "plt.show()"
   ]
  },
  {
   "cell_type": "markdown",
   "id": "a80e9405",
   "metadata": {},
   "source": [
    "Jak widać, jest to bardzo proste, napiszmy więc funkcję `plotField(axis)`, która na podanej osi `axis` będzie rysować dwie pionowe i dwie poziome linie odpowiednio dla `x = -0.5, 0.5` oraz `y = -0.5, 0.5`. Ustalmy granice rysowania wykresu na `x = [-1.5, 1.5]` oraz `y = [-1.5, 1.5]`. Niech linie będą koloru czarnego. Na koniec skorzystamy też z odpowiedniej komendy pozwalającej ukryć osie."
   ]
  },
  {
   "cell_type": "code",
   "execution_count": 9,
   "id": "cceaeaa9",
   "metadata": {},
   "outputs": [],
   "source": [
    "def plotField(axis):\n",
    "    axis.axvline(x = -0.5, color = 'black') #linia pionowa x = -0.5\n",
    "    axis.axvline(x = 0.5, color = 'black') #linia pionowa x = 0.5\n",
    "    axis.axhline(y = -0.5, color = 'black') #linia pozioma y = -0.5\n",
    "    axis.axhline(y = 0.5, color = 'black') #linia pozioma y = 0.5\n",
    "    axis.get_xaxis().set_visible(False) #usuwamy wyświetlanie osi x\n",
    "    axis.get_yaxis().set_visible(False) #usuwamy wyśwetlanie osi y\n",
    "    axis.set_xlim([-1.5, 1.5]) #ustawiamy granice rysowania na osi x na [-1.5, 1.5]\n",
    "    axis.set_ylim([-1.5, 1.5]) #ustawiamy granice rysowania na osi y na [-1.5, 1.5]   "
   ]
  },
  {
   "cell_type": "markdown",
   "id": "b7aab867",
   "metadata": {},
   "source": [
    "Sprawdźmy działanie"
   ]
  },
  {
   "cell_type": "code",
   "execution_count": 10,
   "id": "dddb40b6",
   "metadata": {},
   "outputs": [
    {
     "data": {
      "image/png": "[encoded data removed]",
      "text/plain": [
       "<Figure size 288x288 with 1 Axes>"
      ]
     },
     "metadata": {
      "needs_background": "light"
     },
     "output_type": "display_data"
    }
   ],
   "source": [
    "fig, ax = plt.subplots(1, figsize = ((4, 4)))\n",
    "plotField(ax)\n",
    "plt.show()"
   ]
  },
  {
   "cell_type": "markdown",
   "id": "eac9337a",
   "metadata": {},
   "source": [
    "Jak widać wszystko działa idealnie. Zauważmy, że dzięki takim ustawieniom rysowania, środki kwadratów są w punktach (-1, -1) dla lewego dolnego, (-1, 0) dla lewego środkowego, i tak dalej. Ułatwi nam to pracę później."
   ]
  },
  {
   "cell_type": "markdown",
   "id": "cfa77f5d",
   "metadata": {},
   "source": [
    "Następnie potrzebujemy kółek i krzyżyków. Możemu skorzystać z argumentu `marker` w funkcji `plot`. Na przykład, chcemy narysować trzy punkty o podanych poniżej współrzędnych"
   ]
  },
  {
   "cell_type": "code",
   "execution_count": 12,
   "id": "8882595a",
   "metadata": {},
   "outputs": [
    {
     "data": {
      "image/png": "[encoded data removed]",
      "text/plain": [
       "<Figure size 216x216 with 1 Axes>"
      ]
     },
     "metadata": {
      "needs_background": "light"
     },
     "output_type": "display_data"
    }
   ],
   "source": [
    "x = [1, 2, 3] #współrzedne x-owe\n",
    "y = [1, 2, 3] #współrzędne y-owe\n",
    "fig, ax = plt.subplots(1, figsize = ((3, 3))) #tworzymy wykres\n",
    "ax.plot(x, y, 'o') #rysujemy punkty, argument 'o' oznacza, że mamy narysować punkty niepołączone ze sobą\n",
    "plt.show()"
   ]
  },
  {
   "cell_type": "markdown",
   "id": "8da0236b",
   "metadata": {},
   "source": [
    "Możemu w prosty sposób zmienić punkty z kropek na, na przykład, krzyżyki za pomocą dodatkowego argumentu `marker = 'x'`"
   ]
  },
  {
   "cell_type": "code",
   "execution_count": 13,
   "id": "822ad6fd",
   "metadata": {},
   "outputs": [
    {
     "data": {
      "image/png": "[encoded data removed]",
      "text/plain": [
       "<Figure size 216x216 with 1 Axes>"
      ]
     },
     "metadata": {
      "needs_background": "light"
     },
     "output_type": "display_data"
    }
   ],
   "source": [
    "x = [1, 2, 3] #współrzedne x-owe\n",
    "y = [1, 2, 3] #współrzędne y-owe\n",
    "fig, ax = plt.subplots(1, figsize = ((3, 3))) #tworzymy wykres\n",
    "#rysujemy punkty, argument 'o' oznacza, że mamy narysować punkty niepołączone ze sobą\n",
    "ax.plot(x, y, 'o', marker = 'x') \n",
    "plt.show()"
   ]
  },
  {
   "cell_type": "markdown",
   "id": "6845ce5d",
   "metadata": {},
   "source": [
    "Możemy także zmienić rozmiary poprzez argument `markersize = ...`, ustalmy 20"
   ]
  },
  {
   "cell_type": "code",
   "execution_count": 14,
   "id": "12e09008",
   "metadata": {},
   "outputs": [
    {
     "data": {
      "image/png": "[encoded data removed]",
      "text/plain": [
       "<Figure size 216x216 with 1 Axes>"
      ]
     },
     "metadata": {
      "needs_background": "light"
     },
     "output_type": "display_data"
    }
   ],
   "source": [
    "x = [1, 2, 3] #współrzedne x-owe\n",
    "y = [1, 2, 3] #współrzędne y-owe\n",
    "fig, ax = plt.subplots(1, figsize = ((3, 3))) #tworzymy wykres\n",
    "#rysujemy punkty, argument 'o' oznacza, że mamy narysować punkty niepołączone ze sobą\n",
    "ax.plot(x, y, 'o', marker = 'x', markersize = 20) \n",
    "plt.show()"
   ]
  },
  {
   "cell_type": "markdown",
   "id": "573c9c8b",
   "metadata": {},
   "source": [
    "Dla uzyskania kółek zamiast `'x'` wpiszemy `'o'`"
   ]
  },
  {
   "cell_type": "code",
   "execution_count": 15,
   "id": "237f9267",
   "metadata": {},
   "outputs": [
    {
     "data": {
      "image/png": "[encoded data removed]",
      "text/plain": [
       "<Figure size 216x216 with 1 Axes>"
      ]
     },
     "metadata": {
      "needs_background": "light"
     },
     "output_type": "display_data"
    }
   ],
   "source": [
    "x = [1, 2, 3] #współrzedne x-owe\n",
    "y = [1, 2, 3] #współrzędne y-owe\n",
    "fig, ax = plt.subplots(1, figsize = ((3, 3))) #tworzymy wykres\n",
    "#rysujemy punkty, argument 'o' oznacza, że mamy narysować punkty niepołączone ze sobą\n",
    "ax.plot(x, y, 'o', marker = 'o', markersize = 20) \n",
    "plt.show()"
   ]
  },
  {
   "cell_type": "markdown",
   "id": "29609203",
   "metadata": {},
   "source": [
    "A dla uzyskania pustych kółek dodatkowo mamy argument `fillstyle = 'none'`"
   ]
  },
  {
   "cell_type": "code",
   "execution_count": 16,
   "id": "cf574565",
   "metadata": {
    "scrolled": true
   },
   "outputs": [
    {
     "data": {
      "image/png": "[encoded data removed]",
      "text/plain": [
       "<Figure size 216x216 with 1 Axes>"
      ]
     },
     "metadata": {
      "needs_background": "light"
     },
     "output_type": "display_data"
    }
   ],
   "source": [
    "x = [1, 2, 3] #współrzedne x-owe\n",
    "y = [1, 2, 3] #współrzędne y-owe\n",
    "fig, ax = plt.subplots(1, figsize = ((3, 3))) #tworzymy wykres\n",
    "#rysujemy punkty, argument 'o' oznacza, że mamy narysować punkty niepołączone ze sobą\n",
    "ax.plot(x, y, 'o', marker = 'o', markersize = 20, fillstyle = 'none') \n",
    "plt.show()"
   ]
  },
  {
   "cell_type": "markdown",
   "id": "bcbc1ac9",
   "metadata": {},
   "source": [
    "Napiszmy więc funkcję `drawShape(axis, positions, shape)`, która na podanym wykresie `axis` będzie rysowała w podanych pozycjach `positions`, postaci listy punktów [(x1, y1), (x2, y2), ..., (xn, yn)], kółko albo krzyżyk w zależności od podanego argumentu `shape`. Dodatkowo, niech krzyżyki będą w kolorze niebieskim, a kółka w zielonym"
   ]
  },
  {
   "cell_type": "code",
   "execution_count": 17,
   "id": "0146e088",
   "metadata": {},
   "outputs": [],
   "source": [
    "def drawShape(axis, positions, shape):\n",
    "    if shape == 'x': #jeśli krzyrzyki to niebieskie\n",
    "        color = 'blue'\n",
    "    else: #jesli co innego (czyli kółka) to zielone\n",
    "        color = 'green'\n",
    "    for a, b in positions: #iterujemy po wszystkich punktach z listy pozycji\n",
    "        axis.plot(a, b, 'o', marker = shape, fillstyle = 'none', \n",
    "            markersize = 50, color = color) #rysujemy punkt po punkcie rozmiar 50"
   ]
  },
  {
   "cell_type": "markdown",
   "id": "9b17a9d8",
   "metadata": {},
   "source": [
    "Sprawdźmy działanie od razu na naszej planszy do gry. W tym celu najpierw tworzymy obrazek i wykres, następnie wywołujemy rysowanie siatki, ustalamy punkty, w którch chcemy narysować krzyżyki i kółka i na koniec wywołujemy funkcję do rysowania kształtów."
   ]
  },
  {
   "cell_type": "code",
   "execution_count": 18,
   "id": "2d5bdc41",
   "metadata": {},
   "outputs": [
    {
     "data": {
      "image/png": "[encoded data removed]",
      "text/plain": [
       "<Figure size 288x288 with 1 Axes>"
      ]
     },
     "metadata": {
      "needs_background": "light"
     },
     "output_type": "display_data"
    }
   ],
   "source": [
    "fig, ax = plt.subplots(1, figsize = ((4, 4)))\n",
    "plotField(ax)\n",
    "xPositions = [(-1, -1), (0, 1), (1, 0)] #krzyżyki lewy dolny, środkowy górny i prawy środkowy\n",
    "oPositions = [(-1, 1), (0, 0), (1, -1)] #kółka lewy górny, środkowy środkowy i prawy dolny\n",
    "drawShape(ax, xPositions, 'x')\n",
    "drawShape(ax, oPositions, 'o')\n",
    "plt.show()"
   ]
  },
  {
   "cell_type": "markdown",
   "id": "f043f4c0",
   "metadata": {},
   "source": [
    "Obie funkcje sprawują się bardzo dobrze, więc pora sprawić, żeby program był bardziej interaktywny. W tym celu stwórzmy funkcję `getPosition(text, oPositions, xPositions)`, która będzie prosiła użytkownika o podanie po przecinku współrzędnych do narysowania odpowiedniego znaku (`text` będzie zawierać tekst do wyświetlenia). Do tego funkcja będzie sprawdzała, czy podane współrzędne są prawidłowe oraz czy na wskazanym miejscu nie ma już innego znaku (porównując z punktami z list `oPositions` dla kółek oraz `xPositions` dla krzyżyków). Jeśli coś się nie będzie zgadzało, funkcja będzie czekać na podanie prawidłowych danych do skutku."
   ]
  },
  {
   "cell_type": "code",
   "execution_count": 19,
   "id": "143cc523",
   "metadata": {},
   "outputs": [],
   "source": [
    "def getPosition(text, oPositions, xPositions):\n",
    "    values = [-1, 0, 1] #prawidłowe wartości współrzędnych x i y\n",
    "    while True: #wykonujemy tak długo jak to konieczne\n",
    "        a, b = eval(input(text)) #prosimy użytkownika o podanie współrzędnych po przecinku\n",
    "        if a in values and b in values: #sprawdzamy, czy współrzędne są prawidłowe\n",
    "            if (a, b) in oPositions or (a, b) in xPositions: #sprawdzamy, czy współrzędne nie są już zajęte\n",
    "                print('Pole jest już zajęte.') #jesli współrzędne są zajęte wyświetlamy tekst\n",
    "            else:\n",
    "                break #jeśli wszystko jest dobrze kończymy pętlę\n",
    "        else:\n",
    "            print('Nie ma takiego pola.') #jeśli współrzędne są nieprawidłowe wyświetlamy tekst\n",
    "    return (a, b) #zwracamy punkt"
   ]
  },
  {
   "cell_type": "markdown",
   "id": "53caf302",
   "metadata": {},
   "source": [
    "Przetestujmy działanie. Niech listy z położeniami krzyżyków i kółek będą już częściowo wypełnione"
   ]
  },
  {
   "cell_type": "code",
   "execution_count": 20,
   "id": "66c4f3df",
   "metadata": {},
   "outputs": [
    {
     "name": "stdout",
     "output_type": "stream",
     "text": [
      "Podaj współrzędne kółka: -1, -1\n",
      "Pole jest już zajęte.\n",
      "Podaj współrzędne kółka: 0, 0\n",
      "Pole jest już zajęte.\n",
      "Podaj współrzędne kółka: 2, 2\n",
      "Nie ma takiego pola.\n",
      "Podaj współrzędne kółka: 1, 1\n",
      "(1, 1)\n"
     ]
    }
   ],
   "source": [
    "oPositions = [(-1, -1), (0, 0)]\n",
    "xPositions = [(-1, 1), (1, -1)]\n",
    "text = 'Podaj współrzędne kółka: '\n",
    "newPosition = getPosition(text, oPositions, xPositions)\n",
    "print(newPosition)"
   ]
  },
  {
   "cell_type": "markdown",
   "id": "e98f0b08",
   "metadata": {},
   "source": [
    "Funkcja działa prawidłowo. Zbierzmy więc cały kod razem i stwórzmy pętlę w której na przemian użytkownik będzie proszony o podanie położenia kółka i krzyżyka aż do wypełnienia całej planszy. Za każdym razem niech będzie takżę rysowana plansza z aktualną sytuacją."
   ]
  },
  {
   "cell_type": "code",
   "execution_count": 2,
   "id": "a0c265ca",
   "metadata": {
    "scrolled": false
   },
   "outputs": [
    {
     "data": {
      "image/png": "[encoded data removed]",
      "text/plain": [
       "<Figure size 288x288 with 1 Axes>"
      ]
     },
     "metadata": {
      "needs_background": "light"
     },
     "output_type": "display_data"
    },
    {
     "name": "stdout",
     "output_type": "stream",
     "text": [
      "Podaj położenie kółka: -1, -1\n"
     ]
    },
    {
     "data": {
      "image/png": "[encoded data removed]",
      "text/plain": [
       "<Figure size 288x288 with 1 Axes>"
      ]
     },
     "metadata": {
      "needs_background": "light"
     },
     "output_type": "display_data"
    },
    {
     "name": "stdout",
     "output_type": "stream",
     "text": [
      "Podaj położenie krzyżyka: -1, 0\n"
     ]
    },
    {
     "data": {
      "image/png": "[encoded data removed]",
      "text/plain": [
       "<Figure size 288x288 with 1 Axes>"
      ]
     },
     "metadata": {
      "needs_background": "light"
     },
     "output_type": "display_data"
    },
    {
     "name": "stdout",
     "output_type": "stream",
     "text": [
      "Podaj położenie kółka: -1, 1\n"
     ]
    },
    {
     "data": {
      "image/png": "[encoded data removed]",
      "text/plain": [
       "<Figure size 288x288 with 1 Axes>"
      ]
     },
     "metadata": {
      "needs_background": "light"
     },
     "output_type": "display_data"
    },
    {
     "name": "stdout",
     "output_type": "stream",
     "text": [
      "Podaj położenie krzyżyka: 0, -1\n"
     ]
    },
    {
     "data": {
      "image/png": "[encoded data removed]",
      "text/plain": [
       "<Figure size 288x288 with 1 Axes>"
      ]
     },
     "metadata": {
      "needs_background": "light"
     },
     "output_type": "display_data"
    },
    {
     "name": "stdout",
     "output_type": "stream",
     "text": [
      "Podaj położenie kółka: 0, 0\n"
     ]
    },
    {
     "data": {
      "image/png": "[encoded data removed]",
      "text/plain": [
       "<Figure size 288x288 with 1 Axes>"
      ]
     },
     "metadata": {
      "needs_background": "light"
     },
     "output_type": "display_data"
    },
    {
     "name": "stdout",
     "output_type": "stream",
     "text": [
      "Podaj położenie krzyżyka: 0, 1\n"
     ]
    },
    {
     "data": {
      "image/png": "[encoded data removed]",
      "text/plain": [
       "<Figure size 288x288 with 1 Axes>"
      ]
     },
     "metadata": {
      "needs_background": "light"
     },
     "output_type": "display_data"
    },
    {
     "name": "stdout",
     "output_type": "stream",
     "text": [
      "Podaj położenie kółka: 1, -1\n"
     ]
    },
    {
     "data": {
      "image/png": "[encoded data removed]",
      "text/plain": [
       "<Figure size 288x288 with 1 Axes>"
      ]
     },
     "metadata": {
      "needs_background": "light"
     },
     "output_type": "display_data"
    },
    {
     "name": "stdout",
     "output_type": "stream",
     "text": [
      "Podaj położenie krzyżyka: 1, 0\n"
     ]
    },
    {
     "data": {
      "image/png": "[encoded data removed]",
      "text/plain": [
       "<Figure size 288x288 with 1 Axes>"
      ]
     },
     "metadata": {
      "needs_background": "light"
     },
     "output_type": "display_data"
    },
    {
     "name": "stdout",
     "output_type": "stream",
     "text": [
      "Podaj położenie kółka: 1, 1\n"
     ]
    },
    {
     "data": {
      "image/png": "[encoded data removed]",
      "text/plain": [
       "<Figure size 288x288 with 1 Axes>"
      ]
     },
     "metadata": {
      "needs_background": "light"
     },
     "output_type": "display_data"
    }
   ],
   "source": [
    "from matplotlib import pyplot as plt\n",
    "\n",
    "def plotField(axis):\n",
    "    axis.axvline(x = -0.5, color = 'black') \n",
    "    axis.axvline(x = 0.5, color = 'black')\n",
    "    axis.axhline(y = -0.5, color = 'black') \n",
    "    axis.axhline(y = 0.5, color = 'black') \n",
    "    axis.get_xaxis().set_visible(False) \n",
    "    axis.get_yaxis().set_visible(False) \n",
    "    axis.set_xlim([-1.5, 1.5]) \n",
    "    axis.set_ylim([-1.5, 1.5]) \n",
    "\n",
    "def drawShape(axis, positions, shape):\n",
    "    if shape == 'x':\n",
    "        color = 'blue'\n",
    "    else:\n",
    "        color = 'green'\n",
    "    for a, b in positions:\n",
    "        axis.plot(a, b, 'o', marker = shape, fillstyle = 'none', \n",
    "            markersize = 50, color = color)   \n",
    "\n",
    "def getPosition(text, oPositions, xPositions):\n",
    "    values = [-1, 0, 1]\n",
    "    while True:\n",
    "        a, b = eval(input(text))\n",
    "        if a in values and b in values:\n",
    "            if (a, b) in oPositions or (a, b) in xPositions:\n",
    "                print('Pole jest już zajęte.')\n",
    "            else:\n",
    "                break\n",
    "        else:\n",
    "            print('Nie ma takiego pola.')\n",
    "    return (a, b)\n",
    "\n",
    "fig, ax = plt.subplots(1, figsize = ((4, 4)))\n",
    "plotField(ax)\n",
    "plt.show()\n",
    "\n",
    "textO = 'Podaj położenie kółka: '\n",
    "textX = 'Podaj położenie krzyżyka: '\n",
    "oPositions = []\n",
    "xPositions = []\n",
    "count = 0\n",
    "while True:\n",
    "    fig, ax = plt.subplots(1, figsize = ((4, 4)))\n",
    "    plotField(ax)\n",
    "    if count % 2 == 0: #dla parzystego przejścia pętli prosimy o kółka\n",
    "        oPos = getPosition(textO, oPositions, xPositions) #nowy punkt\n",
    "        oPositions.append(oPos) # dodajemy nowy punkt dla kółek\n",
    "    else: #dla nieparzystego o krzyżyki\n",
    "        xPos = getPosition(textX, oPositions, xPositions) #nowy punkt\n",
    "        xPositions.append(xPos) # dodajemy nowy punkt dla krzyżyków\n",
    "    drawShape(ax, oPositions, 'o') #rysujemy wszystkie kółka\n",
    "    drawShape(ax, xPositions, 'x') #rysujemy wszystkie krzyżyki\n",
    "    count += 1\n",
    "    plt.show()\n",
    "    if count == 9: #całą planszę wypełnimy po 9 przebiegach pętli\n",
    "        break"
   ]
  },
  {
   "cell_type": "markdown",
   "id": "db4f818c",
   "metadata": {},
   "source": [
    "Powyższy program działa dobrze, jednak jest mało wygodny, bo za każdym razem tworzymy nowy wykres, a uruchamiając go na komputerze poza Notebookiem musimy za każdym razem zamykać okienko. Możemy to obejść wykorzystując dwie rzeczy. Po pierwsze możemy skorzystać z metody `plt.ion()`, która ustala, że wykres jest interaktywny i można go na bieżąco aktualizować. Dodatkowo skorzystamy z `plt.show(block = False)` dzięki czemu działanie programu nie będzie blokowane przez otwarte okienko. "
   ]
  },
  {
   "cell_type": "code",
   "execution_count": null,
   "id": "0178d1e3",
   "metadata": {},
   "outputs": [],
   "source": [
    "from matplotlib import pyplot as plt\n",
    "\n",
    "def plotField(axis):\n",
    "    axis.axvline(x = -0.5, color = 'black')\n",
    "    axis.axvline(x = 0.5, color = 'black')\n",
    "    axis.axhline(y = -0.5, color = 'black')\n",
    "    axis.axhline(y = 0.5, color = 'black')\n",
    "    axis.get_xaxis().set_visible(False)\n",
    "    axis.get_yaxis().set_visible(False)\n",
    "    axis.set_xlim([-1.5, 1.5])\n",
    "    axis.set_ylim([-1.5, 1.5])\n",
    "\n",
    "def drawShape(axis, positions, shape):\n",
    "    if shape == 'x':\n",
    "        color = 'blue'\n",
    "    else:\n",
    "        color = 'green'\n",
    "    for a, b in positions:\n",
    "        axis.plot(a, b, 'o', marker = shape, fillstyle = 'none', \n",
    "            markersize = 50, color = color)   \n",
    "\n",
    "def getPosition(text, oPositions, xPositions):\n",
    "    values = [-1, 0, 1]\n",
    "    while True:\n",
    "        a, b = eval(input(text))\n",
    "        if a in values and b in values:\n",
    "            if (a, b) in oPositions or (a, b) in xPositions:\n",
    "                print('Pole jest już zajęte.')\n",
    "            else:\n",
    "                break\n",
    "        else:\n",
    "            print('Nie ma takiego pola.')\n",
    "    return (a, b)\n",
    "\n",
    "fig, ax = plt.subplots(1, figsize = ((4, 4)))\n",
    "plotField(ax)\n",
    "plt.show(block = False) #zmiana na brak blokowania, można wykonywać dalsze instrukcje\n",
    "plt.ion() #ustawiamy interaktywność, każda zmiana ax będzie wyświetlana\n",
    "\n",
    "textO = 'Podaj położenie kółka: '\n",
    "textX = 'Podaj położenie krzyżyka: '\n",
    "oPositions = []\n",
    "xPositions = []\n",
    "count = 0\n",
    "while True:\n",
    "    if count % 2 == 0:\n",
    "        oPos = getPosition(textO, oPositions, xPositions)\n",
    "        oPositions.append(oPos)\n",
    "        drawShape(ax, [oPos], 'o') #rysujemy tylko nowe kółko\n",
    "    else:\n",
    "        xPos = getPosition(textX, oPositions, xPositions)\n",
    "        xPositions.append(xPos)\n",
    "        drawShape(ax, [xPos], 'x') #rysujemy tylko nowy krzyżyk\n",
    "    count += 1\n",
    "    if count == 9:\n",
    "        break\n",
    "\n",
    "#zatrzymujemy program po zakończeniu działania inaczej okienko mignie i zniknie\n",
    "print('Naciśnij Enter aby zakończyć') \n",
    "input()"
   ]
  },
  {
   "cell_type": "markdown",
   "id": "68d2b5a3",
   "metadata": {},
   "source": [
    "Niestety ten program nie będzie działał w Notebooku, ponieważ interakywność nie jest obsługiwana, zachęcam więc do przekopiowania kodu na swój komputer i uruchomienia lokalnie."
   ]
  },
  {
   "cell_type": "markdown",
   "id": "a9adb96b",
   "metadata": {},
   "source": [
    "**Zadanie domowe!**"
   ]
  },
  {
   "cell_type": "markdown",
   "id": "f9b1a084",
   "metadata": {},
   "source": [
    "Jak widać programowi brakuje jednej, bardzo istotnej funkcjonalności - określania kto wygrał. Zadaniem domowym jest napisanie dwóch funkcji. Pierwsza `isWin(positions)` pobieraja jako argument `positions` listę pozycji kółek bądź krzyżyków i zwraca wartość `True` jeśli pozycje sugerują zwycięsto, albo `False` w przeciwnym razie. Druga faunkcja `isDraw(count)` zwraca wartość `False` jeśli nie ma remisu i wartość `True` jesli jest. Argumentem jest liczba przebiegów pętli `count` (dlaczego to wystarczy?).  "
   ]
  },
  {
   "cell_type": "markdown",
   "id": "15d2ec7a",
   "metadata": {},
   "source": [
    "W celu uproszczenia zadania, polecam skorzystać z poniższego szkieletu, gdzie zamiast ostatnich dwóch linijek w pętli mamy trzy instrukcje warunkowe"
   ]
  },
  {
   "cell_type": "code",
   "execution_count": null,
   "id": "081b84c0",
   "metadata": {},
   "outputs": [],
   "source": [
    "from matplotlib import pyplot as plt\n",
    "\n",
    "def plotField(axis):\n",
    "    axis.axvline(x = -0.5, color = 'black')\n",
    "    axis.axvline(x = 0.5, color = 'black')\n",
    "    axis.axhline(y = -0.5, color = 'black')\n",
    "    axis.axhline(y = 0.5, color = 'black')\n",
    "    axis.get_xaxis().set_visible(False)\n",
    "    axis.get_yaxis().set_visible(False)\n",
    "    axis.set_xlim([-1.5, 1.5])\n",
    "    axis.set_ylim([-1.5, 1.5])\n",
    "\n",
    "def drawShape(axis, positions, shape):\n",
    "    if shape == 'x':\n",
    "        color = 'blue'\n",
    "    else:\n",
    "        color = 'green'\n",
    "    for a, b in positions:\n",
    "        axis.plot(a, b, 'o', marker = shape, fillstyle = 'none', \n",
    "            markersize = 50, color = color)   \n",
    "\n",
    "def getPosition(text, oPositions, xPositions):\n",
    "    values = [-1, 0, 1]\n",
    "    while True:\n",
    "        a, b = eval(input(text))\n",
    "        if a in values and b in values:\n",
    "            if (a, b) in oPositions or (a, b) in xPositions:\n",
    "                print('Pole jest już zajęte.')\n",
    "            else:\n",
    "                break\n",
    "        else:\n",
    "            print('Nie ma takiego pola.')\n",
    "    return (a, b)\n",
    "\n",
    "def isWin(positions):\n",
    "    '''TO DO'''\n",
    "    \n",
    "def isDraw(count):\n",
    "    '''TO DO'''\n",
    "    \n",
    "fig, ax = plt.subplots(1, figsize = ((4, 4)))\n",
    "plotField(ax)\n",
    "plt.show(block = False)\n",
    "plt.ion()\n",
    "\n",
    "textO = 'Podaj położenie kółka: '\n",
    "textX = 'Podaj położenie krzyżyka: '\n",
    "oPositions = []\n",
    "xPositions = []\n",
    "count = 0\n",
    "while True:\n",
    "    if count % 2 == 0:\n",
    "        oPos = getPosition(textO, oPositions, xPositions)\n",
    "        oPositions.append(oPos)\n",
    "        drawShape(ax, [oPos], 'o')\n",
    "    else:\n",
    "        xPos = getPosition(textX, oPositions, xPositions)\n",
    "        xPositions.append(xPos)\n",
    "        drawShape(ax, [xPos], 'x')\n",
    "    count += 1\n",
    "    if count > 4: #wygrać można najszybciej w piątym ruchu\n",
    "        if isWin(oPositions): #sprawdzamy czy wygrały kółka\n",
    "            print('Wygrały kółka!')\n",
    "            break\n",
    "        if isWin(xPositions): #sprawdzamy czy wygrały krzyżyki\n",
    "            print('Wygrały krzyżyki!')\n",
    "            break\n",
    "        if isDraw(count): #sprawdzamy czy jest remis\n",
    "            print('Remis!')\n",
    "            break\n",
    "\n",
    "print('Naciśnij Enter aby zakończyć') \n",
    "input()"
   ]
  },
  {
   "cell_type": "markdown",
   "id": "3a3664c5",
   "metadata": {},
   "source": [
    "**Zadanie dodatkowe**"
   ]
  },
  {
   "cell_type": "markdown",
   "id": "729a6c3d",
   "metadata": {},
   "source": [
    "Granie samemu jest nudne, więc jako dodatek proponuję dopisanie do funkcji `getPosition` nowego argumentu `random = False`. Jak widać, argument domyślnie jest ustawiony na `False` i wtedy funkcja działa jak do tej pory, ale po zmianie na `True` ma zwracać losowy punkt, który spełnia wszystkie warunki (zamiast prosić o nie użytkownika). Następnie w kodzie można ustalić, że np. krzyżyki są generowane losowo i grać przeciwko takiemu losowemu przeciwnikowi."
   ]
  },
  {
   "cell_type": "markdown",
   "id": "4dc12039",
   "metadata": {},
   "source": [
    "Powodzenia!"
   ]
  }
 ],
 "metadata": {
  "kernelspec": {
   "display_name": "Python 3",
   "language": "python",
   "name": "python3"
  },
  "language_info": {
   "codemirror_mode": {
    "name": "ipython",
    "version": 3
   },
   "file_extension": ".py",
   "mimetype": "text/x-python",
   "name": "python",
   "nbconvert_exporter": "python",
   "pygments_lexer": "ipython3",
   "version": "3.6.9"
  }
 },
 "nbformat": 4,
 "nbformat_minor": 5
}
