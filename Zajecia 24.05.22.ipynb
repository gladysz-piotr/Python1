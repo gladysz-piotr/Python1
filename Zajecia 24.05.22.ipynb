{
 "cells": [
  {
   "cell_type": "code",
   "execution_count": 2,
   "id": "c11c8cba",
   "metadata": {},
   "outputs": [],
   "source": [
    "import numpy as np"
   ]
  },
  {
   "cell_type": "markdown",
   "id": "5ed3e62a",
   "metadata": {},
   "source": [
    "**Zadanie domowe!**"
   ]
  },
  {
   "cell_type": "markdown",
   "id": "bea59e53",
   "metadata": {},
   "source": [
    "Zgodnie z tym jak zapisaliśmy nasz kod, może się zdarzyć, że rząd macierzy jest odpowiedni, ale w pewnym momencie wystąpi dzielenie przez zero i funkcja zwróci wartość `False`. Wynika to z przypadkowo niefortunnego ustawienia kolejności wierszy. Żeby temu zaradzić, wprowadźmy poprawki, które pozwolą w wypadku wystąpienia dzielenia przez zero zamienić wiersze miejscami, tak, żeby nowy czynnik przez który chcemy dzielić był niezerowy. Jeśli wszystkie dalsze wiersze nie zawierają takiego czynnika, możemy przejść do następnego kroku, gdyż mamy już odpowiednie elementy wyzerowane. "
   ]
  },
  {
   "cell_type": "markdown",
   "id": "c1cc5184",
   "metadata": {},
   "source": [
    "Przykładowo, jeśli mamy macierz:<br>\n",
    "$\n",
    "A = \\left( \\begin{array}{cccc|c}\n",
    "1 & 1 & 1 & 1 & 3 \\\\\n",
    "2 & 2 & 5 & 3 & 8 \\\\\n",
    "0 & 0 & 1 & 1 & 0 \\\\\n",
    "1 & 0 & 1 & 0 & 2\n",
    "\\end{array} \\right),\n",
    "$<br>\n",
    "w pierwszym kroku po zadziałaniu naszym algorytmem dostaniemy<br>\n",
    "$\n",
    "\\left( \\begin{array}{cccc|c}\n",
    "1 & 1 & 1 & 1 & 3 \\\\\n",
    "0 & 0 & 3 & 1 & 2 \\\\\n",
    "0 & 0 & 1 & 1 & 0 \\\\\n",
    "0 & -1 & 0 & -1 & -1\n",
    "\\end{array} \\right),\n",
    "$ a to oznacza, że w następnym będzie dzielenie przez zero, możemy jednak zamienić miejscami wiersz drugi z czwartym:<br>\n",
    "$\n",
    "\\left( \\begin{array}{cccc|c}\n",
    "1 & 1 & 1 & 1 & 3 \\\\\n",
    "0 & -1 & 0 & -1 & -1 \\\\\n",
    "0 & 0 & 1 & 1 & 0 \\\\\n",
    "0 & 0 & 3 & 1 & 2\n",
    "\\end{array} \\right).\n",
    "$ Tym sposobem problem dzielenia przez zero został rozwiązany, a my możemy dalej wykonywać procedurę, więc w następnym kroku mamy:<br>\n",
    "$\n",
    "\\left( \\begin{array}{cccc|c}\n",
    "1 & 1 & 1 & 1 & 3 \\\\\n",
    "0 & -1 & 0 & -1 & -1 \\\\\n",
    "0 & 0 & 1 & 1 & 0 \\\\\n",
    "0 & 0 & 0 & -2 & 2\n",
    "\\end{array} \\right),\n",
    "$ co kończy proces. Ostatecznie rozwiązania to $x_1 = 1$, $x_2 = 2$, $x_3 = 1$ oraz $x_4 = -1$. "
   ]
  },
  {
   "cell_type": "markdown",
   "id": "271c32e7",
   "metadata": {},
   "source": [
    "Do zamiany wierszy w kodzie możemy posłuzyć się poniższą formułą:"
   ]
  },
  {
   "cell_type": "code",
   "execution_count": 3,
   "id": "f7873ac2",
   "metadata": {},
   "outputs": [
    {
     "name": "stdout",
     "output_type": "stream",
     "text": [
      "[[1 1 1]\n",
      " [2 2 2]\n",
      " [3 3 3]]\n",
      "[[1 1 1]\n",
      " [3 3 3]\n",
      " [2 2 2]]\n"
     ]
    }
   ],
   "source": [
    "A = np.array([[1, 1 ,1], [2, 2, 2], [3, 3, 3]])\n",
    "print(A) \n",
    "#zamiana wiersza drugiego z trzecim\n",
    "A[[1,2]] = A[[2,1]] #ważne są podwójne nawiasy\n",
    "print(A)"
   ]
  },
  {
   "cell_type": "markdown",
   "id": "9e2163ca",
   "metadata": {},
   "source": [
    "Zadanie polega więc na napisaniu funkcji `triangle_better`, która będzie ulepszoną wersją funkcji `triangle`, wykorzystującą powyższą metodę."
   ]
  },
  {
   "cell_type": "markdown",
   "id": "3c490891",
   "metadata": {},
   "source": [
    "Przykład:"
   ]
  },
  {
   "cell_type": "code",
   "execution_count": 4,
   "id": "4835f0a7",
   "metadata": {},
   "outputs": [
    {
     "name": "stdout",
     "output_type": "stream",
     "text": [
      "[[1 1 1 1 3]\n",
      " [2 2 5 3 8]\n",
      " [0 0 1 1 0]\n",
      " [1 0 1 0 2]]\n"
     ]
    }
   ],
   "source": [
    "M = np.array([[1, 1, 1, 1, 3], [2, 2, 5, 3, 8], [0, 0, 1, 1, 0], [1, 0, 1, 0, 2]])\n",
    "print(M)"
   ]
  },
  {
   "cell_type": "code",
   "execution_count": 80,
   "id": "418b45f7",
   "metadata": {},
   "outputs": [
    {
     "name": "stdout",
     "output_type": "stream",
     "text": [
      "Dzielenie przez zero!\n",
      "False\n"
     ]
    }
   ],
   "source": [
    "M_tr = triangle(M)\n",
    "print(M_tr)"
   ]
  },
  {
   "cell_type": "code",
   "execution_count": 81,
   "id": "07e50948",
   "metadata": {},
   "outputs": [
    {
     "name": "stdout",
     "output_type": "stream",
     "text": [
      "[[ 1.  1.  1.  1.  3.]\n",
      " [ 0. -1.  0. -1. -1.]\n",
      " [ 0.  0.  1.  1.  0.]\n",
      " [ 0.  0.  0. -2.  2.]]\n"
     ]
    }
   ],
   "source": [
    "M_tr = triangle_better(M)\n",
    "print(M_tr)"
   ]
  },
  {
   "cell_type": "code",
   "execution_count": 82,
   "id": "3b555c6a",
   "metadata": {},
   "outputs": [
    {
     "name": "stdout",
     "output_type": "stream",
     "text": [
      "[ 1.  2.  1. -1.]\n"
     ]
    }
   ],
   "source": [
    "X = solve(M_tr)\n",
    "print(X)"
   ]
  },
  {
   "cell_type": "markdown",
   "id": "4a5de1db",
   "metadata": {},
   "source": [
    "Powodzenia!"
   ]
  },
  {
   "cell_type": "markdown",
   "id": "0bd75fca",
   "metadata": {},
   "source": [
    "**Rozwiązanie**"
   ]
  },
  {
   "cell_type": "code",
   "execution_count": 8,
   "id": "83f7ee94",
   "metadata": {},
   "outputs": [],
   "source": [
    "import numpy as np\n",
    "\n",
    "def triangle_better(A):\n",
    "    shape = A.shape #pobieramy wymiary naszej macierzy, ponieważ jest to macierz rozszerzona mamy NxN+1\n",
    "    N = shape[0]\n",
    "    A = A.copy().astype('f') #tworzymy kopię oraz ustalamy typ wszystkich elementów na float\n",
    "    if np.linalg.matrix_rank(A) < N: #sprawdzamy, czy istnieje jedno rozwiązanie\n",
    "        print('Brak jednoznacznych rozwiązań!')\n",
    "        return False\n",
    "    for i in range(0, N - 1): #tworzymy pętlę w której będziemy tworzyli zera w odpowiedniej kolumnie\n",
    "        for j in range(i + 1, N, 1): #tworzymy pętlę do modyfikowania wierszy\n",
    "            if A[i, i] != 0: #sprawdzamy, czy nie będzie występowało dzielenie przez zero\n",
    "                param = -A[j, i] / A[i, i] #obliczamy czynnik przez który mnożymi pierwszy wiersz w kroku\n",
    "                A[j] += param * A[i] #modyfikujemy odpowiedni wiersz\n",
    "            else: #pojawia się dzielenie przez zero\n",
    "                for k in range(i + 1, N): #przeszukujemy następne wiersze w celu znalezienia niezerowego elementu\n",
    "                     if A[k, i] != 0: #jeśli znaleźliśmy niezerowy element zamieniamy wiersze miejscami\n",
    "                        A[[k, i]] = A[[i, k]]\n",
    "                        break #po zamianie drugi wiersz już ma zero, więc możemy przejść do następnego j\n",
    "    return A #zwracamy macierz trójkątną\n",
    "\n",
    "def solve(M_tr):\n",
    "    M_tr = M_tr.copy().astype('f') #zaczynamy od kopii macierzy trójkątnej i ustalenia typy float elementów\n",
    "    N = M_tr.shape[0] #pobieramy rozmar macierzy\n",
    "\n",
    "    X = np.zeros(N + 1) #tworzymy za pomocą metody zeros wektor o długości N+1\n",
    "    X[-1] = 1 #ostatni element ustawiamy na 1 jako zerowy krok\n",
    "    #dla wygody ustalamy, że zmienna i będzie przechodzić od -1 do -N co pozwala numerować nią ostatnie elementy \n",
    "    for i in range(-1, -N - 1, -1):                           \n",
    "        vec = M_tr[i] #pobieramy odpowiedni wiersz\n",
    "        dot = np.dot(vec, X) #obliczamy iloczyn skalarny\n",
    "        X[i - 1] = -dot / vec[i - 1] #aktualizujemy wektor rozwiązań\n",
    "        \n",
    "    return -X[:-1] #zwracamy pierwsze N elementów z przeciwnym znakiem"
   ]
  },
  {
   "cell_type": "code",
   "execution_count": 9,
   "id": "f3e8814b",
   "metadata": {},
   "outputs": [
    {
     "name": "stdout",
     "output_type": "stream",
     "text": [
      "[[ 1.  1.  1.  1.  3.]\n",
      " [ 0. -1.  0. -1. -1.]\n",
      " [ 0.  0.  1.  1.  0.]\n",
      " [ 0.  0.  0. -2.  2.]]\n",
      "[[ 1.  1.  1.  1.  0.]\n",
      " [ 0. -1.  0.  0.  1.]\n",
      " [ 0.  0. -1.  0. -1.]\n",
      " [ 0.  0.  0.  1.  1.]]\n"
     ]
    }
   ],
   "source": [
    "M = np.array([[1, 1, 1, 1, 3], [2, 2, 5, 3, 8], [0, 0, 1, 1, 0], [1, 0, 1, 0, 2]]) #typowa macierz\n",
    "B = np.array([[0, 0, 0, 1, 1], [1, 1, 1, 1, 0], [1, 1, 0, 1, -1],[1, 0, 1, 1, 1]]) #problematyczna macierz\n",
    "M_tr = triangle_better(M)\n",
    "print(M_tr)\n",
    "B_tr = triangle_better(B)\n",
    "print(B_tr)"
   ]
  },
  {
   "cell_type": "code",
   "execution_count": 10,
   "id": "7db07058",
   "metadata": {},
   "outputs": [
    {
     "name": "stdout",
     "output_type": "stream",
     "text": [
      "[ 1.  2.  1. -1.]\n",
      "[-1. -1.  1.  1.]\n"
     ]
    }
   ],
   "source": [
    "X_M = solve(M_tr)\n",
    "X_B = solve(B_tr)\n",
    "print(X_M)\n",
    "print(X_B)"
   ]
  },
  {
   "cell_type": "markdown",
   "id": "6e2ea95b",
   "metadata": {},
   "source": [
    "**Zadanie**"
   ]
  },
  {
   "cell_type": "markdown",
   "id": "c216357f",
   "metadata": {},
   "source": [
    "Znajdowanie pierwiastka funkcji metodą Newtona.<br>\n",
    "Celem będzie napisanie programu znajdującego pierwiastek podanej funkcji $f(x)$ oraz rysującego na wykresie kolejne kroki obliczeń. Metoda polega na znajdowaniu kolejnego, przybliżonego rozwiązania za pomocą stycznych do wykresu.<br>\n",
    "1. Wybieramy przedział [a, b], na którym wiemy że znajduje się **dokładnie jedno rowiązanie** oraz ustalamy jak dokładny ma być wynik za pomocą zmiennej $\\epsilon$, na przykład $\\epsilon = 0.01$.<br>\n",
    "2. Wybieramy punkt będący w połowie tego przedział $x_0 = (a + b) / 2$.<br>\n",
    "3. Znajdujemy styczną do punktu $(x_0, f(x_0))$.\n",
    "4. Znajdujemy punkt przecięcia stycznej z osią 0x -> jest to nasz nowy punkt $x_0$.\n",
    "5. Jeśli $|f(x_0)| < \\epsilon$ to kończymy proces i nasze przybliżone rozwiązanie to $x_0$, jeśli jednak nierówność nie jest spełniona wracamy do kroku 3."
   ]
  },
  {
   "cell_type": "markdown",
   "id": "15f1390b",
   "metadata": {},
   "source": [
    "**Rozwiązanie**"
   ]
  },
  {
   "cell_type": "markdown",
   "id": "5bacf687",
   "metadata": {},
   "source": [
    "Zacznijmy od zaimporotwanie potrzebnych bibliotek."
   ]
  },
  {
   "cell_type": "code",
   "execution_count": 11,
   "id": "ba8365c8",
   "metadata": {},
   "outputs": [],
   "source": [
    "from matplotlib import pyplot as plt\n",
    "import numpy as np"
   ]
  },
  {
   "cell_type": "markdown",
   "id": "2c67a736",
   "metadata": {},
   "source": [
    "Stwórzmy funkcję `rownanie`, zwracającą wartości funkcji, której miejsc zerowych szukamy."
   ]
  },
  {
   "cell_type": "code",
   "execution_count": 12,
   "id": "8eb39188",
   "metadata": {},
   "outputs": [],
   "source": [
    "def rownanie(x):\n",
    "    return 2 * x ** 2 - 3 * x - 20 #zwykła funkcja kwadratowa, x1 = -2.5, x2 = 4"
   ]
  },
  {
   "cell_type": "markdown",
   "id": "661d01ff",
   "metadata": {},
   "source": [
    "Możemy ją sobie narysować np. na przedziale [-10, 10]."
   ]
  },
  {
   "cell_type": "code",
   "execution_count": 13,
   "id": "f71c51f0",
   "metadata": {},
   "outputs": [
    {
     "data": {
      "image/png": "[encoded data removed]",
      "text/plain": [
       "<Figure size 720x576 with 1 Axes>"
      ]
     },
     "metadata": {
      "needs_background": "light"
     },
     "output_type": "display_data"
    }
   ],
   "source": [
    "X = np.linspace(-10, 10, 1001)\n",
    "Y = rownanie(X)\n",
    "fig, ax = plt.subplots(1, figsize = ((10, 8)))\n",
    "ax.plot(X, Y)\n",
    "ax.grid()\n",
    "plt.show()"
   ]
  },
  {
   "cell_type": "markdown",
   "id": "71a55f07",
   "metadata": {},
   "source": [
    "Teraz napiszmy funkcję `styczna`, która będzie zwracać współczynnik kierunkowy oraz wyraz wolny stycznej do funkcji w podanym punkcie `x0`."
   ]
  },
  {
   "cell_type": "code",
   "execution_count": 14,
   "id": "908f239c",
   "metadata": {},
   "outputs": [],
   "source": [
    "def styczna(f, x0):\n",
    "    # pochodna naszej funkcji 4 * x - 3\n",
    "    a = 4 * x0 - 3 #współczynnik kierunkowy\n",
    "    b = f(x0) - a * x0 #wyraz wolny\n",
    "    return (a, b)"
   ]
  },
  {
   "cell_type": "markdown",
   "id": "b37fc550",
   "metadata": {},
   "source": [
    "Możemy sprawdzić jak to wygląda rysując jeszcze raz wykres funkcji i do tego styczną wyliczoną powyższą funkcją. Dodatkowo, zaznaczmy na rysunku także punkt przecięcia stycznej z osią 0x."
   ]
  },
  {
   "cell_type": "code",
   "execution_count": 15,
   "id": "16e1a9f0",
   "metadata": {},
   "outputs": [
    {
     "data": {
      "image/png": "[encoded data removed]",
      "text/plain": [
       "<Figure size 720x576 with 1 Axes>"
      ]
     },
     "metadata": {
      "needs_background": "light"
     },
     "output_type": "display_data"
    }
   ],
   "source": [
    "X = np.linspace(-10, 10, 1001) #ten sam przedział co wcześniej\n",
    "Y = rownanie(X) #obliczamy wartości funkcji dla podanych xów\n",
    "x0 = -6 #definiujemy w jakim punkcie wyliczyć styczną\n",
    "a, b = styczna(rownanie, x0) #obliczamy parametry stycznej\n",
    "S = a * X + b #obliczamy styczną dla podanych xów\n",
    "\n",
    "fig, ax = plt.subplots(1, figsize = ((10, 8)))\n",
    "ax.plot(X, Y) #wykres funkcji\n",
    "ax.plot(X, S, '--') #wykres stycznej, argument '--' oznacza, że wykres będzie narysowany linią przerywaną\n",
    "ax.plot(-b / a, 0., 'o')# punkt przecięcia stycznej z osią 0x, argument 'o' oznacza, że rysujemy punkt\n",
    "ax.set_ylim([np.min(Y) - 5, np.max(Y) + 5]) #ustalamy granice rysowanie funkcji na osi y\n",
    "ax.grid()\n",
    "plt.show()"
   ]
  },
  {
   "cell_type": "markdown",
   "id": "78575890",
   "metadata": {},
   "source": [
    "Jak widać, funkcja prawidłowo liczy współczynniki stycznej, możemy więc przejść do napisania ostatniej funkcji `mNewton` czyli do zaimplementowania metody Newtona do znajdowania miejsca zerowego. Argument `f` będzie zawierał funkcję, argumenty `left` oraz `right` to granice, a `eps` to dokładność przy jakiej chcemy zakończyć obliczenia. "
   ]
  },
  {
   "cell_type": "code",
   "execution_count": 16,
   "id": "f1c6e888",
   "metadata": {},
   "outputs": [],
   "source": [
    "def mNewton(f, left, right, eps):\n",
    "    x0 = (right + left) / 2 #wybieramy punkt w połowie pomiędzy granicami\n",
    "    count = 0 #dodatkowo będziemy liczyli liczbę kroków\n",
    "    while np.abs(f(x0)) > eps: #jeśli zbliżymy się z wartością funkcji dostatecznie blisko zera, to kończymy\n",
    "        a, b = styczna(f, x0) #obliczamy parametry stycznej\n",
    "        x0 = -b / a #obliczamy nowy punkt x0\n",
    "        count += 1 #zwiększamy o jeden liczbę kroków\n",
    "    return (count, x0) #zwracamy liczbę kroków oraz wynik"
   ]
  },
  {
   "cell_type": "markdown",
   "id": "1a7df252",
   "metadata": {},
   "source": [
    "Sprawdźmy, że funkcja prawidłowo znajduje lewy pierwiastek"
   ]
  },
  {
   "cell_type": "code",
   "execution_count": 17,
   "id": "181a3c15",
   "metadata": {},
   "outputs": [
    {
     "name": "stdout",
     "output_type": "stream",
     "text": [
      "Liczba kroków: 3\n",
      "Pierwiastek: -2.500230413937321\n"
     ]
    }
   ],
   "source": [
    "count, result = mNewton(rownanie, -10, 0, 0.01)\n",
    "print('Liczba kroków: ', count, '\\nPierwiastek: ', result, sep = '')"
   ]
  },
  {
   "cell_type": "markdown",
   "id": "91b1f40d",
   "metadata": {},
   "source": [
    "Oraz prawy"
   ]
  },
  {
   "cell_type": "code",
   "execution_count": 18,
   "id": "0a9cd40a",
   "metadata": {},
   "outputs": [
    {
     "name": "stdout",
     "output_type": "stream",
     "text": [
      "Liczba kroków: 3\n",
      "Pierwiastek: 4.000061066917204\n"
     ]
    }
   ],
   "source": [
    "count, result = mNewton(rownanie, 2, 10, 0.01)\n",
    "print('Liczba kroków: ', count, '\\nPierwiastek: ', result, sep = '')"
   ]
  },
  {
   "cell_type": "markdown",
   "id": "f59636c9",
   "metadata": {},
   "source": [
    "Zmodyfikujmy teraz funkcję `mNewton` tak, żeby w każdym kroku rysowała także styczną (jako pomarańczową linię przerywaną) oraz punkt przecięcia stycznej z osią 0x (jako zielony punkt). Poniżej przepisane wszystkie funkcje i gotowy program."
   ]
  },
  {
   "cell_type": "code",
   "execution_count": 19,
   "id": "6a60ec95",
   "metadata": {},
   "outputs": [],
   "source": [
    "from matplotlib import pyplot as plt\n",
    "import numpy as np\n",
    "\n",
    "def rownanie(x):\n",
    "    return 2 * x ** 2 - 3 * x - 20 #zwykła funkcja kwadratowa, x1 = -2.5, x2 = 4\n",
    "\n",
    "def styczna(f, x0):\n",
    "    # pochodna naszej funkcji 4 * x - 3\n",
    "    a = 4 * x0 - 3 #współczynnik kierunkowy\n",
    "    b = f(x0) - a * x0 #wyraz wolny\n",
    "    return (a, b)\n",
    "\n",
    "def mNewton(f, left, right, eps):\n",
    "    x0 = x0 = (right + left) / 2 #wybieramy punkt w połowie pomiędzy granicami\n",
    "    count = 0 #dodatkowo będziemy liczyli liczbę kroków\n",
    "    while np.abs(f(x0)) > eps: #jesli zblizymy się z wartością funkcji dostatecznie blisko, to kończymy działanie\n",
    "        a, b = styczna(f, x0) #obliczamy parametry stycznej\n",
    "        Ys = a * X + b #obliczamy wartości stycznej\n",
    "        ax.plot(X, Ys, '--', color = 'orange') #rysujemy styczną jako przerywaną '--' oraz pomarańczoną\n",
    "        x0 = -b / a #obliczamy nowy punkt x0\n",
    "        ax.plot(x0, 0, 'o', color = 'green') #rysujemy punkt przecięcia stycznej z osią 0x\n",
    "        count += 1 #zwiększamy o jeden liczbę kroków\n",
    "    return (count, x0) #zwracamy liczbę kroków oraz wynik"
   ]
  },
  {
   "cell_type": "code",
   "execution_count": 20,
   "id": "fceb1399",
   "metadata": {},
   "outputs": [
    {
     "name": "stdout",
     "output_type": "stream",
     "text": [
      "Liczba kroków: 4\n",
      "Pierwiastek: -2.5002991334542717\n"
     ]
    },
    {
     "data": {
      "image/png": "[encoded data removed]",
      "text/plain": [
       "<Figure size 720x576 with 1 Axes>"
      ]
     },
     "metadata": {
      "needs_background": "light"
     },
     "output_type": "display_data"
    }
   ],
   "source": [
    "fig, ax = plt.subplots(1, figsize = ((10, 8)))\n",
    "X = np.linspace(-10, 10, 1001)\n",
    "Y = rownanie(X)\n",
    "ax.plot(X, Y)\n",
    "count, result = mNewton(rownanie, -20, 0, 0.01)\n",
    "print('Liczba kroków: ', count, '\\nPierwiastek: ', result, sep = '')\n",
    "\n",
    "ax.set_ylim([np.min(Y) - 5, np.max(Y) + 5])\n",
    "ax.grid()\n",
    "plt.show()"
   ]
  },
  {
   "cell_type": "markdown",
   "id": "9271d6b8",
   "metadata": {},
   "source": [
    "A dla prawego rozwiązania:"
   ]
  },
  {
   "cell_type": "code",
   "execution_count": 21,
   "id": "7e5b4984",
   "metadata": {},
   "outputs": [
    {
     "name": "stdout",
     "output_type": "stream",
     "text": [
      "Liczba kroków: 4\n",
      "Pierwiastek: 4.000177481691504\n"
     ]
    },
    {
     "data": {
      "image/png": "[encoded data removed]",
      "text/plain": [
       "<Figure size 720x576 with 1 Axes>"
      ]
     },
     "metadata": {
      "needs_background": "light"
     },
     "output_type": "display_data"
    }
   ],
   "source": [
    "fig, ax = plt.subplots(1, figsize = ((10, 8)))\n",
    "X = np.linspace(-10, 10, 1001)\n",
    "Y = rownanie(X)\n",
    "ax.plot(X, Y)\n",
    "count, result = mNewton(rownanie, 2, 20, 0.01)\n",
    "print('Liczba kroków: ', count, '\\nPierwiastek: ', result, sep = '')\n",
    "\n",
    "ax.set_ylim([np.min(Y) - 5, np.max(Y) + 5])\n",
    "ax.grid()\n",
    "plt.show()"
   ]
  },
  {
   "cell_type": "markdown",
   "id": "28aa4a11",
   "metadata": {},
   "source": [
    "Kod wygląda dobrze, jednak zauważmy, że jeśli chcemy znaleźć rozwiązania dla innej funkcji musimy nie tylko zmodyfikować funkcję `rownanie` ale także ręcznie policzyć pochodną i zmodyfikować funkcję `styczna`. Postarajmy się więc przepisać funkcję `styczna` tak, żeby obliczała pochodną w punkcie dowolnej funkcji samodzielnie."
   ]
  },
  {
   "cell_type": "markdown",
   "id": "ddd1d62f",
   "metadata": {},
   "source": [
    "W tym celu skorzystajmy z numerycznej metody pozwalającej policzyć pochodną. Przypomnijmy, że matematycznie pochodna wyraża się jako\n",
    "$f'(x) = \\lim_{\\Delta x \\to \\infty} \\frac{f(x + \\Delta x) - f(x)}{\\Delta x}$. Ponieważ na komputerze nie jesteśmy w stanie operować nieskończenie małymi wilekościami, przybliżoną wartość pochodnej otrzymamy obliczając:<br>\n",
    "$f'(x) \\approx \\frac{f(x + \\Delta x) - f(x)}{\\Delta x}$ dla ustalonego, małego $\\Delta x$."
   ]
  },
  {
   "cell_type": "markdown",
   "id": "10def99f",
   "metadata": {},
   "source": [
    "W takiej sytuacji jedyne co musimy znać to wartość funkcji dla $x$ oraz $x + \\Delta x$, przepiszmy więc naszą funkcję `styczna`"
   ]
  },
  {
   "cell_type": "code",
   "execution_count": 22,
   "id": "c66c42d7",
   "metadata": {},
   "outputs": [],
   "source": [
    "def styczna(f, x0):\n",
    "    dx = 0.001 #ustalamy dosyć małą wartość dx\n",
    "    a = (f(x0 + dx) - f(x0)) / dx #korzystamy ze wzoru na iloraz różnicowy\n",
    "    b = f(x0) - a * x0 #obliczamy tak jak poprzednio wyraz wolny\n",
    "    return (a, b) #zwracamy wyniki"
   ]
  },
  {
   "cell_type": "markdown",
   "id": "f509cd63",
   "metadata": {},
   "source": [
    "Przetestujmy działanie dla przykładu funkcji kwadratowej, stwórzmy więc nową funkcję `funkcja`, która będzie zwracała wartość wybranej funkcji kwadratowej (robiliśmy podobną funkcję już wcześniej) oraz funkcję `dfunkcja`, zwracającą wartość pochodnej (w celu porównania)"
   ]
  },
  {
   "cell_type": "code",
   "execution_count": 23,
   "id": "388b73a8",
   "metadata": {},
   "outputs": [],
   "source": [
    "def funkcja(x, a = 1, b = 0, c = 0):\n",
    "    return a * x ** 2 + b * x + c\n",
    "\n",
    "def dfunkcja(x, a = 1, b = 0):\n",
    "    return 2 * a * x + b"
   ]
  },
  {
   "cell_type": "code",
   "execution_count": 24,
   "id": "933a9680",
   "metadata": {},
   "outputs": [
    {
     "name": "stdout",
     "output_type": "stream",
     "text": [
      "4\n",
      "4\n"
     ]
    }
   ],
   "source": [
    "print(funkcja(2))\n",
    "print(dfunkcja(2))"
   ]
  },
  {
   "cell_type": "code",
   "execution_count": 25,
   "id": "23c0b77c",
   "metadata": {},
   "outputs": [
    {
     "name": "stdout",
     "output_type": "stream",
     "text": [
      "6\n",
      "5\n"
     ]
    }
   ],
   "source": [
    "print(funkcja(2, 1, 1))\n",
    "print(dfunkcja(2, 1, 1))"
   ]
  },
  {
   "cell_type": "code",
   "execution_count": 26,
   "id": "16cdb270",
   "metadata": {},
   "outputs": [
    {
     "name": "stdout",
     "output_type": "stream",
     "text": [
      "7\n",
      "5\n"
     ]
    }
   ],
   "source": [
    "print(funkcja(2, 1, 1, 1))\n",
    "print(dfunkcja(2, 1, 1))"
   ]
  },
  {
   "cell_type": "markdown",
   "id": "714a25c3",
   "metadata": {},
   "source": [
    "Wszystko działa, porównajmy więc wyniki `dfunkcja` ze `styczna`"
   ]
  },
  {
   "cell_type": "code",
   "execution_count": 27,
   "id": "f4027584",
   "metadata": {},
   "outputs": [
    {
     "name": "stdout",
     "output_type": "stream",
     "text": [
      "  Pochodna | Analityczna | Numeryczna \n",
      "  f'(0.0)  |     0.0     |   0.0016    \n",
      "  f'(1.0)  |     2.0     |   2.00099999999969756    \n",
      "  f'(2.0)  |     4.0     |   4.0009999999996996    \n",
      "  f'(3.0)  |     6.0     |   6.0009999999994796    \n",
      "  f'(4.0)  |     8.0     |   8.00100000000376    \n",
      "  f'(5.0)  |     10.0     |   10.0010000000025916    \n",
      "  f'(6.0)  |     12.0     |   12.0010000000050356    \n",
      "  f'(7.0)  |     14.0     |   14.001000000007486    \n",
      "  f'(8.0)  |     16.0     |   16.0009999999886086    \n",
      "  f'(9.0)  |     18.0     |   18.0009999999839476    \n"
     ]
    }
   ],
   "source": [
    "X = np.linspace(0, 9, 10)\n",
    "Y_true = dfunkcja(X)\n",
    "Y_num = styczna(funkcja, X)\n",
    "\n",
    "print('  Pochodna | Analityczna | Numeryczna ')\n",
    "for x, yt, yn in zip(X, Y_true, Y_num[0]):\n",
    "    print(\"  f'(\", x, \")  |     \", yt, \"     |   \", yn, 6, \"    \", sep = \"\")"
   ]
  },
  {
   "cell_type": "markdown",
   "id": "fa8f3639",
   "metadata": {},
   "source": [
    "Widzimy więc, że wyniki numeryczne zgadzają się z analitycznymi z dokładnością do użytego $\\Delta x$. Użyjmy więc naszej nowej funkcji `styczna` do policzenia miejsca zerowego bardziej skomplikowanej funkcji. Cały kod wraz z nową funkcją `funkcja` znajduje się poniżej"
   ]
  },
  {
   "cell_type": "code",
   "execution_count": 28,
   "id": "0bd30d09",
   "metadata": {
    "scrolled": false
   },
   "outputs": [],
   "source": [
    "from matplotlib import pyplot as plt\n",
    "import numpy as np\n",
    "\n",
    "def funkcja(x):\n",
    "    return np.sin(0.3 * (x - 1)) * np.exp(-0.1 * x)\n",
    "\n",
    "def styczna(f, x0):\n",
    "    dx = 0.001 #ustalamy dosyć małą wartość dx\n",
    "    a = (f(x0 + dx) - f(x0)) / dx #korzystamy ze wzoru na iloraz różnicowy\n",
    "    b = f(x0) - a * x0 #obliczamy tak jak poprzednio wyraz wolny\n",
    "    return (a, b) #zwracamy wyniki\n",
    "\n",
    "def mNewton(f, left, right, eps):\n",
    "    x0 = x0 = (right + left) / 2 #wybieramy punkt w połowie pomiędzy granicami\n",
    "    count = 0 #dodatkowo będziemy liczyli liczbę kroków\n",
    "    while np.abs(f(x0)) > eps: #jesli zblizymy się z wartością funkcji dostatecznie blisko, to kończymy działanie\n",
    "        a, b = styczna(f, x0) #obliczamy parametry stycznej\n",
    "        Ys = a * X + b #obliczamy wartości stycznej\n",
    "        ax.plot(X, Ys, '--', color = 'orange') #rysujemy styczną jako przerywaną '--' oraz pomarańczoną\n",
    "        x0 = -b / a #obliczamy nowy punkt x0\n",
    "        ax.plot(x0, 0, 'o', color = 'green') #rysujemy punkt przecięcia stycznej z osią 0x\n",
    "        count += 1 #zwiększamy o jeden liczbę kroków\n",
    "    return (count, x0) #zwracamy liczbę kroków oraz wynik"
   ]
  },
  {
   "cell_type": "code",
   "execution_count": 29,
   "id": "6a2d78d2",
   "metadata": {},
   "outputs": [
    {
     "name": "stdout",
     "output_type": "stream",
     "text": [
      "Liczba kroków: 3\n",
      "Pierwiastek: 0.999996910360776\n"
     ]
    },
    {
     "data": {
      "image/png": "[encoded data removed]",
      "text/plain": [
       "<Figure size 864x576 with 1 Axes>"
      ]
     },
     "metadata": {
      "needs_background": "light"
     },
     "output_type": "display_data"
    }
   ],
   "source": [
    "fig, ax = plt.subplots(1, figsize = (12, 8))\n",
    "\n",
    "X = np.linspace(-10, 10, 1000)\n",
    "Y = funkcja(X)\n",
    "ax.plot(X, Y, color = 'blue')\n",
    "\n",
    "result = mNewton(funkcja, -0.5, 5., 0.001)\n",
    "print('Liczba kroków: ', result[0], '\\nPierwiastek: ', result[1], sep = '')\n",
    "\n",
    "ax.set_xlim([X[0], X[-1]])\n",
    "ax.set_ylim([np.min(Y) - .5, np.max(Y) + .5])\n",
    "ax.grid()\n",
    "plt.show()"
   ]
  },
  {
   "cell_type": "markdown",
   "id": "34244e40",
   "metadata": {},
   "source": [
    "Rzeczywiście $x_0 = 0.999996910360776$ spełnia zadanie, sprawdźmy że $f(0.999996910360776)$ jest dostatecznie blisko zera"
   ]
  },
  {
   "cell_type": "code",
   "execution_count": 30,
   "id": "95fbb81f",
   "metadata": {},
   "outputs": [
    {
     "data": {
      "text/plain": [
       "-8.38686612560864e-07"
      ]
     },
     "execution_count": 30,
     "metadata": {},
     "output_type": "execute_result"
    }
   ],
   "source": [
    "funkcja(0.999996910360776)"
   ]
  },
  {
   "cell_type": "markdown",
   "id": "76abca98",
   "metadata": {},
   "source": [
    "**Zadanie domowe!**"
   ]
  },
  {
   "cell_type": "markdown",
   "id": "7349b7db",
   "metadata": {},
   "source": [
    "Napisz program, który:<br>\n",
    "1. Będzie prosił o podanie funkcji zmiennej x `'Podaj funkcję f(x): '`. Jeśli użytkownik poda ją błędnie wyświetl komunikat `'Złe wyrażenie!'` i tak aż do momentu w którym wyrażenie będzie prawidłowe. <br>\n",
    "2. Następnie będzie poprosił o podanie przedziału na którym ma być narysowana funkcja `'Podaj przedział (po przecinku): '`. Również tutaj, jeżeli coś zostało wprowadzone nie tak, ma wyświetlać się komunikat `'Zły przedział!'`.<br>\n",
    "3. Program rysuje wykres.<br>\n",
    "4. Na koniec program ma pytać `'Czy chcesz zakończyć (y/n): '`. Jeżeli urzytkownik wpisze `n` program ma zacząć pracę od początku i wrócić do punktu 1. Jeśli zostanie wpisane `y` program ma się zakończyć. Jeśli zostanie wpisane cokolwiek innego program ma do skutku wyświetlać `'Czy chcesz zakończyć (y/n): '` aż to uzyskania popranego wpisu."
   ]
  },
  {
   "cell_type": "markdown",
   "id": "ee6fc5e5",
   "metadata": {},
   "source": [
    "Przykład działania:"
   ]
  },
  {
   "cell_type": "code",
   "execution_count": 31,
   "id": "5ed6c1e9",
   "metadata": {},
   "outputs": [
    {
     "name": "stdout",
     "output_type": "stream",
     "text": [
      "Podaj funkcję f(x): x + y\n",
      "Złe wyrażenie!\n",
      "Podaj funkcję f(x): x ** y\n",
      "Złe wyrażenie!\n",
      "Podaj funkcję f(x): x ** 2 + 2.5 * x - 1./3\n",
      "Podaj przedział (po przecinku): -10, 10\n"
     ]
    },
    {
     "data": {
      "image/png": "[encoded data removed]",
      "text/plain": [
       "<Figure size 432x288 with 1 Axes>"
      ]
     },
     "metadata": {
      "needs_background": "light"
     },
     "output_type": "display_data"
    },
    {
     "name": "stdout",
     "output_type": "stream",
     "text": [
      "Czy chcesz zakończyć (y/n): n\n",
      "Podaj funkcję f(x): x ** 2\n",
      "Podaj przedział (po przecinku): 1, 1\n",
      "Zły przedział!\n",
      "Podaj przedział (po przecinku): ala\n",
      "Zły przedział!\n",
      "Podaj przedział (po przecinku): -2, 2\n"
     ]
    },
    {
     "data": {
      "image/png": "[encoded data removed]",
      "text/plain": [
       "<Figure size 432x288 with 1 Axes>"
      ]
     },
     "metadata": {
      "needs_background": "light"
     },
     "output_type": "display_data"
    },
    {
     "name": "stdout",
     "output_type": "stream",
     "text": [
      "Czy chcesz zakończyć (y/n): ala \n",
      "Czy chcesz zakończyć (y/n): nie\n",
      "Czy chcesz zakończyć (y/n): tak\n",
      "Czy chcesz zakończyć (y/n): 123\n",
      "Czy chcesz zakończyć (y/n): nie wiem\n",
      "Czy chcesz zakończyć (y/n): y\n"
     ]
    }
   ],
   "source": []
  },
  {
   "cell_type": "markdown",
   "id": "c9d49ed3",
   "metadata": {},
   "source": [
    "W celu ułatwienia zadania można skorzystać z wbudowanej funkcji `eval`, która wyrażenie zapisane jako ciąg znaków przepisuje na kod:"
   ]
  },
  {
   "cell_type": "code",
   "execution_count": 109,
   "id": "68e1c7fc",
   "metadata": {},
   "outputs": [
    {
     "name": "stdout",
     "output_type": "stream",
     "text": [
      "Podaj funkcję f(x): 2 * x\n"
     ]
    }
   ],
   "source": [
    "rownanie = input('Podaj funkcję f(x): ')"
   ]
  },
  {
   "cell_type": "code",
   "execution_count": 110,
   "id": "95b2ba4a",
   "metadata": {},
   "outputs": [
    {
     "name": "stdout",
     "output_type": "stream",
     "text": [
      "10\n"
     ]
    }
   ],
   "source": [
    "x = 5\n",
    "wynik = eval(rownanie)\n",
    "print(wynik)"
   ]
  },
  {
   "cell_type": "markdown",
   "id": "0ac4f8e9",
   "metadata": {},
   "source": [
    "Działa to też dla listy wartości (typ `ndarray`)"
   ]
  },
  {
   "cell_type": "code",
   "execution_count": 112,
   "id": "4fd78647",
   "metadata": {},
   "outputs": [
    {
     "name": "stdout",
     "output_type": "stream",
     "text": [
      "[ 0.  2.  4.  6.  8. 10. 12. 14. 16. 18. 20.]\n"
     ]
    }
   ],
   "source": [
    "x = np.linspace(0, 10, 11)\n",
    "wynik = eval(rownanie)\n",
    "print(wynik)"
   ]
  },
  {
   "cell_type": "markdown",
   "id": "fbf26885",
   "metadata": {},
   "source": [
    "Drugie ułatwienie to działanie aż do uzyskania odpowiedniego rezultatu. W tym celu możemy skorzystać z pętli `while`, która będzie działać w nieskończoność poprzez wstawienie do argumentu `True` (nie polecam odpalać poniższego kodu)"
   ]
  },
  {
   "cell_type": "code",
   "execution_count": null,
   "id": "babf74bc",
   "metadata": {},
   "outputs": [],
   "source": [
    "while True:\n",
    "    print('Ta pętla będzie wyświetlać tekst w nieskonczoność!')"
   ]
  },
  {
   "cell_type": "markdown",
   "id": "98dcc335",
   "metadata": {},
   "source": [
    "Możemy jednak zakończyć jej działanie, za pomocą `break`. Przykładowo prosimy użytkownika o podanie wartości `10`, co zakończy pętlę. Jest to najprostrzy i jednocześnie skuteczny sposób na stworzenie pętli, która będzie działać nieokreśloną liczbę razy (w przeciwieństwie do pętli `for`)"
   ]
  },
  {
   "cell_type": "code",
   "execution_count": 113,
   "id": "0438f3b5",
   "metadata": {},
   "outputs": [
    {
     "name": "stdout",
     "output_type": "stream",
     "text": [
      "Proszę wpisać wartość 10: 1\n",
      "Proszę wpisać wartość 10: 2\n",
      "Proszę wpisać wartość 10: 3\n",
      "Proszę wpisać wartość 10: -10\n",
      "Proszę wpisać wartość 10: ala\n",
      "Proszę wpisać wartość 10: 10\n",
      "Dziękuję\n"
     ]
    }
   ],
   "source": [
    "while True:\n",
    "    user = input('Proszę wpisać wartość 10: ')\n",
    "    if user == '10':\n",
    "        print('Dziękuję')\n",
    "        break\n",
    "    else:\n",
    "        pass"
   ]
  },
  {
   "cell_type": "markdown",
   "id": "9313cf88",
   "metadata": {},
   "source": [
    "Powodzenia!"
   ]
  }
 ],
 "metadata": {
  "kernelspec": {
   "display_name": "Python 3 (ipykernel)",
   "language": "python",
   "name": "python3"
  },
  "language_info": {
   "codemirror_mode": {
    "name": "ipython",
    "version": 3
   },
   "file_extension": ".py",
   "mimetype": "text/x-python",
   "name": "python",
   "nbconvert_exporter": "python",
   "pygments_lexer": "ipython3",
   "version": "3.8.10"
  }
 },
 "nbformat": 4,
 "nbformat_minor": 5
}
