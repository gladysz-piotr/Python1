{
 "cells": [
  {
   "cell_type": "markdown",
   "id": "aaef3add",
   "metadata": {},
   "source": [
    "**Zadanie - sortowanie bąbelkowe**"
   ]
  },
  {
   "cell_type": "markdown",
   "id": "ab8c2499",
   "metadata": {},
   "source": [
    "Napisz funkcję, która podaną listę liczb będzie porządkować od najmniejszej do największej za pomocą algorytmu tak zwanego sortowania bąbelkowego.<br><br>\n",
    "Opis algorytmu wygląda następująco:<br>\n",
    "Załóżmy, że mamy do posortowania listę $[4, 2, 5, 1, 7]$. W każdym obiegu pętli należy porównać dwa sąsiadujące ze sobą elementy i jeśli lewy jest większy od prawego - zamienić je miejscami:<br>\n",
    "$[\\underbrace{\\color{Red}{4,2}}_{4 > 2},5,1,7] \\to\n",
    "[2,\\underbrace{\\color{Green}{4,5}}_{4 < 5},1,7] \\to\n",
    "[2,4,\\underbrace{\\color{Red}{5,1}}_{5 > 1},7] \\to\n",
    "[2,4,1,\\underbrace{\\color{Green}{5,7}}_{5 < 7}]$.<br>\n",
    "Po tym przebiegu mamy pewność, że ostatni element jest nawiększy, więc w następnym obiegu zajmiemy się listą krótszą:<br>\n",
    "$[\\underbrace{\\color{Green}{2,4}}_{2 < 4},1,5,{\\color{Green}7}] \\to\n",
    "[2,\\underbrace{\\color{Red}{4,1}}_{4 > 1},5,{\\color{Green}7}] \\to\n",
    "[2,1,\\underbrace{\\color{Green}{4,5}}_{4 < 5},{\\color{Green}7}]$.<br>\n",
    "Mamy pewność, że przedostatni element jest na swoim miejscu, więc możemy powtórzyć proces dla listy o jeden krótszej i tak aż do pozostania jednego elementu, który będzie elementem najmniejszym.<br>\n",
    "$[\\underbrace{\\color{Red}{2,1}}_{2 > 1},4,{\\color{Green}{5}},{\\color{Green}{7}}] \\to\n",
    "[1,\\underbrace{\\color{Green}{2,4}}_{2 < 4},{\\color{Green}{5}},{\\color{Green}{7}}]$<br>\n",
    "$[\\underbrace{\\color{Green}{1,2}}_{1 < 2},{\\color{Green}{4}},{\\color{Green}{5}},{\\color{Green}{7}}]$.<br>\n",
    "Nasz ostateczny wynik to $[1, 2, 4, 5, 7]$."
   ]
  },
  {
   "cell_type": "code",
   "execution_count": 21,
   "id": "34acf4ec",
   "metadata": {},
   "outputs": [],
   "source": [
    "def bubbleSort(L):\n",
    "    n = len(L) #długość listy\n",
    "    while n > 1: #determinuje liczbę kroków - n-1\n",
    "        for i in range(n - 1): #determinuje liczbę par do przeszukania; zmniejsza się co każdy obieg pętli\n",
    "            if L[i] > L[i + 1]: #sprawdzamy, czy lewy element jest większy od prawego\n",
    "                L[i], L[i + 1] = L[i + 1], L[i] #zamieniamy miejscami; ważne żeby zamieniać oba elementy na raz\n",
    "            else:\n",
    "                pass\n",
    "        n -= 1 #zmniejszamy wartość n w celu zmniejszenia przeszukiwanej listy\n",
    "    return L #zwracamy L, opcjonalne, bo z racji tego, że modyfikujemy listę i tak zostanie zmieniona! \n",
    "            #jeśli chcemy żeby oryginalna lista byłe niezmieniona należy korzystać z kopii jak to było omawiane wcześniej"
   ]
  },
  {
   "cell_type": "code",
   "execution_count": 22,
   "id": "d120f16f",
   "metadata": {},
   "outputs": [
    {
     "name": "stdout",
     "output_type": "stream",
     "text": [
      "[-7, 0, 1, 3, 3, 3, 4, 5, 8]\n"
     ]
    }
   ],
   "source": [
    "l = [4, 1, 3, 3, 3, 8, 5, -7, 0]\n",
    "l = bubbleSort(l)\n",
    "print(l)"
   ]
  },
  {
   "cell_type": "markdown",
   "id": "a33fcd63",
   "metadata": {},
   "source": [
    "**Zadanie**"
   ]
  },
  {
   "cell_type": "markdown",
   "id": "95861754",
   "metadata": {},
   "source": [
    "Napisz funkcję `words(text)`, która wyświetli użyte w tekście `text` słowa oraz ich liczbę wystąpień. Słowa mają być złożone wyłącznie z małych liter. W tym celu warto najpierw stworzyć funkcję `clear(text)`, która będzie \"czyściła\" tekst `text` z wszystkich niepotrzebnych znaków `.,;:-–!?(){}\\/„”\\n\\t+*[^]$=|\"` na przykład poprzez zamianę ich na spacje oraz zamieni wszystkie wielkie litery na małe.<br>\n",
    "Przykład użycia funkcji `clear`:<br>\n",
    "wejście:<br>\n",
    "`Pani Dursley spędziła normalny, całkiem miły dzień. Podczas obiadu opowiedziała mu o problemach, jakie ma sąsiadka ze swoją córką, i o tym, że Dudley nauczył się nowego słowa („nie chcę!”).`<br>\n",
    "wyjście:<br>\n",
    "`pani dursley spędziła normalny  całkiem miły dzień  podczas obiadu opowiedziała mu o problemach  jakie ma sąsiadka ze swoją córką  i o tym  że dudley nauczył się nowego słowa   nie chcę    `<br><br>\n",
    "Przykład użycia funkcji `words`:<br>\n",
    "wejście:<br>\n",
    "`Profesor McGonagall wyciągnęła koronkową chusteczkę i zaczęła sobie osuszać oczy pod okularami. Dumbledore wyjął z kieszeni złoty zegarek, przyjrzał mu się i mocno pociągnął nosem. Był to bardzo dziwny zegarek. Miał dwanaście wskazówek, a nie miał w ogóle cyfr; zamiast tego po obwodzie tarczy krążyły maleńkie planety. Dumbledore musiał jednak coś z niego odczytać, bo włożył go z powrotem do kieszeni i rzekł:`<br>\n",
    "wyjście:<br>\n",
    "`{'profesor': 1, 'mcgonagall': 1, 'wyciągnęła': 1, 'koronkową': 1, 'chusteczkę': 1, 'i': 3, 'zaczęła': 1, 'sobie': 1, 'osuszać': 1, 'oczy': 1, 'pod': 1, 'okularami': 1, 'dumbledore': 2, 'wyjął': 1, 'z': 3, 'kieszeni': 2, 'złoty': 1, 'zegarek': 2, 'przyjrzał': 1, 'mu': 1, 'się': 1, 'mocno': 1, 'pociągnął': 1, 'nosem': 1, 'był': 1, 'to': 1, 'bardzo': 1, 'dziwny': 1, 'miał': 2, 'dwanaście': 1, 'wskazówek': 1, 'a': 1, 'nie': 1, 'w': 1, 'ogóle': 1, 'cyfr': 1, 'zamiast': 1, 'tego': 1, 'po': 1, 'obwodzie': 1, 'tarczy': 1, 'krążyły': 1, 'maleńkie': 1, 'planety': 1, 'musiał': 1, 'jednak': 1, 'coś': 1, 'niego': 1, 'odczytać': 1, 'bo': 1, 'włożył': 1, 'go': 1, 'powrotem': 1, 'do': 1, 'rzekł': 1}`"
   ]
  },
  {
   "cell_type": "code",
   "execution_count": 7,
   "id": "a62c40c3",
   "metadata": {
    "scrolled": false
   },
   "outputs": [],
   "source": [
    "def clear(text):\n",
    "    signs = '.,;:-–!?(){}\\/„”\\n\\t+*[^]$=|\"' #wszystkie znaki, które chcemy, żeby nie były uwzględnione w tekście\n",
    "    for sign in signs: #przechodzimy przez wszystkie znaki z signs\n",
    "        text = text.replace(sign, ' ') #funkcja zamienia podany znak na spację\n",
    "    return text.lower() #zwracamy wyczyszczony tekst oraz zamieniamy wielkie litery na małe\n",
    "\n",
    "def words(text):\n",
    "    text = text.split(' ') #skoro mamy już same spacje, używamy funkcji split\n",
    "    text = [t for t in text if t != ''] # jesli dwie spacje były obok siebie, powstaje pusty znak, je też usuwamy\n",
    "    counter = {} #tworzymy pusty słownik\n",
    "    for word in text: #tworzymy pętlę i przechodzimy przez wszystkie słowa w naszej liście\n",
    "        if word in counter.keys(): #jeśli jakieś słowo znajduje się już w kluczach slownika (lista otrzymana za pomocą metody .keys()), zwiększamy wartość wytąpień o jeden\n",
    "            counter[word] += 1\n",
    "        else: # jeśli w słowniku nie ma jeszcze słowa, dodajemy je i dajemy mu wartość wystąpień równą jeden\n",
    "            counter[word] = 1\n",
    "    return counter #zwracamy słowik"
   ]
  },
  {
   "cell_type": "code",
   "execution_count": 4,
   "id": "c1d9b040",
   "metadata": {
    "scrolled": true
   },
   "outputs": [
    {
     "name": "stdout",
     "output_type": "stream",
     "text": [
      "{'profesor': 1, 'mcgonagall': 1, 'wyciągnęła': 1, 'koronkową': 1, 'chusteczkę': 1, 'i': 3, 'zaczęła': 1, 'sobie': 1, 'osuszać': 1, 'oczy': 1, 'pod': 1, 'okularami': 1, 'dumbledore': 2, 'wyjął': 1, 'z': 3, 'kieszeni': 2, 'złoty': 1, 'zegarek': 2, 'przyjrzał': 1, 'mu': 1, 'się': 1, 'mocno': 1, 'pociągnął': 1, 'nosem': 1, 'był': 1, 'to': 1, 'bardzo': 1, 'dziwny': 1, 'miał': 2, 'dwanaście': 1, 'wskazówek': 1, 'a': 1, 'nie': 1, 'w': 1, 'ogóle': 1, 'cyfr': 1, 'zamiast': 1, 'tego': 1, 'po': 1, 'obwodzie': 1, 'tarczy': 1, 'krążyły': 1, 'maleńkie': 1, 'planety': 1, 'musiał': 1, 'jednak': 1, 'coś': 1, 'niego': 1, 'odczytać': 1, 'bo': 1, 'włożył': 1, 'go': 1, 'powrotem': 1, 'do': 1, 'rzekł': 1}\n"
     ]
    }
   ],
   "source": [
    "text = 'Profesor McGonagall wyciągnęła koronkową chusteczkę i zaczęła sobie osuszać oczy pod okularami. Dumbledore wyjął z kieszeni złoty zegarek, przyjrzał mu się i mocno pociągnął nosem. Był to bardzo dziwny zegarek. Miał dwanaście wskazówek, a nie miał w ogóle cyfr; zamiast tego po obwodzie tarczy krążyły maleńkie planety. Dumbledore musiał jednak coś z niego odczytać, bo włożył go z powrotem do kieszeni i rzekł:'\n",
    "print(words(clear(text)))"
   ]
  },
  {
   "cell_type": "markdown",
   "id": "172a7c2d",
   "metadata": {},
   "source": [
    "**Zadanie**"
   ]
  },
  {
   "cell_type": "markdown",
   "id": "450ee2c0",
   "metadata": {},
   "source": [
    "Oczywiście, zwykle operowanie na tekście jest wygodniejsze jesli korzystamy z plików, dlatego teraz spróbujmy użyć powyższego kodu na pliku zawierającym pierwszy rozdział z książki o Harrym Poterze w pliku `HP_rozdzial1.txt`."
   ]
  },
  {
   "cell_type": "code",
   "execution_count": 23,
   "id": "95516956",
   "metadata": {
    "scrolled": true
   },
   "outputs": [
    {
     "name": "stdout",
     "output_type": "stream",
     "text": [
      "{'rozdział': 1, 'pierwszy': 2, 'chłopiec': 2, 'który': 8, 'przeżył': 3, 'państwo': 1, 'dursleyowie': 5, 'spod': 2, 'numeru': 4, 'czwartego': 4, 'przy': 3, 'privet': 9, 'drive': 9, 'mogli': 2, 'z': 54, 'dumą': 1, 'twierdzić': 1, 'że': 65, 'są': 5, 'całkowicie': 7, 'normalni': 1, 'chwała': 1, 'bogu': 1, 'byli': 2, 'ostatnimi': 1, 'ludźmi': 2, 'których': 2, 'można': 5, 'by': 23, 'posądzić': 1, 'o': 33, 'udział': 1, 'w': 108, 'czymś': 3, 'dziwnym': 2, 'lub': 1, 'tajemniczym': 1, 'bo': 14, 'po': 21, 'prostu': 2, 'nie': 113, 'wierzyli': 1, 'takie': 4, 'bzdury': 1, 'pan': 31, 'dursley': 40, 'był': 17, 'dyrektorem': 1, 'firmy': 2, 'grunnings': 2, 'produkującej': 1, 'świdry': 3, 'to': 62, 'rosły': 1, 'otyły': 1, 'mężczyzna': 3, 'pozbawiony': 1, 'szyi': 1, 'za': 14, 'wyposażony': 1, 'wielkie': 3, 'wąsy': 2, 'natomiast': 2, 'pani': 25, 'była': 3, 'drobną': 1, 'blondynką': 1, 'i': 91, 'miała': 2, 'szyję': 1, 'dwukrotnie': 2, 'dłuższą': 1, 'od': 17, 'normalnej': 1, 'co': 21, 'bardzo': 18, 'jej': 8, 'pomagało': 1, 'życiu': 2, 'ponieważ': 2, 'większość': 2, 'dnia': 3, 'spędzała': 1, 'na': 109, 'podglądaniu': 1, 'sąsiadów': 1, 'syn': 4, 'dursleyów': 3, 'miał': 14, 'imię': 5, 'dudley': 4, 'a': 32, 'rodzice': 1, 'uważali': 2, 'go': 22, 'najwspanialszego': 1, 'chłopca': 2, 'świecie': 1, 'mieli': 4, 'wszystko': 8, 'czego': 4, 'dusza': 1, 'zapragnie': 1, 'ale': 30, 'też': 6, 'swoją': 4, 'tajemnicę': 1, 'nic': 4, 'budziło': 1, 'nich': 7, 'większego': 1, 'przerażenia': 1, 'jak': 19, 'myśl': 3, 'może': 13, 'zostać': 2, 'odkryta': 1, 'znaleźliby': 1, 'się': 118, 'sytuacji': 1, 'do': 38, 'zniesienia': 1, 'gdyby': 11, 'ktoś': 5, 'dowiedział': 1, 'istnieniu': 1, 'potterów': 4, 'potter': 7, 'siostrą': 1, 'widziały': 1, 'wielu': 1, 'lat': 3, 'prawdę': 1, 'mówiąc': 3, 'udawała': 1, 'ogóle': 3, 'ma': 18, 'siostry': 3, 'żałosny': 1, 'mąż': 1, 'innego': 2, 'rodzaju': 1, 'wzdrygali': 1, 'samą': 1, 'powiedzieli': 1, 'sąsiedzi': 1, 'potterowie': 4, 'pojawili': 1, 'ich': 9, 'ulicy': 8, 'oczywiście': 2, 'wiedzieli': 2, 'mają': 2, 'synka': 1, 'nigdy': 11, 'widzieli': 2, 'oczy': 6, 'całą': 2, 'pewnością': 1, 'chcieli': 1, 'oglądać': 2, 'ten': 6, 'jeszcze': 5, 'jednym': 1, 'powodem': 1, 'trzymali': 1, 'najdalej': 1, 'życzyli': 1, 'sobie': 16, 'przebywał': 1, 'towarzystwie': 1, 'takiego': 1, 'dziecka': 2, 'kiedy': 18, 'obudzili': 1, 'rano': 2, 'pewien': 1, 'nudny': 1, 'szary': 1, 'wtorek': 1, 'którego': 4, 'zaczyna': 1, 'nasza': 1, 'opowieść': 1, 'zachmurzonym': 1, 'niebie': 1, 'było': 12, 'niczego': 1, 'zapowiadało': 1, 'owe': 1, 'dziwne': 2, 'tajemnicze': 1, 'rzeczy': 3, 'które': 5, 'miały': 1, 'wkrótce': 2, 'wydarzyć': 1, 'całym': 1, 'kraju': 2, 'nucił': 1, 'coś': 12, 'pod': 5, 'nosem': 3, 'zawiązując': 1, 'swój': 1, 'najnudniejszy': 1, 'krawat': 1, 'wyrwała': 1, 'chwilę': 1, 'domu': 6, 'plotki': 1, 'gdy': 2, 'tylko': 8, 'udało': 4, 'wepchnąć': 1, 'wrzeszczącego': 1, 'dudleya': 5, 'dziecinnego': 1, 'krzesła': 1, 'wysokich': 2, 'nogach': 1, 'żadne': 1, 'zauważyło': 1, 'wielkiej': 1, 'brązowej': 1, 'sowy': 10, 'która': 1, 'przeleciała': 1, 'oknem': 1, 'wpół': 1, 'dziewiątej': 1, 'chwycił': 1, 'neseser': 1, 'musnął': 1, 'wargami': 1, 'policzek': 1, 'spróbował': 1, 'pocałować': 1, 'pożegnanie': 1, 'mu': 22, 'akurat': 3, 'napad': 1, 'szału': 1, 'opryskiwał': 1, 'ściany': 1, 'owsianką': 1, 'nieznośny': 1, 'bachor': 1, 'zarechotał': 1, 'wychodząc': 1, 'wsiadł': 1, 'samochodu': 3, 'wyjechał': 1, 'tyłem': 1, 'sprzed': 1, 'rogu': 5, 'dostrzegł': 2, 'pierwszą': 2, 'oznakę': 1, 'pewnej': 1, 'nienormalności': 1, 'kota': 11, 'studiującego': 1, 'jakąś': 1, 'mapę': 1, 'dopiero': 5, 'chwili': 5, 'pana': 3, 'dursleya': 3, 'dotarło': 1, 'zobaczył': 4, 'więc': 3, 'obrócił': 1, 'gwałtownie': 1, 'głowę': 6, 'spojrzeć': 1, 'raz': 3, 'rzeczywiście': 2, 'stał': 1, 'bury': 2, 'kot': 11, 'studiował': 1, 'żadnej': 1, 'mapy': 1, 'mógł': 6, 'pomyśleć': 3, 'pomyślałby': 1, 'każdy': 2, 'rozsądny': 1, 'człowiek': 2, 'musiało': 2, 'być': 5, 'jakieś': 1, 'złudzenie': 1, 'optyczne': 1, 'zamrugał': 1, 'parę': 1, 'razy': 2, 'utkwił': 3, 'spojrzenie': 4, 'kocie': 1, 'nim': 7, 'skręcił': 1, 'wjechał': 4, 'szosę': 1, 'obserwując': 1, 'lusterku': 1, 'odczytywał': 1, 'teraz': 6, 'napis': 1, 'wpatrywał': 3, 'tabliczkę': 1, 'tym': 24, 'napisem': 1, 'przecież': 4, 'koty': 2, 'potrafią': 1, 'czytać': 1, 'bardziej': 1, 'studiować': 1, 'map': 1, 'otrząsnął': 1, 'lekko': 1, 'wyrzucił': 1, 'myśli': 2, 'zbliżał': 1, 'miasta': 2, 'głowie': 2, 'chodziło': 1, 'już': 7, 'zamówienie': 1, 'dzisiaj': 4, 'otrzymać': 1, 'skraju': 1, 'został': 2, 'jednak': 4, 'zmuszony': 1, 'zapomnienia': 1, 'świdrach': 3, 'normalnym': 1, 'porannym': 1, 'korku': 1, 'ulicznym': 1, 'zauważyć': 3, 'naokoło': 1, 'jest': 12, 'mnóstwo': 3, 'dziwacznie': 1, 'ubranych': 2, 'ludzi': 10, 'pelerynach': 4, 'znosił': 1, 'ubierających': 1, 'śmiesznie': 1, 'przykład': 1, 'młodych': 1, 'tych': 2, 'wszystkich': 4, 'cudacznych': 1, 'strojach': 1, 'doszedł': 3, 'wniosku': 3, 'jakaś': 1, 'nowa': 1, 'głupia': 1, 'moda': 1, 'zabębnił': 1, 'palcami': 2, 'kierownicę': 1, 'wówczas': 1, 'jego': 14, 'padło': 1, 'stojącą': 1, 'pobliżu': 1, 'grupkę': 1, 'dziwaków': 1, 'szeptali': 1, 'między': 2, 'sobą': 2, 'wyraźnie': 1, 'podnieceni': 1, 'stwierdził': 2, 'oburzeniem': 1, 'niektórzy': 2, 'wcale': 4, 'młodzi': 1, 'pewno': 2, 'starszy': 1, 'niego': 9, 'szmaragdowozieloną': 1, 'pelerynę': 2, 'trzeba': 2, 'mieć': 6, 'naprawdę': 4, 'czelność': 1, 'przyszło': 2, 'jakiś': 5, 'wygłup': 1, 'ci': 4, 'ludzie': 6, 'przeprowadzają': 1, 'zbiórkę': 1, 'równie': 1, 'bzdurny': 1, 'cel': 1, 'tak': 28, 'chodzi': 1, 'sznur': 1, 'samochodów': 1, 'ruszył': 3, 'kilka': 4, 'minut': 1, 'później': 2, 'parking': 1, 'myślach': 1, 'powrotem': 3, 'zagościły': 1, 'swoim': 2, 'gabinecie': 1, 'dziewiątym': 1, 'piętrze': 1, 'zawsze': 3, 'siedział': 6, 'plecami': 1, 'okna': 3, 'tego': 13, 'okazało': 2, 'okolicznością': 1, 'sprzyjającą': 1, 'przodem': 1, 'trudno': 5, 'skupić': 2, 'widział': 2, 'sów': 5, 'przelatujących': 1, 'jawnie': 1, 'biały': 3, 'dzień': 10, 'choć': 2, 'je': 2, 'pokazywali': 1, 'gapili': 1, 'otwartymi': 1, 'ustami': 1, 'widziała': 1, 'nawet': 13, 'nocy': 6, 'normalne': 2, 'wolne': 1, 'przedpołudnie': 1, 'wrzeszczał': 1, 'kolei': 1, 'pięciu': 1, 'pracowników': 1, 'odbył': 1, 'ważnych': 1, 'rozmów': 1, 'telefonicznych': 1, 'potem': 2, 'znowu': 3, 'kogoś': 2, 'nawrzeszczał': 1, 'wyśmienitym': 1, 'nastroju': 2, 'aż': 8, 'pory': 1, 'lunchu': 1, 'pomyślał': 1, 'dobrze': 3, 'wyprostować': 1, 'nogi': 3, 'przejść': 1, 'drugą': 1, 'stronę': 2, 'kupić': 1, 'piekarni': 2, 'bułkę': 1, 'rodzynkami': 1, 'dawno': 1, 'zapomniał': 1, 'ludziach': 2, 'nagle': 7, 'natknął': 1, 'tuż': 3, 'obok': 2, 'zmierzył': 2, 'gniewnym': 1, 'spojrzeniem': 2, 'wiedział': 2, 'dlaczego': 5, 'budzili': 1, 'niepokój': 1, 'tej': 3, 'grupce': 1, 'również': 1, 'szeptano': 1, 'ożywieniem': 1, 'zauważył': 1, 'ręku': 1, 'puszkę': 1, 'zbierania': 1, 'datków': 1, 'wyszedł': 1, 'ze': 5, 'sklepu': 1, 'niosąc': 2, 'torbę': 1, 'wielkim': 1, 'kawałem': 1, 'ciasta': 1, 'orzechami': 1, 'usłyszał': 1, 'strzępy': 1, 'rozmowy': 1, 'zgadza': 1, 'ja': 3, 'słyszałem': 1, 'harry': 6, 'zatrzymał': 1, 'jakby': 8, 'wrosły': 1, 'chodnik': 1, 'poczuł': 3, 'falę': 1, 'lęku': 1, 'spojrzał': 2, 'przez': 15, 'ramię': 1, 'dziwnie': 2, 'osobników': 1, 'chciał': 2, 'zagadnąć': 1, 'rozmyślił': 2, 'przeszedł': 1, 'pospiesznie': 1, 'ulicę': 3, 'windą': 1, 'dziewiąte': 1, 'piętro': 1, 'warknął': 1, 'sekretarkę': 1, 'żeby': 5, 'nikt': 2, 'przeszkadzał': 1, 'złapał': 1, 'słuchawkę': 2, 'telefonu': 1, 'prawie': 3, 'wykręcił': 1, 'numer': 2, 'odłożył': 1, 'zaczął': 2, 'gorączkowo': 1, 'myśleć': 1, 'szarpiąc': 1, 'dajmy': 1, 'zwariować': 1, 'końcu': 9, 'niezwykłego': 1, 'nazywać': 1, 'syna': 3, 'harry’ego': 8, 'nad': 7, 'zastanawiać': 1, 'pewny': 2, 'czy': 7, 'szwagierki': 1, 'możliwe': 1, 'nazywa': 1, 'harvey': 1, 'albo': 1, 'harold': 1, 'powodu': 3, 'niepokoić': 1, 'panią': 2, 'każde': 2, 'wspomnienie': 1, 'siostrze': 1, 'ją': 3, 'przygnębiało': 1, 'złe': 1, 'ostatecznie': 1, 'on': 7, 'taką': 2, 'siostrę': 1, 'mimo': 1, 'popołudnia': 1, 'trochę': 6, 'trudniej': 1, 'piątej': 1, 'opuszczał': 1, 'firmę': 1, 'takim': 1, 'stanie': 5, 'wpadł': 2, 'drzwiami': 2, 'przykro': 2, 'mi': 5, 'mruknął': 4, 'drobny': 1, 'staruszek': 2, 'zatoczył': 1, 'upadł': 1, 'kilku': 1, 'sekundach': 1, 'uświadomił': 1, 'fioletową': 1, 'sprawiał': 2, 'wrażenia': 2, 'rozgniewanego': 1, 'mało': 1, 'powalił': 1, 'ziemię': 1, 'przeciwnie': 1, 'twarzy': 1, 'zakwitł': 1, 'szeroki': 1, 'uśmiech': 2, 'zaskrzeczał': 1, 'przechodnie': 1, 'zaczęli': 2, 'niech': 2, 'szanownemu': 1, 'panu': 2, 'będzie': 8, 'zepsuć': 1, 'humoru': 1, 'ciesz': 1, 'mną': 1, 'sam': 9, 'wiesz': 6, 'kogo': 1, 'wszyscy': 5, 'powinni': 2, 'cieszyć': 1, 'mugole': 4, 'tacy': 1, 'szczęśliwy': 2, 'ach': 1, 'czym': 4, 'uściskał': 1, 'serdecznie': 1, 'odszedł': 2, 'zamurowało': 1, 'uściskany': 1, 'zupełnie': 1, 'nieznajomego': 1, 'człowieka': 2, 'nazwano': 1, 'mugolem': 1, 'cokolwiek': 2, 'miało': 1, 'znaczyć': 1, 'wstrząśnięty': 1, 'pobiegł': 1, 'drogę': 1, 'mając': 1, 'nadzieję': 3, 'przywidziało': 1, 'zdarzyło': 1, 'pochwalał': 1, 'wybujałej': 1, 'wyobraźni': 1, 'podjazd': 1, 'przed': 5, 'numerem': 1, 'czwartym': 1, 'rzeczą': 1, 'jaką': 1, 'poprawiło': 1, 'spostrzegł': 1, 'murku': 4, 'otaczającym': 1, 'ogród': 2, 'same': 1, 'ciemniejsze': 1, 'obwódki': 1, 'wokół': 3, 'oczu': 4, 'siooo': 1, 'krzyknął': 1, 'drgnął': 3, 'chłodnym': 1, 'zachowują': 2, 'wzdrygnął': 1, 'wszedł': 2, 'nadal': 1, 'zamierzał': 1, 'wspominać': 1, 'wszystkim': 4, 'żonie': 1, 'spędziła': 1, 'normalny': 1, 'całkiem': 2, 'miły': 1, 'podczas': 1, 'obiadu': 1, 'opowiedziała': 1, 'problemach': 1, 'jakie': 2, 'sąsiadka': 1, 'córką': 1, 'nauczył': 1, 'nowego': 1, 'słowa': 1, 'chcę': 2, 'starał': 1, 'zachowywać': 1, 'normalnie': 2, 'im': 2, 'zapakować': 1, 'łóżeczka': 1, 'saloniku': 2, 'zdążył': 1, 'koniec': 1, 'dziennika': 1, 'wieczornego': 1, 'ostatnia': 1, 'wiadomość': 1, 'obserwatorzy': 1, 'ptaków': 1, 'donoszą': 1, 'zachowaniu': 1, 'krajowych': 1, 'polują': 1, 'widzi': 1, 'ciągu': 1, 'setek': 1, 'doniesień': 1, 'wynika': 1, 'latały': 1, 'we': 1, 'kierunkach': 1, 'samego': 1, 'rana': 1, 'specjaliści': 1, 'wyjaśnić': 2, 'zmieniły': 1, 'swoje': 2, 'zwyczaje': 1, 'tu': 5, 'spiker': 1, 'pozwolił': 1, 'tajemnicza': 1, 'sprawa': 1, 'posłuchajmy': 1, 'jim': 2, 'mcguffin': 1, 'powiedzenia': 1, 'pogodzie': 1, 'zanosi': 1, 'deszcz': 1, 'no': 8, 'cóż': 3, 'ted': 1, 'odpowiedział': 3, 'facet': 1, 'pogody': 1, 'znam': 1, 'wiem': 6, 'zachowywały': 1, 'dziś': 1, 'dzwonili': 1, 'mnie': 2, 'telewidzowie': 1, 'kentu': 1, 'yorkshire': 1, 'dundee': 1, 'zamiast': 4, 'obiecanego': 1, 'deszczu': 1, 'prawdziwą': 1, 'ulewę': 1, 'meteorytów': 1, 'wcześniej': 1, 'obchodzić': 1, 'noc': 1, 'sztucznych': 1, 'ogni': 1, 'przyszłym': 1, 'tygodniu': 1, 'mogę': 4, 'wam': 1, 'obiecać': 1, 'padało': 1, 'niepewnie': 1, 'meteoryty': 1, 'anglią': 1, 'latające': 1, 'tajemniczy': 1, 'osobnicy': 1, 'szeptanie': 2, 'potterach': 1, 'weszła': 1, 'dwie': 2, 'filiżanki': 1, 'herbaty': 2, 'powinien': 1, 'nią': 4, 'porozmawiać': 1, 'odchrząknął': 1, 'nerwowo': 1, 'eee': 1, 'petunio': 1, 'kochanie': 1, 'miałaś': 1, 'ostatnio': 1, 'wiadomości': 1, 'swojej': 1, 'spodziewał': 1, 'spojrzała': 2, 'wzrokiem': 1, 'zdumionego': 1, 'bazyliszka': 1, 'zwykle': 2, 'udawali': 1, 'odpowiedziała': 4, 'ostrym': 1, 'tonem': 2, 'pytasz': 1, 'były': 1, 'dzienniku': 1, 'wymamrotał': 1, 'spadające': 3, 'gwiazdy': 3, 'mieście': 1, 'widziałem': 3, 'cudacznie': 1, 'poubieranych': 1, 'warknęła': 1, 'pomyślałem': 1, 'wspólnego': 3, 'towarzystwem': 1, 'wessała': 1, 'łyk': 1, 'zaciśnięte': 1, 'wargi': 1, 'zastanawiał': 1, 'powiedzieć': 2, 'słyszał': 1, 'nazwisko': 1, 'uznał': 1, 'byłoby': 1, 'zbyt': 2, 'śmiałe': 1, 'posunięcie': 1, 'powiedział': 6, 'siląc': 1, 'obojętność': 1, 'musi': 1, 'wieku': 1, 'prawda': 3, 'przypuszczam': 1, 'sucho': 1, 'zaraz': 1, 'howard': 1, 'obrzydliwe': 1, 'pospolite': 1, 'och': 3, 'serce': 2, 'zamarło': 1, 'zgadzam': 1, 'tobą': 1, 'poszli': 1, 'górę': 1, 'więcej': 1, 'wspominał': 1, 'zamknęła': 1, 'łazience': 1, 'podkradł': 1, 'sypialni': 1, 'zerknął': 1, 'domem': 1, 'wciąż': 3, 'tam': 2, 'czekał': 1, 'czyżby': 1, 'halucynacje': 1, 'potterami': 1, 'spokrewnieni': 1, 'jakimiś': 1, 'chyba': 3, 'zniósł': 1, 'położyli': 1, 'łóżka': 1, 'szybko': 1, 'zasnęła': 1, 'leżał': 1, 'rozmyślał': 1, 'niepokoili': 1, 'petunia': 2, 'myślą': 1, 'pokroju': 1, 'wyobrazić': 1, 'jaki': 1, 'sposób': 1, 'mogliby': 1, 'wplątani': 1, 'dojść': 1, 'ulgę': 1, 'ziewnął': 1, 'przewrócił': 2, 'bok': 2, 'nas': 4, 'dotyczyć': 1, 'mylił': 1, 'zapadł': 1, 'niezbyt': 1, 'zresztą': 1, 'spokojny': 1, 'sen': 1, 'okazywał': 1, 'najmniejszych': 1, 'oznak': 1, 'senności': 1, 'nieruchomy': 1, 'posąg': 1, 'oczami': 1, 'utkwionymi': 1, 'dalekim': 1, 'sąsiedniej': 1, 'uliczce': 1, 'trzasnęły': 1, 'drzwi': 3, 'ani': 6, 'przeleciały': 1, 'głową': 3, 'poruszył': 1, 'północy': 1, 'uwagą': 1, 'obserwował': 1, 'pojawił': 4, 'bezszelestnie': 1, 'iż': 1, 'wyrósł': 1, 'ziemi': 2, 'ogon': 1, 'zwęziły': 1, 'taki': 1, 'wysoki': 1, 'chudy': 1, 'stary': 1, 'sądząc': 1, 'brodzie': 1, 'srebrnych': 1, 'włosach': 1, 'opadały': 1, 'pasa': 1, 'sięgający': 1, 'purpurowy': 1, 'płaszcz': 3, 'długie': 2, 'buty': 2, 'wysokim': 1, 'obcasie': 1, 'zza': 1, 'połówek': 1, 'okularów': 1, 'błyskały': 1, 'jasne': 1, 'niebieskie': 1, 'długi': 2, 'zakrzywiony': 1, 'nos': 2, 'wrażenie': 1, 'złamany': 1, 'przynajmniej': 2, 'dwóch': 1, 'miejscach': 2, 'nazywał': 1, 'albus': 2, 'dumbledore': 31, 'zdawał': 3, 'zielonego': 1, 'pojęcia': 1, 'właśnie': 5, 'przybył': 1, 'której': 2, 'nazwiska': 3, 'dziwaczne': 1, 'źle': 1, 'widziane': 1, 'zapałem': 1, 'grzebał': 1, 'płaszczu': 1, 'najwyraźniej': 1, 'czegoś': 3, 'szukając': 1, 'sprawy': 1, 'dłuższego': 1, 'czasu': 2, 'obserwowany': 1, 'podniósł': 1, 'drugiego': 1, 'końca': 1, 'uliczki': 2, 'zacmokał': 1, 'mogłem': 1, 'spodziewać': 1, 'znalazł': 1, 'szukał': 1, 'wewnętrznej': 1, 'kieszeni': 4, 'płaszcza': 3, 'wyglądało': 2, 'srebrna': 1, 'zapalniczka': 1, 'otworzył': 2, 'uniósł': 1, 'pstryknął': 3, 'najbliższa': 1, 'latarnia': 2, 'zgasła': 2, 'lekkim': 1, 'trzaskiem': 1, 'następna': 1, 'mrugnęła': 1, 'pstrykał': 1, 'wygaszaczem': 1, 'dwanaście': 3, 'jedynymi': 1, 'światłami': 1, 'pozostały': 1, 'dwa': 2, 'maleńkie': 2, 'punkciki': 1, 'obserwującego': 1, 'wyjrzał': 1, 'okno': 1, 'byłby': 1, 'dostrzec': 1, 'dzieje': 1, 'wsunął': 2, 'wygaszacz': 2, 'pazuchę': 1, 'kierunku': 1, 'gdzie': 1, 'przysiadł': 1, 'przemówił': 1, 'spotkanie': 1, 'profesor': 28, 'mcgonagall': 26, 'odwrócił': 3, 'uśmiechnąć': 1, 'burego': 2, 'gdzieś': 3, 'zniknął': 6, 'uśmiechał': 1, 'nieco': 1, 'srogo': 1, 'wyglądającej': 1, 'kobiety': 1, 'prostokątnych': 1, 'okularach': 1, 'kształt': 1, 'identyczny': 1, 'ciemnymi': 1, 'obwódkami': 1, 'ona': 1, 'tyle': 3, 'szmaragdowy': 1, 'czarne': 2, 'włosy': 2, 'upięła': 1, 'ciasny': 1, 'bułeczkowaty': 1, 'kok': 1, 'wyglądała': 1, 'wzburzoną': 1, 'skąd': 2, 'zapytała': 1, 'ależ': 2, 'droga': 2, 'sztywno': 1, 'zesztywniał': 1, 'siedzieć': 1, 'murze': 2, 'cały': 4, 'świętowała': 1, 'idąc': 1, 'tutaj': 7, 'musiałem': 1, 'wpaść': 1, 'tuzin': 1, 'biesiad': 1, 'przyjęć': 1, 'prychnęła': 1, 'złością': 2, 'świętują': 1, 'ostrożniejsi': 1, 'zauważyli': 1, 'święci': 1, 'mówili': 3, 'wieczornych': 1, 'wiadomościach': 1, 'wskazała': 1, 'podbródkiem': 1, 'ciemne': 1, 'salonu': 1, 'państwa': 1, 'sama': 2, 'słyszałam': 1, 'stada': 1, 'takimi': 1, 'głupcami': 1, 'muszą': 1, 'kencie': 1, 'założyć': 1, 'sprawka': 1, 'dedalusa': 1, 'diggle': 1, 'odznaczał': 1, 'rozsądkiem': 1, 'pretensję': 1, 'łagodnie': 1, 'całe': 1, 'jedenaście': 2, 'niewiele': 1, 'mieliśmy': 1, 'okazji': 1, 'świętowania': 2, 'powiedziała': 6, 'powód': 2, 'tracić': 1, 'najmniejszej': 1, 'ostrożności': 1, 'łażą': 1, 'ulicach': 1, 'raczą': 1, 'przebrać': 1, 'stroje': 1, 'mugoli': 4, 'wymieniają': 1, 'pogłoski': 2, 'dumbledore’a': 2, 'ukosa': 1, 'oczekiwała': 1, 'powie': 2, 'milczał': 2, 'ciągnęła': 1, 'dalej': 2, 'brakuje': 1, 'samym': 3, 'dniu': 1, 'którym': 4, 'kto': 4, 'dowiedzieli': 1, 'mam': 4, 'wskazuje': 1, 'mamy': 1, 'wdzięczni': 1, 'ochotę': 1, 'cytrynowego': 2, 'dropsa': 3, 'cukierki': 2, 'lubię': 1, 'dziękuję': 1, 'chłodno': 1, 'chciała': 2, 'podkreślić': 1, 'odpowiedni': 1, 'moment': 1, 'cytrynowe': 1, 'dropsy': 2, 'mówię': 1, 'jeśli': 1, 'taka': 1, 'rozsądna': 1, 'osoba': 1, 'mogłaby': 1, 'dać': 1, 'spokoju': 1, 'tą': 1, 'dziecinadą': 1, 'walczyłem': 1, 'bzdurnym': 1, 'próbując': 1, 'nakłonić': 1, 'używali': 1, 'właściwego': 1, 'voldemort': 4, 'wzdrygnęła': 1, 'usiłował': 1, 'odkleić': 1, 'rolki': 1, 'staje': 1, 'mętne': 1, 'mówimy': 1, 'bać': 1, 'wypowiedzenia': 1, 'prawdziwego': 1, 'voldemorta': 2, 'irytacja': 1, 'mieszała': 1, 'podziwem': 1, 'wie': 4, 'jedyną': 1, 'osobą': 1, 'boi': 1, 'pochlebia': 1, 'rzekł': 2, 'spokojnie': 1, 'dyspozycji': 1, 'moce': 1, 'jakich': 1, 'będę': 2, 'szlachetny': 1, 'nimi': 2, 'posługiwać': 1, 'szczęście': 1, 'ciemno': 1, 'zarumieniłem': 1, 'pomfrey': 1, 'podobają': 1, 'moje': 1, 'nauszniki': 1, 'rzuciła': 1, 'ostre': 1, 'porównaniu': 1, 'pogłoskami': 1, 'wszędzie': 1, 'krążą': 2, 'mówią': 4, 'przyczynie': 1, 'nagłego': 1, 'zniknięcia': 1, 'powstrzymało': 1, 'poruszyła': 1, 'wreszcie': 1, 'temat': 1, 'podyskutować': 1, 'prawdziwy': 1, 'dla': 1, 'czekała': 1, 'zimnym': 1, 'twardym': 1, 'każdym': 1, 'razie': 1, 'jako': 2, 'kobieta': 1, 'utkwiła': 1, 'albusie': 2, 'świdrującego': 1, 'spojrzenia': 1, 'oczywiste': 1, 'zamierzała': 1, 'uwierzyć': 4, 'póki': 1, 'lecz': 1, 'odkleił': 1, 'jednego': 1, 'naciskała': 1, 'zeszłej': 1, 'dolinie': 1, 'godrika': 1, 'odnaleźć': 1, 'lily': 3, 'james': 3, 'oni': 1, 'żyją': 2, 'pokiwał': 2, 'westchnęła': 1, 'głęboko': 1, 'chciałam': 1, 'wyciągnął': 1, 'rękę': 1, 'poklepał': 1, 'ramieniu': 2, 'pocieszał': 1, 'cicho': 1, 'oznajmiła': 1, 'roztrzęsionym': 1, 'głosem': 3, 'próbował': 1, 'zabić': 2, 'uśmiercić': 1, 'małego': 2, 'chłopczyka': 1, 'momentu': 1, 'potęga': 1, 'załamała': 1, 'dlatego': 1, 'ponuro': 1, 'wyjąkała': 1, 'zrobił': 2, 'tylu': 1, 'pozabijał': 1, 'wprost': 1, 'zdumiewające': 2, 'robiło': 1, 'powstrzymać': 1, 'miłość': 1, 'boską': 1, 'temu': 1, 'harry’emu': 1, 'przeżyć': 1, 'pozostaje': 1, 'nam': 1, 'zgadywać': 1, 'dowiemy': 1, 'wyciągnęła': 1, 'koronkową': 1, 'chusteczkę': 1, 'zaczęła': 1, 'osuszać': 1, 'okularami': 1, 'wyjął': 3, 'złoty': 1, 'zegarek': 2, 'przyjrzał': 1, 'mocno': 1, 'pociągnął': 1, 'dziwny': 1, 'wskazówek': 1, 'cyfr': 1, 'obwodzie': 1, 'tarczy': 1, 'krążyły': 1, 'planety': 1, 'musiał': 1, 'odczytać': 1, 'włożył': 1, 'hagrid': 9, 'spóźnia': 1, 'nawiasem': 1, 'przyznała': 1, 'możesz': 3, 'znalazłeś': 1, 'proste': 1, 'zainstalować': 1, 'u': 1, 'ciotki': 1, 'wuja': 1, 'jedyna': 1, 'rodzina': 1, 'jaka': 1, 'pozostała': 1, 'którzy': 2, 'mieszkają': 1, 'zawołała': 1, 'zrywając': 1, 'równe': 1, 'wskazując': 1, 'czwarty': 1, 'niemożliwe': 1, 'obserwowałam': 1, 'dwoje': 1, 'różnili': 1, 'widziałam': 1, 'kopał': 1, 'matkę': 1, 'wrzeszcząc': 1, 'kupiła': 1, 'miałby': 1, 'zamieszkać': 1, 'najlepiej': 1, 'oświadczył': 1, 'stanowczo': 1, 'ciotka': 1, 'wuj': 1, 'będą': 2, 'wytłumaczyć': 1, 'podrośnie': 2, 'napisałem': 1, 'list': 3, 'powtórzyła': 1, 'siadając': 1, 'sądzisz': 1, 'zdołasz': 1, 'liście': 2, 'zrozumieją': 1, 'sławny': 2, 'legendą': 1, 'bym': 2, 'zdziwiła': 1, 'odtąd': 1, 'nazywano': 1, 'dniem': 1, 'pottera': 2, 'pisać': 1, 'książki': 1, 'dziecko': 1, 'znało': 1, 'święta': 1, 'racja': 1, 'spoglądając': 1, 'powagą': 1, 'ponad': 1, 'połówkami': 1, 'swoich': 1, 'szkieł': 1, 'dość': 1, 'zawróciło': 1, 'każdemu': 1, 'chłopcu': 1, 'słynny': 2, 'zanim': 2, 'nauczy': 1, 'chodzić': 1, 'mówić': 1, 'pamięta': 1, 'rozumiesz': 1, 'lepiej': 1, 'najpierw': 1, 'dowie': 1, 'otworzyła': 1, 'usta': 1, 'zmieniła': 1, 'zamiar': 1, 'przełknęła': 1, 'ślinę': 1, 'masz': 1, 'rację': 1, 'trafi': 1, 'zerknęła': 1, 'pomyślała': 1, 'ukrywać': 1, 'przyniesie': 1, 'myślisz': 1, 'mądre': 1, 'powierzać': 1, 'hagridowi': 1, 'ważną': 1, 'misję': 1, 'powierzyłbym': 1, 'życie': 1, 'odparł': 1, 'twierdzę': 1, 'złej': 1, 'stronie': 1, 'niechęcią': 1, 'przymykać': 1, 'beztroski': 1, 'skłonności': 1, 'ciszę': 1, 'przerwał': 1, 'warkot': 2, 'spojrzeli': 2, 'wypatrując': 1, 'odblasku': 1, 'reflektorów': 1, 'narastał': 2, 'zamienił': 1, 'ryk': 1, 'oboje': 1, 'niebo': 1, 'stamtąd': 1, 'nadleciał': 1, 'wielki': 1, 'motocykl': 4, 'wylądował': 1, 'imponujące': 1, 'rozmiary': 1, 'człowieku': 1, 'dosiadał': 1, 'mogło': 1, 'robić': 1, 'żadnego': 1, 'wzrostem': 1, 'przewyższał': 1, 'normalnego': 1, 'szerszy': 1, 'pięciokrotnie': 1, 'wymiary': 1, 'niesamowicie': 1, 'dziki': 1, 'zmierzwione': 1, 'broda': 1, 'przykrywały': 1, 'twarz': 2, 'dłonie': 1, 'wielkości': 1, 'pokryw': 1, 'pojemników': 1, 'śmieci': 1, 'stopy': 1, 'skórzanych': 1, 'butach': 1, 'przypominały': 1, 'małe': 2, 'delfiny': 1, 'przepastnych': 1, 'muskularnych': 1, 'ramionach': 1, 'trzymał': 1, 'zawiniątko': 2, 'powitał': 1, 'ulgą': 1, 'nareszcie': 1, 'wytrzasnąłeś': 1, 'pożyczyłem': 1, 'panie': 5, 'psorze': 5, 'olbrzym': 1, 'złażąc': 1, 'ostrożnie': 2, 'motocykla': 1, 'młodego': 1, 'syriusza': 1, 'blacka': 1, 'żadnych': 1, 'trudności': 1, 'dom': 1, 'rozwalony': 1, 'wyciągiem': 1, 'zaroiło': 1, 'zasnął': 1, 'bidula': 1, 'przelatywaliśmy': 1, 'bristolem': 1, 'pochylili': 1, 'zawiniątkiem': 1, 'wyłaniała': 1, 'buzia': 1, 'uśpionego': 1, 'niemowlęcia': 1, 'czole': 1, 'kępką': 1, 'kruczoczarnych': 1, 'włosów': 1, 'zobaczyli': 1, 'dziwną': 1, 'bliznę': 1, 'przypominającą': 1, 'błyskawicę': 1, 'wyszeptała': 2, 'odrzekł': 1, 'zostanie': 2, 'zrobić': 1, 'gdybym': 1, 'blizny': 1, 'mogą': 1, 'przydać': 1, 'jedną': 1, 'lewym': 1, 'kolanem': 1, 'doskonałym': 1, 'planem': 1, 'londyńskiego': 1, 'metra': 1, 'daj': 1, 'miejmy': 1, 'wziął': 1, 'ramiona': 2, 'zwrócił': 1, 'mógłbym': 1, 'pożegnać': 1, 'zapytał': 1, 'pochylił': 1, 'wielką': 2, 'kudłatą': 1, 'harrym': 1, 'obdarzył': 1, 'drapiącym': 1, 'włochatym': 1, 'pocałunkiem': 1, 'zawył': 1, 'zraniony': 1, 'pies': 1, 'ciiicho': 1, 'syknęła': 1, 'obudzisz': 1, 'prz': 1, 'e': 2, 'p': 1, 'ra': 1, 'szam': 1, 'załkał': 1, 'wydobywając': 1, 'chustkę': 1, 'kropki': 1, 'chowając': 1, 'n': 2, 'ie': 1, 'wytrzymać': 1, 'bidny': 1, 'mały': 1, 'ha': 1, 'rry': 1, 'mieszkać': 1, 'mugolami': 1, 'przygnębiające': 1, 'weź': 1, 'garść': 1, 'złapią': 1, 'klepiąc': 1, 'energicznie': 1, 'tymczasem': 1, 'przełazi': 1, 'niski': 1, 'murek': 1, 'podszedł': 1, 'frontowych': 1, 'położył': 1, 'schodkach': 2, 'koce': 1, 'wrócił': 1, 'troje': 1, 'stali': 1, 'równą': 1, 'minutę': 1, 'patrząc': 1, 'hagrida': 1, 'dygotały': 1, 'mrugała': 1, 'zawzięcie': 1, 'ogniki': 1, 'jarzyły': 1, 'oczach': 1, 'przygasły': 1, 'sterczeć': 1, 'iść': 1, 'przyłączyć': 1, 'taaa': 1, 'odezwał': 1, 'stłumionym': 1, 'chiba': 1, 'wezmę': 1, 'oddam': 1, 'motor': 1, 'syriuszowi': 1, 'dobranoc': 2, 'psor': 1, 'otarłszy': 1, 'rękawem': 1, 'kurtki': 1, 'wskoczył': 1, 'kopnął': 1, 'pedał': 1, 'zapłonu': 1, 'silnik': 1, 'zaryczał': 1, 'wehikuł': 1, 'wzniósł': 1, 'powietrze': 1, 'ciemnościach': 1, 'zobaczymy': 1, 'chyląc': 1, 'wydmuchała': 1, 'hałaśliwie': 1, 'pomaszerował': 1, 'ulicą': 1, 'przystanął': 1, 'razem': 1, 'natychmiast': 1, 'świetlistych': 1, 'rac': 1, 'pomknęło': 1, 'ku': 1, 'latarniom': 1, 'zrobiło': 1, 'pomarańczowo': 1, 'momencie': 2, 'znikającego': 1, 'rogiem': 1, 'drugim': 1, 'tobołek': 1, 'powodzenia': 1, 'pięcie': 1, 'szumiąc': 1, 'połami': 1, 'lekki': 1, 'wiaterek': 1, 'zatrzepotał': 1, 'listkami': 1, 'równo': 1, 'przyciętego': 1, 'żywopłotu': 1, 'uśpiona': 1, 'schludna': 1, 'uliczka': 1, 'kojarzyła': 1, 'miejscem': 1, 'mogłyby': 1, 'dziać': 1, 'wewnątrz': 1, 'tobołka': 1, 'mała': 1, 'rączka': 1, 'zacisnęła': 1, 'spał': 1, 'wiedząc': 3, 'kimś': 1, 'niezwykłym': 1, 'godzin': 1, 'obudzony': 1, 'wrzaskiem': 1, 'otwierającej': 1, 'zabrać': 1, 'butelki': 1, 'mlekiem': 1, 'następne': 1, 'tygodni': 1, 'szturchany': 1, 'szczypany': 1, 'swojego': 1, 'kuzyna': 1, 'wiedzieć': 1, 'różni': 1, 'spotykający': 1, 'potajemnie': 1, 'różnych': 1, 'wznosili': 1, 'szklanki': 1, 'przytłumionym': 1}\n"
     ]
    }
   ],
   "source": [
    "f = open('HP_rozdzial1.txt', 'r') #otwarcie pliku w trybie odczytu (dostępny na GitHubie)\n",
    "text = f.read() #przypisanie do zmiennej text całego tekstu z pliku\n",
    "f.close() #zamknięcie pliku\n",
    "text = clear(text) #czyszczenie tekstu\n",
    "slownik = words(text) #tworzenie słownika ze zliczeniami wystąpień\n",
    "print(slownik)"
   ]
  },
  {
   "cell_type": "markdown",
   "id": "09c46c94",
   "metadata": {},
   "source": [
    "Możemy teraz zadać pytanie jakie 5 słów wystapiło najczęściej?"
   ]
  },
  {
   "cell_type": "markdown",
   "id": "d97df1ab",
   "metadata": {},
   "source": [
    "Do znalezienia odpowiedzi możemy skorzystać z dopiero co stworzonej funkcji sortującej i dzięki posortowaniu wartości w słowniku możemy wyświetlić odpowiednie klucze"
   ]
  },
  {
   "cell_type": "code",
   "execution_count": 20,
   "id": "a7b82572",
   "metadata": {
    "scrolled": true
   },
   "outputs": [
    {
     "name": "stdout",
     "output_type": "stream",
     "text": [
      "w: 108\n",
      "nie: 113\n",
      "i: 91\n",
      "na: 109\n",
      "się: 118\n"
     ]
    }
   ],
   "source": [
    "L = list(slownik.values()) #stworzenie listy wartości ze złownika za pomocą metody values()\n",
    "top5 = bubbleSort(L)[-5 :] #bierzemy pięć ostatnich wartości, ponieważ to one są największe\n",
    "for e in slownik.keys(): #przechodzimy przez wszystkie klucze w słowniku\n",
    "    if slownik[e] in top5: #jeśli wartość klucza odpowiada jednej z pięciu największych wartości to\n",
    "        print(e, ': ', slownik[e], sep = '') #wyświetlamy klucz i wartość"
   ]
  },
  {
   "cell_type": "markdown",
   "id": "3d4a98dd",
   "metadata": {},
   "source": [
    "Dlaczego elementy nie są posortowane i jak to zmienić? Czy może się zdarzyć, że wyświetli się więcej bądź mniej elementów?"
   ]
  }
 ],
 "metadata": {
  "kernelspec": {
   "display_name": "Python 3",
   "language": "python",
   "name": "python3"
  },
  "language_info": {
   "codemirror_mode": {
    "name": "ipython",
    "version": 3
   },
   "file_extension": ".py",
   "mimetype": "text/x-python",
   "name": "python",
   "nbconvert_exporter": "python",
   "pygments_lexer": "ipython3",
   "version": "3.6.9"
  }
 },
 "nbformat": 4,
 "nbformat_minor": 5
}
