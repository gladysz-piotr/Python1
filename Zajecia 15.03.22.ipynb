{
 "cells": [
  {
   "cell_type": "markdown",
   "id": "fc1f5eaa",
   "metadata": {},
   "source": [
    "### Listy"
   ]
  },
  {
   "cell_type": "markdown",
   "id": "ac101e96",
   "metadata": {},
   "source": [
    "Listy to uporządkowane pod względem pozycji zbiory obiektów dowolnego typu; nie mają\n",
    "one ustalonej wielkości. Listę tworzymy poprzez wykorzystanie kwadratowych nawiasów `[]`."
   ]
  },
  {
   "cell_type": "code",
   "execution_count": 20,
   "id": "fe9153ea",
   "metadata": {
    "scrolled": true
   },
   "outputs": [
    {
     "data": {
      "text/plain": [
       "[1, 3.4, 'Ala', (1+1j), []]"
      ]
     },
     "execution_count": 20,
     "metadata": {},
     "output_type": "execute_result"
    }
   ],
   "source": [
    "L=[1, 3.4, 'Ala', 1j+1, []]\n",
    "L"
   ]
  },
  {
   "cell_type": "markdown",
   "id": "aedac647",
   "metadata": {},
   "source": [
    "Listy podobnie jak **łańcuchy znaków** są indeksowane, co oznacza, że danemu elementowi listy odpowiada numer (przypominam, że numerowanie odbywa się od zera!)."
   ]
  },
  {
   "cell_type": "code",
   "execution_count": 12,
   "id": "56f3d85e",
   "metadata": {},
   "outputs": [
    {
     "data": {
      "text/plain": [
       "1"
      ]
     },
     "execution_count": 12,
     "metadata": {},
     "output_type": "execute_result"
    }
   ],
   "source": [
    "L[0]"
   ]
  },
  {
   "cell_type": "code",
   "execution_count": 21,
   "id": "c5bdcd4d",
   "metadata": {},
   "outputs": [
    {
     "data": {
      "text/plain": [
       "3.4"
      ]
     },
     "execution_count": 21,
     "metadata": {},
     "output_type": "execute_result"
    }
   ],
   "source": [
    "L[1]"
   ]
  },
  {
   "cell_type": "code",
   "execution_count": 22,
   "id": "7df6e593",
   "metadata": {
    "scrolled": true
   },
   "outputs": [
    {
     "data": {
      "text/plain": [
       "'Ala'"
      ]
     },
     "execution_count": 22,
     "metadata": {},
     "output_type": "execute_result"
    }
   ],
   "source": [
    "L[2]"
   ]
  },
  {
   "cell_type": "code",
   "execution_count": 23,
   "id": "fe10e79d",
   "metadata": {
    "scrolled": true
   },
   "outputs": [
    {
     "data": {
      "text/plain": [
       "(1+1j)"
      ]
     },
     "execution_count": 23,
     "metadata": {},
     "output_type": "execute_result"
    }
   ],
   "source": [
    "L[3]"
   ]
  },
  {
   "cell_type": "code",
   "execution_count": 24,
   "id": "059b89ae",
   "metadata": {},
   "outputs": [
    {
     "data": {
      "text/plain": [
       "[]"
      ]
     },
     "execution_count": 24,
     "metadata": {},
     "output_type": "execute_result"
    }
   ],
   "source": [
    "L[4]"
   ]
  },
  {
   "cell_type": "markdown",
   "id": "e75793d8",
   "metadata": {},
   "source": [
    "Zwróćmy uwagę, że lista przechowuje dowlone typy zmiennych, na przykład pierwszy element jest liczbą typu `int`"
   ]
  },
  {
   "cell_type": "code",
   "execution_count": 15,
   "id": "562d4d2b",
   "metadata": {},
   "outputs": [
    {
     "data": {
      "text/plain": [
       "int"
      ]
     },
     "execution_count": 15,
     "metadata": {},
     "output_type": "execute_result"
    }
   ],
   "source": [
    "type(L[0])"
   ]
  },
  {
   "cell_type": "markdown",
   "id": "d0932334",
   "metadata": {},
   "source": [
    "Drugi jest typu `float`"
   ]
  },
  {
   "cell_type": "code",
   "execution_count": 25,
   "id": "93fd3d0e",
   "metadata": {},
   "outputs": [
    {
     "data": {
      "text/plain": [
       "float"
      ]
     },
     "execution_count": 25,
     "metadata": {},
     "output_type": "execute_result"
    }
   ],
   "source": [
    "type(L[1])"
   ]
  },
  {
   "cell_type": "markdown",
   "id": "f9558d6f",
   "metadata": {},
   "source": [
    "Trzeci jest łańcuchem znaków `str`"
   ]
  },
  {
   "cell_type": "code",
   "execution_count": 26,
   "id": "30384d04",
   "metadata": {
    "scrolled": true
   },
   "outputs": [
    {
     "data": {
      "text/plain": [
       "str"
      ]
     },
     "execution_count": 26,
     "metadata": {},
     "output_type": "execute_result"
    }
   ],
   "source": [
    "type(L[2])"
   ]
  },
  {
   "cell_type": "markdown",
   "id": "e2ca9354",
   "metadata": {},
   "source": [
    "Czwarty jest liczbą zespoloną `complex`"
   ]
  },
  {
   "cell_type": "code",
   "execution_count": 19,
   "id": "b0f53eb1",
   "metadata": {},
   "outputs": [
    {
     "data": {
      "text/plain": [
       "complex"
      ]
     },
     "execution_count": 19,
     "metadata": {},
     "output_type": "execute_result"
    }
   ],
   "source": [
    "type(L[-1])"
   ]
  },
  {
   "cell_type": "markdown",
   "id": "67918c1f",
   "metadata": {},
   "source": [
    "A ostatni jest zwyczajnie pustą listą `list`"
   ]
  },
  {
   "cell_type": "code",
   "execution_count": 29,
   "id": "0b37c3c6",
   "metadata": {},
   "outputs": [
    {
     "data": {
      "text/plain": [
       "list"
      ]
     },
     "execution_count": 29,
     "metadata": {},
     "output_type": "execute_result"
    }
   ],
   "source": [
    "type(L[-1])"
   ]
  },
  {
   "cell_type": "markdown",
   "id": "12ce2361",
   "metadata": {},
   "source": [
    "Podobnie jak przy łańcuchach znaków możemy wybierać przedziały i składać listy ze sobą (konkatenacja)"
   ]
  },
  {
   "cell_type": "code",
   "execution_count": 30,
   "id": "eea8fa0e",
   "metadata": {},
   "outputs": [],
   "source": [
    "L1=[1,2,3]\n",
    "L2=['ala', 'ma', 'kota']"
   ]
  },
  {
   "cell_type": "code",
   "execution_count": 32,
   "id": "d13dc2b0",
   "metadata": {},
   "outputs": [
    {
     "data": {
      "text/plain": [
       "[1, 2]"
      ]
     },
     "execution_count": 32,
     "metadata": {},
     "output_type": "execute_result"
    }
   ],
   "source": [
    "L1[0:2]"
   ]
  },
  {
   "cell_type": "code",
   "execution_count": 34,
   "id": "7a29c28c",
   "metadata": {},
   "outputs": [
    {
     "data": {
      "text/plain": [
       "[1, 2, 3, 'ala', 'ma', 'kota', 'ala', 'ma', 'kota']"
      ]
     },
     "execution_count": 34,
     "metadata": {},
     "output_type": "execute_result"
    }
   ],
   "source": [
    "L1+2*L2"
   ]
  },
  {
   "cell_type": "markdown",
   "id": "5fb5b107",
   "metadata": {},
   "source": [
    "Lista w odróżnieniu od łańcuch znaków jest jednak **zmienna**, co oznacza, że możemy zmieniać jej elementy poprzez wybranie odpowiedniego indeksu"
   ]
  },
  {
   "cell_type": "code",
   "execution_count": 51,
   "id": "6d212b3f",
   "metadata": {},
   "outputs": [
    {
     "data": {
      "text/plain": [
       "'b'"
      ]
     },
     "execution_count": 51,
     "metadata": {},
     "output_type": "execute_result"
    }
   ],
   "source": [
    "L=[1, 'a', 2, 'b', 3, 'c']\n",
    "L[3]"
   ]
  },
  {
   "cell_type": "markdown",
   "id": "d67fda0e",
   "metadata": {},
   "source": [
    "Chcemy, żeby zamiast litery `'b'` na czwartym miejsu znalazła się litera `'z'`, wystarczy przypisać nową wartość w odpowiednim miejscu (indeks 3)"
   ]
  },
  {
   "cell_type": "code",
   "execution_count": 52,
   "id": "95263ed0",
   "metadata": {},
   "outputs": [
    {
     "data": {
      "text/plain": [
       "[1, 'a', 2, 'z', 3, 'c']"
      ]
     },
     "execution_count": 52,
     "metadata": {},
     "output_type": "execute_result"
    }
   ],
   "source": [
    "L[3]='z'\n",
    "L"
   ]
  },
  {
   "cell_type": "markdown",
   "id": "046f5399",
   "metadata": {},
   "source": [
    "Listy możemy rozszerzać poprzez skorzystanie z metody `append()`, która dodaje argument na końcu"
   ]
  },
  {
   "cell_type": "code",
   "execution_count": 53,
   "id": "e8ae12d4",
   "metadata": {},
   "outputs": [
    {
     "data": {
      "text/plain": [
       "[1, 'a', 2, 'z', 3, 'c']"
      ]
     },
     "execution_count": 53,
     "metadata": {},
     "output_type": "execute_result"
    }
   ],
   "source": [
    "L"
   ]
  },
  {
   "cell_type": "code",
   "execution_count": 54,
   "id": "a7bba5dd",
   "metadata": {},
   "outputs": [
    {
     "data": {
      "text/plain": [
       "[1, 'a', 2, 'z', 3, 'c', 4]"
      ]
     },
     "execution_count": 54,
     "metadata": {},
     "output_type": "execute_result"
    }
   ],
   "source": [
    "L.append(4)\n",
    "L"
   ]
  },
  {
   "cell_type": "markdown",
   "id": "b244bdeb",
   "metadata": {},
   "source": [
    "Naturalnie, możemy także usuwać elementy poprzez metodę `pop()`, w której należy podać indeks elementu do usunięcia. Jeśli chcemy usunąć element `'z'` znajdujący się na czwartym miejscu (indeks 3) zapisujemy:"
   ]
  },
  {
   "cell_type": "code",
   "execution_count": 56,
   "id": "81c3a72a",
   "metadata": {},
   "outputs": [
    {
     "data": {
      "text/plain": [
       "'z'"
      ]
     },
     "execution_count": 56,
     "metadata": {},
     "output_type": "execute_result"
    }
   ],
   "source": [
    "L.pop(3)"
   ]
  },
  {
   "cell_type": "code",
   "execution_count": 57,
   "id": "a38dd21c",
   "metadata": {},
   "outputs": [
    {
     "data": {
      "text/plain": [
       "[1, 'a', 2, 3, 'c', 4]"
      ]
     },
     "execution_count": 57,
     "metadata": {},
     "output_type": "execute_result"
    }
   ],
   "source": [
    "L"
   ]
  },
  {
   "cell_type": "markdown",
   "id": "ce6dca2f",
   "metadata": {},
   "source": [
    "Jak widać, metoda `pop()` przy usuwaniu także wyświetla usuwany element."
   ]
  },
  {
   "cell_type": "markdown",
   "id": "3e467d32",
   "metadata": {},
   "source": [
    "**Uwaga!** Wszelkie zmiany dokonywane na listach zastępują starą listę nową, więc nie ma możliwości odzyskania danych."
   ]
  },
  {
   "cell_type": "markdown",
   "id": "b950292a",
   "metadata": {},
   "source": [
    "Istnieją oczywiście inne metody z których można korzystać, warte wspomnienia są jeszcze dwie `insert()` oraz `remove()`. Pierwsza wprowadza nowy element na miejsce o odpowiednim indeksie"
   ]
  },
  {
   "cell_type": "code",
   "execution_count": 63,
   "id": "0d873d40",
   "metadata": {},
   "outputs": [
    {
     "data": {
      "text/plain": [
       "[1, 'a', 2, 3, 'c', 4]"
      ]
     },
     "execution_count": 63,
     "metadata": {},
     "output_type": "execute_result"
    }
   ],
   "source": [
    "L=[1, 'a', 2, 3, 'c', 4]\n",
    "L"
   ]
  },
  {
   "cell_type": "code",
   "execution_count": 68,
   "id": "25b9e69c",
   "metadata": {},
   "outputs": [
    {
     "data": {
      "text/plain": [
       "[1, 'a', 2, 'nowy element', 3, 'c', 4]"
      ]
     },
     "execution_count": 68,
     "metadata": {},
     "output_type": "execute_result"
    }
   ],
   "source": [
    "L.insert(3, 'nowy element')\n",
    "L"
   ]
  },
  {
   "cell_type": "markdown",
   "id": "977d4ad9",
   "metadata": {},
   "source": [
    "Druga z kolei usuwa element o podanej wartości"
   ]
  },
  {
   "cell_type": "code",
   "execution_count": 69,
   "id": "a2fdfbea",
   "metadata": {},
   "outputs": [
    {
     "data": {
      "text/plain": [
       "[1, 'a', 2, 'nowy element', 3, 'c', 4]"
      ]
     },
     "execution_count": 69,
     "metadata": {},
     "output_type": "execute_result"
    }
   ],
   "source": [
    "L"
   ]
  },
  {
   "cell_type": "code",
   "execution_count": 70,
   "id": "edcb8409",
   "metadata": {},
   "outputs": [
    {
     "data": {
      "text/plain": [
       "[1, 'a', 2, 3, 'c', 4]"
      ]
     },
     "execution_count": 70,
     "metadata": {},
     "output_type": "execute_result"
    }
   ],
   "source": [
    "L.remove('nowy element')\n",
    "L"
   ]
  },
  {
   "cell_type": "markdown",
   "id": "5ad20c74",
   "metadata": {},
   "source": [
    "Bardzo przydatnym w kontekście obliczen jest również zagnieżdzanie list, dzieki czemu jesteśmy w stanie stworzyć macierze"
   ]
  },
  {
   "cell_type": "code",
   "execution_count": 71,
   "id": "5c8cefae",
   "metadata": {},
   "outputs": [
    {
     "data": {
      "text/plain": [
       "[[1, 2, 3], [4, 5, 6], [7, 8, 9]]"
      ]
     },
     "execution_count": 71,
     "metadata": {},
     "output_type": "execute_result"
    }
   ],
   "source": [
    "M=[[1,2,3],[4,5,6],[7,8,9]]\n",
    "M"
   ]
  },
  {
   "cell_type": "markdown",
   "id": "0c5c9d19",
   "metadata": {},
   "source": [
    "Stworzyliśmy macierz 3x3, teraz żeby pobrać konkretny element wystarczy że skorzystamy z dwóch kwadratowych nawiasów, w których podamy odpowiednio indeks wiersza i indeks kolumny"
   ]
  },
  {
   "cell_type": "code",
   "execution_count": 73,
   "id": "14bfc86b",
   "metadata": {},
   "outputs": [
    {
     "data": {
      "text/plain": [
       "5"
      ]
     },
     "execution_count": 73,
     "metadata": {},
     "output_type": "execute_result"
    }
   ],
   "source": [
    "M[1][1]"
   ]
  },
  {
   "cell_type": "code",
   "execution_count": 76,
   "id": "1c0de6e8",
   "metadata": {},
   "outputs": [
    {
     "data": {
      "text/plain": [
       "3"
      ]
     },
     "execution_count": 76,
     "metadata": {},
     "output_type": "execute_result"
    }
   ],
   "source": [
    "M[0][2]"
   ]
  },
  {
   "cell_type": "markdown",
   "id": "6cab3167",
   "metadata": {},
   "source": [
    "### Słowniki"
   ]
  },
  {
   "cell_type": "markdown",
   "id": "ff7ff11c",
   "metadata": {},
   "source": [
    "Słowniki nie są zupełnie sekwencjami, są za to znane jako **odwzorowania**. Odwzorowania są również zbiorami innych obiektów, jednak obiekty te przechowują po kluczu, a nie ich pozycji względnej. Odwzorowania **nie zachowują żadnej niezawodnej kolejności od lewej do prawej strony**, po prostu łączą klucze z powiązanymi z nimi wartościami. Słownik tworzymy poprzez wykorzystanie nawiasów klamrowych `{}`."
   ]
  },
  {
   "cell_type": "code",
   "execution_count": 95,
   "id": "44d3e3ab",
   "metadata": {},
   "outputs": [
    {
     "data": {
      "text/plain": [
       "{'imię': 'Ala', 'wiek': 10, 'wzrost': 1.45, 'zwierzęta': ['pies', 'kot']}"
      ]
     },
     "execution_count": 95,
     "metadata": {},
     "output_type": "execute_result"
    }
   ],
   "source": [
    "S={'imię':'Ala', 'wiek':10, 'wzrost':1.45, 'zwierzęta':['pies', 'kot']}\n",
    "S"
   ]
  },
  {
   "cell_type": "markdown",
   "id": "f9585708",
   "metadata": {},
   "source": [
    "Słowniki przeszukujemy po kluczu, co oznacza, że jeśli chcemy uzyskać wartość np. wieku należy podać klucz zamiast indeksu"
   ]
  },
  {
   "cell_type": "code",
   "execution_count": 79,
   "id": "dd77233f",
   "metadata": {},
   "outputs": [
    {
     "data": {
      "text/plain": [
       "10"
      ]
     },
     "execution_count": 79,
     "metadata": {},
     "output_type": "execute_result"
    }
   ],
   "source": [
    "S['wiek']"
   ]
  },
  {
   "cell_type": "code",
   "execution_count": 80,
   "id": "9450cf05",
   "metadata": {},
   "outputs": [
    {
     "data": {
      "text/plain": [
       "'Ala'"
      ]
     },
     "execution_count": 80,
     "metadata": {},
     "output_type": "execute_result"
    }
   ],
   "source": [
    "S['imię']"
   ]
  },
  {
   "cell_type": "markdown",
   "id": "d1c4ef86",
   "metadata": {},
   "source": [
    "Zwróćmy uwagę, że zarówno klucze jak i wartości do nich przypisane mogą mieć różne typy"
   ]
  },
  {
   "cell_type": "code",
   "execution_count": 81,
   "id": "03d7c170",
   "metadata": {},
   "outputs": [
    {
     "data": {
      "text/plain": [
       "str"
      ]
     },
     "execution_count": 81,
     "metadata": {},
     "output_type": "execute_result"
    }
   ],
   "source": [
    "type(S['imię'])"
   ]
  },
  {
   "cell_type": "code",
   "execution_count": 85,
   "id": "87e0b0b2",
   "metadata": {},
   "outputs": [
    {
     "data": {
      "text/plain": [
       "list"
      ]
     },
     "execution_count": 85,
     "metadata": {},
     "output_type": "execute_result"
    }
   ],
   "source": [
    "type(S['zwierzęta'])"
   ]
  },
  {
   "cell_type": "markdown",
   "id": "a4d03c64",
   "metadata": {},
   "source": [
    "Słowniki, podobnie jak listy, są **zmienne**, co oznacza, że można dodawać nowe elementy"
   ]
  },
  {
   "cell_type": "code",
   "execution_count": 96,
   "id": "34cb2b60",
   "metadata": {},
   "outputs": [
    {
     "data": {
      "text/plain": [
       "{'imię': 'Ala', 'wiek': 10, 'wzrost': 1.45, 'zwierzęta': ['pies', 'kot']}"
      ]
     },
     "execution_count": 96,
     "metadata": {},
     "output_type": "execute_result"
    }
   ],
   "source": [
    "S"
   ]
  },
  {
   "cell_type": "code",
   "execution_count": 97,
   "id": "ab124703",
   "metadata": {},
   "outputs": [
    {
     "data": {
      "text/plain": [
       "{'imię': 'Ala',\n",
       " 'wiek': 10,\n",
       " 'wzrost': 1.45,\n",
       " 'zwierzęta': ['pies', 'kot'],\n",
       " 'płeć': 'kobieta'}"
      ]
     },
     "execution_count": 97,
     "metadata": {},
     "output_type": "execute_result"
    }
   ],
   "source": [
    "S['płeć']='kobieta'\n",
    "S"
   ]
  },
  {
   "cell_type": "markdown",
   "id": "138bf645",
   "metadata": {},
   "source": [
    "oraz modyfikować stare"
   ]
  },
  {
   "cell_type": "code",
   "execution_count": 98,
   "id": "8948eba6",
   "metadata": {},
   "outputs": [
    {
     "data": {
      "text/plain": [
       "{'imię': 'Ala',\n",
       " 'wiek': 10,\n",
       " 'wzrost': 1.55,\n",
       " 'zwierzęta': ['pies', 'kot'],\n",
       " 'płeć': 'kobieta'}"
      ]
     },
     "execution_count": 98,
     "metadata": {},
     "output_type": "execute_result"
    }
   ],
   "source": [
    "S['wzrost']=1.55\n",
    "S"
   ]
  },
  {
   "cell_type": "code",
   "execution_count": 99,
   "id": "b3a50df3",
   "metadata": {},
   "outputs": [
    {
     "data": {
      "text/plain": [
       "{'imię': 'Ala',\n",
       " 'wiek': 10,\n",
       " 'wzrost': 1.55,\n",
       " 'zwierzęta': ['pies', 'kot', 'koń'],\n",
       " 'płeć': 'kobieta'}"
      ]
     },
     "execution_count": 99,
     "metadata": {},
     "output_type": "execute_result"
    }
   ],
   "source": [
    "S['zwierzęta'].append('koń')\n",
    "S"
   ]
  },
  {
   "cell_type": "markdown",
   "id": "686f0e7e",
   "metadata": {},
   "source": [
    "Ze słownika możemy pobrać także listę kluczy oraz wartości za pomocą metod `keys()` oraz `values()`, nie będą one jednak w żaden sposób posortowane"
   ]
  },
  {
   "cell_type": "code",
   "execution_count": 103,
   "id": "7c208206",
   "metadata": {},
   "outputs": [
    {
     "data": {
      "text/plain": [
       "dict_keys(['imię', 'wiek', 'wzrost', 'zwierzęta', 'płeć'])"
      ]
     },
     "execution_count": 103,
     "metadata": {},
     "output_type": "execute_result"
    }
   ],
   "source": [
    "S.keys()"
   ]
  },
  {
   "cell_type": "code",
   "execution_count": 101,
   "id": "a613c0b5",
   "metadata": {},
   "outputs": [
    {
     "data": {
      "text/plain": [
       "dict_values(['Ala', 10, 1.55, ['pies', 'kot', 'koń'], 'kobieta'])"
      ]
     },
     "execution_count": 101,
     "metadata": {},
     "output_type": "execute_result"
    }
   ],
   "source": [
    "S.values()"
   ]
  },
  {
   "cell_type": "markdown",
   "id": "576bde8b",
   "metadata": {},
   "source": [
    "Jest to jednak mało operacyjna forma, w celu przekształcenia wyników w listę należy skorzystać z funkcji `list()`"
   ]
  },
  {
   "cell_type": "code",
   "execution_count": 107,
   "id": "02d948b2",
   "metadata": {},
   "outputs": [
    {
     "data": {
      "text/plain": [
       "['imię', 'wiek', 'wzrost', 'zwierzęta', 'płeć']"
      ]
     },
     "execution_count": 107,
     "metadata": {},
     "output_type": "execute_result"
    }
   ],
   "source": [
    "list(S.keys())"
   ]
  },
  {
   "cell_type": "code",
   "execution_count": 108,
   "id": "ad9a76be",
   "metadata": {},
   "outputs": [
    {
     "data": {
      "text/plain": [
       "['Ala', 10, 1.55, ['pies', 'kot', 'koń'], 'kobieta']"
      ]
     },
     "execution_count": 108,
     "metadata": {},
     "output_type": "execute_result"
    }
   ],
   "source": [
    "list(S.values())"
   ]
  },
  {
   "cell_type": "markdown",
   "id": "31c1670c",
   "metadata": {},
   "source": [
    "### Krotki"
   ]
  },
  {
   "cell_type": "markdown",
   "id": "53421d7a",
   "metadata": {},
   "source": [
    "W przybliżeniu krotka jest listą, której nie można modyfikować, jest więc typem **niezmiennym**. Deklarujemy je za pomocą okrągłych nawiasów `()`"
   ]
  },
  {
   "cell_type": "code",
   "execution_count": 110,
   "id": "e90e63cd",
   "metadata": {},
   "outputs": [
    {
     "data": {
      "text/plain": [
       "(1, 2.3, 'Ala', [10, 20], {1: 'a', 'b': 10}, ())"
      ]
     },
     "execution_count": 110,
     "metadata": {},
     "output_type": "execute_result"
    }
   ],
   "source": [
    "K=(1, 2.3, 'Ala', [10,20], {1:'a', 'b':10}, ())\n",
    "K"
   ]
  },
  {
   "cell_type": "markdown",
   "id": "ba941b02",
   "metadata": {},
   "source": [
    "Jak lista może przechowywać różne typy zmiennych"
   ]
  },
  {
   "cell_type": "code",
   "execution_count": 111,
   "id": "52a6eb14",
   "metadata": {},
   "outputs": [
    {
     "data": {
      "text/plain": [
       "1"
      ]
     },
     "execution_count": 111,
     "metadata": {},
     "output_type": "execute_result"
    }
   ],
   "source": [
    "K[0]"
   ]
  },
  {
   "cell_type": "code",
   "execution_count": 112,
   "id": "18dbc617",
   "metadata": {},
   "outputs": [
    {
     "data": {
      "text/plain": [
       "[10, 20]"
      ]
     },
     "execution_count": 112,
     "metadata": {},
     "output_type": "execute_result"
    }
   ],
   "source": [
    "K[3]"
   ]
  },
  {
   "cell_type": "markdown",
   "id": "9fb2a7d3",
   "metadata": {},
   "source": [
    "Nie może być jednak modyfikowana"
   ]
  },
  {
   "cell_type": "code",
   "execution_count": 113,
   "id": "0bc69fc4",
   "metadata": {
    "scrolled": true
   },
   "outputs": [
    {
     "ename": "TypeError",
     "evalue": "'tuple' object does not support item assignment",
     "output_type": "error",
     "traceback": [
      "\u001b[0;31m---------------------------------------------------------------------------\u001b[0m",
      "\u001b[0;31mTypeError\u001b[0m                                 Traceback (most recent call last)",
      "\u001b[0;32m<ipython-input-113-350a2bb252de>\u001b[0m in \u001b[0;36m<module>\u001b[0;34m\u001b[0m\n\u001b[0;32m----> 1\u001b[0;31m \u001b[0mK\u001b[0m\u001b[0;34m[\u001b[0m\u001b[0;36m0\u001b[0m\u001b[0;34m]\u001b[0m\u001b[0;34m=\u001b[0m\u001b[0;36m2\u001b[0m\u001b[0;34m\u001b[0m\u001b[0;34m\u001b[0m\u001b[0m\n\u001b[0m",
      "\u001b[0;31mTypeError\u001b[0m: 'tuple' object does not support item assignment"
     ]
    }
   ],
   "source": [
    "K[0]=2"
   ]
  },
  {
   "cell_type": "markdown",
   "id": "26a7d09d",
   "metadata": {},
   "source": [
    "Po co nam zatem typ podobny do listy, który obsługuje mniejszą liczbę operacji? W praktyce krotki nie są używane tak często jak listy, jednak ich niezmienność jest ich zaletą. Kiedy w programie przekazujemy zbiór obiektów w postaci listy, obiekty te mogą się w dowolnym momencie zmienić. W przypadku użycia krotki zmienić się nie mogą. Krotki nakładają pewne ograniczenia w zakresie integralności, które przydają się w programach większych od pisanych tutaj."
   ]
  },
  {
   "cell_type": "markdown",
   "id": "d702b372",
   "metadata": {},
   "source": [
    "### Pliki"
   ]
  },
  {
   "cell_type": "markdown",
   "id": "183c1527",
   "metadata": {},
   "source": [
    "Bardzo przydatne w kontekście pisania programów działających z dużymi ilościami danych są operacje na plikach. Pozwalają one modyfikować istniejące i tworzyć nowe. Nie ma literału tworzącego plik, zamiast tego używamy wbudowanej funkcji `open()`. Przykład stworzenia pliku `data.txt` przypisanego do zmiennej `f`"
   ]
  },
  {
   "cell_type": "code",
   "execution_count": 1,
   "id": "eab1a502",
   "metadata": {},
   "outputs": [],
   "source": [
    "f=open('data.txt', 'w') # 'w' jest opcją w której plik jest w trybie zapisu (write)"
   ]
  },
  {
   "cell_type": "markdown",
   "id": "f12f30ac",
   "metadata": {},
   "source": [
    "W celu zapisania wyrażenia do pliku korzystamy z metody `write()`, która zwraca również liczbę znaków"
   ]
  },
  {
   "cell_type": "code",
   "execution_count": 2,
   "id": "4e33d09d",
   "metadata": {},
   "outputs": [
    {
     "data": {
      "text/plain": [
       "6"
      ]
     },
     "execution_count": 2,
     "metadata": {},
     "output_type": "execute_result"
    }
   ],
   "source": [
    "f.write('Hello\\n')"
   ]
  },
  {
   "cell_type": "code",
   "execution_count": 3,
   "id": "77c788e6",
   "metadata": {},
   "outputs": [
    {
     "data": {
      "text/plain": [
       "6"
      ]
     },
     "execution_count": 3,
     "metadata": {},
     "output_type": "execute_result"
    }
   ],
   "source": [
    "f.write('world!')"
   ]
  },
  {
   "cell_type": "markdown",
   "id": "be847252",
   "metadata": {},
   "source": [
    "W calu zamknięcnia pliku korzystamy z metody `close()`"
   ]
  },
  {
   "cell_type": "code",
   "execution_count": 4,
   "id": "842e7bc9",
   "metadata": {},
   "outputs": [],
   "source": [
    "f.close() #zamykamy i tym samym zapisujemy zmiany"
   ]
  },
  {
   "cell_type": "markdown",
   "id": "09ae1429",
   "metadata": {},
   "source": [
    "Pliki mogą być też otwierane w trybie tylko do odczytu co zapobiega ich modyfikacji"
   ]
  },
  {
   "cell_type": "code",
   "execution_count": 161,
   "id": "5b63ff8d",
   "metadata": {},
   "outputs": [],
   "source": [
    "f=open('data.txt', 'r') # 'r' jest opcją tylko do odczytu (read)"
   ]
  },
  {
   "cell_type": "code",
   "execution_count": 162,
   "id": "04e58319",
   "metadata": {},
   "outputs": [
    {
     "ename": "UnsupportedOperation",
     "evalue": "not writable",
     "output_type": "error",
     "traceback": [
      "\u001b[0;31m---------------------------------------------------------------------------\u001b[0m",
      "\u001b[0;31mUnsupportedOperation\u001b[0m                      Traceback (most recent call last)",
      "\u001b[0;32m<ipython-input-162-1142d6b65b8c>\u001b[0m in \u001b[0;36m<module>\u001b[0;34m\u001b[0m\n\u001b[0;32m----> 1\u001b[0;31m \u001b[0mf\u001b[0m\u001b[0;34m.\u001b[0m\u001b[0mwrite\u001b[0m\u001b[0;34m(\u001b[0m\u001b[0;34m'coś'\u001b[0m\u001b[0;34m)\u001b[0m\u001b[0;34m\u001b[0m\u001b[0;34m\u001b[0m\u001b[0m\n\u001b[0m",
      "\u001b[0;31mUnsupportedOperation\u001b[0m: not writable"
     ]
    }
   ],
   "source": [
    "f.write('coś')"
   ]
  },
  {
   "cell_type": "markdown",
   "id": "7093b29c",
   "metadata": {},
   "source": [
    "W celu odczytania wszystkiego co jest zawarte w pliku korzystamy z metody `read()`"
   ]
  },
  {
   "cell_type": "code",
   "execution_count": 163,
   "id": "7f05cf56",
   "metadata": {
    "scrolled": true
   },
   "outputs": [
    {
     "data": {
      "text/plain": [
       "'Hello\\nworld!'"
      ]
     },
     "execution_count": 163,
     "metadata": {},
     "output_type": "execute_result"
    }
   ],
   "source": [
    "f.read()"
   ]
  },
  {
   "cell_type": "markdown",
   "id": "8a2df5d5",
   "metadata": {},
   "source": [
    "Zauważmy, że metoda ta działa tylko raz, ponieważ przechodzi ona od razu do końca pliku."
   ]
  },
  {
   "cell_type": "code",
   "execution_count": 164,
   "id": "59a4634f",
   "metadata": {
    "scrolled": true
   },
   "outputs": [
    {
     "data": {
      "text/plain": [
       "''"
      ]
     },
     "execution_count": 164,
     "metadata": {},
     "output_type": "execute_result"
    }
   ],
   "source": [
    "f.read()"
   ]
  },
  {
   "cell_type": "markdown",
   "id": "30d64a27",
   "metadata": {},
   "source": [
    "Zamknijmy więc nasz plik i załadujmy go ponownie, ale tym razem jego zawartość przypiszmy do zmiennej"
   ]
  },
  {
   "cell_type": "code",
   "execution_count": 168,
   "id": "18b82f24",
   "metadata": {},
   "outputs": [],
   "source": [
    "f.close() #zamykanie pliku otwartego poprzednio"
   ]
  },
  {
   "cell_type": "code",
   "execution_count": 169,
   "id": "9e42fa28",
   "metadata": {
    "scrolled": true
   },
   "outputs": [
    {
     "name": "stdout",
     "output_type": "stream",
     "text": [
      "Hello\n",
      "world!\n"
     ]
    }
   ],
   "source": [
    "f=open('data.txt', 'r') #ponowne otwarcie w trybie tylko do odczytu\n",
    "text=f.read() #przypisanie do zmiennej text zawartości pliku\n",
    "print(text) #wyświetlenie zmiennej\n",
    "f.close() #zamknięcie pliku"
   ]
  },
  {
   "cell_type": "markdown",
   "id": "fb6c7966",
   "metadata": {},
   "source": [
    "Mamy teraz dostęp do zawartości pliku pomimo że sam plik został już zamknięty dzięki skorzystaniu ze zmiennej `text`. Możemy z tak pozystaknym teksem robić dowolne rzeczy z racji tego, że jest to teraz łańcuch znaków `str`"
   ]
  },
  {
   "cell_type": "code",
   "execution_count": 170,
   "id": "9b89315b",
   "metadata": {
    "scrolled": true
   },
   "outputs": [
    {
     "data": {
      "text/plain": [
       "str"
      ]
     },
     "execution_count": 170,
     "metadata": {},
     "output_type": "execute_result"
    }
   ],
   "source": [
    "type(text)"
   ]
  },
  {
   "cell_type": "markdown",
   "id": "87896bdd",
   "metadata": {},
   "source": [
    "Pliki możemy także odczytywać linijka po linijce za pomocą metody `readline()`"
   ]
  },
  {
   "cell_type": "code",
   "execution_count": 5,
   "id": "cd54aaf3",
   "metadata": {},
   "outputs": [
    {
     "data": {
      "text/plain": [
       "'Hello\\n'"
      ]
     },
     "execution_count": 5,
     "metadata": {},
     "output_type": "execute_result"
    }
   ],
   "source": [
    "f=open('data.txt', 'r')\n",
    "f.readline()"
   ]
  },
  {
   "cell_type": "markdown",
   "id": "b7aeb9b4",
   "metadata": {},
   "source": [
    "Kolejne wywołanie metody spowoduje odczytanie następnej linii"
   ]
  },
  {
   "cell_type": "code",
   "execution_count": 6,
   "id": "394c47d1",
   "metadata": {},
   "outputs": [
    {
     "data": {
      "text/plain": [
       "'world!'"
      ]
     },
     "execution_count": 6,
     "metadata": {},
     "output_type": "execute_result"
    }
   ],
   "source": [
    "f.readline()"
   ]
  },
  {
   "cell_type": "markdown",
   "id": "db694b1e",
   "metadata": {},
   "source": [
    "A kolejne da pusty znak z racji końca pliku"
   ]
  },
  {
   "cell_type": "code",
   "execution_count": 7,
   "id": "9629c044",
   "metadata": {},
   "outputs": [
    {
     "data": {
      "text/plain": [
       "''"
      ]
     },
     "execution_count": 7,
     "metadata": {},
     "output_type": "execute_result"
    }
   ],
   "source": [
    "f.readline()"
   ]
  },
  {
   "cell_type": "code",
   "execution_count": 8,
   "id": "ece14d45",
   "metadata": {},
   "outputs": [],
   "source": [
    "f.close()"
   ]
  },
  {
   "cell_type": "markdown",
   "id": "bcc00a28",
   "metadata": {},
   "source": [
    "Zwróćmy uwagę, że tak jak do pliku otwartego w trybie odczytu nie możemy nic zapisać tak samo z pliku otartego w trybie zapisu nie możemy niczego odczytać"
   ]
  },
  {
   "cell_type": "code",
   "execution_count": 171,
   "id": "35e646bc",
   "metadata": {
    "scrolled": true
   },
   "outputs": [
    {
     "ename": "UnsupportedOperation",
     "evalue": "not readable",
     "output_type": "error",
     "traceback": [
      "\u001b[0;31m---------------------------------------------------------------------------\u001b[0m",
      "\u001b[0;31mUnsupportedOperation\u001b[0m                      Traceback (most recent call last)",
      "\u001b[0;32m<ipython-input-171-abfc0abf6662>\u001b[0m in \u001b[0;36m<module>\u001b[0;34m\u001b[0m\n\u001b[1;32m      1\u001b[0m \u001b[0mf\u001b[0m\u001b[0;34m=\u001b[0m\u001b[0mopen\u001b[0m\u001b[0;34m(\u001b[0m\u001b[0;34m'data.txt'\u001b[0m\u001b[0;34m,\u001b[0m \u001b[0;34m'w'\u001b[0m\u001b[0;34m)\u001b[0m\u001b[0;34m\u001b[0m\u001b[0;34m\u001b[0m\u001b[0m\n\u001b[0;32m----> 2\u001b[0;31m \u001b[0mf\u001b[0m\u001b[0;34m.\u001b[0m\u001b[0mread\u001b[0m\u001b[0;34m(\u001b[0m\u001b[0;34m)\u001b[0m\u001b[0;34m\u001b[0m\u001b[0;34m\u001b[0m\u001b[0m\n\u001b[0m",
      "\u001b[0;31mUnsupportedOperation\u001b[0m: not readable"
     ]
    }
   ],
   "source": [
    "f=open('data.txt', 'w')\n",
    "f.read()"
   ]
  },
  {
   "cell_type": "code",
   "execution_count": 172,
   "id": "c74681b6",
   "metadata": {},
   "outputs": [],
   "source": [
    "f.close()"
   ]
  },
  {
   "cell_type": "markdown",
   "id": "9e569856",
   "metadata": {},
   "source": [
    "Ostatnim z interesującym dla nas trybem będzie tryb dopisywania (appending). Jest on przydatny, ponieważ w trybie do zapisu nowo wprowadzone dane nadpiszą stary plik (tak jak powyżse ponowne otwarcie i zamknięcie pliku wymazało jego zawartość) podczas gdy tryb do dopisywania doda dane na końcu pliku."
   ]
  },
  {
   "cell_type": "code",
   "execution_count": 175,
   "id": "94c7ab6f",
   "metadata": {},
   "outputs": [],
   "source": [
    "f=open('data.txt', 'a')"
   ]
  },
  {
   "cell_type": "code",
   "execution_count": 177,
   "id": "e0cacd41",
   "metadata": {},
   "outputs": [
    {
     "data": {
      "text/plain": [
       "11"
      ]
     },
     "execution_count": 177,
     "metadata": {},
     "output_type": "execute_result"
    }
   ],
   "source": [
    "f.write('Nowy tekst.')"
   ]
  },
  {
   "cell_type": "code",
   "execution_count": 178,
   "id": "9da1f3c5",
   "metadata": {},
   "outputs": [],
   "source": [
    "f.close()"
   ]
  },
  {
   "cell_type": "markdown",
   "id": "e92ed187",
   "metadata": {},
   "source": [
    "### Wartości Boolean (prawda, fałsz)"
   ]
  },
  {
   "cell_type": "markdown",
   "id": "e6d81104",
   "metadata": {},
   "source": [
    "Jest jeszcze jeden typ zmiennych o którym warto teraz wspomnieć, jest to typ `bool`, który może mieć dwie wartości `True` albo `False` definiujące czy dane stwierdzenie jest prawdziwe czy fałszywe"
   ]
  },
  {
   "cell_type": "code",
   "execution_count": 192,
   "id": "e4f8049d",
   "metadata": {},
   "outputs": [
    {
     "name": "stdout",
     "output_type": "stream",
     "text": [
      "True\n"
     ]
    }
   ],
   "source": [
    "print(2==2)"
   ]
  },
  {
   "cell_type": "code",
   "execution_count": 193,
   "id": "358f6630",
   "metadata": {},
   "outputs": [
    {
     "data": {
      "text/plain": [
       "bool"
      ]
     },
     "execution_count": 193,
     "metadata": {},
     "output_type": "execute_result"
    }
   ],
   "source": [
    "type(2==2)"
   ]
  },
  {
   "cell_type": "code",
   "execution_count": 194,
   "id": "d5b4e99c",
   "metadata": {},
   "outputs": [
    {
     "name": "stdout",
     "output_type": "stream",
     "text": [
      "False\n"
     ]
    }
   ],
   "source": [
    "print(1==2)"
   ]
  },
  {
   "cell_type": "code",
   "execution_count": 195,
   "id": "d91e25ac",
   "metadata": {},
   "outputs": [
    {
     "data": {
      "text/plain": [
       "bool"
      ]
     },
     "execution_count": 195,
     "metadata": {},
     "output_type": "execute_result"
    }
   ],
   "source": [
    "type(1==2)"
   ]
  },
  {
   "cell_type": "markdown",
   "id": "7bf90832",
   "metadata": {},
   "source": [
    "Typ ten jest nieoceniony podczas pisania kodu, gdyż reguły do sprawdzenia mogą być bardziej skomplikowane i służyć do uruchamiania różnych fragmentów kodu. Przykład bardziej skomplikowany"
   ]
  },
  {
   "cell_type": "code",
   "execution_count": 216,
   "id": "41dd37bf",
   "metadata": {},
   "outputs": [
    {
     "data": {
      "text/plain": [
       "True"
      ]
     },
     "execution_count": 216,
     "metadata": {},
     "output_type": "execute_result"
    }
   ],
   "source": [
    "p=False\n",
    "q=False\n",
    "not (p or q) or (p and q)"
   ]
  },
  {
   "cell_type": "markdown",
   "id": "fd008c7f",
   "metadata": {},
   "source": [
    "# Wprowadzenie do instrukcji"
   ]
  },
  {
   "cell_type": "markdown",
   "id": "c1ba211d",
   "metadata": {},
   "source": [
    "Do tej pory poznaliśmy podstawowe obiekty z których możemy korzystać w Pythonie. Teraz skupimy się na podstawowych formach instrukcji jakie możemy wykorzystywać do działania na poznanych obiektach. Mówiąc prościej, nauczymy się jak \"mówić\" komputerowi co ma robić z różnymi obiekatmi."
   ]
  },
  {
   "cell_type": "markdown",
   "id": "98906587",
   "metadata": {},
   "source": [
    "### Podstawy składni"
   ]
  },
  {
   "cell_type": "markdown",
   "id": "5efbe5d0",
   "metadata": {},
   "source": [
    "Koniec wiersza to koniec instrukcji"
   ]
  },
  {
   "cell_type": "code",
   "execution_count": 184,
   "id": "aef2d7ab",
   "metadata": {},
   "outputs": [
    {
     "name": "stdout",
     "output_type": "stream",
     "text": [
      "6\n"
     ]
    }
   ],
   "source": [
    "x=2\n",
    "y=x+4\n",
    "print(y)"
   ]
  },
  {
   "cell_type": "markdown",
   "id": "01ba165e",
   "metadata": {},
   "source": [
    "Wcięcia definiują bloki kodu. Poniżej przykładowy kod z instrukcją warunkową `if` o której więcej za chwilę. "
   ]
  },
  {
   "cell_type": "code",
   "execution_count": 189,
   "id": "f34e4360",
   "metadata": {},
   "outputs": [
    {
     "name": "stdout",
     "output_type": "stream",
     "text": [
      "4\n",
      "3\n",
      "2\n"
     ]
    }
   ],
   "source": [
    "x=2\n",
    "if x>1:\n",
    "    print(x**2)  # to jest blok wykonywany przez \n",
    "    y=x+1        # program tylko kiedy warunek\n",
    "    print(y)     # zostanie spełniony\n",
    "print (x)     # ten fragment zostanie wykonany zawsze"
   ]
  },
  {
   "cell_type": "markdown",
   "id": "ed30d727",
   "metadata": {},
   "source": [
    "**Wyjątki**"
   ]
  },
  {
   "cell_type": "markdown",
   "id": "911b604e",
   "metadata": {},
   "source": [
    "Instrukcje proste można zapisać w jednym wierszu oddzialając je średnikiem `;`"
   ]
  },
  {
   "cell_type": "code",
   "execution_count": 218,
   "id": "92f4ba73",
   "metadata": {},
   "outputs": [
    {
     "name": "stdout",
     "output_type": "stream",
     "text": [
      "3\n"
     ]
    }
   ],
   "source": [
    "a=1; b=2; c=a+b\n",
    "print(c)"
   ]
  },
  {
   "cell_type": "markdown",
   "id": "b5972b2f",
   "metadata": {},
   "source": [
    "Jeżeli instrukcja rozciąga się na wiele linii można przenosić ją do nowej lini w obrębie nawiasu"
   ]
  },
  {
   "cell_type": "code",
   "execution_count": 220,
   "id": "f01a5ba7",
   "metadata": {},
   "outputs": [
    {
     "data": {
      "text/plain": [
       "[111, 222, 333]"
      ]
     },
     "execution_count": 220,
     "metadata": {},
     "output_type": "execute_result"
    }
   ],
   "source": [
    "M=[111,\n",
    "  222,\n",
    "  333]\n",
    "M"
   ]
  },
  {
   "cell_type": "code",
   "execution_count": 223,
   "id": "812ed75f",
   "metadata": {},
   "outputs": [
    {
     "data": {
      "text/plain": [
       "6"
      ]
     },
     "execution_count": 223,
     "metadata": {},
     "output_type": "execute_result"
    }
   ],
   "source": [
    "(a+\n",
    "b+\n",
    "c)"
   ]
  },
  {
   "cell_type": "code",
   "execution_count": 226,
   "id": "e181fee0",
   "metadata": {},
   "outputs": [
    {
     "data": {
      "text/plain": [
       "True"
      ]
     },
     "execution_count": 226,
     "metadata": {},
     "output_type": "execute_result"
    }
   ],
   "source": [
    "p=False; q=True\n",
    "(not(p or q) and\n",
    "not(p and q) or\n",
    "p or q)"
   ]
  },
  {
   "cell_type": "markdown",
   "id": "5ebd8408",
   "metadata": {},
   "source": [
    "Brak konieczności użycia wcięcią przy prostej instrukcji w pętli"
   ]
  },
  {
   "cell_type": "code",
   "execution_count": 227,
   "id": "06ef7d2a",
   "metadata": {},
   "outputs": [
    {
     "name": "stdout",
     "output_type": "stream",
     "text": [
      "1\n",
      "2\n",
      "3\n"
     ]
    }
   ],
   "source": [
    "for i in [1,2,3]: print(i)"
   ]
  },
  {
   "cell_type": "markdown",
   "id": "b0471de2",
   "metadata": {},
   "source": [
    "### Instrukcja warunkowa `if`"
   ]
  },
  {
   "cell_type": "markdown",
   "id": "427b150e",
   "metadata": {},
   "source": [
    "W uproszczeniu instrukcja `if` Pythona wybiera działanie, które należy wykonać. To podstawowe narzędzie wyboru w tym języku, reprezentujące dużą część logiki programu napisanego w Pythonie. Podobnie do innych instrukcji złożonych, może ona zawierać inne instrukcje, w tym kolejne `if`."
   ]
  },
  {
   "cell_type": "code",
   "execution_count": 236,
   "id": "4bdfe14b",
   "metadata": {},
   "outputs": [
    {
     "name": "stdout",
     "output_type": "stream",
     "text": [
      "x jest dodatni\n"
     ]
    }
   ],
   "source": [
    "x=1\n",
    "if x<0: #test if sprawdza czy warunek jest spełniony\n",
    "    print('x jest ujemny') #instrukcja wykonywana gdy warunek jest spłeniony\n",
    "elif x>0: #opcjonalny test, jeśli test if nie był spełniony\n",
    "    print('x jest dodatni') #instrukcja wykonywana gdy opcjonalny warunek jest spełniony a główny nie\n",
    "else: #jeśli żaden warunek nie został spełniony mamy dodatkowo else\n",
    "    print('x jest zerem') #instrukcja wykonywana gdy żaden warunek nie został spełniony"
   ]
  },
  {
   "cell_type": "markdown",
   "id": "e54fbcdc",
   "metadata": {},
   "source": [
    "Jeśli nie chcemy, żeby cokolwiek zostało wykonane po niespełnieniu testu `if` możemy nie dopisywać dodatkowych warunków `elif` oraz `else` albo możemy skorzystać z wyrażenia `pass`, które pominie daną linijkę kodu"
   ]
  },
  {
   "cell_type": "code",
   "execution_count": 237,
   "id": "7d005929",
   "metadata": {},
   "outputs": [
    {
     "name": "stdout",
     "output_type": "stream",
     "text": [
      "x nieujemne\n"
     ]
    }
   ],
   "source": [
    "x=1\n",
    "if x>0:\n",
    "    print('x nieujemne')"
   ]
  },
  {
   "cell_type": "code",
   "execution_count": 238,
   "id": "857eb476",
   "metadata": {},
   "outputs": [
    {
     "name": "stdout",
     "output_type": "stream",
     "text": [
      "x nieujemne\n"
     ]
    }
   ],
   "source": [
    "if x>0:\n",
    "    print('x nieujemne')\n",
    "else:\n",
    "    pass"
   ]
  },
  {
   "cell_type": "markdown",
   "id": "4658eef9",
   "metadata": {},
   "source": [
    "Pamiętajmy, że `if` oraz `else` może wystąpić tylko raz w ramach tej samej instrukcji warunkowej, podczas gdy `elif` może wystąpić wielokrotnie."
   ]
  },
  {
   "cell_type": "markdown",
   "id": "b4ae02ee",
   "metadata": {},
   "source": [
    "### Pętla `while`"
   ]
  },
  {
   "cell_type": "markdown",
   "id": "87e8918a",
   "metadata": {},
   "source": [
    "Instrukcja `while` Pythona jest najbardziej uniwersalną konstrukcją iteracyjną tego języka. W uproszczeniu powtarza ona wykonywanie bloku (wciętych) instrukcji, dopóki test znajdujący się na górze zwraca wartość będącą prawdą."
   ]
  },
  {
   "cell_type": "markdown",
   "id": "07fa9e25",
   "metadata": {},
   "source": [
    "Najprostszym rodzajem będzie pętla nieskończona w której test jest zawsze prawdą. W poniższym przykładzie pętla będzie pytać o imię i w odpowiedzi wyświetlać zdanie `Twoje imię to ...` gdzie za `...` wstawi podane przez uzytkownika wyrażenie"
   ]
  },
  {
   "cell_type": "code",
   "execution_count": null,
   "id": "30ff2ba7",
   "metadata": {
    "scrolled": true
   },
   "outputs": [
    {
     "name": "stdout",
     "output_type": "stream",
     "text": [
      "Ala\n",
      "Twoje imię to  Ala\n",
      "Piotr\n",
      "Twoje imię to  Piotr\n",
      "Andrzej\n",
      "Twoje imię to  Andrzej\n",
      "\n",
      "Twoje imię to  \n"
     ]
    }
   ],
   "source": [
    "while True:\n",
    "    name=input()\n",
    "    print('Twoje imię to ', name)"
   ]
  },
  {
   "cell_type": "markdown",
   "id": "17e25c33",
   "metadata": {},
   "source": [
    "W celu zatrzymania programu należy zresetować jądro (w Jupyter notebooku opcja Kernel->Restart), w systemie operacyjnym zamknięcie programu bądź kombinacja `Ctrl`+`C`."
   ]
  },
  {
   "cell_type": "markdown",
   "id": "b0e15f1b",
   "metadata": {},
   "source": [
    "W programi użyliśmy funkcję `input()`, która pozwala na wpisanie przez użytkownika danych. Zauważmy, że funkcja ta zwraca wartość w postaci `str`"
   ]
  },
  {
   "cell_type": "code",
   "execution_count": 10,
   "id": "f4a6409f",
   "metadata": {},
   "outputs": [
    {
     "name": "stdout",
     "output_type": "stream",
     "text": [
      "test\n"
     ]
    },
    {
     "data": {
      "text/plain": [
       "str"
      ]
     },
     "execution_count": 10,
     "metadata": {},
     "output_type": "execute_result"
    }
   ],
   "source": [
    "text=input()\n",
    "type(text)"
   ]
  },
  {
   "cell_type": "markdown",
   "id": "1799ca67",
   "metadata": {},
   "source": [
    "Poznaliśmy już podstawowe obiekty oraz kilka przydatnych struktur w Pythonie, pora więc na wykorzystanie wiedzy w bardziej interesujący sposób - stworzenie prostej gry w zgadywanie liczb."
   ]
  },
  {
   "cell_type": "markdown",
   "id": "bd03bcc4",
   "metadata": {},
   "source": [
    "**Zadanie domowe!**"
   ]
  },
  {
   "cell_type": "markdown",
   "id": "3fbf8c14",
   "metadata": {},
   "source": [
    "Napisz prostą grę w zgadywanie w której program losuje liczbę z przedziału [0, 100] a gracz ma za zadanie zgadnąć jaka to liczba. \n",
    "\n",
    "Zgadywanie polega na wpisywaniu przez gracza liczby, po wspisaniu program wyświetla jedną z trzech informacji: \n",
    "1. `Szukana liczba jest mniejsza.` jeśli liczba podana przez gracza jest za duża; \n",
    "2. `Szukana liczba jest większa.` jeśli liczba podana przez gracza jest za mała; \n",
    "3. `Brawo! Zgadłeś liczbę w ... turach.` jesli gracz podał prawidłową liczbę przy czym w miejsce `...` należy wpisać liczbę prób.\n",
    "\n",
    "Program kończy się kiedy gracz zgadnie prawidłową liczbę."
   ]
  },
  {
   "cell_type": "markdown",
   "id": "d3e681bc",
   "metadata": {},
   "source": [
    "Przy tworzeniu programu pomocne może być skorzystanie z biblioteki `random` oraz zaimplementowanej w niej metody `randint()` pozwalającej na wylosowanie liczby całkowitej z podanego przedziału. Przykład"
   ]
  },
  {
   "cell_type": "code",
   "execution_count": 15,
   "id": "fdc4c56f",
   "metadata": {},
   "outputs": [
    {
     "name": "stdout",
     "output_type": "stream",
     "text": [
      "9\n"
     ]
    }
   ],
   "source": [
    "import random as rnd #importowanie biblioteki random i skrócenie jej nazwy do rnd\n",
    "liczba = rnd.randint(0, 10) #skorzystanie z funkcji randint z biblioteki random, argumenty odpowiadają przedziałowi\n",
    "print(liczba)"
   ]
  },
  {
   "cell_type": "markdown",
   "id": "b818fdbe",
   "metadata": {},
   "source": [
    "Wywołanie powyższego kodu ponownie wylosuje nową liczbę z przedziału [0, 10]."
   ]
  },
  {
   "cell_type": "markdown",
   "id": "0732f020",
   "metadata": {},
   "source": [
    "Pomocne będzie też użycie funkcji `input()`, ale ponieważ zwraca nam ona typ `str`, a chcemy porównywać liczby, możemy skorzystać z funkcji `int()`, która liczbę w formacie `str` zamienia na format `int`"
   ]
  },
  {
   "cell_type": "code",
   "execution_count": 11,
   "id": "6d302dee",
   "metadata": {},
   "outputs": [
    {
     "data": {
      "text/plain": [
       "str"
      ]
     },
     "execution_count": 11,
     "metadata": {},
     "output_type": "execute_result"
    }
   ],
   "source": [
    "liczba='10'\n",
    "type(liczba)"
   ]
  },
  {
   "cell_type": "code",
   "execution_count": 12,
   "id": "84547831",
   "metadata": {
    "scrolled": false
   },
   "outputs": [
    {
     "data": {
      "text/plain": [
       "int"
      ]
     },
     "execution_count": 12,
     "metadata": {},
     "output_type": "execute_result"
    }
   ],
   "source": [
    "nowa_liczba=int(liczba)\n",
    "type(nowa_liczba)"
   ]
  },
  {
   "cell_type": "markdown",
   "id": "a780fcf6",
   "metadata": {},
   "source": [
    "Skrótowo możemy skorzystać z zapisu"
   ]
  },
  {
   "cell_type": "code",
   "execution_count": 1,
   "id": "ff1b466d",
   "metadata": {
    "scrolled": true
   },
   "outputs": [
    {
     "name": "stdout",
     "output_type": "stream",
     "text": [
      "100\n"
     ]
    },
    {
     "data": {
      "text/plain": [
       "100"
      ]
     },
     "execution_count": 1,
     "metadata": {},
     "output_type": "execute_result"
    }
   ],
   "source": [
    "int(input())"
   ]
  },
  {
   "cell_type": "markdown",
   "id": "9609dd4d",
   "metadata": {},
   "source": [
    "Pamiętajmy jednak, że wpisanie czegoś innego niż liczba spowoduje błąd!"
   ]
  },
  {
   "cell_type": "code",
   "execution_count": 14,
   "id": "b610e182",
   "metadata": {
    "scrolled": true
   },
   "outputs": [
    {
     "name": "stdout",
     "output_type": "stream",
     "text": [
      "ala\n"
     ]
    },
    {
     "ename": "ValueError",
     "evalue": "invalid literal for int() with base 10: 'ala'",
     "output_type": "error",
     "traceback": [
      "\u001b[0;31m---------------------------------------------------------------------------\u001b[0m",
      "\u001b[0;31mValueError\u001b[0m                                Traceback (most recent call last)",
      "\u001b[0;32m<ipython-input-14-2ad52a4b3ef5>\u001b[0m in \u001b[0;36m<module>\u001b[0;34m\u001b[0m\n\u001b[0;32m----> 1\u001b[0;31m \u001b[0mint\u001b[0m\u001b[0;34m(\u001b[0m\u001b[0minput\u001b[0m\u001b[0;34m(\u001b[0m\u001b[0;34m)\u001b[0m\u001b[0;34m)\u001b[0m\u001b[0;34m\u001b[0m\u001b[0;34m\u001b[0m\u001b[0m\n\u001b[0m",
      "\u001b[0;31mValueError\u001b[0m: invalid literal for int() with base 10: 'ala'"
     ]
    }
   ],
   "source": [
    "int(input())"
   ]
  },
  {
   "cell_type": "markdown",
   "id": "2936bc47",
   "metadata": {},
   "source": [
    "Dla uproszczenia problemu załóżmy, że gracz nie wpisuje niedozwolonych wartości i zachowuje się prawidłowo, tzn. wpisuje tylko liczby całkowite z przedziału [0, 100]. Podczas dalszych zajęć nauczymy się, jak radzić sobie z nieprawidłowymi danymi podawanymi przez użytkownika.\n",
    "\n",
    "Powodzenia!"
   ]
  },
  {
   "cell_type": "markdown",
   "id": "f427f725",
   "metadata": {},
   "source": [
    "Przykładowy wynik działania programu:\n",
    "\n",
    "Zgadnij liczbę<br>\n",
    "50<br>\n",
    "Szukana liczba jest mniejsza.<br>\n",
    "25<br>\n",
    "Szukana liczba jest większa.<br>\n",
    "37<br>\n",
    "Szukana liczba jest większa.<br>\n",
    "44<br>\n",
    "Szukana liczba jest mniejsza.<br>\n",
    "40<br>\n",
    "Szukana liczba jest mniejsza.<br>\n",
    "38<br>\n",
    "Szukana liczba jest większa.<br>\n",
    "39<br>\n",
    "Brawo! Zgadłeś liczbę w 7 turach."
   ]
  }
 ],
 "metadata": {
  "kernelspec": {
   "display_name": "Python 3",
   "language": "python",
   "name": "python3"
  },
  "language_info": {
   "codemirror_mode": {
    "name": "ipython",
    "version": 3
   },
   "file_extension": ".py",
   "mimetype": "text/x-python",
   "name": "python",
   "nbconvert_exporter": "python",
   "pygments_lexer": "ipython3",
   "version": "3.6.9"
  }
 },
 "nbformat": 4,
 "nbformat_minor": 5
}
